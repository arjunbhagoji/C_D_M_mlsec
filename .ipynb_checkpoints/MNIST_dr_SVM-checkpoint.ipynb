{
 "cells": [
  {
   "cell_type": "code",
   "execution_count": 1,
   "metadata": {
    "collapsed": true
   },
   "outputs": [],
   "source": [
    "def load_dataset():\n",
    "    # We first define a download function, supporting both Python 2 and 3.\n",
    "    if sys.version_info[0] == 2:\n",
    "        from urllib import urlretrieve\n",
    "    else:\n",
    "        from urllib.request import urlretrieve\n",
    "\n",
    "    def download(filename, source='http://yann.lecun.com/exdb/mnist/'):\n",
    "        print(\"Downloading %s\" % filename)\n",
    "        urlretrieve(source + filename, filename)\n",
    "\n",
    "    # We then define functions for loading MNIST images and labels.\n",
    "    # For convenience, they also download the requested files if needed.\n",
    "    import gzip\n",
    "\n",
    "    def load_mnist_images(filename):\n",
    "        #if not os.path.exists(filename):\n",
    "        #    download(filename)\n",
    "        # Read the inputs in Yann LeCun's binary format.\n",
    "        with gzip.open(filename, 'rb') as f:\n",
    "            data = np.frombuffer(f.read(), np.uint8, offset=16)\n",
    "        # The inputs are vectors now, we reshape them to monochrome 2D images,\n",
    "        # following the shape convention: (examples, channels, rows, columns)\n",
    "        data = data.reshape(-1, 1, 784)\n",
    "        # The inputs come as bytes, we convert them to float32 in range [0,1].\n",
    "        # (Actually to range [0, 255/256], for compatibility to the version\n",
    "        # provided at http://deeplearning.net/data/mnist/mnist.pkl.gz.)\n",
    "        return data / np.float32(256)\n",
    "\n",
    "    def load_mnist_labels(filename):\n",
    "        #if not os.path.exists(filename):\n",
    "        #    download(filename)\n",
    "        # Read the labels in Yann LeCun's binary format.\n",
    "        with gzip.open(filename, 'rb') as f:\n",
    "            data = np.frombuffer(f.read(), np.uint8, offset=8)\n",
    "        # The labels are vectors of integers now, that's exactly what we want.\n",
    "        return data\n",
    "\n",
    "    # We can now download and read the training and test set images and labels.\n",
    "    script_dir=os.getcwd()\n",
    "    rel_path=\"Input_data/\"\n",
    "    abs_path=os.path.join(script_dir,rel_path)\n",
    "    X_train = load_mnist_images(abs_path+'train-images-idx3-ubyte.gz')\n",
    "    y_train = load_mnist_labels(abs_path+'train-labels-idx1-ubyte.gz')\n",
    "    X_test = load_mnist_images(abs_path+'t10k-images-idx3-ubyte.gz')\n",
    "    y_test = load_mnist_labels(abs_path+'t10k-labels-idx1-ubyte.gz')\n",
    "\n",
    "    # We reserve the last 10000 training examples for validation.\n",
    "    X_train, X_val = X_train[:-10000], X_train[-10000:]\n",
    "    y_train, y_val = y_train[:-10000], y_train[-10000:]\n",
    "\n",
    "    # We just return all the arrays in order, as expected in main().\n",
    "    # (It doesn't matter how we do this as long as we can read them again.)\n",
    "    return X_train, y_train, X_val, y_val, X_test, y_test"
   ]
  },
  {
   "cell_type": "markdown",
   "metadata": {},
   "source": [
    "### Success rate on MNIST dataset without PCA"
   ]
  },
  {
   "cell_type": "code",
   "execution_count": 94,
   "metadata": {
    "collapsed": false
   },
   "outputs": [
    {
     "name": "stdout",
     "output_type": "stream",
     "text": [
      "0.15194 0.17198 0.11458\n"
     ]
    },
    {
     "data": {
      "image/png": "[encoded data removed]",
      "text/plain": [
       "<matplotlib.figure.Figure at 0x129009f50>"
      ]
     },
     "metadata": {},
     "output_type": "display_data"
    }
   ],
   "source": [
    "import numpy as np\n",
    "import sys\n",
    "import os\n",
    "\n",
    "from matplotlib import pyplot as plt\n",
    "\n",
    "%matplotlib inline\n",
    "\n",
    "X_train, y_train, X_val, y_val, X_test, y_test=load_dataset()\n",
    "\n",
    "X_train=X_train.reshape((50000,784))\n",
    "\n",
    "from sklearn import svm\n",
    "\n",
    "clf=svm.LinearSVC(dual=False)\n",
    "\n",
    "clf.fit(X_train,y_train)\n",
    "\n",
    "X_val=X_val.reshape((10000,784))\n",
    "\n",
    "val_out=out=clf.predict(X_val)\n",
    "\n",
    "validation_success=(10000-np.count_nonzero(val_out-y_val))/10000.0\n",
    "\n",
    "validation_success\n",
    "\n",
    "X_test=X_test.reshape((10000,784))\n",
    "\n",
    "test_out=clf.predict(X_test)\n",
    "\n",
    "test_success=(10000-np.count_nonzero(test_out-y_test))/10000.0\n",
    "\n",
    "test_success\n",
    "\n",
    "np.linalg.norm(clf.coef_[0,:]/(np.linalg.norm(clf.coef_[0,:])))\n",
    "\n",
    "adv_examples=np.zeros((50000,784))\n",
    "\n",
    "count_pure_adv=0.0\n",
    "count_adv=0.0\n",
    "count_wrong=0.0\n",
    "print_flag=0\n",
    "for i in range(50000):\n",
    "    x_ini=(X_train[i,:]).reshape((1,784))\n",
    "    ini_class=clf.predict(x_ini)\n",
    "    x_adv=(x_ini-0.1*(clf.coef_[ini_class[0],:]/(np.linalg.norm(clf.coef_[ini_class[0],:])))).reshape((1,784))\n",
    "    adv_examples[i,:]=x_adv\n",
    "    final_class=clf.predict(x_adv)\n",
    "    if ini_class[0]!=final_class[0]:\n",
    "        count_adv=count_adv+1\n",
    "    if y_train[i]!=final_class[0]:\n",
    "        count_wrong=count_wrong+1\n",
    "    if y_train[i]!=final_class[0] and ini_class[0]==y_train[i]:\n",
    "        count_pure_adv=count_pure_adv+1\n",
    "    if y_train[i]!=final_class[0] and ini_class[0]==y_train[i] and print_flag==0:\n",
    "        #plt.imshow((x_ini.reshape((28,28)))*255, cmap='gray', interpolation='nearest', vmin=0, vmax=255)\n",
    "        plt.imshow(((x_adv-x_ini).reshape((28,28)))*255, cmap='gray', interpolation='nearest', vmin=0, vmax=255)\n",
    "        print_flag=print_flag+1\n",
    "print count_wrong/50000.0, count_adv/50000.0, count_pure_adv/50000.0"
   ]
  },
  {
   "cell_type": "code",
   "execution_count": 21,
   "metadata": {
    "collapsed": false
   },
   "outputs": [
    {
     "name": "stdout",
     "output_type": "stream",
     "text": [
      "7.69100516162\n",
      "10.8379260653\n",
      "6.89070504319\n",
      "7.13900375995\n",
      "9.55197628202\n",
      "8.81684594116\n",
      "7.67109936703\n",
      "8.65145597787\n",
      "6.48731894223\n",
      "8.4914276589\n"
     ]
    }
   ],
   "source": [
    "for i in range(10):\n",
    "    print np.linalg.norm(clf.coef_[i,:])"
   ]
  },
  {
   "cell_type": "markdown",
   "metadata": {},
   "source": [
    "### Success rate on MNIST dataset with PCA"
   ]
  },
  {
   "cell_type": "code",
   "execution_count": 22,
   "metadata": {
    "collapsed": false
   },
   "outputs": [],
   "source": [
    "from sklearn.decomposition import PCA\n",
    "\n",
    "rd=100\n",
    "\n",
    "PCA_in_train=X_train.reshape(50000,784)\n",
    "PCA_in_val=X_val.reshape(10000,784)\n",
    "PCA_in_test=X_test.reshape(10000,784)\n",
    "\n",
    "### Doing PCA over the training data\n",
    "#Fitting the PCA model on training data\n",
    "pca=PCA(n_components=rd)\n",
    "pca_train=pca.fit(PCA_in_train)\n",
    "#Transforming the training, validation and test data\n",
    "X_train_dr=pca.transform(PCA_in_train).reshape((50000,rd))\n",
    "X_test_dr=pca.transform(PCA_in_test).reshape((10000,rd))\n",
    "X_val_dr=pca.transform(PCA_in_val).reshape((10000,rd))\n",
    "X_adv_dr=pca.transform(adv_examples).reshape((50000,rd))\n",
    "\n",
    "clf_pca=svm.LinearSVC(dual=False)\n",
    "\n",
    "clf_pca.fit(X_train_dr,y_train)\n",
    "\n",
    "val_out_pca=clf_pca.predict(X_val_dr)\n",
    "validation_success_pca=(10000-np.count_nonzero(val_out_pca-y_val))/10000.0\n",
    "validation_success_pca\n",
    "\n",
    "test_out_pca=clf_pca.predict(X_test_dr)\n",
    "\n",
    "test_success_pca=(10000-np.count_nonzero(test_out_pca-y_test))/10000.0\n",
    "\n",
    "test_success_pca\n",
    "\n",
    "count_pure_adv_pca=0.0\n",
    "count_adv_pca=0.0\n",
    "count_wrong_pca=0.0\n",
    "#print_flag_pca=0\n",
    "for i in range(50000):\n",
    "    x_ini=(X_train_dr[i,:]).reshape((1,rd))\n",
    "    ini_class=clf_pca.predict(x_ini)\n",
    "    x_adv=(x_ini-7.84*(clf_pca.coef_[ini_class[0],:]/(np.linalg.norm(clf_pca.coef_[0,:])))).reshape((1,rd))\n",
    "    #x_adv=X_adv_dr[i,:].reshape((1,rd))\n",
    "    final_class=clf_pca.predict(x_adv)\n",
    "    if ini_class[0]!=final_class[0]:\n",
    "        count_adv_pca=count_adv_pca+1\n",
    "    if y_train[i]!=final_class[0]:\n",
    "        count_wrong_pca=count_wrong_pca+1\n",
    "    if y_train[i]!=final_class[0] and ini_class[0]==y_train[i]:\n",
    "        count_pure_adv_pca=count_pure_adv_pca+1\n",
    "    #if y_train[i]!=final_class[0] and ini_class[0]==y_train[i] and print_flag==0:\n",
    "        #plt.imshow((x_ini.reshape((28,28)))*255, cmap='gray', interpolation='nearest', vmin=0, vmax=255)\n",
    "        #plt.imshow(((x_adv-x_ini).reshape((28,28)))*255, cmap='gray', interpolation='nearest', vmin=0, vmax=255)\n",
    "        #print_flag=print_flag+1\n",
    "print count_wrong_pca/50000.0, count_adv_pca/50000.0, count_pure_adv_pca/50000.0"
   ]
  },
  {
   "cell_type": "code",
   "execution_count": 84,
   "metadata": {
    "collapsed": false
   },
   "outputs": [
    {
     "data": {
      "text/plain": [
       "<matplotlib.image.AxesImage at 0x128918a50>"
      ]
     },
     "execution_count": 84,
     "metadata": {},
     "output_type": "execute_result"
    },
    {
     "data": {
      "image/png": "[encoded data removed]",
      "text/plain": [
       "<matplotlib.figure.Figure at 0x128532e50>"
      ]
     },
     "metadata": {},
     "output_type": "display_data"
    }
   ],
   "source": [
    "plt.imshow(x_ini*255, cmap='gray', interpolation='nearest', vmin=0, vmax=255)"
   ]
  },
  {
   "cell_type": "code",
   "execution_count": 85,
   "metadata": {
    "collapsed": false
   },
   "outputs": [
    {
     "data": {
      "text/plain": [
       "<matplotlib.image.AxesImage at 0x1289ec510>"
      ]
     },
     "execution_count": 85,
     "metadata": {},
     "output_type": "execute_result"
    },
    {
     "data": {
      "image/png": "[encoded data removed]",
      "text/plain": [
       "<matplotlib.figure.Figure at 0x1285324d0>"
      ]
     },
     "metadata": {},
     "output_type": "display_data"
    }
   ],
   "source": [
    "plt.imshow(X_train_dr[49999,:].reshape((1,rd))*255, cmap='gray', interpolation='nearest', vmin=0, vmax=255)"
   ]
  },
  {
   "cell_type": "code",
   "execution_count": 86,
   "metadata": {
    "collapsed": false
   },
   "outputs": [
    {
     "name": "stdout",
     "output_type": "stream",
     "text": [
      "1.4648266171\n",
      "2.40665730909\n",
      "1.25262554342\n",
      "1.2428049958\n",
      "1.74251817405\n",
      "1.5129434693\n",
      "1.61626041815\n",
      "1.82326815107\n",
      "1.07849106658\n",
      "1.6257725866\n"
     ]
    }
   ],
   "source": [
    "for i in range(10):\n",
    "    print np.linalg.norm(clf_pca.coef_[i,:])"
   ]
  },
  {
   "cell_type": "code",
   "execution_count": 87,
   "metadata": {
    "collapsed": true
   },
   "outputs": [],
   "source": [
    "reverse_transform=pca.inverse_transform(X_train_dr[49999,:].reshape((1,rd)))"
   ]
  },
  {
   "cell_type": "code",
   "execution_count": 88,
   "metadata": {
    "collapsed": false
   },
   "outputs": [
    {
     "data": {
      "text/plain": [
       "<matplotlib.image.AxesImage at 0x128a933d0>"
      ]
     },
     "execution_count": 88,
     "metadata": {},
     "output_type": "execute_result"
    },
    {
     "data": {
      "image/png": "[encoded data removed]",
      "text/plain": [
       "<matplotlib.figure.Figure at 0x12896f850>"
      ]
     },
     "metadata": {},
     "output_type": "display_data"
    }
   ],
   "source": [
    "plt.imshow((reverse_transform.reshape((28,28)))*255, cmap='gray', interpolation='nearest', vmin=0, vmax=255)"
   ]
  },
  {
   "cell_type": "code",
   "execution_count": 89,
   "metadata": {
    "collapsed": true
   },
   "outputs": [],
   "source": [
    "rev=pca.inverse_transform(x_ini)"
   ]
  },
  {
   "cell_type": "code",
   "execution_count": 90,
   "metadata": {
    "collapsed": false
   },
   "outputs": [
    {
     "data": {
      "text/plain": [
       "<matplotlib.image.AxesImage at 0x128de0e90>"
      ]
     },
     "execution_count": 90,
     "metadata": {},
     "output_type": "execute_result"
    },
    {
     "data": {
      "image/png": "[encoded data removed]",
      "text/plain": [
       "<matplotlib.figure.Figure at 0x128aafed0>"
      ]
     },
     "metadata": {},
     "output_type": "display_data"
    }
   ],
   "source": [
    "plt.imshow((rev.reshape((28,28)))*255, cmap='gray', interpolation='nearest', vmin=0, vmax=255)"
   ]
  },
  {
   "cell_type": "code",
   "execution_count": 81,
   "metadata": {
    "collapsed": true
   },
   "outputs": [],
   "source": [
    "rev_ad=pca.inverse_transform(x_adv)"
   ]
  },
  {
   "cell_type": "code",
   "execution_count": 82,
   "metadata": {
    "collapsed": false
   },
   "outputs": [
    {
     "data": {
      "text/plain": [
       "<matplotlib.image.AxesImage at 0x1285c6350>"
      ]
     },
     "execution_count": 82,
     "metadata": {},
     "output_type": "execute_result"
    },
    {
     "data": {
      "image/png": "[encoded data removed]",
      "text/plain": [
       "<matplotlib.figure.Figure at 0x12821d550>"
      ]
     },
     "metadata": {},
     "output_type": "display_data"
    }
   ],
   "source": [
    "plt.imshow((rev_ad.reshape((28,28)))*255, cmap='gray', interpolation='nearest', vmin=0, vmax=255)"
   ]
  },
  {
   "cell_type": "code",
   "execution_count": 91,
   "metadata": {
    "collapsed": true
   },
   "outputs": [],
   "source": [
    "rev_ad_2=pca.inverse_transform(x_adv)"
   ]
  },
  {
   "cell_type": "code",
   "execution_count": 92,
   "metadata": {
    "collapsed": false
   },
   "outputs": [
    {
     "data": {
      "text/plain": [
       "<matplotlib.image.AxesImage at 0x128f2d490>"
      ]
     },
     "execution_count": 92,
     "metadata": {},
     "output_type": "execute_result"
    },
    {
     "data": {
      "image/png": "[encoded data removed]",
      "text/plain": [
       "<matplotlib.figure.Figure at 0x128aafa50>"
      ]
     },
     "metadata": {},
     "output_type": "display_data"
    }
   ],
   "source": [
    "plt.imshow((rev_ad_2.reshape((28,28)))*255, cmap='gray', interpolation='nearest', vmin=0, vmax=255)"
   ]
  },
  {
   "cell_type": "markdown",
   "metadata": {},
   "source": [
    "### Random projections"
   ]
  },
  {
   "cell_type": "code",
   "execution_count": 35,
   "metadata": {
    "collapsed": true
   },
   "outputs": [],
   "source": [
    "from sklearn import random_projection"
   ]
  },
  {
   "cell_type": "code",
   "execution_count": 36,
   "metadata": {
    "collapsed": true
   },
   "outputs": [],
   "source": [
    "rand_transform=random_projection.GaussianRandomProjection(n_components=100)"
   ]
  },
  {
   "cell_type": "code",
   "execution_count": 37,
   "metadata": {
    "collapsed": false
   },
   "outputs": [],
   "source": [
    "X_train_rand_dr=rand_transform.fit_transform(X_train)"
   ]
  },
  {
   "cell_type": "code",
   "execution_count": 38,
   "metadata": {
    "collapsed": true
   },
   "outputs": [],
   "source": [
    "clf_rand_dr=svm.LinearSVC(dual=False)"
   ]
  },
  {
   "cell_type": "code",
   "execution_count": 39,
   "metadata": {
    "collapsed": false
   },
   "outputs": [
    {
     "data": {
      "text/plain": [
       "LinearSVC(C=1.0, class_weight=None, dual=False, fit_intercept=True,\n",
       "     intercept_scaling=1, loss='squared_hinge', max_iter=1000,\n",
       "     multi_class='ovr', penalty='l2', random_state=None, tol=0.0001,\n",
       "     verbose=0)"
      ]
     },
     "execution_count": 39,
     "metadata": {},
     "output_type": "execute_result"
    }
   ],
   "source": [
    "clf_rand_dr.fit(X_train_rand_dr,y_train)"
   ]
  },
  {
   "cell_type": "code",
   "execution_count": 40,
   "metadata": {
    "collapsed": true
   },
   "outputs": [],
   "source": [
    "X_val_rand_dr=rand_transform.transform(X_val)\n",
    "X_test_rand_dr=rand_transform.transform(X_test)"
   ]
  },
  {
   "cell_type": "code",
   "execution_count": 41,
   "metadata": {
    "collapsed": false
   },
   "outputs": [
    {
     "data": {
      "text/plain": [
       "0.8895"
      ]
     },
     "execution_count": 41,
     "metadata": {},
     "output_type": "execute_result"
    }
   ],
   "source": [
    "val_out_rand_dr=clf_rand_dr.predict(X_val_rand_dr)\n",
    "validation_success_rand_dr=(10000-np.count_nonzero(val_out_rand_dr-y_val))/10000.0\n",
    "validation_success_rand_dr"
   ]
  },
  {
   "cell_type": "code",
   "execution_count": 42,
   "metadata": {
    "collapsed": false
   },
   "outputs": [
    {
     "data": {
      "text/plain": [
       "0.8807"
      ]
     },
     "execution_count": 42,
     "metadata": {},
     "output_type": "execute_result"
    }
   ],
   "source": [
    "test_out_rand_dr=clf_rand_dr.predict(X_test_rand_dr)\n",
    "test_success_rand_dr=(10000-np.count_nonzero(test_out_rand_dr-y_test))/10000.0\n",
    "test_success_rand_dr"
   ]
  },
  {
   "cell_type": "code",
   "execution_count": 43,
   "metadata": {
    "collapsed": false
   },
   "outputs": [
    {
     "name": "stdout",
     "output_type": "stream",
     "text": [
      "0.93664 0.93778 0.82362\n"
     ]
    }
   ],
   "source": [
    "count_pure_adv_rand_dr=0.0\n",
    "count_adv_rand_dr=0.0\n",
    "count_wrong_rand_dr=0.0\n",
    "#print_flag_pca=0\n",
    "for i in range(50000):\n",
    "    x_ini=(X_train_rand_dr[i,:]).reshape((1,rd))\n",
    "    ini_class=clf_rand_dr.predict(x_ini)\n",
    "    #x_adv=(x_ini-31.36*(clf_pca.coef_[ini_class[0],:]/(np.linalg.norm(clf_pca.coef_[0,:])))).reshape((1,rd))\n",
    "    x_adv=X_adv_dr[i,:].reshape((1,rd))\n",
    "    final_class=clf_rand_dr.predict(x_adv)\n",
    "    if ini_class[0]!=final_class[0]:\n",
    "        count_adv_rand_dr=count_adv_rand_dr+1\n",
    "    if y_train[i]!=final_class[0]:\n",
    "        count_wrong_rand_dr=count_wrong_rand_dr+1\n",
    "    if y_train[i]!=final_class[0] and ini_class[0]==y_train[i]:\n",
    "        count_pure_adv_rand_dr=count_pure_adv_rand_dr+1\n",
    "    #if y_train[i]!=final_class[0] and ini_class[0]==y_train[i] and print_flag==0:\n",
    "        #plt.imshow((x_ini.reshape((28,28)))*255, cmap='gray', interpolation='nearest', vmin=0, vmax=255)\n",
    "        #plt.imshow(((x_adv-x_ini).reshape((28,28)))*255, cmap='gray', interpolation='nearest', vmin=0, vmax=255)\n",
    "        #print_flag=print_flag+1\n",
    "print count_wrong_rand_dr/50000.0, count_adv_rand_dr/50000.0, count_pure_adv_rand_dr/50000.0"
   ]
  }
 ],
 "metadata": {
  "kernelspec": {
   "display_name": "Python 2",
   "language": "python",
   "name": "python2"
  },
  "language_info": {
   "codemirror_mode": {
    "name": "ipython",
    "version": 2
   },
   "file_extension": ".py",
   "mimetype": "text/x-python",
   "name": "python",
   "nbconvert_exporter": "python",
   "pygments_lexer": "ipython2",
   "version": "2.7.11"
  }
 },
 "nbformat": 4,
 "nbformat_minor": 0
}

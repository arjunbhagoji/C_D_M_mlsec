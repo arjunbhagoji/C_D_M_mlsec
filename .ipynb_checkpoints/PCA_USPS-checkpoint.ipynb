{
 "cells": [
  {
   "cell_type": "markdown",
   "metadata": {},
   "source": [
    "# Importing the USPS data"
   ]
  },
  {
   "cell_type": "code",
   "execution_count": 1,
   "metadata": {
    "collapsed": false
   },
   "outputs": [
    {
     "name": "stderr",
     "output_type": "stream",
     "text": [
      "/Users/arjunbhagoji/anaconda/lib/python2.7/site-packages/matplotlib/font_manager.py:273: UserWarning: Matplotlib is building the font cache using fc-list. This may take a moment.\n",
      "  warnings.warn('Matplotlib is building the font cache using fc-list. This may take a moment.')\n"
     ]
    }
   ],
   "source": [
    "%matplotlib inline"
   ]
  },
  {
   "cell_type": "code",
   "execution_count": 2,
   "metadata": {
    "collapsed": true
   },
   "outputs": [],
   "source": [
    "import numpy as np"
   ]
  },
  {
   "cell_type": "code",
   "execution_count": 3,
   "metadata": {
    "collapsed": true
   },
   "outputs": [],
   "source": [
    "import matplotlib"
   ]
  },
  {
   "cell_type": "code",
   "execution_count": 4,
   "metadata": {
    "collapsed": false
   },
   "outputs": [],
   "source": [
    "train_data=np.loadtxt(\"train.txt\")"
   ]
  },
  {
   "cell_type": "code",
   "execution_count": 5,
   "metadata": {
    "collapsed": false
   },
   "outputs": [
    {
     "data": {
      "text/plain": [
       "(7291, 257)"
      ]
     },
     "execution_count": 5,
     "metadata": {},
     "output_type": "execute_result"
    }
   ],
   "source": [
    "train_data.shape"
   ]
  },
  {
   "cell_type": "code",
   "execution_count": 6,
   "metadata": {
    "collapsed": true
   },
   "outputs": [],
   "source": [
    "train_data_nolabel=train_data[:,1:257]"
   ]
  },
  {
   "cell_type": "code",
   "execution_count": 7,
   "metadata": {
    "collapsed": false
   },
   "outputs": [
    {
     "data": {
      "text/plain": [
       "array([[-1.   , -1.   , -1.   , ..., -1.   , -1.   , -1.   ],\n",
       "       [-1.   , -1.   , -1.   , ..., -0.671, -0.828, -1.   ],\n",
       "       [-1.   , -1.   , -1.   , ..., -1.   , -1.   , -1.   ],\n",
       "       ..., \n",
       "       [-1.   , -1.   , -1.   , ..., -1.   , -1.   , -1.   ],\n",
       "       [-1.   , -1.   , -1.   , ..., -1.   , -1.   , -1.   ],\n",
       "       [-1.   , -1.   , -1.   , ..., -1.   , -1.   , -1.   ]])"
      ]
     },
     "execution_count": 7,
     "metadata": {},
     "output_type": "execute_result"
    }
   ],
   "source": [
    "np.train_data_nolabel"
   ]
  },
  {
   "cell_type": "code",
   "execution_count": 25,
   "metadata": {
    "collapsed": false
   },
   "outputs": [
    {
     "data": {
      "text/plain": [
       "0.051709170255752737"
      ]
     },
     "execution_count": 25,
     "metadata": {},
     "output_type": "execute_result"
    }
   ],
   "source": [
    "np.std(train_data_nolabel[:,0])"
   ]
  },
  {
   "cell_type": "markdown",
   "metadata": {},
   "source": [
    "# Doing PCA over the data now "
   ]
  },
  {
   "cell_type": "code",
   "execution_count": 8,
   "metadata": {
    "collapsed": false
   },
   "outputs": [],
   "source": [
    "from matplotlib.mlab import PCA\n"
   ]
  },
  {
   "cell_type": "code",
   "execution_count": 9,
   "metadata": {
    "collapsed": true
   },
   "outputs": [],
   "source": [
    "pca_out=PCA(train_data_nolabel)"
   ]
  },
  {
   "cell_type": "code",
   "execution_count": 10,
   "metadata": {
    "collapsed": false
   },
   "outputs": [],
   "source": [
    "comp_0=pca_out.Y[:,0]"
   ]
  },
  {
   "cell_type": "code",
   "execution_count": 11,
   "metadata": {
    "collapsed": false
   },
   "outputs": [
    {
     "data": {
      "text/plain": [
       "280285.13612298144"
      ]
     },
     "execution_count": 11,
     "metadata": {},
     "output_type": "execute_result"
    }
   ],
   "source": [
    "sum(comp_0**2)"
   ]
  },
  {
   "cell_type": "code",
   "execution_count": 12,
   "metadata": {
    "collapsed": false,
    "scrolled": true
   },
   "outputs": [
    {
     "data": {
      "text/plain": [
       "array([[  4.47088160e+00,   8.39776877e+00,   2.12581223e+00, ...,\n",
       "         -6.35650086e-02,  -6.27178139e-02,   1.20840130e-01],\n",
       "       [  1.05378712e+01,   7.44500786e-01,  -3.99677664e-01, ...,\n",
       "          1.42740852e-01,  -2.76860421e-02,  -1.76915783e-01],\n",
       "       [ -5.09367555e-01,   3.30739972e-01,   4.53661257e+00, ...,\n",
       "          1.43315115e-01,  -3.06609914e-02,   1.32481238e-01],\n",
       "       ..., \n",
       "       [  3.89680276e+00,  -1.47003050e+00,   7.66336529e+00, ...,\n",
       "         -2.51814715e-02,  -6.07120510e-02,   1.41374448e-01],\n",
       "       [  1.69874304e+01,   2.85960046e+00,  -2.26124979e-01, ...,\n",
       "         -1.17740462e-01,  -1.18745850e-01,   8.31448102e-02],\n",
       "       [ -7.32303279e+00,   3.11927668e+00,  -1.65454947e+00, ...,\n",
       "         -1.41498193e-03,   1.42724551e-03,  -1.37209955e-02]])"
      ]
     },
     "execution_count": 12,
     "metadata": {},
     "output_type": "execute_result"
    }
   ],
   "source": [
    "pca_out.Y"
   ]
  },
  {
   "cell_type": "code",
   "execution_count": 13,
   "metadata": {
    "collapsed": true
   },
   "outputs": [],
   "source": [
    "comp_1=pca_out.Y[:,1]"
   ]
  },
  {
   "cell_type": "code",
   "execution_count": 14,
   "metadata": {
    "collapsed": false
   },
   "outputs": [
    {
     "data": {
      "text/plain": [
       "138873.19490840982"
      ]
     },
     "execution_count": 14,
     "metadata": {},
     "output_type": "execute_result"
    }
   ],
   "source": [
    "sum(comp_1**2)"
   ]
  },
  {
   "cell_type": "code",
   "execution_count": 15,
   "metadata": {
    "collapsed": false,
    "scrolled": true
   },
   "outputs": [
    {
     "data": {
      "text/plain": [
       "array([  1.50166481e-01,   7.44031570e-02,   6.82273683e-02,\n",
       "         5.20214686e-02,   4.30813335e-02,   3.71770310e-02,\n",
       "         3.39725744e-02,   3.04948152e-02,   2.43070201e-02,\n",
       "         2.10468738e-02,   2.00986048e-02,   1.87280265e-02,\n",
       "         1.70874325e-02,   1.47537895e-02,   1.39300566e-02,\n",
       "         1.30004876e-02,   1.25250674e-02,   1.22081229e-02,\n",
       "         1.13143922e-02,   1.07417366e-02,   1.00650426e-02,\n",
       "         9.55241987e-03,   9.46860405e-03,   8.42024697e-03,\n",
       "         8.06192458e-03,   7.79467222e-03,   7.32950173e-03,\n",
       "         7.11984472e-03,   6.83936388e-03,   6.49410616e-03,\n",
       "         6.35022457e-03,   6.12682592e-03,   5.81542950e-03,\n",
       "         5.60758981e-03,   5.37222808e-03,   5.16407259e-03,\n",
       "         4.82698881e-03,   4.77510588e-03,   4.74044639e-03,\n",
       "         4.52640612e-03,   4.40686680e-03,   4.16606618e-03,\n",
       "         4.12284899e-03,   4.05624557e-03,   3.87699294e-03,\n",
       "         3.83965433e-03,   3.74451129e-03,   3.60289559e-03,\n",
       "         3.46119789e-03,   3.42042873e-03,   3.26917910e-03,\n",
       "         3.19575187e-03,   3.13940334e-03,   2.96734623e-03,\n",
       "         2.91400158e-03,   2.83280635e-03,   2.68057984e-03,\n",
       "         2.65402127e-03,   2.56308241e-03,   2.49290583e-03,\n",
       "         2.42076076e-03,   2.35076008e-03,   2.29196825e-03,\n",
       "         2.23812831e-03,   2.22830966e-03,   2.16752217e-03,\n",
       "         2.07366418e-03,   2.05554359e-03,   2.02322568e-03,\n",
       "         1.94924039e-03,   1.93469658e-03,   1.82451457e-03,\n",
       "         1.79688594e-03,   1.75954323e-03,   1.68865004e-03,\n",
       "         1.64941828e-03,   1.63592412e-03,   1.61259729e-03,\n",
       "         1.58350736e-03,   1.54264657e-03,   1.52754628e-03,\n",
       "         1.49635824e-03,   1.46493992e-03,   1.41028557e-03,\n",
       "         1.33968385e-03,   1.32999005e-03,   1.31383609e-03,\n",
       "         1.25718135e-03,   1.21790461e-03,   1.20648681e-03,\n",
       "         1.16615309e-03,   1.16165386e-03,   1.13199322e-03,\n",
       "         1.10089752e-03,   1.08984428e-03,   1.06443803e-03,\n",
       "         1.03879683e-03,   1.02248993e-03,   1.00126352e-03,\n",
       "         9.84373797e-04,   9.69716947e-04,   9.66104106e-04,\n",
       "         9.28826776e-04,   9.16679917e-04,   9.03591883e-04,\n",
       "         8.91114872e-04,   8.70420602e-04,   8.48188285e-04,\n",
       "         8.44678636e-04,   8.30929190e-04,   8.11831152e-04,\n",
       "         7.84874597e-04,   7.79014264e-04,   7.68944718e-04,\n",
       "         7.55702314e-04,   7.46661485e-04,   7.18609987e-04,\n",
       "         7.14181396e-04,   6.90140669e-04,   6.81584429e-04,\n",
       "         6.80188229e-04,   6.57577764e-04,   6.48205390e-04,\n",
       "         6.43205905e-04,   6.24912830e-04,   6.21522861e-04,\n",
       "         6.14253993e-04,   5.95764288e-04,   5.84903556e-04,\n",
       "         5.78469014e-04,   5.72699652e-04,   5.64239180e-04,\n",
       "         5.48867387e-04,   5.44966531e-04,   5.44179124e-04,\n",
       "         5.35152424e-04,   5.32148663e-04,   5.13951335e-04,\n",
       "         5.10350854e-04,   4.92949435e-04,   4.91118097e-04,\n",
       "         4.81430173e-04,   4.73113524e-04,   4.72736699e-04,\n",
       "         4.62264749e-04,   4.54545697e-04,   4.49210563e-04,\n",
       "         4.43005119e-04,   4.34910250e-04,   4.31557862e-04,\n",
       "         4.24063939e-04,   4.22456539e-04,   4.16966923e-04,\n",
       "         4.13321811e-04,   4.02648872e-04,   3.97423893e-04,\n",
       "         3.95775772e-04,   3.82503680e-04,   3.79192293e-04,\n",
       "         3.70035770e-04,   3.67028741e-04,   3.63089639e-04,\n",
       "         3.58426857e-04,   3.52093587e-04,   3.51315814e-04,\n",
       "         3.44410076e-04,   3.35930313e-04,   3.32276361e-04,\n",
       "         3.27484367e-04,   3.25767987e-04,   3.17215136e-04,\n",
       "         3.13994629e-04,   3.12161578e-04,   3.09610910e-04,\n",
       "         3.02078023e-04,   2.96038825e-04,   2.92345900e-04,\n",
       "         2.89106629e-04,   2.84116729e-04,   2.79886132e-04,\n",
       "         2.77252800e-04,   2.73743104e-04,   2.68359259e-04,\n",
       "         2.62784634e-04,   2.62122864e-04,   2.59610278e-04,\n",
       "         2.55214681e-04,   2.50234961e-04,   2.46243825e-04,\n",
       "         2.43542348e-04,   2.40856672e-04,   2.38515806e-04,\n",
       "         2.37557996e-04,   2.31712379e-04,   2.29873399e-04,\n",
       "         2.28040752e-04,   2.26780418e-04,   2.24398742e-04,\n",
       "         2.14201031e-04,   2.13689193e-04,   2.09977296e-04,\n",
       "         2.08475433e-04,   2.06098460e-04,   2.01463027e-04,\n",
       "         1.99796293e-04,   1.94907679e-04,   1.92135805e-04,\n",
       "         1.89909420e-04,   1.88177989e-04,   1.84736819e-04,\n",
       "         1.83638791e-04,   1.79972423e-04,   1.77989799e-04,\n",
       "         1.74166347e-04,   1.72716647e-04,   1.71212752e-04,\n",
       "         1.66391977e-04,   1.64693593e-04,   1.58858081e-04,\n",
       "         1.56136606e-04,   1.55081022e-04,   1.53309588e-04,\n",
       "         1.50375794e-04,   1.48542364e-04,   1.45688624e-04,\n",
       "         1.43421381e-04,   1.40360028e-04,   1.39356300e-04,\n",
       "         1.37681861e-04,   1.34526569e-04,   1.30589900e-04,\n",
       "         1.27538558e-04,   1.25666693e-04,   1.24426179e-04,\n",
       "         1.22484088e-04,   1.20607131e-04,   1.18955382e-04,\n",
       "         1.14607406e-04,   1.13181607e-04,   1.12204896e-04,\n",
       "         1.09034734e-04,   1.06250163e-04,   1.02738602e-04,\n",
       "         9.94411988e-05,   9.57373920e-05,   9.24077510e-05,\n",
       "         9.13574830e-05,   8.96321672e-05,   8.75044569e-05,\n",
       "         8.58714333e-05,   8.08561961e-05,   7.88792591e-05,\n",
       "         7.55176889e-05,   7.40086979e-05,   6.47030077e-05,\n",
       "         6.10048841e-05])"
      ]
     },
     "execution_count": 15,
     "metadata": {},
     "output_type": "execute_result"
    }
   ],
   "source": [
    "pca_out.fracs"
   ]
  },
  {
   "cell_type": "code",
   "execution_count": 16,
   "metadata": {
    "collapsed": true
   },
   "outputs": [],
   "source": [
    "import matplotlib.pyplot as plt"
   ]
  },
  {
   "cell_type": "code",
   "execution_count": 17,
   "metadata": {
    "collapsed": false
   },
   "outputs": [
    {
     "data": {
      "text/plain": [
       "[<matplotlib.lines.Line2D at 0x10ec178d0>]"
      ]
     },
     "execution_count": 17,
     "metadata": {},
     "output_type": "execute_result"
    },
    {
     "data": {
      "image/png": "[encoded data removed]",
      "text/plain": [
       "<matplotlib.figure.Figure at 0x105b76810>"
      ]
     },
     "metadata": {},
     "output_type": "display_data"
    }
   ],
   "source": [
    "plt.plot(pca_out.fracs)"
   ]
  },
  {
   "cell_type": "code",
   "execution_count": 18,
   "metadata": {
    "collapsed": false
   },
   "outputs": [
    {
     "name": "stdout",
     "output_type": "stream",
     "text": [
      "190\n"
     ]
    }
   ],
   "source": [
    "var_sum=0\n",
    "for i in range(256):\n",
    "    var_sum=var_sum+pca_out.fracs[i]\n",
    "    if var_sum>0.99:\n",
    "        print i\n",
    "        break"
   ]
  },
  {
   "cell_type": "code",
   "execution_count": 24,
   "metadata": {
    "collapsed": false
   },
   "outputs": [
    {
     "data": {
      "text/plain": [
       "array([[ True,  True,  True, ..., False, False, False],\n",
       "       [ True,  True,  True, ..., False, False,  True],\n",
       "       [ True,  True,  True, ..., False, False, False],\n",
       "       ..., \n",
       "       [ True, False, False, ...,  True,  True,  True],\n",
       "       [False, False, False, ..., False, False, False],\n",
       "       [False, False,  True, ..., False, False, False]], dtype=bool)"
      ]
     },
     "execution_count": 24,
     "metadata": {},
     "output_type": "execute_result"
    }
   ],
   "source": [
    "np.dot(pca_out.a,pca_out.Wt.transpose())==pca_out.Y"
   ]
  },
  {
   "cell_type": "code",
   "execution_count": null,
   "metadata": {
    "collapsed": true
   },
   "outputs": [],
   "source": [
    "import scipy"
   ]
  },
  {
   "cell_type": "code",
   "execution_count": null,
   "metadata": {
    "collapsed": false
   },
   "outputs": [],
   "source": [
    "import sys"
   ]
  },
  {
   "cell_type": "markdown",
   "metadata": {},
   "source": [
    "# Using a SVM to classify"
   ]
  },
  {
   "cell_type": "code",
   "execution_count": null,
   "metadata": {
    "collapsed": false
   },
   "outputs": [],
   "source": [
    "from sklearn import svm"
   ]
  },
  {
   "cell_type": "code",
   "execution_count": null,
   "metadata": {
    "collapsed": true
   },
   "outputs": [],
   "source": [
    "data_labels=train_data[:,0]"
   ]
  },
  {
   "cell_type": "code",
   "execution_count": null,
   "metadata": {
    "collapsed": false
   },
   "outputs": [],
   "source": [
    "data_labels"
   ]
  },
  {
   "cell_type": "code",
   "execution_count": null,
   "metadata": {
    "collapsed": true
   },
   "outputs": [],
   "source": [
    "clf=svm.SVC()"
   ]
  },
  {
   "cell_type": "code",
   "execution_count": null,
   "metadata": {
    "collapsed": false
   },
   "outputs": [],
   "source": [
    "clf.fit(train_data_nolabel,data_labels)"
   ]
  },
  {
   "cell_type": "code",
   "execution_count": null,
   "metadata": {
    "collapsed": true
   },
   "outputs": [],
   "source": [
    "test_data=np.loadtxt(\"test.txt\")"
   ]
  },
  {
   "cell_type": "code",
   "execution_count": null,
   "metadata": {
    "collapsed": false
   },
   "outputs": [],
   "source": [
    "test_data"
   ]
  },
  {
   "cell_type": "code",
   "execution_count": null,
   "metadata": {
    "collapsed": false
   },
   "outputs": [],
   "source": [
    "test_data.shape"
   ]
  },
  {
   "cell_type": "code",
   "execution_count": null,
   "metadata": {
    "collapsed": false
   },
   "outputs": [],
   "source": [
    "clf.predict(test_data[0,1:257])"
   ]
  },
  {
   "cell_type": "code",
   "execution_count": null,
   "metadata": {
    "collapsed": false
   },
   "outputs": [],
   "source": [
    "test_data[2,0]"
   ]
  },
  {
   "cell_type": "markdown",
   "metadata": {},
   "source": [
    "Running a for loop over the test data"
   ]
  },
  {
   "cell_type": "code",
   "execution_count": null,
   "metadata": {
    "collapsed": false,
    "scrolled": true
   },
   "outputs": [],
   "source": [
    "test_data[0,1:257].reshape(1,256)"
   ]
  },
  {
   "cell_type": "code",
   "execution_count": null,
   "metadata": {
    "collapsed": true
   },
   "outputs": [],
   "source": [
    "count=0\n",
    "for i in range(2007):\n",
    "    curr_sample=test_data[i,1:257].reshape(1,256)\n",
    "    if clf.predict(curr_sample)==test_data[i,0]:\n",
    "       count=count+1"
   ]
  },
  {
   "cell_type": "code",
   "execution_count": null,
   "metadata": {
    "collapsed": false
   },
   "outputs": [],
   "source": [
    "count"
   ]
  },
  {
   "cell_type": "code",
   "execution_count": null,
   "metadata": {
    "collapsed": false
   },
   "outputs": [],
   "source": [
    "float(1891.0/2007.0) #error_rate"
   ]
  },
  {
   "cell_type": "markdown",
   "metadata": {},
   "source": [
    "# Error rate with pca+svm"
   ]
  },
  {
   "cell_type": "code",
   "execution_count": null,
   "metadata": {
    "collapsed": true
   },
   "outputs": [],
   "source": [
    "test_pca_mod=pca_out.center(test_data[:,1:257])"
   ]
  },
  {
   "cell_type": "code",
   "execution_count": null,
   "metadata": {
    "collapsed": true
   },
   "outputs": [],
   "source": [
    "W=pca_out.Wt"
   ]
  },
  {
   "cell_type": "code",
   "execution_count": null,
   "metadata": {
    "collapsed": false
   },
   "outputs": [],
   "source": [
    "W.shape"
   ]
  },
  {
   "cell_type": "code",
   "execution_count": null,
   "metadata": {
    "collapsed": true
   },
   "outputs": [],
   "source": [
    "test_projection=np.dot(test_pca_mod,W.T)"
   ]
  },
  {
   "cell_type": "code",
   "execution_count": null,
   "metadata": {
    "collapsed": true
   },
   "outputs": [],
   "source": [
    "test_projection_2=pca_out.project(test_data[:,1:257])"
   ]
  },
  {
   "cell_type": "code",
   "execution_count": null,
   "metadata": {
    "collapsed": false
   },
   "outputs": [],
   "source": [
    "test_projection"
   ]
  },
  {
   "cell_type": "code",
   "execution_count": null,
   "metadata": {
    "collapsed": false,
    "scrolled": false
   },
   "outputs": [],
   "source": [
    "test_projection_2"
   ]
  },
  {
   "cell_type": "code",
   "execution_count": null,
   "metadata": {
    "collapsed": true
   },
   "outputs": [],
   "source": [
    "pca_dim=190"
   ]
  },
  {
   "cell_type": "code",
   "execution_count": null,
   "metadata": {
    "collapsed": true
   },
   "outputs": [],
   "source": [
    "pcasvm=svm.SVC()"
   ]
  },
  {
   "cell_type": "code",
   "execution_count": null,
   "metadata": {
    "collapsed": false
   },
   "outputs": [],
   "source": [
    "pcasvm.fit(pca_out.Y[:,0:pca_dim],data_labels)"
   ]
  },
  {
   "cell_type": "code",
   "execution_count": null,
   "metadata": {
    "collapsed": false
   },
   "outputs": [],
   "source": [
    "pcasvm=svm.SVC()\n",
    "success_rate=list()\n",
    "for pca_dim in range(5,256,10):\n",
    "    pcasvm.fit(pca_out.Y[:,0:pca_dim],data_labels)\n",
    "    count_pca=0.0\n",
    "    for i in range(2007):\n",
    "        curr_sample_pca=test_projection[i,0:pca_dim].reshape(1,pca_dim)\n",
    "        if pcasvm.predict(curr_sample_pca)==test_data[i,0]:\n",
    "           count_pca=count_pca+1\n",
    "    success_rate.append(count_pca/2007.0)"
   ]
  },
  {
   "cell_type": "code",
   "execution_count": null,
   "metadata": {
    "collapsed": false
   },
   "outputs": [],
   "source": [
    "success_rate"
   ]
  },
  {
   "cell_type": "code",
   "execution_count": null,
   "metadata": {
    "collapsed": false
   },
   "outputs": [],
   "source": [
    "plt.plot(range(5,256,10),success_rate)"
   ]
  }
 ],
 "metadata": {
  "kernelspec": {
   "display_name": "Python 2",
   "language": "python",
   "name": "python2"
  },
  "language_info": {
   "codemirror_mode": {
    "name": "ipython",
    "version": 2
   },
   "file_extension": ".py",
   "mimetype": "text/x-python",
   "name": "python",
   "nbconvert_exporter": "python",
   "pygments_lexer": "ipython2",
   "version": "2.7.11"
  }
 },
 "nbformat": 4,
 "nbformat_minor": 0
}

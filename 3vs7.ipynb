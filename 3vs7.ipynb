{
 "cells": [
  {
   "cell_type": "code",
   "execution_count": 1,
   "metadata": {
    "collapsed": true
   },
   "outputs": [],
   "source": [
    "def load_dataset():\n",
    "    # We first define a download function, supporting both Python 2 and 3.\n",
    "    if sys.version_info[0] == 2:\n",
    "        from urllib import urlretrieve\n",
    "    else:\n",
    "        from urllib.request import urlretrieve\n",
    "\n",
    "    def download(filename, source='http://yann.lecun.com/exdb/mnist/'):\n",
    "        print(\"Downloading %s\" % filename)\n",
    "        urlretrieve(source + filename, filename)\n",
    "\n",
    "    # We then define functions for loading MNIST images and labels.\n",
    "    # For convenience, they also download the requested files if needed.\n",
    "    import gzip\n",
    "\n",
    "    def load_mnist_images(filename):\n",
    "        #if not os.path.exists(filename):\n",
    "        #    download(filename)\n",
    "        # Read the inputs in Yann LeCun's binary format.\n",
    "        with gzip.open(filename, 'rb') as f:\n",
    "            data = np.frombuffer(f.read(), np.uint8, offset=16)\n",
    "        # The inputs are vectors now, we reshape them to monochrome 2D images,\n",
    "        # following the shape convention: (examples, channels, rows, columns)\n",
    "        data = data.reshape(-1, 1, 784)\n",
    "        # The inputs come as bytes, we convert them to float32 in range [0,1].\n",
    "        # (Actually to range [0, 255/256], for compatibility to the version\n",
    "        # provided at http://deeplearning.net/data/mnist/mnist.pkl.gz.)\n",
    "        return data / np.float32(256)\n",
    "\n",
    "    def load_mnist_labels(filename):\n",
    "        #if not os.path.exists(filename):\n",
    "        #    download(filename)\n",
    "        # Read the labels in Yann LeCun's binary format.\n",
    "        with gzip.open(filename, 'rb') as f:\n",
    "            data = np.frombuffer(f.read(), np.uint8, offset=8)\n",
    "        # The labels are vectors of integers now, that's exactly what we want.\n",
    "        return data\n",
    "\n",
    "    # We can now download and read the training and test set images and labels.\n",
    "    script_dir=os.getcwd()\n",
    "    rel_path=\"Input_data/\"\n",
    "    abs_path=os.path.join(script_dir,rel_path)\n",
    "    X_train = load_mnist_images(abs_path+'train-images-idx3-ubyte.gz')\n",
    "    y_train = load_mnist_labels(abs_path+'train-labels-idx1-ubyte.gz')\n",
    "    X_test = load_mnist_images(abs_path+'t10k-images-idx3-ubyte.gz')\n",
    "    y_test = load_mnist_labels(abs_path+'t10k-labels-idx1-ubyte.gz')\n",
    "\n",
    "    # We reserve the last 10000 training examples for validation.\n",
    "    X_train, X_val = X_train[:-10000], X_train[-10000:]\n",
    "    y_train, y_val = y_train[:-10000], y_train[-10000:]\n",
    "\n",
    "    # We just return all the arrays in order, as expected in main().\n",
    "    # (It doesn't matter how we do this as long as we can read them again.)\n",
    "    return X_train, y_train, X_val, y_val, X_test, y_test"
   ]
  },
  {
   "cell_type": "code",
   "execution_count": 2,
   "metadata": {
    "collapsed": false
   },
   "outputs": [
    {
     "name": "stderr",
     "output_type": "stream",
     "text": [
      "/usr/local/lib/python2.7/dist-packages/matplotlib/font_manager.py:273: UserWarning: Matplotlib is building the font cache using fc-list. This may take a moment.\n",
      "  warnings.warn('Matplotlib is building the font cache using fc-list. This may take a moment.')\n"
     ]
    }
   ],
   "source": [
    "import numpy as np\n",
    "import sys\n",
    "import os\n",
    "from matplotlib import pyplot as plt\n",
    "%matplotlib inline\n",
    "\n",
    "X_train, y_train, X_val, y_val, X_test, y_test=load_dataset()"
   ]
  },
  {
   "cell_type": "code",
   "execution_count": 3,
   "metadata": {
    "collapsed": false
   },
   "outputs": [],
   "source": [
    "indices_3_7=np.where((y_train==3) | (y_train==7))"
   ]
  },
  {
   "cell_type": "code",
   "execution_count": 4,
   "metadata": {
    "collapsed": true
   },
   "outputs": [],
   "source": [
    "X_train_3_7=X_train[indices_3_7,:]"
   ]
  },
  {
   "cell_type": "code",
   "execution_count": 5,
   "metadata": {
    "collapsed": false
   },
   "outputs": [],
   "source": [
    "X_train_3_7=X_train_3_7.reshape((10276,784))"
   ]
  },
  {
   "cell_type": "code",
   "execution_count": 6,
   "metadata": {
    "collapsed": true
   },
   "outputs": [],
   "source": [
    "from sklearn.decomposition import PCA"
   ]
  },
  {
   "cell_type": "code",
   "execution_count": 7,
   "metadata": {
    "collapsed": false
   },
   "outputs": [],
   "source": [
    "pca=PCA(n_components=50)\n",
    "pca_train=pca.fit(X_train_3_7)"
   ]
  },
  {
   "cell_type": "code",
   "execution_count": 8,
   "metadata": {
    "collapsed": true
   },
   "outputs": [],
   "source": [
    "PCA_vectors=pca.components_\n",
    "PCA_vectors=np.transpose(np.array(PCA_vectors))"
   ]
  },
  {
   "cell_type": "code",
   "execution_count": 9,
   "metadata": {
    "collapsed": false
   },
   "outputs": [
    {
     "data": {
      "text/plain": [
       "(784, 50)"
      ]
     },
     "execution_count": 9,
     "metadata": {},
     "output_type": "execute_result"
    }
   ],
   "source": [
    "PCA_vectors.shape"
   ]
  },
  {
   "cell_type": "markdown",
   "metadata": {
    "collapsed": true
   },
   "source": [
    "scores_trial=np.zeros(784)\n",
    "for i in range(784):\n",
    "    scores_trial[i]=np.linalg.norm(PCA_vectors[i,0:100])**2"
   ]
  },
  {
   "cell_type": "markdown",
   "metadata": {
    "collapsed": true
   },
   "source": [
    "top_features_trial=np.argsort(scores_trial)[::-1][:100]"
   ]
  },
  {
   "cell_type": "code",
   "execution_count": 11,
   "metadata": {
    "collapsed": false
   },
   "outputs": [
    {
     "data": {
      "text/plain": [
       "SVC(C=1.0, cache_size=200, class_weight=None, coef0=0.0,\n",
       "  decision_function_shape='ovr', degree=3, gamma='auto', kernel='linear',\n",
       "  max_iter=-1, probability=False, random_state=None, shrinking=True,\n",
       "  tol=0.001, verbose=False)"
      ]
     },
     "execution_count": 11,
     "metadata": {},
     "output_type": "execute_result"
    }
   ],
   "source": [
    "from sklearn import svm\n",
    "clf=svm.SVC(kernel='linear',decision_function_shape='ovr')\n",
    "clf.fit(X_train_3_7,y_train[indices_3_7])"
   ]
  },
  {
   "cell_type": "code",
   "execution_count": 15,
   "metadata": {
    "collapsed": true
   },
   "outputs": [],
   "source": [
    "indices_3_7_test=np.where((y_test==3) | (y_test==7))"
   ]
  },
  {
   "cell_type": "code",
   "execution_count": 16,
   "metadata": {
    "collapsed": false
   },
   "outputs": [],
   "source": [
    "X_test_3_7=X_test[indices_3_7_test,:,:]"
   ]
  },
  {
   "cell_type": "code",
   "execution_count": 17,
   "metadata": {
    "collapsed": false
   },
   "outputs": [],
   "source": [
    "X_test_3_7=X_test_3_7.reshape((2038,784))"
   ]
  },
  {
   "cell_type": "code",
   "execution_count": 159,
   "metadata": {
    "collapsed": true
   },
   "outputs": [],
   "source": [
    "y_test_3_7=y_test[indices_3_7_test]"
   ]
  },
  {
   "cell_type": "code",
   "execution_count": 160,
   "metadata": {
    "collapsed": false
   },
   "outputs": [
    {
     "data": {
      "text/plain": [
       "0.9823356231599607"
      ]
     },
     "execution_count": 160,
     "metadata": {},
     "output_type": "execute_result"
    }
   ],
   "source": [
    "clf.score(X_test_3_7,y_test_3_7)"
   ]
  },
  {
   "cell_type": "code",
   "execution_count": 24,
   "metadata": {
    "collapsed": false
   },
   "outputs": [
    {
     "name": "stderr",
     "output_type": "stream",
     "text": [
      "/usr/local/lib/python2.7/dist-packages/sklearn/utils/validation.py:386: DeprecationWarning: Passing 1d arrays as data is deprecated in 0.17 and willraise ValueError in 0.19. Reshape your data either using X.reshape(-1, 1) if your data has a single feature or X.reshape(1, -1) if it contains a single sample.\n",
      "  DeprecationWarning)\n"
     ]
    },
    {
     "data": {
      "text/plain": [
       "1.3449007671098265"
      ]
     },
     "execution_count": 24,
     "metadata": {},
     "output_type": "execute_result"
    }
   ],
   "source": [
    "clf.decision_function(X_test_3_7[0,:])[0]"
   ]
  },
  {
   "cell_type": "code",
   "execution_count": 25,
   "metadata": {
    "collapsed": false
   },
   "outputs": [
    {
     "data": {
      "text/plain": [
       "7"
      ]
     },
     "execution_count": 25,
     "metadata": {},
     "output_type": "execute_result"
    }
   ],
   "source": [
    "y_test[indices_3_7_test][0]"
   ]
  },
  {
   "cell_type": "code",
   "execution_count": 26,
   "metadata": {
    "collapsed": false
   },
   "outputs": [],
   "source": [
    "w=clf.coef_"
   ]
  },
  {
   "cell_type": "code",
   "execution_count": 27,
   "metadata": {
    "collapsed": true
   },
   "outputs": [],
   "source": [
    "b=clf.intercept_"
   ]
  },
  {
   "cell_type": "code",
   "execution_count": 110,
   "metadata": {
    "collapsed": true
   },
   "outputs": [],
   "source": [
    "Y=np.dot(w,PCA_vectors).reshape((50,1))"
   ]
  },
  {
   "cell_type": "code",
   "execution_count": 111,
   "metadata": {
    "collapsed": false
   },
   "outputs": [
    {
     "data": {
      "text/plain": [
       "(50, 1)"
      ]
     },
     "execution_count": 111,
     "metadata": {},
     "output_type": "execute_result"
    }
   ],
   "source": [
    "Y.shape"
   ]
  },
  {
   "cell_type": "code",
   "execution_count": 30,
   "metadata": {
    "collapsed": true
   },
   "outputs": [],
   "source": [
    "x=X_test_3_7[0,:]"
   ]
  },
  {
   "cell_type": "code",
   "execution_count": 31,
   "metadata": {
    "collapsed": false
   },
   "outputs": [
    {
     "data": {
      "text/plain": [
       "array([ 1.34490077])"
      ]
     },
     "execution_count": 31,
     "metadata": {},
     "output_type": "execute_result"
    }
   ],
   "source": [
    "np.dot(w,x)+b"
   ]
  },
  {
   "cell_type": "code",
   "execution_count": 32,
   "metadata": {
    "collapsed": false
   },
   "outputs": [
    {
     "name": "stderr",
     "output_type": "stream",
     "text": [
      "/usr/local/lib/python2.7/dist-packages/sklearn/utils/validation.py:386: DeprecationWarning: Passing 1d arrays as data is deprecated in 0.17 and willraise ValueError in 0.19. Reshape your data either using X.reshape(-1, 1) if your data has a single feature or X.reshape(1, -1) if it contains a single sample.\n",
      "  DeprecationWarning)\n"
     ]
    }
   ],
   "source": [
    "x_k=pca.transform(x)\n",
    "x_tilde=pca.inverse_transform(x_k)"
   ]
  },
  {
   "cell_type": "code",
   "execution_count": 33,
   "metadata": {
    "collapsed": false,
    "scrolled": true
   },
   "outputs": [],
   "source": [
    "x_tilde=x_tilde.reshape((784))"
   ]
  },
  {
   "cell_type": "code",
   "execution_count": 34,
   "metadata": {
    "collapsed": false
   },
   "outputs": [],
   "source": [
    "C=np.dot(w,x_tilde)+b"
   ]
  },
  {
   "cell_type": "code",
   "execution_count": 40,
   "metadata": {
    "collapsed": true
   },
   "outputs": [],
   "source": [
    "PCA_vectors_t=np.transpose(PCA_vectors)"
   ]
  },
  {
   "cell_type": "code",
   "execution_count": 41,
   "metadata": {
    "collapsed": false
   },
   "outputs": [
    {
     "data": {
      "text/plain": [
       "(50, 784)"
      ]
     },
     "execution_count": 41,
     "metadata": {},
     "output_type": "execute_result"
    }
   ],
   "source": [
    "PCA_vectors_t.shape"
   ]
  },
  {
   "cell_type": "markdown",
   "metadata": {},
   "source": [
    "### Optimal attack"
   ]
  },
  {
   "cell_type": "code",
   "execution_count": 36,
   "metadata": {
    "collapsed": true
   },
   "outputs": [],
   "source": [
    "import cvxpy as cvx"
   ]
  },
  {
   "cell_type": "code",
   "execution_count": 112,
   "metadata": {
    "collapsed": false
   },
   "outputs": [],
   "source": [
    "delta=cvx.Variable(784,1)\n",
    "\n",
    "obj=cvx.Minimize(cvx.norm(delta))\n",
    "\n",
    "cons=[cvx.norm(delta)<=1.0,cvx.sum_entries(cvx.mul_elemwise(Y,PCA_vectors_t*delta),axis=0)+C<-0.1]\n",
    "\n",
    "prob=cvx.Problem(obj,cons)\n",
    "\n",
    "prob.solve()\n",
    "\n",
    "prob.status\n",
    "\n",
    "Delta_curr=delta.value\n",
    "\n",
    "Delta_curr=Delta_curr.reshape((784,1))\n",
    "\n",
    "x=x.reshape((784,1))\n",
    "\n",
    "x.shape\n",
    "\n",
    "Delta_curr.shape\n",
    "\n",
    "x_adv=(x+Delta_curr).reshape((784))"
   ]
  },
  {
   "cell_type": "code",
   "execution_count": 140,
   "metadata": {
    "collapsed": false
   },
   "outputs": [
    {
     "data": {
      "text/plain": [
       "array([-0.32652295])"
      ]
     },
     "execution_count": 140,
     "metadata": {},
     "output_type": "execute_result"
    }
   ],
   "source": [
    "clf.decision_function(x_adv)"
   ]
  },
  {
   "cell_type": "code",
   "execution_count": 141,
   "metadata": {
    "collapsed": true
   },
   "outputs": [],
   "source": [
    "x_adv_k=pca.transform(x_adv)\n",
    "x_adv_tilde=pca.inverse_transform(x_adv_k)"
   ]
  },
  {
   "cell_type": "code",
   "execution_count": 142,
   "metadata": {
    "collapsed": false
   },
   "outputs": [
    {
     "data": {
      "text/plain": [
       "array([-0.09999798])"
      ]
     },
     "execution_count": 142,
     "metadata": {},
     "output_type": "execute_result"
    }
   ],
   "source": [
    "clf.decision_function(x_adv_tilde)"
   ]
  },
  {
   "cell_type": "code",
   "execution_count": 144,
   "metadata": {
    "collapsed": false
   },
   "outputs": [
    {
     "data": {
      "text/plain": [
       "array([3], dtype=uint8)"
      ]
     },
     "execution_count": 144,
     "metadata": {},
     "output_type": "execute_result"
    }
   ],
   "source": [
    "clf.predict(x_adv_tilde)"
   ]
  },
  {
   "cell_type": "code",
   "execution_count": 76,
   "metadata": {
    "collapsed": false
   },
   "outputs": [
    {
     "data": {
      "text/plain": [
       "Expression(CONSTANT, UNKNOWN, (1, 1))"
      ]
     },
     "execution_count": 76,
     "metadata": {},
     "output_type": "execute_result"
    }
   ],
   "source": [
    "cvx.sum_entries(cvx.mul_elemwise(Y,PCA_vectors_t*delta.value))+C"
   ]
  },
  {
   "cell_type": "code",
   "execution_count": 143,
   "metadata": {
    "collapsed": false
   },
   "outputs": [
    {
     "data": {
      "text/plain": [
       "array([-0.1])"
      ]
     },
     "execution_count": 143,
     "metadata": {},
     "output_type": "execute_result"
    }
   ],
   "source": [
    "np.sum(np.multiply(Y,np.dot(PCA_vectors_t,Delta_curr)))+C"
   ]
  },
  {
   "cell_type": "code",
   "execution_count": 161,
   "metadata": {
    "collapsed": true
   },
   "outputs": [],
   "source": [
    "indices_7_test=np.where(y_test_3_7==7)"
   ]
  },
  {
   "cell_type": "code",
   "execution_count": 165,
   "metadata": {
    "collapsed": false
   },
   "outputs": [
    {
     "data": {
      "text/plain": [
       "1028"
      ]
     },
     "execution_count": 165,
     "metadata": {},
     "output_type": "execute_result"
    }
   ],
   "source": [
    "len(indices_7_test[0])"
   ]
  },
  {
   "cell_type": "code",
   "execution_count": 162,
   "metadata": {
    "collapsed": false
   },
   "outputs": [
    {
     "name": "stdout",
     "output_type": "stream",
     "text": [
      "1.0 0.031158714703 1027.0\n"
     ]
    }
   ],
   "source": [
    "max_eps=1.0\n",
    "count_orig=0.0\n",
    "count_recons=0.0\n",
    "count_total=10.0\n",
    "count=0.0\n",
    "for i in indices_7_test[0]:\n",
    "    x=X_test_3_7[i,:]\n",
    "    delta=cvx.Variable(784,1)\n",
    "    C=np.dot(w,x)+b\n",
    "    obj=cvx.Minimize(cvx.norm(delta))\n",
    "    cons=[cvx.norm(delta)<=max_eps,w*delta+C<0]\n",
    "    prob=cvx.Problem(obj,cons)\n",
    "    prob.solve()\n",
    "#     print prob.status\n",
    "    if prob.status=='optimal':\n",
    "        Delta_curr=delta.value\n",
    "        Delta_curr=Delta_curr.reshape((784,1))\n",
    "        x=x.reshape((784,1))\n",
    "        x_adv=(x+Delta_curr).reshape(1,-1)\n",
    "        if clf.predict(x_adv)[0]!=7:\n",
    "            count_orig=count_orig+1\n",
    "        x_adv_k=pca.transform(x_adv)\n",
    "        x_adv_tilde=pca.inverse_transform(x_adv_k)\n",
    "        if clf.predict(x_adv_tilde)[0]!=7:\n",
    "            count_recons=count_recons+1\n",
    "        count=count+1\n",
    "print count_orig/count, count_recons/count, count    "
   ]
  },
  {
   "cell_type": "code",
   "execution_count": 175,
   "metadata": {
    "collapsed": false
   },
   "outputs": [
    {
     "data": {
      "text/plain": [
       "(784,)"
      ]
     },
     "execution_count": 175,
     "metadata": {},
     "output_type": "execute_result"
    }
   ],
   "source": [
    "x.shape"
   ]
  },
  {
   "cell_type": "code",
   "execution_count": 182,
   "metadata": {
    "collapsed": false,
    "scrolled": true
   },
   "outputs": [
    {
     "name": "stdout",
     "output_type": "stream",
     "text": [
      "0\n",
      "1\n",
      "3\n",
      "6\n",
      "7\n",
      "8\n",
      "11\n",
      "13\n",
      "15\n",
      "16\n",
      "18\n",
      "19\n",
      "20\n",
      "21\n",
      "25\n",
      "26\n",
      "28\n",
      "29\n",
      "30\n",
      "31\n",
      "32\n",
      "34\n",
      "36\n",
      "38\n",
      "44\n",
      "45\n",
      "46\n",
      "49\n",
      "50\n",
      "52\n",
      "53\n",
      "54\n",
      "55\n",
      "57\n",
      "58\n",
      "59\n",
      "64\n",
      "67\n",
      "70\n",
      "72\n",
      "75\n",
      "78\n",
      "79\n",
      "80\n",
      "81\n",
      "83\n",
      "90\n",
      "91\n",
      "93\n",
      "97\n",
      "99\n",
      "105\n",
      "106\n",
      "107\n",
      "108\n",
      "115\n",
      "116\n",
      "119\n",
      "121\n",
      "122\n",
      "124\n",
      "127\n",
      "128\n",
      "130\n",
      "131\n",
      "132\n",
      "134\n",
      "136\n",
      "138\n",
      "141\n",
      "143\n",
      "144\n",
      "145\n",
      "146\n",
      "148\n",
      "150\n",
      "153\n",
      "154\n",
      "162\n",
      "166\n",
      "167\n",
      "168\n",
      "169\n",
      "170\n",
      "171\n",
      "174\n",
      "175\n",
      "177\n",
      "179\n",
      "184\n",
      "185\n",
      "186\n",
      "188\n",
      "192\n",
      "195\n",
      "197\n",
      "198\n",
      "201\n",
      "204\n",
      "206\n",
      "207\n",
      "209\n",
      "211\n",
      "213\n",
      "218\n",
      "220\n",
      "223\n",
      "225\n",
      "226\n",
      "228\n",
      "230\n",
      "231\n",
      "232\n",
      "233\n",
      "236\n",
      "238\n",
      "239\n",
      "241\n",
      "242\n",
      "244\n",
      "246\n",
      "247\n",
      "248\n",
      "249\n",
      "252\n",
      "255\n",
      "256\n",
      "258\n",
      "259\n",
      "260\n",
      "262\n",
      "264\n",
      "272\n",
      "273\n",
      "274\n",
      "275\n",
      "276\n",
      "278\n",
      "279\n",
      "280\n",
      "281\n",
      "282\n",
      "284\n",
      "287\n",
      "288\n",
      "294\n",
      "299\n",
      "301\n",
      "302\n",
      "303\n",
      "304\n",
      "306\n",
      "307\n",
      "310\n",
      "311\n",
      "314\n",
      "315\n",
      "316\n",
      "317\n",
      "318\n",
      "319\n",
      "320\n",
      "321\n",
      "325\n",
      "326\n",
      "330\n",
      "337\n",
      "339\n",
      "341\n",
      "345\n",
      "346\n",
      "347\n",
      "348\n",
      "349\n",
      "350\n",
      "351\n",
      "355\n",
      "357\n",
      "360\n",
      "361\n",
      "365\n",
      "366\n",
      "367\n",
      "369\n",
      "370\n",
      "372\n",
      "375\n",
      "378\n",
      "379\n",
      "380\n",
      "381\n",
      "387\n",
      "389\n",
      "390\n",
      "391\n",
      "393\n",
      "395\n",
      "397\n",
      "400\n",
      "401\n",
      "402\n",
      "403\n",
      "404\n",
      "407\n",
      "408\n",
      "414\n",
      "416\n",
      "418\n",
      "421\n",
      "423\n",
      "424\n",
      "425\n",
      "427\n",
      "434\n",
      "435\n",
      "436\n",
      "439\n",
      "440\n",
      "442\n",
      "444\n",
      "445\n",
      "448\n",
      "450\n",
      "451\n",
      "452\n",
      "453\n",
      "457\n",
      "458\n",
      "459\n",
      "460\n",
      "461\n",
      "463\n",
      "464\n",
      "465\n",
      "466\n",
      "467\n",
      "471\n",
      "473\n",
      "475\n",
      "480\n",
      "481\n",
      "482\n",
      "483\n",
      "484\n",
      "485\n",
      "490\n",
      "491\n",
      "492\n",
      "494\n",
      "496\n",
      "502\n",
      "505\n",
      "506\n",
      "507\n",
      "508\n",
      "509\n",
      "510\n",
      "513\n",
      "514\n",
      "516\n",
      "517\n",
      "519\n",
      "522\n",
      "523\n",
      "528\n",
      "529\n",
      "530\n",
      "532\n",
      "534\n",
      "535\n",
      "538\n",
      "539\n",
      "541\n",
      "542\n",
      "543\n",
      "545\n",
      "548\n",
      "553\n",
      "554\n",
      "557\n",
      "558\n",
      "559\n",
      "563\n",
      "564\n",
      "565\n",
      "569\n",
      "571\n",
      "573\n",
      "581\n",
      "583\n",
      "584\n",
      "585\n",
      "586\n",
      "588\n",
      "589\n",
      "590\n",
      "591\n",
      "595\n",
      "598\n",
      "599\n",
      "600\n",
      "604\n",
      "613\n",
      "614\n",
      "615\n",
      "621\n",
      "622\n",
      "624\n",
      "626\n",
      "627\n",
      "630\n",
      "631\n",
      "632\n",
      "633\n",
      "636\n",
      "640\n",
      "643\n",
      "644\n",
      "645\n",
      "647\n",
      "649\n",
      "651\n",
      "653\n",
      "654\n",
      "657\n",
      "661\n",
      "662\n",
      "663\n",
      "666\n",
      "667\n",
      "668\n",
      "670\n",
      "671\n",
      "672\n",
      "675\n",
      "676\n",
      "679\n",
      "680\n",
      "684\n",
      "685\n",
      "686\n",
      "689\n",
      "690\n",
      "691\n",
      "692\n",
      "694\n",
      "695\n",
      "696\n",
      "697\n",
      "698\n",
      "699\n",
      "700\n",
      "701\n",
      "703\n",
      "704\n",
      "705\n",
      "708\n",
      "709\n",
      "712\n",
      "713\n",
      "714\n",
      "716\n",
      "720\n",
      "721\n",
      "723\n",
      "731\n",
      "732\n",
      "733\n",
      "735\n",
      "739\n",
      "742\n",
      "743\n",
      "744\n",
      "746\n",
      "747\n",
      "748\n",
      "749\n",
      "750\n",
      "751\n",
      "752\n",
      "755\n",
      "756\n",
      "758\n",
      "759\n",
      "760\n",
      "762\n",
      "765\n",
      "767\n",
      "770\n",
      "771\n",
      "772\n",
      "773\n",
      "774\n",
      "779\n",
      "781\n",
      "782\n",
      "784\n",
      "788\n",
      "789\n",
      "794\n",
      "795\n",
      "796\n",
      "797\n",
      "798\n",
      "803\n",
      "804\n",
      "811\n",
      "812\n",
      "814\n",
      "816\n",
      "818\n",
      "821\n",
      "824\n",
      "825\n",
      "827\n",
      "828\n",
      "829\n",
      "830\n",
      "831\n",
      "832\n",
      "835\n",
      "837\n",
      "838\n",
      "840\n",
      "842\n",
      "845\n",
      "846\n",
      "847\n",
      "848\n",
      "851\n",
      "852\n",
      "853\n",
      "854\n",
      "855\n",
      "858\n",
      "859\n",
      "861\n",
      "869\n",
      "870\n",
      "874\n",
      "878\n",
      "880\n",
      "883\n",
      "885\n",
      "887\n",
      "891\n",
      "892\n",
      "893\n",
      "894\n",
      "896\n",
      "897\n",
      "898\n",
      "899\n",
      "901\n",
      "903\n",
      "906\n",
      "909\n",
      "913\n",
      "914\n",
      "916\n",
      "918\n",
      "919\n",
      "920\n",
      "921\n",
      "924\n",
      "927\n",
      "930\n",
      "931\n",
      "936\n",
      "938\n",
      "939\n",
      "941\n",
      "942\n",
      "943\n",
      "945\n",
      "946\n",
      "947\n",
      "950\n",
      "952\n",
      "953\n",
      "955\n",
      "956\n",
      "957\n",
      "960\n",
      "961\n",
      "963\n",
      "964\n",
      "966\n",
      "968\n",
      "969\n",
      "971\n",
      "974\n",
      "975\n",
      "977\n",
      "980\n",
      "983\n",
      "984\n",
      "985\n",
      "986\n",
      "988\n",
      "990\n",
      "992\n",
      "995\n",
      "996\n",
      "999\n",
      "1000\n",
      "1002\n",
      "1003\n",
      "1004\n",
      "1008\n",
      "1009\n",
      "1010\n",
      "1016\n",
      "1018\n",
      "1020\n",
      "1022\n",
      "1024\n",
      "1026\n",
      "1028\n",
      "1029\n",
      "1030\n",
      "1031\n",
      "1032\n",
      "1033\n",
      "1034\n",
      "1039\n",
      "1041\n",
      "1043\n",
      "1044\n",
      "1045\n",
      "1046\n",
      "1049\n",
      "1050\n",
      "1056\n",
      "1058\n",
      "1059\n",
      "1061\n",
      "1063\n",
      "1065\n",
      "1067\n",
      "1069\n",
      "1071\n",
      "1072\n",
      "1073\n",
      "1074\n",
      "1075\n",
      "1079\n",
      "1085\n",
      "1086\n",
      "1087\n",
      "1088\n",
      "1090\n",
      "1092\n",
      "1094\n",
      "1095\n",
      "1096\n",
      "1099\n",
      "1100\n",
      "1102\n",
      "1105\n",
      "1106\n",
      "1108\n",
      "1109\n",
      "1112\n",
      "1114\n",
      "1115\n",
      "1117\n",
      "1119\n",
      "1120\n",
      "1122\n",
      "1123\n",
      "1125\n",
      "1129\n",
      "1131\n",
      "1133\n",
      "1139\n",
      "1140\n",
      "1141\n",
      "1142\n",
      "1143\n",
      "1144\n",
      "1145\n",
      "1148\n",
      "1152\n",
      "1153\n",
      "1155\n",
      "1158\n",
      "1160\n",
      "1164\n",
      "1166\n",
      "1167\n",
      "1169\n",
      "1171\n",
      "1175\n",
      "1177\n",
      "1179\n",
      "1180\n",
      "1182\n",
      "1183\n",
      "1186\n",
      "1188\n",
      "1190\n",
      "1192\n",
      "1195\n",
      "1197\n",
      "1199\n",
      "1201\n",
      "1202\n",
      "1203\n",
      "1204\n",
      "1205\n",
      "1208\n",
      "1210\n",
      "1215\n",
      "1216\n",
      "1217\n",
      "1221\n",
      "1223\n",
      "1225\n",
      "1227\n",
      "1229\n",
      "1232\n",
      "1233\n",
      "1235\n",
      "1236\n",
      "1238\n",
      "1240\n",
      "1241\n",
      "1242\n",
      "1246\n",
      "1248\n",
      "1250\n",
      "1252\n",
      "1254\n",
      "1255\n",
      "1256\n",
      "1259\n",
      "1260\n",
      "1261\n",
      "1266\n",
      "1268\n",
      "1269\n",
      "1271\n",
      "1273\n",
      "1275\n",
      "1276\n",
      "1277\n",
      "1279\n",
      "1280\n",
      "1281\n",
      "1282\n",
      "1283\n",
      "1285\n",
      "1288\n",
      "1290\n",
      "1297\n",
      "1299\n",
      "1301\n",
      "1302\n",
      "1305\n",
      "1307\n",
      "1309\n",
      "1312\n",
      "1317\n",
      "1320\n",
      "1326\n",
      "1327\n",
      "1328\n",
      "1329\n",
      "1331\n",
      "1332\n",
      "1333\n",
      "1334\n",
      "1337\n",
      "1339\n",
      "1340\n",
      "1341\n",
      "1342\n",
      "1345\n",
      "1346\n",
      "1348\n",
      "1350\n",
      "1352\n",
      "1354\n",
      "1357\n",
      "1359\n",
      "1360\n",
      "1363\n",
      "1365\n",
      "1366\n",
      "1369\n",
      "1371\n",
      "1374\n",
      "1376\n",
      "1378\n",
      "1379\n",
      "1380\n",
      "1382\n",
      "1383\n",
      "1384\n",
      "1385\n",
      "1386\n",
      "1388\n",
      "1391\n",
      "1393\n",
      "1400\n",
      "1402\n",
      "1404\n",
      "1406\n",
      "1407\n",
      "1412\n",
      "1413\n",
      "1416\n",
      "1419\n",
      "1420\n",
      "1421\n",
      "1423\n",
      "1425\n",
      "1427\n",
      "1429\n",
      "1430\n",
      "1431\n",
      "1433\n",
      "1436\n",
      "1439\n",
      "1443\n",
      "1444\n",
      "1445\n",
      "1446\n",
      "1449\n",
      "1451\n",
      "1453\n",
      "1454\n",
      "1459\n",
      "1461\n",
      "1463\n",
      "1468\n",
      "1469\n",
      "1470\n",
      "1472\n",
      "1474\n",
      "1476\n",
      "1477\n",
      "1478\n",
      "1481\n",
      "1485\n",
      "1487\n",
      "1488\n",
      "1489\n",
      "1492\n",
      "1493\n",
      "1494\n",
      "1499\n",
      "1500\n",
      "1502\n",
      "1505\n",
      "1506\n",
      "1508\n",
      "1509\n",
      "1512\n",
      "1515\n",
      "1516\n",
      "1518\n",
      "1520\n",
      "1522\n",
      "1524\n",
      "1525\n",
      "1527\n",
      "1530\n",
      "1532\n",
      "1533\n",
      "1536\n",
      "1537\n",
      "1538\n",
      "1540\n",
      "1543\n",
      "1546\n",
      "1547\n",
      "1548\n",
      "1549\n",
      "1550\n",
      "1554\n",
      "1557\n",
      "1558\n",
      "1559\n",
      "1563\n",
      "1565\n",
      "1567\n",
      "1568\n",
      "1569\n",
      "1571\n",
      "1573\n",
      "1576\n",
      "1579\n",
      "1583\n",
      "1585\n",
      "1587\n",
      "1588\n",
      "1590\n",
      "1592\n",
      "1593\n",
      "1595\n",
      "1596\n",
      "1597\n",
      "1598\n",
      "1599\n",
      "1602\n",
      "1604\n",
      "1606\n",
      "1607\n",
      "1609\n",
      "1612\n",
      "1615\n",
      "1616\n",
      "1617\n",
      "1621\n",
      "1623\n",
      "1625\n",
      "1627\n",
      "1629\n",
      "1632\n",
      "1633\n",
      "1636\n",
      "1638\n",
      "1640\n",
      "1641\n",
      "1647\n",
      "1648\n",
      "1650\n",
      "1651\n",
      "1653\n",
      "1654\n",
      "1657\n",
      "1659\n",
      "1661\n",
      "1663\n",
      "1665\n",
      "1669\n",
      "1670\n",
      "1671\n",
      "1675\n",
      "1676\n",
      "1678\n",
      "1679\n",
      "1680\n",
      "1684\n",
      "1686\n",
      "1688\n",
      "1690\n",
      "1692\n",
      "1693\n",
      "1696\n",
      "1697\n",
      "1698\n",
      "1699\n",
      "1702\n",
      "1704\n",
      "1705\n",
      "1710\n",
      "1712\n",
      "1714\n",
      "1715\n",
      "1720\n",
      "1722\n",
      "1723\n",
      "1725\n",
      "1726\n",
      "1728\n",
      "1730\n",
      "1732\n",
      "1734\n",
      "1736\n",
      "1740\n",
      "1742\n",
      "1743\n",
      "1744\n",
      "1746\n",
      "1747\n",
      "1748\n",
      "1749\n",
      "1750\n",
      "1754\n",
      "1756\n",
      "1758\n",
      "1764\n",
      "1765\n",
      "1766\n",
      "1767\n",
      "1768\n",
      "1769\n",
      "1770\n",
      "1773\n",
      "1777\n",
      "1778\n",
      "1780\n",
      "1782\n",
      "1784\n",
      "1785\n",
      "1786\n",
      "1794\n",
      "1795\n",
      "1797\n",
      "1798\n",
      "1799\n",
      "1801\n",
      "1803\n",
      "1805\n",
      "1807\n",
      "1808\n",
      "1812\n",
      "1814\n",
      "1817\n",
      "1820\n",
      "1821\n",
      "1823\n",
      "1825\n",
      "1826\n",
      "1828\n",
      "1830\n",
      "1831\n",
      "1832\n",
      "1833\n",
      "1837\n",
      "1839\n",
      "1841\n",
      "1843\n",
      "1845\n",
      "1846\n",
      "1849\n",
      "1850\n",
      "1851\n",
      "1855\n",
      "1856\n",
      "1857\n",
      "1858\n",
      "1862\n",
      "1864\n",
      "1866\n",
      "1867\n",
      "1875\n",
      "1876\n",
      "1877\n",
      "1879\n",
      "1880\n",
      "1882\n",
      "1884\n",
      "1885\n",
      "1886\n",
      "1887\n",
      "1888\n",
      "1891\n",
      "1892\n",
      "1893\n",
      "1894\n",
      "1896\n",
      "1901\n",
      "1903\n",
      "1905\n",
      "1906\n",
      "1908\n",
      "1909\n",
      "1914\n",
      "1915\n",
      "1916\n",
      "1917\n",
      "1919\n",
      "1921\n",
      "1924\n",
      "1926\n",
      "1928\n",
      "1930\n",
      "1931\n",
      "1933\n",
      "1935\n",
      "1936\n",
      "1940\n",
      "1942\n",
      "1943\n",
      "1944\n",
      "1945\n",
      "1949\n",
      "1951\n",
      "1953\n",
      "1955\n",
      "1957\n",
      "1958\n",
      "1959\n",
      "1960\n",
      "1961\n",
      "1965\n",
      "1969\n",
      "1970\n",
      "1973\n",
      "1975\n",
      "1977\n",
      "1978\n",
      "1980\n",
      "1981\n",
      "1985\n",
      "1986\n",
      "1987\n",
      "1988\n",
      "1990\n",
      "1994\n",
      "1996\n",
      "1998\n",
      "2000\n",
      "2002\n",
      "2003\n",
      "2004\n",
      "2006\n",
      "2007\n",
      "2008\n",
      "2012\n",
      "2014\n",
      "2015\n",
      "2016\n",
      "2018\n",
      "2020\n",
      "2021\n",
      "2023\n",
      "2024\n",
      "2028\n",
      "2029\n",
      "2030\n",
      "2032\n",
      "2034\n",
      "2036\n",
      "0.438030560272 1.0 589.0\n"
     ]
    }
   ],
   "source": [
    "max_eps=1.0\n",
    "count_orig=0.0\n",
    "count_recons=0.0\n",
    "count_total=10.0\n",
    "count=0.0\n",
    "for i in indices_7_test[0]:\n",
    "    print i\n",
    "    x=X_test_3_7[i,:]\n",
    "    x=x.reshape((1,784))\n",
    "    x_k=pca.transform(x)\n",
    "    x_tilde=pca.inverse_transform(x_k)\n",
    "    x_tilde=x_tilde.reshape(784)\n",
    "    C=np.dot(w,x_tilde)+b\n",
    "    delta=cvx.Variable(784,1)\n",
    "    obj=cvx.Minimize(cvx.norm(delta))\n",
    "    cons=[cvx.norm(delta)<=1.0,cvx.sum_entries(cvx.mul_elemwise(Y,PCA_vectors_t*delta),axis=0)+C<-0.01]\n",
    "    prob=cvx.Problem(obj,cons)\n",
    "    prob.solve(solver='CVXOPT')\n",
    "#     print prob.status\n",
    "    if prob.status=='optimal':\n",
    "        Delta_curr=delta.value\n",
    "        Delta_curr=Delta_curr.reshape((784,1))\n",
    "        x=x.reshape((784,1))\n",
    "        x_adv=(x+Delta_curr).reshape(1,-1)\n",
    "        if clf.predict(x_adv)[0]!=7:\n",
    "            count_orig=count_orig+1\n",
    "        x_adv_k=pca.transform(x_adv)\n",
    "        x_adv_tilde=pca.inverse_transform(x_adv_k)\n",
    "        x_adv_tilde=x_adv_tilde.reshape(1,-1)\n",
    "        if clf.predict(x_adv_tilde)[0]!=7:\n",
    "            count_recons=count_recons+1\n",
    "        count=count+1\n",
    "print count_orig/count, count_recons/count, count    "
   ]
  },
  {
   "cell_type": "code",
   "execution_count": 15,
   "metadata": {
    "collapsed": true
   },
   "outputs": [],
   "source": [
    "def f(x):\n",
    "    return np.linalg.norm(x)"
   ]
  },
  {
   "cell_type": "code",
   "execution_count": 28,
   "metadata": {
    "collapsed": false
   },
   "outputs": [],
   "source": [
    "def g(x):\n",
    "    y=(ini_point+x).reshape(1,-1)\n",
    "    y_k=pca.transform(y)\n",
    "    y_tilde=pca.inverse_transform(y_k)\n",
    "    y_tilde=y_tilde.reshape(1,-1)\n",
    "    return clf.decision_function(y_tilde)[0]"
   ]
  },
  {
   "cell_type": "code",
   "execution_count": 17,
   "metadata": {
    "collapsed": true
   },
   "outputs": [],
   "source": [
    "def h(x):\n",
    "    return max_eps-np.linalg.norm(x)"
   ]
  },
  {
   "cell_type": "code",
   "execution_count": 18,
   "metadata": {
    "collapsed": true
   },
   "outputs": [],
   "source": [
    "ini_point=X_test_3_7[0,:]"
   ]
  },
  {
   "cell_type": "code",
   "execution_count": 19,
   "metadata": {
    "collapsed": false
   },
   "outputs": [],
   "source": [
    "cons=({'type':'ineq','fun':lambda x: h(x)},{'type':'ineq','fun':lambda x: g(x)})"
   ]
  },
  {
   "cell_type": "code",
   "execution_count": 20,
   "metadata": {
    "collapsed": true
   },
   "outputs": [],
   "source": [
    "func=lambda x: f(x)"
   ]
  },
  {
   "cell_type": "code",
   "execution_count": 21,
   "metadata": {
    "collapsed": true
   },
   "outputs": [],
   "source": [
    "from scipy.optimize import minimize"
   ]
  },
  {
   "cell_type": "code",
   "execution_count": 22,
   "metadata": {
    "collapsed": false
   },
   "outputs": [],
   "source": [
    "max_eps=1.0\n",
    "res=minimize(func,np.zeros(784),method='SLSQP',constraints=cons)"
   ]
  },
  {
   "cell_type": "code",
   "execution_count": 23,
   "metadata": {
    "collapsed": false
   },
   "outputs": [
    {
     "name": "stderr",
     "output_type": "stream",
     "text": [
      "/usr/local/lib/python2.7/dist-packages/sklearn/utils/validation.py:386: DeprecationWarning: Passing 1d arrays as data is deprecated in 0.17 and willraise ValueError in 0.19. Reshape your data either using X.reshape(-1, 1) if your data has a single feature or X.reshape(1, -1) if it contains a single sample.\n",
      "  DeprecationWarning)\n"
     ]
    },
    {
     "data": {
      "text/plain": [
       "array([3], dtype=uint8)"
      ]
     },
     "execution_count": 23,
     "metadata": {},
     "output_type": "execute_result"
    }
   ],
   "source": [
    "clf.predict(ini_point+res.x)"
   ]
  },
  {
   "cell_type": "code",
   "execution_count": 24,
   "metadata": {
    "collapsed": false
   },
   "outputs": [
    {
     "data": {
      "text/plain": [
       "0.46643534172864504"
      ]
     },
     "execution_count": 24,
     "metadata": {},
     "output_type": "execute_result"
    }
   ],
   "source": [
    "np.linalg.norm(res.x)"
   ]
  },
  {
   "cell_type": "code",
   "execution_count": 30,
   "metadata": {
    "collapsed": true
   },
   "outputs": [],
   "source": [
    "indices_7_test=np.where(y_test==7)"
   ]
  },
  {
   "cell_type": "code",
   "execution_count": 31,
   "metadata": {
    "collapsed": false
   },
   "outputs": [],
   "source": [
    "no_of_sevens=float(len(indices_7_test[0]))"
   ]
  },
  {
   "cell_type": "code",
   "execution_count": 32,
   "metadata": {
    "collapsed": false
   },
   "outputs": [
    {
     "data": {
      "text/plain": [
       "1028.0"
      ]
     },
     "execution_count": 32,
     "metadata": {},
     "output_type": "execute_result"
    }
   ],
   "source": [
    "no_of_sevens"
   ]
  },
  {
   "cell_type": "code",
   "execution_count": 35,
   "metadata": {
    "collapsed": false
   },
   "outputs": [
    {
     "name": "stderr",
     "output_type": "stream",
     "text": [
      "/usr/local/lib/python2.7/dist-packages/ipykernel/__main__.py:5: VisibleDeprecationWarning: using a non-integer number instead of an integer will result in an error in the future\n"
     ]
    },
    {
     "name": "stdout",
     "output_type": "stream",
     "text": [
      "0.466435341729\n",
      "0.346369795453\n",
      "0.859908294538\n",
      "0.721045311829\n",
      "0.418360622628\n",
      "0.515575777085\n",
      "0.756468269727\n",
      "0.757435875836\n",
      "0.87916434656\n",
      "1.50325648106\n",
      "0.5 0.4\n"
     ]
    }
   ],
   "source": [
    "max_eps=1.0\n",
    "count_orig=0.0\n",
    "count_recons=0.0\n",
    "count_total=10.0\n",
    "for i in indices_7_test[0][0:count_total]:\n",
    "    def g(x):\n",
    "        y=(ini_point+x).reshape(1,-1)\n",
    "        y_k=pca.transform(y)\n",
    "        y_tilde=pca.inverse_transform(y_k)\n",
    "        y_tilde=y_tilde.reshape(1,-1)\n",
    "        return -1.0*clf.decision_function(y_tilde)[0]\n",
    "#     print i\n",
    "    ini_point=X_test[i,:]\n",
    "    res_curr=minimize(func,np.zeros(784),method='SLSQP',constraints=cons)\n",
    "    adv_x=(ini_point+res_curr.x).reshape(1,-1)\n",
    "    if clf.predict(adv_x)[0]!=7:\n",
    "        count_orig=count_orig+1\n",
    "    adv_x_k=pca.transform(adv_x)\n",
    "    adv_x_tilde=pca.inverse_transform(adv_x_k)\n",
    "    if clf.predict(adv_x_tilde)[0]!=7:\n",
    "        count_recons=count_recons+1\n",
    "    print np.linalg.norm(res_curr.x)\n",
    "print count_orig/count_total, count_recons/count_total"
   ]
  },
  {
   "cell_type": "code",
   "execution_count": 36,
   "metadata": {
    "collapsed": false
   },
   "outputs": [
    {
     "name": "stderr",
     "output_type": "stream",
     "text": [
      "/usr/local/lib/python2.7/dist-packages/ipykernel/__main__.py:5: VisibleDeprecationWarning: using a non-integer number instead of an integer will result in an error in the future\n"
     ]
    },
    {
     "name": "stdout",
     "output_type": "stream",
     "text": [
      "0.129223418894\n",
      "0.153521763636\n",
      "0.160846329182\n",
      "0.281457416849\n",
      "0.379355006958\n",
      "0.184410761744\n",
      "0.146624751828\n",
      "0.207830847632\n",
      "0.287630585386\n",
      "0.397686435148\n",
      "0.5 0.0\n"
     ]
    }
   ],
   "source": [
    "max_eps=1.0\n",
    "count_orig=0.0\n",
    "count_recons=0.0\n",
    "count_total=10.0\n",
    "for i in indices_7_test[0][0:count_total]:\n",
    "    def g(x):\n",
    "        y=(ini_point+x).reshape(1,-1)\n",
    "#         y_k=pca.transform(y)\n",
    "#         y_tilde=pca.inverse_transform(y_k)\n",
    "#         y_tilde=y_tilde.reshape(1,-1)\n",
    "        return -1.0*clf.decision_function(y)[0]\n",
    "#     print i\n",
    "    ini_point=X_test[i,:]\n",
    "    res_curr=minimize(func,np.zeros(784),method='SLSQP',constraints=cons)\n",
    "    adv_x=(ini_point+res_curr.x).reshape(1,-1)\n",
    "    if clf.predict(adv_x)[0]!=7:\n",
    "        count_orig=count_orig+1\n",
    "    adv_x_k=pca.transform(adv_x)\n",
    "    adv_x_tilde=pca.inverse_transform(adv_x_k)\n",
    "    if clf.predict(adv_x_tilde)[0]!=7:\n",
    "        count_recons=count_recons+1\n",
    "    print np.linalg.norm(res_curr.x)\n",
    "print count_orig/count_total, count_recons/count_total"
   ]
  },
  {
   "cell_type": "code",
   "execution_count": 30,
   "metadata": {
    "collapsed": false
   },
   "outputs": [],
   "source": [
    "import cvxpy as cvx"
   ]
  },
  {
   "cell_type": "code",
   "execution_count": 31,
   "metadata": {
    "collapsed": true
   },
   "outputs": [],
   "source": [
    "x=cvx.Variable(784)"
   ]
  },
  {
   "cell_type": "code",
   "execution_count": 29,
   "metadata": {
    "collapsed": false
   },
   "outputs": [
    {
     "ename": "AttributeError",
     "evalue": "'AddExpression' object has no attribute 'reshape'",
     "output_type": "error",
     "traceback": [
      "\u001b[1;31m---------------------------------------------------------------------------\u001b[0m",
      "\u001b[1;31mAttributeError\u001b[0m                            Traceback (most recent call last)",
      "\u001b[1;32m<ipython-input-29-706df848f10b>\u001b[0m in \u001b[0;36m<module>\u001b[1;34m()\u001b[0m\n\u001b[1;32m----> 1\u001b[1;33m \u001b[0mconstraints\u001b[0m\u001b[1;33m=\u001b[0m\u001b[1;33m[\u001b[0m\u001b[0mg\u001b[0m\u001b[1;33m(\u001b[0m\u001b[0mx\u001b[0m\u001b[1;33m)\u001b[0m\u001b[1;33m<=\u001b[0m\u001b[1;36m0\u001b[0m\u001b[1;33m,\u001b[0m\u001b[0mh\u001b[0m\u001b[1;33m(\u001b[0m\u001b[0mx\u001b[0m\u001b[1;33m)\u001b[0m\u001b[1;33m>=\u001b[0m\u001b[1;36m0\u001b[0m\u001b[1;33m]\u001b[0m\u001b[1;33m\u001b[0m\u001b[0m\n\u001b[0m",
      "\u001b[1;32m<ipython-input-28-716f9fbbdbff>\u001b[0m in \u001b[0;36mg\u001b[1;34m(x)\u001b[0m\n\u001b[0;32m      1\u001b[0m \u001b[1;32mdef\u001b[0m \u001b[0mg\u001b[0m\u001b[1;33m(\u001b[0m\u001b[0mx\u001b[0m\u001b[1;33m)\u001b[0m\u001b[1;33m:\u001b[0m\u001b[1;33m\u001b[0m\u001b[0m\n\u001b[1;32m----> 2\u001b[1;33m     \u001b[0my\u001b[0m\u001b[1;33m=\u001b[0m\u001b[1;33m(\u001b[0m\u001b[0mini_point\u001b[0m\u001b[1;33m+\u001b[0m\u001b[0mx\u001b[0m\u001b[1;33m)\u001b[0m\u001b[1;33m.\u001b[0m\u001b[0mreshape\u001b[0m\u001b[1;33m(\u001b[0m\u001b[1;36m1\u001b[0m\u001b[1;33m,\u001b[0m\u001b[1;33m-\u001b[0m\u001b[1;36m1\u001b[0m\u001b[1;33m)\u001b[0m\u001b[1;33m\u001b[0m\u001b[0m\n\u001b[0m\u001b[0;32m      3\u001b[0m     \u001b[0my_k\u001b[0m\u001b[1;33m=\u001b[0m\u001b[0mpca\u001b[0m\u001b[1;33m.\u001b[0m\u001b[0mtransform\u001b[0m\u001b[1;33m(\u001b[0m\u001b[0my\u001b[0m\u001b[1;33m)\u001b[0m\u001b[1;33m\u001b[0m\u001b[0m\n\u001b[0;32m      4\u001b[0m     \u001b[0my_tilde\u001b[0m\u001b[1;33m=\u001b[0m\u001b[0mpca\u001b[0m\u001b[1;33m.\u001b[0m\u001b[0minverse_transform\u001b[0m\u001b[1;33m(\u001b[0m\u001b[0my_k\u001b[0m\u001b[1;33m)\u001b[0m\u001b[1;33m\u001b[0m\u001b[0m\n\u001b[0;32m      5\u001b[0m     \u001b[0my_tilde\u001b[0m\u001b[1;33m=\u001b[0m\u001b[0my_tilde\u001b[0m\u001b[1;33m.\u001b[0m\u001b[0mreshape\u001b[0m\u001b[1;33m(\u001b[0m\u001b[1;36m1\u001b[0m\u001b[1;33m,\u001b[0m\u001b[1;33m-\u001b[0m\u001b[1;36m1\u001b[0m\u001b[1;33m)\u001b[0m\u001b[1;33m\u001b[0m\u001b[0m\n",
      "\u001b[1;31mAttributeError\u001b[0m: 'AddExpression' object has no attribute 'reshape'"
     ]
    }
   ],
   "source": [
    "constraints=[g(x)<=0,h(x)>=0]"
   ]
  },
  {
   "cell_type": "code",
   "execution_count": 35,
   "metadata": {
    "collapsed": false
   },
   "outputs": [
    {
     "data": {
      "text/plain": [
       "5.0"
      ]
     },
     "execution_count": 35,
     "metadata": {},
     "output_type": "execute_result"
    }
   ],
   "source": [
    "count_orig"
   ]
  },
  {
   "cell_type": "code",
   "execution_count": 36,
   "metadata": {
    "collapsed": false
   },
   "outputs": [
    {
     "data": {
      "text/plain": [
       "0.0"
      ]
     },
     "execution_count": 36,
     "metadata": {},
     "output_type": "execute_result"
    }
   ],
   "source": [
    "count_recons"
   ]
  },
  {
   "cell_type": "code",
   "execution_count": 37,
   "metadata": {
    "collapsed": false
   },
   "outputs": [
    {
     "data": {
      "text/plain": [
       "0.39768643514786184"
      ]
     },
     "execution_count": 37,
     "metadata": {},
     "output_type": "execute_result"
    }
   ],
   "source": [
    "np.linalg.norm(res_curr.x)"
   ]
  },
  {
   "cell_type": "code",
   "execution_count": 96,
   "metadata": {
    "collapsed": false
   },
   "outputs": [
    {
     "data": {
      "text/plain": [
       "1.0"
      ]
     },
     "execution_count": 96,
     "metadata": {},
     "output_type": "execute_result"
    }
   ],
   "source": [
    "max_eps"
   ]
  },
  {
   "cell_type": "code",
   "execution_count": 95,
   "metadata": {
    "collapsed": false
   },
   "outputs": [
    {
     "data": {
      "text/plain": [
       "  status: 0\n",
       " success: True\n",
       "    njev: 10\n",
       "    nfev: 7871\n",
       "     fun: 0.46643534172864504\n",
       "       x: array([  1.42234054e-05,   1.29824214e-05,   1.13479821e-05,\n",
       "         1.20715500e-05,   1.37782549e-05,   1.51838097e-05,\n",
       "         1.36797179e-05,   1.48153275e-05,   1.03682820e-05,\n",
       "         1.01306394e-05,   1.26730749e-05,   1.40609447e-05,\n",
       "         1.24018465e-05,   1.24425122e-05,   1.42175606e-05,\n",
       "         1.36436616e-05,   1.12045239e-05,   1.45129861e-05,\n",
       "         1.44761613e-05,   1.19633404e-05,   1.48572567e-05,\n",
       "         1.22291410e-05,   1.17533128e-05,   1.21056127e-05,\n",
       "         1.32970678e-05,   1.40945526e-05,   1.20353676e-05,\n",
       "         1.25043251e-05,   1.29809096e-05,   1.20809075e-05,\n",
       "         1.40554376e-05,   1.18720523e-05,   1.34220854e-05,\n",
       "         1.28827894e-05,   1.51171798e-05,   1.28500252e-05,\n",
       "         1.01840583e-05,   1.25334314e-05,   1.04856146e-05,\n",
       "         1.21936260e-05,   1.23276684e-05,   1.30543842e-05,\n",
       "         1.28781322e-05,   1.18988920e-05,   1.13881251e-05,\n",
       "         1.16124914e-05,   1.06933232e-05,   1.32162743e-05,\n",
       "         1.37100313e-05,   1.13598111e-05,   1.03672683e-05,\n",
       "         1.48902462e-05,   1.33210858e-05,   9.81810604e-06,\n",
       "         1.24848888e-05,   1.15353062e-05,   1.29889626e-05,\n",
       "         1.16271717e-05,   1.36085163e-05,   1.31177806e-05,\n",
       "         1.18510384e-05,   1.30441557e-05,   1.32660789e-05,\n",
       "         1.15235585e-05,   1.18967428e-05,   1.20036830e-05,\n",
       "         1.23405202e-05,   4.51504550e-05,   1.96778062e-04,\n",
       "         1.73475153e-04,   2.36469820e-04,   2.35970873e-04,\n",
       "         1.90237842e-04,   1.88297392e-04,   1.55166097e-04,\n",
       "         6.72549306e-05,   1.85144556e-05,   1.37572515e-05,\n",
       "         1.22956013e-05,   1.14483502e-05,   1.11853230e-05,\n",
       "         1.25101788e-05,   1.04563323e-05,   1.26263030e-05,\n",
       "         1.20289977e-05,   1.15082451e-05,   1.07485341e-05,\n",
       "         1.21355863e-05,   2.44710184e-05,   1.53124181e-04,\n",
       "         4.31853335e-04,   8.49095301e-04,   1.63201258e-03,\n",
       "         3.15877398e-03,   4.78542737e-03,   6.86395638e-03,\n",
       "         8.76195822e-03,   1.03163235e-02,   1.09952040e-02,\n",
       "         1.10098845e-02,   9.74793801e-03,   8.16541021e-03,\n",
       "         6.29893322e-03,   4.55198970e-03,   2.82940956e-03,\n",
       "         1.07466527e-03,   2.32466433e-04,   1.33955070e-05,\n",
       "         1.33945571e-05,   1.33955070e-05,   1.33945571e-05,\n",
       "         1.33955070e-05,   1.33945571e-05,   1.26831769e-05,\n",
       "        -2.24262629e-06,   2.82686381e-05,   2.59054889e-04,\n",
       "         1.41789943e-03,   3.55671662e-03,   9.26656252e-03,\n",
       "         1.72992838e-02,   2.66527482e-02,   3.53841736e-02,\n",
       "         4.23592015e-02,   4.64915059e-02,   4.88560664e-02,\n",
       "         5.05512467e-02,   5.30819624e-02,   5.37873794e-02,\n",
       "         5.14492950e-02,   4.49432008e-02,   3.25288886e-02,\n",
       "         1.88011138e-02,   7.89783092e-03,   2.26825385e-03,\n",
       "         2.45082954e-05,   1.30716203e-05,   1.33961815e-05,\n",
       "         1.33945571e-05,   1.33955070e-05,   1.33945571e-05,\n",
       "         1.33955070e-05,   7.46954149e-05,   3.05956197e-04,\n",
       "         1.40652199e-03,   4.77497987e-03,   1.18974225e-02,\n",
       "         2.10871743e-02,   2.86207133e-02,   3.05596431e-02,\n",
       "         2.98144141e-02,   3.13491152e-02,   3.73921712e-02,\n",
       "         4.61219063e-02,   5.13464549e-02,   5.60658843e-02,\n",
       "         5.90020383e-02,   6.43244386e-02,   6.87064354e-02,\n",
       "         6.37582047e-02,   4.57240428e-02,   2.38710283e-02,\n",
       "         6.67632546e-03,   4.57355826e-04,  -1.21053401e-05,\n",
       "         1.33955070e-05,   1.33945571e-05,   1.33955070e-05,\n",
       "         1.33945571e-05,   8.13116241e-06,   6.54573062e-05,\n",
       "         4.89149347e-05,   6.80603710e-04,   3.78458572e-03,\n",
       "         8.86536263e-03,   8.41573604e-03,  -6.87152671e-04,\n",
       "        -1.64414412e-02,  -2.59007936e-02,  -2.02897781e-02,\n",
       "        -3.00047375e-03,   1.56699377e-02,   2.21468532e-02,\n",
       "         2.04328842e-02,   1.09253928e-02,   5.37890614e-03,\n",
       "         1.72934549e-02,   3.66679340e-02,   4.19331168e-02,\n",
       "         2.77994204e-02,   8.03601317e-03,  -2.78910516e-04,\n",
       "        -9.16975885e-05,   4.57151761e-06,   1.33945571e-05,\n",
       "         1.33955070e-05,   1.49720739e-05,  -1.59787687e-04,\n",
       "         2.91721187e-05,  -1.10783079e-03,  -3.76903676e-03,\n",
       "        -6.08351531e-03,  -1.26481015e-03,  -4.51694778e-03,\n",
       "        -1.33089776e-02,  -2.53439514e-02,  -2.47000372e-02,\n",
       "        -7.50408304e-03,   9.43460183e-03,   1.96460021e-02,\n",
       "         1.93430444e-02,   8.99016102e-03,  -1.32666269e-02,\n",
       "        -3.85471957e-02,  -3.68773164e-02,  -1.83997697e-03,\n",
       "         2.19910549e-02,   2.03029776e-02,   2.81694141e-03,\n",
       "        -3.37069839e-03,  -1.08100796e-03,   5.33534728e-06,\n",
       "         1.33945571e-05,   1.33955070e-05,   2.13198815e-05,\n",
       "        -4.59765996e-06,  -1.74905525e-03,  -6.56673442e-03,\n",
       "        -1.43300533e-02,  -1.60964177e-02,  -1.02045018e-02,\n",
       "        -1.56470916e-03,   2.30247503e-03,   3.06654721e-04,\n",
       "         1.16671962e-03,   7.04211378e-03,   7.92352949e-03,\n",
       "         8.76111182e-03,   1.17541940e-02,   2.05303253e-02,\n",
       "         1.41613518e-02,  -5.10967053e-03,  -1.25154748e-02,\n",
       "         5.21665412e-03,   1.43534299e-02,   7.16591283e-03,\n",
       "        -5.09720174e-03,  -7.35022715e-03,  -2.23704379e-03,\n",
       "        -1.74551714e-04,   1.33945571e-05,   1.33955070e-05,\n",
       "         3.10947945e-05,  -1.59300757e-04,  -3.45836309e-03,\n",
       "        -1.16454883e-02,  -2.17865265e-02,  -2.69839218e-02,\n",
       "        -2.10909927e-02,  -1.11204048e-02,  -3.23422533e-03,\n",
       "        -3.12815995e-03,  -1.15652103e-02,  -1.97560990e-02,\n",
       "        -2.50438938e-02,  -2.27085185e-02,  -9.39727706e-03,\n",
       "         7.56295126e-03,   1.36004082e-02,   7.94825807e-03,\n",
       "         2.68478116e-03,   9.33125366e-03,   3.35616401e-03,\n",
       "        -7.46287364e-03,  -1.27664702e-02,  -9.34814668e-03,\n",
       "        -2.55840736e-03,  -3.90630066e-04,  -3.11038782e-06,\n",
       "        -8.36420159e-06,   4.89447377e-05,  -2.29834364e-04,\n",
       "        -3.06211401e-03,  -1.22225807e-02,  -2.32832442e-02,\n",
       "        -2.99323225e-02,  -2.92854762e-02,  -2.27798708e-02,\n",
       "        -1.42755466e-02,  -9.18393005e-03,  -1.31676405e-02,\n",
       "        -1.71514079e-02,  -1.88643993e-02,  -1.64813830e-02,\n",
       "        -1.29044068e-02,  -1.72143030e-02,  -2.54276965e-02,\n",
       "        -2.10501987e-02,  -9.43575271e-03,  -5.38281991e-04,\n",
       "        -9.14663802e-03,  -1.74484472e-02,  -1.74585635e-02,\n",
       "        -8.50949147e-03,  -1.70551172e-03,  -2.26889287e-04,\n",
       "        -2.76931884e-06,   1.02409947e-05,   3.38422500e-05,\n",
       "        -4.10338994e-05,  -1.73197202e-03,  -8.43509243e-03,\n",
       "        -1.78740153e-02,  -2.46756449e-02,  -2.70655405e-02,\n",
       "        -2.40874048e-02,  -1.38406257e-02,  -1.36511652e-03,\n",
       "         6.56085522e-03,   1.05995173e-02,   9.87835319e-03,\n",
       "         6.17102108e-03,  -8.04820274e-03,  -3.07575409e-02,\n",
       "        -4.67436537e-02,  -3.67868604e-02,  -1.75406334e-02,\n",
       "        -9.22883706e-03,  -1.63319450e-02,  -2.20835072e-02,\n",
       "        -1.64515749e-02,  -5.43851015e-03,  -5.79414827e-04,\n",
       "        -5.10842022e-06,   1.87851684e-05,   1.65422593e-05,\n",
       "         2.80950212e-05,   5.86065854e-05,  -5.30802696e-04,\n",
       "        -4.02210859e-03,  -1.07791256e-02,  -1.82506154e-02,\n",
       "        -2.46442627e-02,  -2.77306145e-02,  -2.23598008e-02,\n",
       "        -6.92687019e-03,   7.38420241e-03,   1.87191134e-02,\n",
       "         2.52243115e-02,   2.60839461e-02,   1.47899369e-02,\n",
       "        -7.52003966e-03,  -2.08054909e-02,  -1.62382995e-02,\n",
       "        -7.44875344e-03,  -1.30437781e-02,  -2.37291113e-02,\n",
       "        -2.24739944e-02,  -1.24094244e-02,  -2.81888554e-03,\n",
       "        -1.81041682e-04,  -2.51924924e-05,   5.83519833e-05,\n",
       "         3.13298679e-05,   1.33945571e-05,   7.53316076e-05,\n",
       "        -1.37690907e-04,  -2.03096989e-03,  -7.24982494e-03,\n",
       "        -1.54087810e-02,  -2.48398113e-02,  -3.48848212e-02,\n",
       "        -3.95384094e-02,  -2.97314737e-02,  -6.11469204e-03,\n",
       "         2.01361630e-02,   4.06070916e-02,   4.90667819e-02,\n",
       "         4.37449307e-02,   2.22251053e-02,   6.35615175e-03,\n",
       "         4.11565567e-03,   3.60064324e-03,  -6.18830734e-03,\n",
       "        -1.95341738e-02,  -2.04648161e-02,  -9.46076470e-03,\n",
       "        -3.16958023e-03,  -7.43430327e-04,  -1.01423209e-04,\n",
       "         3.05720481e-05,   1.33955070e-05,   1.33945571e-05,\n",
       "         7.07694045e-05,   1.02482889e-04,  -1.05786203e-03,\n",
       "        -4.92760234e-03,  -1.28860965e-02,  -2.38839389e-02,\n",
       "        -3.71100330e-02,  -4.69556142e-02,  -4.08367791e-02,\n",
       "        -1.12345241e-02,   2.18564392e-02,   4.50351725e-02,\n",
       "         5.37512301e-02,   4.26386717e-02,   1.63044051e-02,\n",
       "         4.38453727e-04,  -3.21602581e-03,   2.01236550e-03,\n",
       "         3.77237136e-03,  -8.76268695e-04,  -1.01065655e-02,\n",
       "        -9.19033426e-03,  -5.28524998e-03,  -1.44916714e-03,\n",
       "        -4.21180422e-04,   1.33945571e-05,   1.33955070e-05,\n",
       "         1.54951512e-05,   7.68825007e-05,   1.32928679e-04,\n",
       "         1.27828466e-04,  -2.50016454e-04,  -5.65194485e-03,\n",
       "        -1.44074198e-02,  -2.43796180e-02,  -3.27054166e-02,\n",
       "        -2.58355304e-02,  -6.44423603e-03,   1.75930876e-02,\n",
       "         3.26084606e-02,   3.02557014e-02,   1.50333539e-02,\n",
       "        -5.55352474e-03,  -1.94251440e-02,  -2.42044547e-02,\n",
       "        -1.88017739e-02,  -1.15615262e-03,   1.32653519e-02,\n",
       "         2.78429288e-03,  -7.49793614e-03,  -6.31315479e-03,\n",
       "        -2.02732065e-03,  -2.11045226e-04,  -5.64254602e-05,\n",
       "         1.33955070e-05,   1.99744276e-05,   6.80359635e-05,\n",
       "         7.40951975e-04,   2.67829495e-03,   5.20207010e-03,\n",
       "         3.42732666e-03,  -9.20225767e-04,  -7.13095767e-03,\n",
       "        -1.03019873e-02,  -7.62908032e-03,  -1.92185239e-03,\n",
       "         4.62848886e-03,   2.25042462e-03,  -5.92781636e-03,\n",
       "        -1.36533583e-02,  -1.95383710e-02,  -1.24301388e-02,\n",
       "        -1.36392744e-02,  -2.34987640e-02,  -1.06980989e-02,\n",
       "         1.63350060e-02,   1.38502424e-02,  -2.81913802e-03,\n",
       "        -5.38684070e-03,  -2.16263536e-03,  -6.98551121e-05,\n",
       "        -1.08203974e-05,   1.33955070e-05,   1.33945571e-05,\n",
       "         1.94406523e-05,   1.32401616e-03,   7.31679822e-03,\n",
       "         1.46857068e-02,   1.79907776e-02,   1.74618519e-02,\n",
       "         1.14523781e-02,   6.52253767e-03,   3.48430055e-03,\n",
       "         1.30831913e-03,  -5.98987654e-03,  -1.63662762e-02,\n",
       "        -2.58852152e-02,  -3.43026374e-02,  -2.04432779e-02,\n",
       "         6.46117662e-03,   1.41254311e-02,  -4.55367507e-03,\n",
       "        -3.39362333e-04,   2.27809698e-02,   2.31033890e-02,\n",
       "         4.52979223e-03,  -2.90117258e-03,  -7.63369922e-04,\n",
       "        -3.27039181e-05,  -1.41288769e-05,   1.33961815e-05,\n",
       "         1.33945571e-05,   5.90546568e-05,   2.04724968e-03,\n",
       "         1.24296929e-02,   2.71745921e-02,   3.79193968e-02,\n",
       "         3.88661830e-02,   2.84480235e-02,   1.72844182e-02,\n",
       "         1.22397334e-02,   5.82808454e-03,  -6.52827301e-03,\n",
       "        -1.50570247e-02,  -2.52005777e-02,  -3.56489174e-02,\n",
       "        -1.42014483e-02,   2.00481392e-02,   2.99562712e-02,\n",
       "         1.62038414e-02,   1.93308559e-02,   3.22939465e-02,\n",
       "         2.74272221e-02,   7.73778328e-03,  -8.03660518e-04,\n",
       "         5.66152415e-04,  -3.14939928e-05,  -3.67560756e-05,\n",
       "         1.33955070e-05,   1.33945571e-05,   1.13056908e-04,\n",
       "         1.91550481e-03,   1.51278543e-02,   3.66813328e-02,\n",
       "         5.62168405e-02,   5.63091193e-02,   3.57898869e-02,\n",
       "         1.73447110e-02,   9.95290867e-03,   4.10864497e-03,\n",
       "         1.66425684e-03,  -8.98798248e-04,  -1.44961025e-02,\n",
       "        -1.85264595e-02,   3.59979226e-03,   2.70835964e-02,\n",
       "         2.85905005e-02,   2.23762014e-02,   3.43716389e-02,\n",
       "         4.17093916e-02,   2.77076546e-02,   6.64841303e-03,\n",
       "        -6.50661440e-04,   6.63659251e-04,   3.91820742e-05,\n",
       "         1.33945571e-05,   1.33961815e-05,   1.33945571e-05,\n",
       "         9.19433750e-05,   2.07089696e-03,   1.41540998e-02,\n",
       "         3.80056562e-02,   6.21550605e-02,   6.37431999e-02,\n",
       "         3.60122130e-02,   3.55725526e-03,  -9.17596950e-03,\n",
       "        -1.45140267e-03,   1.16556787e-02,   1.06728909e-02,\n",
       "        -2.81608255e-03,   9.30741393e-05,   1.78142834e-02,\n",
       "         2.13794381e-02,   1.95851402e-02,   2.85999913e-02,\n",
       "         4.58180116e-02,   4.35201063e-02,   2.06383927e-02,\n",
       "         2.68971295e-03,  -1.67381798e-04,   1.99422855e-04,\n",
       "         4.28397734e-05,  -1.10247554e-05,   1.33955070e-05,\n",
       "         1.33945571e-05,   5.61863171e-05,   1.38429916e-03,\n",
       "         7.77946669e-03,   2.83576901e-02,   5.34377759e-02,\n",
       "         6.25241458e-02,   4.21909453e-02,  -9.32936963e-04,\n",
       "        -2.41396467e-02,  -1.41717543e-02,  -5.15014739e-04,\n",
       "         2.18737515e-04,  -1.92887491e-03,   6.07729824e-03,\n",
       "         1.65135884e-02,   1.46245178e-02,   2.05031051e-02,\n",
       "         4.00579170e-02,   4.94838401e-02,   3.19051675e-02,\n",
       "         9.70842672e-03,   5.19911734e-04,  -2.47605882e-04,\n",
       "         4.66686967e-05,   4.46285420e-05,   3.41990486e-06,\n",
       "         1.33955070e-05,   1.33945571e-05,   2.76040455e-05,\n",
       "         8.70861912e-04,   2.58934978e-03,   1.22709190e-02,\n",
       "         2.85940083e-02,   4.35207031e-02,   3.69717201e-02,\n",
       "         8.01877652e-03,  -1.02690469e-02,  -5.99317420e-03,\n",
       "        -3.14590113e-03,  -4.21445925e-03,   1.63260567e-03,\n",
       "         1.48068407e-02,   1.66620318e-02,   1.31235102e-02,\n",
       "         2.68866023e-02,   4.13626529e-02,   3.37594279e-02,\n",
       "         1.40133410e-02,   1.49953172e-03,  -5.69356092e-04,\n",
       "        -1.43838894e-04,   1.03033457e-05,   3.11417061e-05,\n",
       "         1.12253447e-05,   1.33955070e-05,   1.33945571e-05,\n",
       "         1.33945571e-05,  -1.05859308e-04,  -6.88705009e-04,\n",
       "        -1.44094771e-03,   1.43470971e-03,   7.84661860e-03,\n",
       "         9.78271105e-03,   1.24016559e-02,   1.53295540e-02,\n",
       "         1.33870835e-02,   6.68382701e-04,  -4.62269487e-03,\n",
       "         7.89253870e-03,   1.70819465e-02,   8.02554096e-03,\n",
       "         4.14808218e-03,   1.67077549e-02,   2.07617980e-02,\n",
       "         1.28296816e-02,   3.10849906e-03,  -9.25452927e-04,\n",
       "        -7.51050572e-04,  -6.58747707e-06,  -9.00399847e-06,\n",
       "         1.66275430e-05,  -2.45721398e-05,   1.33955070e-05,\n",
       "         1.33945571e-05,   1.33955070e-05,  -2.96014220e-04,\n",
       "        -9.61280925e-04,  -5.13647062e-03,  -1.00211658e-02,\n",
       "        -1.52264532e-02,  -1.71257825e-02,  -5.59700870e-03,\n",
       "         1.17388404e-02,   1.36045030e-02,   2.31934718e-03,\n",
       "         1.45159242e-03,   7.82312017e-03,  -1.02715134e-03,\n",
       "        -2.07609890e-02,  -2.18520636e-02,  -6.50890871e-03,\n",
       "         3.74276944e-03,   3.89264053e-03,   6.54747310e-04,\n",
       "        -7.62260720e-04,  -4.26534103e-04,   2.13299345e-05,\n",
       "        -4.11039362e-05,   1.33955070e-05,   1.33945571e-05,\n",
       "         1.33955070e-05,   1.33945571e-05,   1.33955070e-05,\n",
       "        -1.33839734e-05,  -3.46354379e-04,  -2.28663128e-03,\n",
       "        -6.40737447e-03,  -1.08152476e-02,  -9.20351955e-03,\n",
       "         4.13562940e-03,   1.63132639e-02,   1.37742286e-02,\n",
       "         5.99276975e-03,   8.20671777e-03,   7.13156487e-03,\n",
       "        -9.26312082e-03,  -2.82123590e-02,  -2.58356558e-02,\n",
       "        -1.00144834e-02,   4.98041958e-04,   2.18889291e-03,\n",
       "         4.01695731e-04,  -5.81922524e-04,  -6.03495488e-04,\n",
       "        -6.39355711e-05,  -4.09487936e-05,   1.33955070e-05,\n",
       "         1.33945571e-05,   1.33955070e-05,   1.33945571e-05,\n",
       "         1.33955070e-05,   1.33945571e-05,   1.33955070e-05,\n",
       "        -4.14743148e-04,  -1.55923893e-03,  -2.15939448e-03,\n",
       "         2.05056813e-03,   1.27401030e-02,   1.77408747e-02,\n",
       "         1.14883895e-02,   7.13945307e-03,   1.06009242e-02,\n",
       "         7.95990640e-03,  -5.43133718e-03,  -1.85991201e-02,\n",
       "        -1.69485450e-02,  -6.36522653e-03,   2.05637472e-04,\n",
       "         1.26302720e-03,   1.80969316e-04,  -7.36336643e-04,\n",
       "        -6.35524150e-04,  -1.13269483e-04,   1.33945571e-05,\n",
       "         4.92813888e-06,   1.33945571e-05,   1.33955070e-05,\n",
       "         1.33945571e-05,   1.33955070e-05,   1.33945571e-05,\n",
       "         1.33955070e-05,  -1.45771854e-05,  -1.12441060e-04,\n",
       "         7.09371544e-05,   5.80818990e-04,   6.28848886e-04,\n",
       "         9.18681729e-04,   5.16109336e-04,   4.66323314e-04,\n",
       "         1.41672054e-03,   9.40304899e-04,  -2.15479064e-03,\n",
       "        -4.69865790e-03,  -3.99774772e-03,  -1.85444275e-03,\n",
       "        -2.58530150e-04,   9.40550025e-05,   4.40933941e-05,\n",
       "        -2.00572826e-04,  -2.71565993e-04,  -2.95732706e-05,\n",
       "         1.33945571e-05,   1.33955070e-05,   1.33945571e-05,\n",
       "         1.33955070e-05])\n",
       " message: 'Optimization terminated successfully.'\n",
       "     jac: array([  3.05101275e-05,   2.78465450e-05,   2.43447721e-05,\n",
       "         2.58944929e-05,   2.95527279e-05,   3.25664878e-05,\n",
       "         2.93441117e-05,   3.17804515e-05,   2.22437084e-05,\n",
       "         2.17333436e-05,   2.71871686e-05,   3.01599503e-05,\n",
       "         2.66022980e-05,   2.66917050e-05,   3.04952264e-05,\n",
       "         2.92658806e-05,   2.40355730e-05,   3.11285257e-05,\n",
       "         3.10502946e-05,   2.56635249e-05,   3.18661332e-05,\n",
       "         2.62334943e-05,   2.52127647e-05,   2.59689987e-05,\n",
       "         2.85245478e-05,   3.02307308e-05,   2.58162618e-05,\n",
       "         2.68220901e-05,   2.78465450e-05,   2.59168446e-05,\n",
       "         3.01487744e-05,   2.54660845e-05,   2.87927687e-05,\n",
       "         2.76342034e-05,   3.24249268e-05,   2.75634229e-05,\n",
       "         2.18488276e-05,   2.68854201e-05,   2.24933028e-05,\n",
       "         2.61552632e-05,   2.64421105e-05,   2.79992819e-05,\n",
       "         2.76267529e-05,   2.55256891e-05,   2.44304538e-05,\n",
       "         2.49110162e-05,   2.29403377e-05,   2.83494592e-05,\n",
       "         2.94074416e-05,   2.43708491e-05,   2.22437084e-05,\n",
       "         3.19369137e-05,   2.85767019e-05,   2.10627913e-05,\n",
       "         2.67848372e-05,   2.47471035e-05,   2.78614461e-05,\n",
       "         2.49408185e-05,   2.91913748e-05,   2.81371176e-05,\n",
       "         2.54213810e-05,   2.79806554e-05,   2.84574926e-05,\n",
       "         2.47210264e-05,   2.55219638e-05,   2.57492065e-05,\n",
       "         2.64719129e-05,   9.68128443e-05,   4.21889126e-04,\n",
       "         3.71932983e-04,   5.06989658e-04,   5.05916774e-04,\n",
       "         4.07870859e-04,   4.03709710e-04,   3.32679600e-04,\n",
       "         1.44202262e-04,   3.97078693e-05,   2.95080245e-05,\n",
       "         2.63750553e-05,   2.45571136e-05,   2.39945948e-05,\n",
       "         2.68332660e-05,   2.24336982e-05,   2.70828605e-05,\n",
       "         2.58050859e-05,   2.46874988e-05,   2.30595469e-05,\n",
       "         2.60323286e-05,   5.24818897e-05,   3.28298658e-04,\n",
       "         9.25872475e-04,   1.82040408e-03,   3.49891931e-03,\n",
       "         6.77217171e-03,   1.02595910e-02,   1.47157870e-02,\n",
       "         1.87849514e-02,   2.21173875e-02,   2.35728510e-02,\n",
       "         2.36043260e-02,   2.08988115e-02,   1.75059997e-02,\n",
       "         1.35044232e-02,   9.75911692e-03,   6.06604293e-03,\n",
       "         2.30401009e-03,   4.98402864e-04,   2.87331641e-05,\n",
       "         2.87331641e-05,   2.87331641e-05,   2.87331641e-05,\n",
       "         2.87331641e-05,   2.87331641e-05,   2.72057950e-05,\n",
       "        -4.79072332e-06,   6.06179237e-05,   5.55407256e-04,\n",
       "         3.03987786e-03,   7.62533024e-03,   1.98667832e-02,\n",
       "         3.70882936e-02,   5.71413711e-02,   7.58608468e-02,\n",
       "         9.08147506e-02,   9.96740796e-02,   1.04743507e-01,\n",
       "         1.08377837e-01,   1.13803487e-01,   1.15315847e-01,\n",
       "         1.10303178e-01,   9.63546373e-02,   6.97393455e-02,\n",
       "         4.03080955e-02,   1.69323310e-02,   4.86296788e-03,\n",
       "         5.25601208e-05,   2.80402601e-05,   2.87368894e-05,\n",
       "         2.87331641e-05,   2.87331641e-05,   2.87331641e-05,\n",
       "         2.87331641e-05,   1.60157681e-04,   6.55960292e-04,\n",
       "         3.01548466e-03,   1.02371871e-02,   2.55071372e-02,\n",
       "         4.52092253e-02,   6.13605306e-02,   6.55174404e-02,\n",
       "         6.39197305e-02,   6.72100075e-02,   8.01658332e-02,\n",
       "         9.88816842e-02,   1.10082701e-01,   1.20200776e-01,\n",
       "         1.26495659e-01,   1.37906458e-01,   1.47301108e-01,\n",
       "         1.36692494e-01,   9.80286971e-02,   5.11775874e-02,\n",
       "         1.43135227e-02,   9.80548561e-04,  -2.59354711e-05,\n",
       "         2.87331641e-05,   2.87331641e-05,   2.87331641e-05,\n",
       "         2.87331641e-05,   1.74455345e-05,   1.40350312e-04,\n",
       "         1.04885548e-04,   1.45917386e-03,   8.11386481e-03,\n",
       "         1.90066397e-02,   1.80426762e-02,  -1.47318467e-03,\n",
       "        -3.52491178e-02,  -5.55292107e-02,  -4.34996448e-02,\n",
       "        -6.43276051e-03,   3.35951038e-02,   4.74810936e-02,\n",
       "         4.38064821e-02,   2.34231800e-02,   1.15319602e-02,\n",
       "         3.70757990e-02,   7.86131285e-02,   8.99012573e-02,\n",
       "         5.95997460e-02,   1.72285847e-02,  -5.97946346e-04,\n",
       "        -1.96576118e-04,   9.81613994e-06,   2.87331641e-05,\n",
       "         2.87331641e-05,   3.21157277e-05,  -3.42555344e-04,\n",
       "         6.25588000e-05,  -2.37508491e-03,  -8.08049738e-03,\n",
       "        -1.30425543e-02,  -2.71163508e-03,  -9.68395919e-03,\n",
       "        -2.85333656e-02,  -5.43353856e-02,  -5.29548861e-02,\n",
       "        -1.60881393e-02,   2.02270448e-02,   4.21194695e-02,\n",
       "         4.14699540e-02,   1.92741975e-02,  -2.84425691e-02,\n",
       "        -8.26420821e-02,  -7.90619999e-02,  -3.94475088e-03,\n",
       "         4.71470729e-02,   4.35279720e-02,   6.03931397e-03,\n",
       "        -7.22649321e-03,  -2.31758133e-03,   1.14515424e-05,\n",
       "         2.87331641e-05,   2.87331641e-05,   4.57242131e-05,\n",
       "        -9.84221697e-06,  -3.74981761e-03,  -1.40785389e-02,\n",
       "        -3.07224728e-02,  -3.45094129e-02,  -2.18776166e-02,\n",
       "        -3.35459784e-03,   4.93633747e-03,   6.57457858e-04,\n",
       "         2.50136852e-03,   1.50977448e-02,   1.69874243e-02,\n",
       "         1.87831372e-02,   2.52000652e-02,   4.40153852e-02,\n",
       "         3.03608216e-02,  -1.09547116e-02,  -2.68321633e-02,\n",
       "         1.11841038e-02,   3.07726189e-02,   1.53631568e-02,\n",
       "        -1.09279789e-02,  -1.57582834e-02,  -4.79602814e-03,\n",
       "        -3.74209136e-04,   2.87331641e-05,   2.87331641e-05,\n",
       "         6.66789711e-05,  -3.41512263e-04,  -7.41443783e-03,\n",
       "        -2.49669775e-02,  -4.67085540e-02,  -5.78513518e-02,\n",
       "        -4.52173837e-02,  -2.38412432e-02,  -6.93390518e-03,\n",
       "        -6.70650974e-03,  -2.47948691e-02,  -4.23554778e-02,\n",
       "        -5.36920875e-02,  -4.86852266e-02,  -2.01469958e-02,\n",
       "         1.62143745e-02,   2.91581973e-02,   1.70404427e-02,\n",
       "         5.75597212e-03,   2.00054757e-02,   7.19536468e-03,\n",
       "        -1.59997866e-02,  -2.73702741e-02,  -2.00416632e-02,\n",
       "        -5.48500568e-03,  -8.37463886e-04,  -6.65336847e-06,\n",
       "        -1.79186463e-05,   1.04948878e-04,  -4.92732972e-04,\n",
       "        -6.56491145e-03,  -2.62042210e-02,  -4.99173962e-02,\n",
       "        -6.41724877e-02,  -6.27857000e-02,  -4.88382019e-02,\n",
       "        -3.06056142e-02,  -1.96895935e-02,  -2.82303505e-02,\n",
       "        -3.67712304e-02,  -4.04437445e-02,  -3.53347510e-02,\n",
       "        -2.76659988e-02,  -3.69060710e-02,  -5.45149297e-02,\n",
       "        -4.51299250e-02,  -2.02294812e-02,  -1.15401670e-03,\n",
       "        -1.96096450e-02,  -3.74080576e-02,  -3.74297462e-02,\n",
       "        -1.82436556e-02,  -3.65646556e-03,  -4.86418605e-04,\n",
       "        -5.92321157e-06,   2.19717622e-05,   7.25723803e-05,\n",
       "        -8.79578292e-05,  -3.71319428e-03,  -1.80841461e-02,\n",
       "        -3.83204408e-02,  -5.29025905e-02,  -5.80263361e-02,\n",
       "        -5.16414493e-02,  -2.96731740e-02,  -2.92668492e-03,\n",
       "         1.40659623e-02,   2.27245279e-02,   2.11784132e-02,\n",
       "         1.32301897e-02,  -1.72546878e-02,  -6.59416914e-02,\n",
       "        -1.00214634e-01,  -7.88680650e-02,  -3.76056992e-02,\n",
       "        -1.97858736e-02,  -3.50143649e-02,  -4.73452546e-02,\n",
       "        -3.52708437e-02,  -1.16597153e-02,  -1.24220178e-03,\n",
       "        -1.09374523e-05,   4.02890146e-05,   3.54796648e-05,\n",
       "         6.02491200e-05,   1.25661492e-04,  -1.13798305e-03,\n",
       "        -8.62306356e-03,  -2.31095664e-02,  -3.91278416e-02,\n",
       "        -5.28353080e-02,  -5.94522022e-02,  -4.79376055e-02,\n",
       "        -1.48506388e-02,   1.58311538e-02,   4.01322916e-02,\n",
       "         5.40789180e-02,   5.59219047e-02,   3.17084566e-02,\n",
       "        -1.61223486e-02,  -4.46052887e-02,  -3.48135978e-02,\n",
       "        -1.59695148e-02,  -2.79648006e-02,  -5.08732982e-02,\n",
       "        -4.81824279e-02,  -2.66047977e-02,  -6.04344904e-03,\n",
       "        -3.88123095e-04,  -5.39980829e-05,   1.25113875e-04,\n",
       "         6.71856105e-05,   2.87331641e-05,   1.61517411e-04,\n",
       "        -2.95180827e-04,  -4.35422361e-03,  -1.55430287e-02,\n",
       "        -3.30351777e-02,  -5.32545485e-02,  -7.47902468e-02,\n",
       "        -8.47671665e-02,  -6.37418814e-02,  -1.31093934e-02,\n",
       "         4.31703366e-02,   8.70583653e-02,   1.05195262e-01,\n",
       "         9.37856436e-02,   4.76488583e-02,   1.36270970e-02,\n",
       "         8.82365182e-03,   7.71950558e-03,  -1.32672191e-02,\n",
       "        -4.18796875e-02,  -4.38749120e-02,  -2.02831067e-02,\n",
       "        -6.79531321e-03,  -1.59383938e-03,  -2.17430294e-04,\n",
       "         6.55576587e-05,   2.87331641e-05,   2.87331641e-05,\n",
       "         1.51738524e-04,   2.19728798e-04,  -2.26795673e-03,\n",
       "        -1.05643682e-02,  -2.76267417e-02,  -5.12052365e-02,\n",
       "        -7.95609243e-02,  -1.00669060e-01,  -8.75507668e-02,\n",
       "        -2.40859017e-02,   4.68584672e-02,   9.65518169e-02,\n",
       "         1.15238346e-01,   9.14139114e-02,   3.49553525e-02,\n",
       "         9.40024853e-04,  -6.89488649e-03,   4.31436300e-03,\n",
       "         8.08767602e-03,  -1.87863410e-03,  -2.16676518e-02,\n",
       "        -1.97033249e-02,  -1.13311373e-02,  -3.10688466e-03,\n",
       "        -9.02961940e-04,   2.87331641e-05,   2.87331641e-05,\n",
       "         3.32370400e-05,   1.64844096e-04,   2.85003334e-04,\n",
       "         2.74069607e-04,  -5.36002219e-04,  -1.21173039e-02,\n",
       "        -3.08883414e-02,  -5.22679314e-02,  -7.01177791e-02,\n",
       "        -5.53892925e-02,  -1.38159096e-02,   3.77181843e-02,\n",
       "         6.99099414e-02,   6.48658164e-02,   3.22303213e-02,\n",
       "        -1.19062960e-02,  -4.16459367e-02,  -5.18923961e-02,\n",
       "        -4.03094813e-02,  -2.47868523e-03,   2.84398645e-02,\n",
       "         5.96931577e-03,  -1.60749592e-02,  -1.35348849e-02,\n",
       "        -4.34640050e-03,  -4.52447683e-04,  -1.20956451e-04,\n",
       "         2.87331641e-05,   4.28371131e-05,   1.45878643e-04,\n",
       "         1.58855692e-03,   5.74206188e-03,   1.11528374e-02,\n",
       "         7.34793022e-03,  -1.97287649e-03,  -1.52881891e-02,\n",
       "        -2.20866203e-02,  -1.63561217e-02,  -4.12028283e-03,\n",
       "         9.92312655e-03,   4.82474267e-03,  -1.27087496e-02,\n",
       "        -2.92716920e-02,  -4.18886878e-02,  -2.66492069e-02,\n",
       "        -2.92414986e-02,  -5.03794514e-02,  -2.29358524e-02,\n",
       "         3.50209586e-02,   2.96938233e-02,  -6.04398921e-03,\n",
       "        -1.15489401e-02,  -4.63650003e-03,  -1.49749219e-04,\n",
       "        -2.31824815e-05,   2.87331641e-05,   2.87331641e-05,\n",
       "         4.16934490e-05,   2.83860043e-03,   1.56866424e-02,\n",
       "         3.14849950e-02,   3.85707989e-02,   3.74368243e-02,\n",
       "         2.45529972e-02,   1.39838159e-02,   7.47007504e-03,\n",
       "         2.80494615e-03,  -1.28418021e-02,  -3.50879692e-02,\n",
       "        -5.54958135e-02,  -7.35420883e-02,  -4.38287370e-02,\n",
       "         1.38522610e-02,   3.02838087e-02,  -9.76270065e-03,\n",
       "        -7.27549195e-04,   4.88405898e-02,   4.95318286e-02,\n",
       "         9.71152633e-03,  -6.21986762e-03,  -1.63658708e-03,\n",
       "        -7.00987875e-05,  -3.02754343e-05,   2.87368894e-05,\n",
       "         2.87331641e-05,   1.26622617e-04,   4.38915566e-03,\n",
       "         2.66482793e-02,   5.82601652e-02,   8.12961645e-02,\n",
       "         8.33259970e-02,   6.09902963e-02,   3.70564237e-02,\n",
       "         2.62410231e-02,   1.24949627e-02,  -1.39960796e-02,\n",
       "        -3.22810411e-02,  -5.40280044e-02,  -7.64284097e-02,\n",
       "        -3.04467529e-02,   4.29816209e-02,   6.42238595e-02,\n",
       "         3.47397514e-02,   4.14438210e-02,   6.92356490e-02,\n",
       "         5.88017814e-02,   1.65892057e-02,  -1.72296911e-03,\n",
       "         1.21380016e-03,  -6.75059855e-05,  -7.87861645e-05,\n",
       "         2.87331641e-05,   2.87331641e-05,   2.42400914e-04,\n",
       "         4.10670415e-03,   3.24329250e-02,   7.86418505e-02,\n",
       "         1.20524414e-01,   1.20722253e-01,   7.67306648e-02,\n",
       "         3.71856876e-02,   2.13382542e-02,   8.80862027e-03,\n",
       "         3.56804952e-03,  -1.92693621e-03,  -3.10784690e-02,\n",
       "        -3.97192277e-02,   7.71768019e-03,   5.80650754e-02,\n",
       "         6.12957589e-02,   4.79727983e-02,   7.36900531e-02,\n",
       "         8.94216076e-02,   5.94030060e-02,   1.42536797e-02,\n",
       "        -1.39494985e-03,   1.42284483e-03,   8.40164721e-05,\n",
       "         2.87331641e-05,   2.87368894e-05,   2.87331641e-05,\n",
       "         1.97134912e-04,   4.43985313e-03,   3.03452685e-02,\n",
       "         8.14810954e-02,   1.33255485e-01,   1.36660330e-01,\n",
       "         7.72073157e-02,   7.62648508e-03,  -1.96725279e-02,\n",
       "        -3.11167538e-03,   2.49888562e-02,   2.28818394e-02,\n",
       "        -6.03744015e-03,   1.99560076e-04,   3.81924100e-02,\n",
       "         4.58358154e-02,   4.19889875e-02,   6.13161027e-02,\n",
       "         9.82301608e-02,   9.33036357e-02,   4.42470759e-02,\n",
       "         5.76654449e-03,  -3.58838588e-04,   4.27562743e-04,\n",
       "         9.18582082e-05,  -2.36220658e-05,   2.87331641e-05,\n",
       "         2.87331641e-05,   1.20472163e-04,   2.96784192e-03,\n",
       "         1.66785680e-02,   6.07966296e-02,   1.14566322e-01,\n",
       "         1.34046774e-01,   9.04540196e-02,  -2.00012699e-03,\n",
       "        -5.17534539e-02,  -3.03830914e-02,  -1.10413879e-03,\n",
       "         4.68973070e-04,  -4.13533673e-03,   1.30292550e-02,\n",
       "         3.54038253e-02,   3.13538089e-02,   4.39570285e-02,\n",
       "         8.58809799e-02,   1.06089402e-01,   6.84021376e-02,\n",
       "         2.08141021e-02,   1.11466274e-03,  -5.30835241e-04,\n",
       "         1.00068748e-04,   9.56952572e-05,   7.34627247e-06,\n",
       "         2.87331641e-05,   2.87331641e-05,   5.91948628e-05,\n",
       "         1.86707079e-03,   5.55137172e-03,   2.63078809e-02,\n",
       "         6.13032766e-02,   9.33049172e-02,   7.92644210e-02,\n",
       "         1.71916299e-02,  -2.20160000e-02,  -1.28488690e-02,\n",
       "        -6.74454495e-03,  -9.03544948e-03,   3.50018963e-03,\n",
       "         3.17446962e-02,   3.57220769e-02,   2.81357691e-02,\n",
       "         5.76427355e-02,   8.86782296e-02,   7.23775215e-02,\n",
       "         3.00434940e-02,   3.21489200e-03,  -1.22063980e-03,\n",
       "        -3.08364630e-04,   2.21021473e-05,   6.67795539e-05,\n",
       "         2.40802765e-05,   2.87331641e-05,   2.87331641e-05,\n",
       "         2.87331641e-05,  -2.26940960e-04,  -1.47651508e-03,\n",
       "        -3.08926031e-03,   3.07591632e-03,   1.68225355e-02,\n",
       "         2.09733658e-02,   2.65881717e-02,   3.28653492e-02,\n",
       "         2.87008509e-02,   1.43297389e-03,  -9.91067290e-03,\n",
       "         1.69209838e-02,   3.66223380e-02,   1.72061287e-02,\n",
       "         8.89316946e-03,   3.58201042e-02,   4.45116460e-02,\n",
       "         2.75058225e-02,   6.66438788e-03,  -1.98408216e-03,\n",
       "        -1.61017478e-03,  -1.41076744e-05,  -1.92895532e-05,\n",
       "         3.56622040e-05,  -5.26644289e-05,   2.87331641e-05,\n",
       "         2.87331641e-05,   2.87331641e-05,  -6.34618104e-04,\n",
       "        -2.06089392e-03,  -1.10121667e-02,  -2.14845650e-02,\n",
       "        -3.26442793e-02,  -3.67162935e-02,  -1.19995214e-02,\n",
       "         2.51671486e-02,   2.91669816e-02,   4.97251004e-03,\n",
       "         3.11211497e-03,   1.67721584e-02,  -2.20211595e-03,\n",
       "        -4.45098802e-02,  -4.68490571e-02,  -1.39545649e-02,\n",
       "         8.02421197e-03,   8.34552199e-03,   1.40374154e-03,\n",
       "        -1.63421035e-03,  -9.14439559e-04,   4.57428396e-05,\n",
       "        -8.81105661e-05,   2.87331641e-05,   2.87331641e-05,\n",
       "         2.87331641e-05,   2.87331641e-05,   2.87331641e-05,\n",
       "        -2.86772847e-05,  -7.42543489e-04,  -4.90234047e-03,\n",
       "        -1.37368813e-02,  -2.31870078e-02,  -1.97315924e-02,\n",
       "         8.86647403e-03,   3.49743441e-02,   2.95308568e-02,\n",
       "         1.28480345e-02,   1.75945610e-02,   1.52895190e-02,\n",
       "        -1.98593736e-02,  -6.04850203e-02,  -5.53895608e-02,\n",
       "        -2.14702338e-02,   1.06777623e-03,   4.69282642e-03,\n",
       "         8.61220062e-04,  -1.24758109e-03,  -1.29383057e-03,\n",
       "        -1.37057155e-04,  -8.77752900e-05,   2.87331641e-05,\n",
       "         2.87331641e-05,   2.87331641e-05,   2.87331641e-05,\n",
       "         2.87331641e-05,   2.87331641e-05,   2.87331641e-05,\n",
       "        -8.89163464e-04,  -3.34286690e-03,  -4.62955236e-03,\n",
       "         4.39626724e-03,   2.73137763e-02,   3.80350277e-02,\n",
       "         2.46302001e-02,   1.53064318e-02,   2.27275491e-02,\n",
       "         1.70654170e-02,  -1.16443373e-02,  -3.98750082e-02,\n",
       "        -3.63363065e-02,  -1.36465207e-02,   4.40888107e-04,\n",
       "         2.70784274e-03,   3.88000160e-04,  -1.57863274e-03,\n",
       "        -1.36249885e-03,  -2.42825598e-04,   2.87331641e-05,\n",
       "         1.05798244e-05,   2.87331641e-05,   2.87331641e-05,\n",
       "         2.87331641e-05,   2.87331641e-05,   2.87331641e-05,\n",
       "         2.87331641e-05,  -3.12365592e-05,  -2.41052359e-04,\n",
       "         1.52099878e-04,   1.24524534e-03,   1.34821609e-03,\n",
       "         1.96959451e-03,   1.10651180e-03,   9.99774784e-04,\n",
       "         3.03735211e-03,   2.01595202e-03,  -4.61968407e-03,\n",
       "        -1.00735314e-02,  -8.57083872e-03,  -3.97576019e-03,\n",
       "        -5.54252416e-04,   2.01661140e-04,   9.45478678e-05,\n",
       "        -4.29999083e-04,  -5.82199544e-04,  -6.33858144e-05,\n",
       "         2.87331641e-05,   2.87331641e-05,   2.87331641e-05,\n",
       "         2.87331641e-05,   0.00000000e+00])\n",
       "     nit: 10"
      ]
     },
     "execution_count": 95,
     "metadata": {},
     "output_type": "execute_result"
    }
   ],
   "source": [
    "res_curr"
   ]
  },
  {
   "cell_type": "code",
   "execution_count": 83,
   "metadata": {
    "collapsed": false
   },
   "outputs": [
    {
     "data": {
      "text/plain": [
       "array([ 1.35768307])"
      ]
     },
     "execution_count": 83,
     "metadata": {},
     "output_type": "execute_result"
    }
   ],
   "source": [
    "clf.decision_function(ini_point+res.x)"
   ]
  },
  {
   "cell_type": "code",
   "execution_count": 80,
   "metadata": {
    "collapsed": false
   },
   "outputs": [
    {
     "data": {
      "text/plain": [
       "7"
      ]
     },
     "execution_count": 80,
     "metadata": {},
     "output_type": "execute_result"
    }
   ],
   "source": [
    "clf.predict(adv_x_tilde)[0]"
   ]
  },
  {
   "cell_type": "code",
   "execution_count": 81,
   "metadata": {
    "collapsed": false
   },
   "outputs": [
    {
     "data": {
      "text/plain": [
       "1.0"
      ]
     },
     "execution_count": 81,
     "metadata": {},
     "output_type": "execute_result"
    }
   ],
   "source": [
    "count_orig"
   ]
  },
  {
   "cell_type": "code",
   "execution_count": 82,
   "metadata": {
    "collapsed": false
   },
   "outputs": [
    {
     "data": {
      "text/plain": [
       "1.0"
      ]
     },
     "execution_count": 82,
     "metadata": {},
     "output_type": "execute_result"
    }
   ],
   "source": [
    "count_recons"
   ]
  },
  {
   "cell_type": "code",
   "execution_count": 69,
   "metadata": {
    "collapsed": false
   },
   "outputs": [
    {
     "data": {
      "text/plain": [
       "array([ 0, 17, 26, 34, 36, 41, 60, 64, 70, 75])"
      ]
     },
     "execution_count": 69,
     "metadata": {},
     "output_type": "execute_result"
    }
   ],
   "source": [
    "indices_7_test[0][0:10]"
   ]
  },
  {
   "cell_type": "code",
   "execution_count": 65,
   "metadata": {
    "collapsed": false
   },
   "outputs": [
    {
     "data": {
      "text/plain": [
       "array([[[ 0.,  0.,  0., ...,  0.,  0.,  0.]],\n",
       "\n",
       "       [[ 0.,  0.,  0., ...,  0.,  0.,  0.]],\n",
       "\n",
       "       [[ 0.,  0.,  0., ...,  0.,  0.,  0.]],\n",
       "\n",
       "       ..., \n",
       "       [[ 0.,  0.,  0., ...,  0.,  0.,  0.]],\n",
       "\n",
       "       [[ 0.,  0.,  0., ...,  0.,  0.,  0.]],\n",
       "\n",
       "       [[ 0.,  0.,  0., ...,  0.,  0.,  0.]]], dtype=float32)"
      ]
     },
     "execution_count": 65,
     "metadata": {},
     "output_type": "execute_result"
    }
   ],
   "source": [
    "ini_point"
   ]
  },
  {
   "cell_type": "code",
   "execution_count": 54,
   "metadata": {
    "collapsed": false
   },
   "outputs": [
    {
     "data": {
      "text/plain": [
       "0.46643534172864504"
      ]
     },
     "execution_count": 54,
     "metadata": {},
     "output_type": "execute_result"
    }
   ],
   "source": [
    "np.linalg.norm(res.x)"
   ]
  },
  {
   "cell_type": "code",
   "execution_count": 16,
   "metadata": {
    "collapsed": false
   },
   "outputs": [],
   "source": [
    "w_curr=clf.coef_[0]\n",
    "w_curr_mod=np.linalg.norm(w_curr)"
   ]
  },
  {
   "cell_type": "code",
   "execution_count": 17,
   "metadata": {
    "collapsed": false
   },
   "outputs": [],
   "source": [
    "top_boundary=np.argsort(abs(w_curr))[::-1][:100]"
   ]
  },
  {
   "cell_type": "code",
   "execution_count": 18,
   "metadata": {
    "collapsed": false
   },
   "outputs": [
    {
     "data": {
      "text/plain": [
       "array([210, 215, 216, 233, 238, 322, 325, 379, 494, 655])"
      ]
     },
     "execution_count": 18,
     "metadata": {},
     "output_type": "execute_result"
    }
   ],
   "source": [
    "np.intersect1d(top_features_trial,top_boundary)"
   ]
  },
  {
   "cell_type": "code",
   "execution_count": 19,
   "metadata": {
    "collapsed": true
   },
   "outputs": [],
   "source": [
    "y_train_3_7=y_train[indices_3_7]"
   ]
  },
  {
   "cell_type": "code",
   "execution_count": 20,
   "metadata": {
    "collapsed": true
   },
   "outputs": [],
   "source": [
    "X_adv=np.zeros((10276,784))\n",
    "X_adv_new=np.zeros((10276,784))"
   ]
  },
  {
   "cell_type": "code",
   "execution_count": 21,
   "metadata": {
    "collapsed": false
   },
   "outputs": [
    {
     "name": "stdout",
     "output_type": "stream",
     "text": [
      "0.661249513429 0.66368236668 0.662862159789\n",
      "0.0178571428571\n"
     ]
    }
   ],
   "source": [
    "count_pure_adv=0.0\n",
    "count_adv=0.0\n",
    "count_wrong=0.0\n",
    "count_correct=0.0\n",
    "print_flag=0\n",
    "DEV_MAG=0.5\n",
    "for i in range(10276):\n",
    "    x_ini=(X_train_3_7[i,:]).reshape((1,784))\n",
    "    ini_class=clf.predict(x_ini)\n",
    "    if clf.decision_function(x_ini)>0:\n",
    "        x_adv=(x_ini-DEV_MAG*(w_curr/(np.linalg.norm(w_curr)))).reshape((1,784))\n",
    "    elif clf.decision_function(x_ini)<0:\n",
    "        x_adv=(x_ini+DEV_MAG*(w_curr/(np.linalg.norm(w_curr)))).reshape((1,784))\n",
    "    X_adv[i,:]=x_adv\n",
    "    #x_adv=adv_x[i,:].reshape((1,784))\n",
    "    final_class=clf.predict(x_adv)\n",
    "    if ini_class[0]!=final_class[0]:\n",
    "        count_adv=count_adv+1\n",
    "    if y_train_3_7[i]!=final_class[0]:\n",
    "        count_wrong=count_wrong+1\n",
    "    if y_train_3_7[i]!=final_class[0] and ini_class[0]==y_train_3_7[i]:\n",
    "        count_pure_adv=count_pure_adv+1\n",
    "    if ini_class[0]==y_train_3_7[i]:\n",
    "        count_correct=count_correct+1\n",
    "    #if y_train[i]!=final_class[0] and ini_class[0]==y_train[i] and print_flag==0:\n",
    "        #plt.imshow((x_ini.reshape((28,28)))*255, cmap='gray', interpolation='nearest', vmin=0, vmax=255)\n",
    "        #plt.imshow(((x_adv).reshape((28,28)))*255, cmap='gray', interpolation='nearest', vmin=0, vmax=255)\n",
    "        print_flag=print_flag+1\n",
    "print count_wrong/10276.0, count_adv/10276.0, count_pure_adv/count_correct\n",
    "print np.sqrt((np.linalg.norm(DEV_MAG*(w_curr/(np.linalg.norm(w_curr))))**2)/784)"
   ]
  },
  {
   "cell_type": "code",
   "execution_count": 67,
   "metadata": {
    "collapsed": false
   },
   "outputs": [
    {
     "data": {
      "text/plain": [
       "10.396629341273499"
      ]
     },
     "execution_count": 67,
     "metadata": {},
     "output_type": "execute_result"
    }
   ],
   "source": [
    "np.linalg.norm(w_curr)"
   ]
  },
  {
   "cell_type": "code",
   "execution_count": 69,
   "metadata": {
    "collapsed": false
   },
   "outputs": [],
   "source": [
    "dec_func=clf.decision_function(X_train_3_7)/np.linalg.norm(w_curr)"
   ]
  },
  {
   "cell_type": "code",
   "execution_count": 70,
   "metadata": {
    "collapsed": false
   },
   "outputs": [
    {
     "data": {
      "text/plain": [
       "array([-0.66587358, -0.53067913, -0.86220371, ..., -0.85452839,\n",
       "       -0.95204616,  0.31022781])"
      ]
     },
     "execution_count": 70,
     "metadata": {},
     "output_type": "execute_result"
    }
   ],
   "source": [
    "dec_func"
   ]
  },
  {
   "cell_type": "code",
   "execution_count": 72,
   "metadata": {
    "collapsed": false
   },
   "outputs": [
    {
     "data": {
      "text/plain": [
       "3"
      ]
     },
     "execution_count": 72,
     "metadata": {},
     "output_type": "execute_result"
    }
   ],
   "source": [
    "y_train_3_7[1]"
   ]
  },
  {
   "cell_type": "code",
   "execution_count": 76,
   "metadata": {
    "collapsed": false
   },
   "outputs": [
    {
     "data": {
      "text/plain": [
       "<matplotlib.image.AxesImage at 0x13542ddd0>"
      ]
     },
     "execution_count": 76,
     "metadata": {},
     "output_type": "execute_result"
    },
    {
     "data": {
      "image/png": "[encoded data removed]",
      "text/plain": [
       "<matplotlib.figure.Figure at 0x1217006d0>"
      ]
     },
     "metadata": {},
     "output_type": "display_data"
    }
   ],
   "source": [
    "plt.imshow((x_ini.reshape((28,28)))*255, cmap='gray', interpolation='nearest', vmin=0, vmax=255)"
   ]
  },
  {
   "cell_type": "code",
   "execution_count": 77,
   "metadata": {
    "collapsed": false
   },
   "outputs": [
    {
     "data": {
      "text/plain": [
       "<matplotlib.image.AxesImage at 0x1355e3ed0>"
      ]
     },
     "execution_count": 77,
     "metadata": {},
     "output_type": "execute_result"
    },
    {
     "data": {
      "image/png": "[encoded data removed]",
      "text/plain": [
       "<matplotlib.figure.Figure at 0x13545f9d0>"
      ]
     },
     "metadata": {},
     "output_type": "display_data"
    }
   ],
   "source": [
    "plt.imshow(((x_adv).reshape((28,28)))*255, cmap='gray', interpolation='nearest', vmin=0, vmax=255)"
   ]
  },
  {
   "cell_type": "code",
   "execution_count": 102,
   "metadata": {
    "collapsed": false
   },
   "outputs": [
    {
     "data": {
      "text/plain": [
       "array([ 0.03330743,  0.02721327,  0.05327379, -0.03139813,  0.04233916,\n",
       "        0.01152412, -0.00483536, -0.06544568,  0.06195552, -0.0477475 ,\n",
       "       -0.01283811, -0.02134752, -0.0069735 ,  0.02203239,  0.00777793,\n",
       "       -0.01435814,  0.02048689, -0.01693438,  0.02442649, -0.01059313,\n",
       "        0.00797621,  0.04494698,  0.01796657, -0.0470796 ,  0.00589131,\n",
       "       -0.0309924 , -0.04839097, -0.02211701,  0.0373928 , -0.08187933,\n",
       "       -0.06878127,  0.03388841,  0.0684389 ,  0.04361412,  0.04905637,\n",
       "        0.04769934,  0.02095824,  0.032821  , -0.03267438, -0.02404208,\n",
       "       -0.04848121,  0.00826073, -0.02135739,  0.02305021, -0.02392234,\n",
       "       -0.00890515,  0.0656329 , -0.05075111,  0.04243452,  0.01669917,\n",
       "        0.02472155, -0.01079853,  0.03452073, -0.02733155,  0.02881062,\n",
       "        0.07114636, -0.0180258 ,  0.01226024,  0.00664438,  0.02161624,\n",
       "        0.0139223 ,  0.09637619,  0.016573  ,  0.00364878,  0.06794708,\n",
       "       -0.05291991, -0.02340848,  0.00099728,  0.06019218,  0.02644347,\n",
       "       -0.02797158, -0.04764338, -0.01160805, -0.01138078,  0.01285362,\n",
       "       -0.03759069, -0.01131079, -0.03890757, -0.03661948, -0.04570927,\n",
       "       -0.03820166, -0.00604408,  0.04923191,  0.0352549 , -0.00430959,\n",
       "        0.03659409,  0.03533009, -0.01061526,  0.03933607, -0.00911785,\n",
       "       -0.03718328, -0.03875239, -0.03468317, -0.04391327, -0.01412767,\n",
       "        0.01883452, -0.00682874, -0.03839804, -0.03612654,  0.0357833 ])"
      ]
     },
     "execution_count": 102,
     "metadata": {},
     "output_type": "execute_result"
    }
   ],
   "source": [
    "w_curr[top_features_trial]/w_curr_mod"
   ]
  },
  {
   "cell_type": "code",
   "execution_count": 80,
   "metadata": {
    "collapsed": false
   },
   "outputs": [
    {
     "data": {
      "text/plain": [
       "array([ 1.47990742, -1.32819338,  1.24750271, -1.2053886 , -1.19809061,\n",
       "        1.15335927, -1.11041698,  1.10601021,  1.07997268, -1.06970014,\n",
       "       -1.05295084, -1.03851966, -1.01465404, -1.01424257, -1.01150344,\n",
       "        1.00198758, -0.99897741, -0.98982748, -0.98745662,  0.97720593,\n",
       "       -0.97171469, -0.96522935, -0.95939395,  0.9502518 , -0.939762  ,\n",
       "        0.92731457, -0.92611048, -0.9100027 , -0.90865209, -0.90038751,\n",
       "        0.8927847 , -0.88007083, -0.87781589, -0.87325365, -0.8594821 ,\n",
       "       -0.85126903,  0.85014108, -0.84653843, -0.84322874, -0.84259472,\n",
       "        0.8376284 , -0.83506911, -0.83141564, -0.81354617, -0.80600528,\n",
       "       -0.79408379, -0.77817006,  0.7702067 , -0.7693941 ,  0.76745514,\n",
       "       -0.76607466, -0.75377848,  0.75229658,  0.7442069 , -0.74399631,\n",
       "        0.74321289,  0.73968237, -0.73892364,  0.72073123, -0.71509332,\n",
       "        0.71153388, -0.70774589,  0.70642062, -0.70448791, -0.69136355,\n",
       "       -0.68489651,  0.68236089, -0.68041452, -0.67847133, -0.67329765,\n",
       "       -0.67170202,  0.67062995, -0.67006866,  0.66475989, -0.65807627,\n",
       "        0.6558355 , -0.65209741, -0.65065956, -0.64820751, -0.64773146,\n",
       "        0.64412859, -0.64406561,  0.64206031,  0.62579575,  0.62034949,\n",
       "       -0.61720426,  0.61599944,  0.60871482, -0.60838917,  0.6071305 ,\n",
       "       -0.59933151, -0.59738575,  0.59722475,  0.59043274, -0.58855683,\n",
       "        0.58700025,  0.5866857 ,  0.5834551 , -0.58323348,  0.57859628])"
      ]
     },
     "execution_count": 80,
     "metadata": {},
     "output_type": "execute_result"
    }
   ],
   "source": [
    "w_curr[top_boundary]"
   ]
  },
  {
   "cell_type": "code",
   "execution_count": 97,
   "metadata": {
    "collapsed": false
   },
   "outputs": [
    {
     "name": "stdout",
     "output_type": "stream",
     "text": [
      "0.634974698326 0.637407551576 0.636523266023\n",
      "0.0186023416524\n"
     ]
    }
   ],
   "source": [
    "count_pure_adv=0.0\n",
    "count_adv=0.0\n",
    "count_wrong=0.0\n",
    "count_correct=0.0\n",
    "print_flag=0\n",
    "alpha=1.0\n",
    "beta=0.4\n",
    "for i in range(10276):\n",
    "    x_ini=(X_train_3_7[i,:]).reshape((1,784))\n",
    "    ini_class=clf.predict(x_ini)\n",
    "    delta_x=np.zeros((784))\n",
    "    w_curr_mod=np.linalg.norm(w_curr)\n",
    "    delta_x[top_features_trial]=alpha*(w_curr[top_features_trial]/w_curr_mod)\n",
    "    #delta_x[top_features_diff]=-1\n",
    "    mask = np.ones(784, dtype=bool)\n",
    "    mask[top_features_trial] = False\n",
    "    delta_x[mask]=beta*(w_curr[mask]/w_curr_mod)\n",
    "    if clf.decision_function(x_ini)>0:\n",
    "        x_adv_new=x_ini-delta_x\n",
    "    elif clf.decision_function(x_ini)<0:\n",
    "        x_adv_new=x_ini+delta_x\n",
    "    #x_adv=(x_ini-1.0*(clf.coef_[ini_class[0],:]/(np.linalg.norm(clf.coef_[ini_class[0],:])))).reshape((1,784))\n",
    "    X_adv_new[i,:]=x_adv_new\n",
    "    #x_adv=adv_x[i,:].reshape((1,784))\n",
    "    final_class=clf.predict(x_adv_new)\n",
    "    if ini_class[0]!=final_class[0]:\n",
    "        count_adv=count_adv+1\n",
    "    if y_train_3_7[i]!=final_class[0]:\n",
    "        count_wrong=count_wrong+1\n",
    "    if y_train_3_7[i]!=final_class[0] and ini_class[0]==y_train_3_7[i]:\n",
    "        count_pure_adv=count_pure_adv+1\n",
    "    if ini_class[0]==y_train_3_7[i]:\n",
    "        count_correct=count_correct+1\n",
    "#     if y_train[i]!=final_class[0] and ini_class[0]==y_train[i] and print_flag==0:\n",
    "#         #plt.imshow((x_ini.reshape((28,28)))*255, cmap='gray', interpolation='nearest', vmin=0, vmax=255)\n",
    "#         #plt.imshow(((x_adv).reshape((28,28)))*255, cmap='gray', interpolation='nearest', vmin=0, vmax=255)\n",
    "#         print_flag=print_flag+1\n",
    "print count_wrong/10276.0, count_adv/10276.0, count_pure_adv/count_correct\n",
    "print np.sqrt((np.linalg.norm(delta_x)**2)/784)"
   ]
  },
  {
   "cell_type": "code",
   "execution_count": 92,
   "metadata": {
    "collapsed": false
   },
   "outputs": [
    {
     "data": {
      "text/plain": [
       "LinearSVC(C=1.0, class_weight=None, dual=False, fit_intercept=True,\n",
       "     intercept_scaling=1, loss='squared_hinge', max_iter=1000,\n",
       "     multi_class='ovr', penalty='l2', random_state=None, tol=0.0001,\n",
       "     verbose=0)"
      ]
     },
     "execution_count": 92,
     "metadata": {},
     "output_type": "execute_result"
    }
   ],
   "source": [
    "rd_2=40\n",
    "pca_2=PCA(n_components=rd_2)\n",
    "pca_2.fit(X_train_3_7)\n",
    "X_train_dr=pca_2.transform(X_train_3_7).reshape((10276,rd_2))\n",
    "X_test_dr=pca_2.transform(X_test_3_7).reshape((2038,rd_2))\n",
    "#X_val_dr=pca_2.transform(PCA_in_val).reshape((10000,rd_2))\n",
    "#X_adv_dr_test=pca_2.transform(adv_x_test).reshape((10000,rd_2))\n",
    "clf_pca=svm.LinearSVC(dual=False)\n",
    "clf_pca.fit(X_train_dr,y_train_3_7)"
   ]
  },
  {
   "cell_type": "code",
   "execution_count": 94,
   "metadata": {
    "collapsed": false
   },
   "outputs": [
    {
     "data": {
      "text/plain": [
       "0.97791952894995093"
      ]
     },
     "execution_count": 94,
     "metadata": {},
     "output_type": "execute_result"
    }
   ],
   "source": [
    "clf_pca.score(X_test_dr,y_test[indices_3_7_test])"
   ]
  },
  {
   "cell_type": "code",
   "execution_count": 98,
   "metadata": {
    "collapsed": true
   },
   "outputs": [],
   "source": [
    "X_adv_dr=pca_2.transform(X_adv).reshape((10276,rd_2))\n",
    "X_adv_new_dr=pca_2.transform(X_adv_new).reshape((10276,rd_2))"
   ]
  },
  {
   "cell_type": "code",
   "execution_count": 109,
   "metadata": {
    "collapsed": false
   },
   "outputs": [
    {
     "name": "stdout",
     "output_type": "stream",
     "text": [
      "0.0194628260023 0.00593616193071 0.00300877971787\n",
      "0.0215875853326\n"
     ]
    }
   ],
   "source": [
    "count_pure_adv_pca=0.0\n",
    "count_adv_pca=0.0\n",
    "count_wrong_pca=0.0\n",
    "#print_flag_pca=0\n",
    "for i in range(10276):\n",
    "    x_ini=(X_train_dr[i,:]).reshape((1,rd_2))\n",
    "    ini_class=clf_pca.predict(x_ini)\n",
    "    #x_adv=(x_ini-1.0*(clf_pca.coef_[ini_class[0],:]/(np.linalg.norm(clf_pca.coef_[ini_class[0],:])))).reshape((1,rd_2))\n",
    "    x_adv_new_dr=X_adv_new_dr[i,:].reshape((1,rd_2))\n",
    "    final_class=clf_pca.predict(x_adv_new_dr)\n",
    "    if ini_class[0]!=final_class[0]:\n",
    "        count_adv_pca=count_adv_pca+1\n",
    "    if y_train_3_7[i]!=final_class[0]:\n",
    "        count_wrong_pca=count_wrong_pca+1\n",
    "    if y_train_3_7[i]!=final_class[0] and ini_class[0]==y_train_3_7[i]:\n",
    "        count_pure_adv_pca=count_pure_adv_pca+1\n",
    "    if ini_class[0]==y_train_3_7[i]:\n",
    "        count_correct=count_correct+1\n",
    "    #if y_train[i]!=final_class[0] and ini_class[0]==y_train[i] and print_flag==0:\n",
    "        #plt.imshow((x_ini.reshape((28,28)))*255, cmap='gray', interpolation='nearest', vmin=0, vmax=255)\n",
    "        #plt.imshow(((x_adv-x_ini).reshape((28,28)))*255, cmap='gray', interpolation='nearest', vmin=0, vmax=255)\n",
    "        #print_flag=print_flag+1\n",
    "print count_wrong_pca/10276.0, count_adv_pca/10276.0, count_pure_adv_pca/count_correct\n",
    "print np.sqrt((np.linalg.norm(x_ini-x_adv_new_dr)**2)/rd_2)"
   ]
  },
  {
   "cell_type": "code",
   "execution_count": 110,
   "metadata": {
    "collapsed": false
   },
   "outputs": [
    {
     "name": "stdout",
     "output_type": "stream",
     "text": [
      "0.0200467107824 0.00652004671078 0.00220315017592\n",
      "0.0221800250685\n"
     ]
    }
   ],
   "source": [
    "count_pure_adv_pca=0.0\n",
    "count_adv_pca=0.0\n",
    "count_wrong_pca=0.0\n",
    "#print_flag_pca=0\n",
    "for i in range(10276):\n",
    "    x_ini=(X_train_dr[i,:]).reshape((1,rd_2))\n",
    "    ini_class=clf_pca.predict(x_ini)\n",
    "    #x_adv=(x_ini-1.0*(clf_pca.coef_[ini_class[0],:]/(np.linalg.norm(clf_pca.coef_[ini_class[0],:])))).reshape((1,rd_2))\n",
    "    x_adv_dr=X_adv_dr[i,:].reshape((1,rd_2))\n",
    "    final_class=clf_pca.predict(x_adv_dr)\n",
    "    if ini_class[0]!=final_class[0]:\n",
    "        count_adv_pca=count_adv_pca+1\n",
    "    if y_train_3_7[i]!=final_class[0]:\n",
    "        count_wrong_pca=count_wrong_pca+1\n",
    "    if y_train_3_7[i]!=final_class[0] and ini_class[0]==y_train_3_7[i]:\n",
    "        count_pure_adv_pca=count_pure_adv_pca+1\n",
    "    if ini_class[0]==y_train_3_7[i]:\n",
    "        count_correct=count_correct+1\n",
    "    #if y_train[i]!=final_class[0] and ini_class[0]==y_train[i] and print_flag==0:\n",
    "        #plt.imshow((x_ini.reshape((28,28)))*255, cmap='gray', interpolation='nearest', vmin=0, vmax=255)\n",
    "        #plt.imshow(((x_adv-x_ini).reshape((28,28)))*255, cmap='gray', interpolation='nearest', vmin=0, vmax=255)\n",
    "        #print_flag=print_flag+1\n",
    "print count_wrong_pca/10276.0, count_adv_pca/10276.0, count_pure_adv_pca/count_correct\n",
    "print np.sqrt((np.linalg.norm(x_ini-x_adv_dr)**2)/rd_2)"
   ]
  },
  {
   "cell_type": "code",
   "execution_count": 103,
   "metadata": {
    "collapsed": true
   },
   "outputs": [],
   "source": [
    "w_curr_pca=clf_pca.coef_[0]\n",
    "w_curr_pca_norm=np.linalg.norm(w_curr_pca)"
   ]
  },
  {
   "cell_type": "code",
   "execution_count": 106,
   "metadata": {
    "collapsed": false
   },
   "outputs": [
    {
     "name": "stdout",
     "output_type": "stream",
     "text": [
      "0.0463215258856 0.049922148696 0.0419256190194\n",
      "0.0790569415042\n"
     ]
    }
   ],
   "source": [
    "count_pure_adv=0.0\n",
    "count_adv=0.0\n",
    "count_wrong=0.0\n",
    "count_correct=0.0\n",
    "print_flag=0\n",
    "DEV_MAG=0.5\n",
    "for i in range(10276):\n",
    "    x_ini=(X_train_dr[i,:]).reshape((1,rd_2))\n",
    "    ini_class=clf_pca.predict(x_ini)\n",
    "    if clf_pca.decision_function(x_ini)>0:\n",
    "        x_adv=(x_ini-DEV_MAG*(w_curr_pca/(np.linalg.norm(w_curr_pca)))).reshape((1,rd_2))\n",
    "    elif clf_pca.decision_function(x_ini)<0:\n",
    "        x_adv=(x_ini+DEV_MAG*(w_curr_pca/(np.linalg.norm(w_curr_pca)))).reshape((1,rd_2))\n",
    "    #X_adv[i,:]=x_adv\n",
    "    #x_adv=adv_x[i,:].reshape((1,784))\n",
    "    final_class=clf_pca.predict(x_adv)\n",
    "    if ini_class[0]!=final_class[0]:\n",
    "        count_adv=count_adv+1\n",
    "    if y_train_3_7[i]!=final_class[0]:\n",
    "        count_wrong=count_wrong+1\n",
    "    if y_train_3_7[i]!=final_class[0] and ini_class[0]==y_train_3_7[i]:\n",
    "        count_pure_adv=count_pure_adv+1\n",
    "    if ini_class[0]==y_train_3_7[i]:\n",
    "        count_correct=count_correct+1\n",
    "    #if y_train[i]!=final_class[0] and ini_class[0]==y_train[i] and print_flag==0:\n",
    "        #plt.imshow((x_ini.reshape((28,28)))*255, cmap='gray', interpolation='nearest', vmin=0, vmax=255)\n",
    "        #plt.imshow(((x_adv).reshape((28,28)))*255, cmap='gray', interpolation='nearest', vmin=0, vmax=255)\n",
    "        print_flag=print_flag+1\n",
    "print count_wrong/10276.0, count_adv/10276.0, count_pure_adv/count_correct\n",
    "print np.sqrt((np.linalg.norm(DEV_MAG*(w_curr_pca/(np.linalg.norm(w_curr_pca))))**2)/rd_2)"
   ]
  },
  {
   "cell_type": "code",
   "execution_count": 107,
   "metadata": {
    "collapsed": false
   },
   "outputs": [
    {
     "data": {
      "text/plain": [
       "1.2824484088711021"
      ]
     },
     "execution_count": 107,
     "metadata": {},
     "output_type": "execute_result"
    }
   ],
   "source": [
    "w_curr_pca_norm"
   ]
  },
  {
   "cell_type": "code",
   "execution_count": 108,
   "metadata": {
    "collapsed": false
   },
   "outputs": [
    {
     "data": {
      "text/plain": [
       "10.396629341273499"
      ]
     },
     "execution_count": 108,
     "metadata": {},
     "output_type": "execute_result"
    }
   ],
   "source": [
    "w_curr_mod"
   ]
  }
 ],
 "metadata": {
  "kernelspec": {
   "display_name": "Python 2",
   "language": "python",
   "name": "python2"
  },
  "language_info": {
   "codemirror_mode": {
    "name": "ipython",
    "version": 2
   },
   "file_extension": ".py",
   "mimetype": "text/x-python",
   "name": "python",
   "nbconvert_exporter": "python",
   "pygments_lexer": "ipython2",
   "version": "2.7.6"
  }
 },
 "nbformat": 4,
 "nbformat_minor": 0
}

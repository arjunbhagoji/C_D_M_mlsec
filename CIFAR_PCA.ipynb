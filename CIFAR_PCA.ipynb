{
 "cells": [
  {
   "cell_type": "code",
   "execution_count": 23,
   "metadata": {
    "collapsed": false
   },
   "outputs": [],
   "source": [
    "from __future__ import print_function\n",
    "\n",
    "import sys\n",
    "import os\n",
    "import time\n",
    "import string\n",
    "import random\n",
    "import pickle\n",
    "\n",
    "import numpy as np\n",
    "import theano\n",
    "import theano.tensor as T\n",
    "import lasagne\n",
    "\n",
    "from sklearn.decomposition import PCA\n",
    "import multiprocessing"
   ]
  },
  {
   "cell_type": "code",
   "execution_count": 24,
   "metadata": {
    "collapsed": true
   },
   "outputs": [],
   "source": [
    "def unpickle(file):\n",
    "    import cPickle\n",
    "    fo = open(file, 'rb')\n",
    "    dict = cPickle.load(fo)\n",
    "    fo.close()\n",
    "    return dict\n",
    "\n",
    "def load_data():\n",
    "    xs = []\n",
    "    ys = []\n",
    "    for j in range(5):\n",
    "      d = unpickle(abs_path_i+'cifar-10-batches-py/data_batch_'+`j+1`)\n",
    "      x = d['data']\n",
    "      y = d['labels']\n",
    "      xs.append(x)\n",
    "      ys.append(y)\n",
    "\n",
    "    d = unpickle(abs_path_i+'cifar-10-batches-py/test_batch')\n",
    "    xs.append(d['data'])\n",
    "    ys.append(d['labels'])\n",
    "\n",
    "    x = np.concatenate(xs)/np.float32(255)\n",
    "    y = np.concatenate(ys)\n",
    "    x = np.dstack((x[:, :1024], x[:, 1024:2048], x[:, 2048:]))\n",
    "    x = x.reshape((x.shape[0], 32, 32, 3)).transpose(0,3,1,2)\n",
    "\n",
    "    # subtract per-pixel mean\n",
    "    pixel_mean = np.mean(x[0:50000],axis=0)\n",
    "    #pickle.dump(pixel_mean, open(\"cifar10-pixel_mean.pkl\",\"wb\"))\n",
    "    #x -= pixel_mean\n",
    "\n",
    "    # create mirrored images\n",
    "    X_train = x[0:50000,:,:,:]\n",
    "    Y_train = y[0:50000]\n",
    "    # X_train_flip = X_train[:,:,:,::-1]\n",
    "    # Y_train_flip = Y_train\n",
    "    # X_train = np.concatenate((X_train,X_train_flip),axis=0)\n",
    "    # Y_train = np.concatenate((Y_train,Y_train_flip),axis=0)\n",
    "\n",
    "    X_test = x[50000:,:,:,:]\n",
    "    Y_test = y[50000:]\n",
    "\n",
    "    return dict(\n",
    "        X_train=lasagne.utils.floatX(X_train),\n",
    "        Y_train=Y_train.astype('int32'),\n",
    "        X_test = lasagne.utils.floatX(X_test),\n",
    "        Y_test = Y_test.astype('int32'),)"
   ]
  },
  {
   "cell_type": "code",
   "execution_count": 25,
   "metadata": {
    "collapsed": true
   },
   "outputs": [],
   "source": [
    "def build_cnn(input_var=None):\n",
    "    # As a third model, we'll create a CNN of two convolution + pooling stages\n",
    "    # and a fully-connected hidden layer in front of the output layer.\n",
    "\n",
    "    # Input layer, as usual:\n",
    "    network = lasagne.layers.InputLayer(shape=(None, 3, rd),\n",
    "                                        input_var=input_var)\n",
    "    # This time we do not apply input dropout, as it tends to work less well\n",
    "    # for convolutional layers.\n",
    "\n",
    "    # 2 Convolutional layers with 32 kernels of size 5x5. Strided and padded\n",
    "    # convolutions are supported as well; see the docstring.\n",
    "    network = lasagne.layers.Conv2DLayer(\n",
    "            network, num_filters=64, filter_size=(5, 5),\n",
    "            nonlinearity=lasagne.nonlinearities.rectify,\n",
    "            W=lasagne.init.GlorotUniform())\n",
    "    network = lasagne.layers.Conv2DLayer(\n",
    "            network, num_filters=64, filter_size=(5, 5),\n",
    "            nonlinearity=lasagne.nonlinearities.rectify,\n",
    "            W=lasagne.init.GlorotUniform())\n",
    "    # Expert note: Lasagne provides alternative convolutional layers that\n",
    "    # override Theano's choice of which implementation to use; for details\n",
    "    # please see http://lasagne.readthedocs.org/en/latest/user/tutorial.html.\n",
    "\n",
    "    # Max-pooling layer of factor 2 in both dimensions:\n",
    "    network = lasagne.layers.MaxPool2DLayer(network, pool_size=(2, 2))\n",
    "\n",
    "    # Another convolution with 64 5x5 kernels, and another 2x2 pooling:\n",
    "    network = lasagne.layers.Conv2DLayer(\n",
    "            network, num_filters=128, filter_size=(5, 5),\n",
    "            nonlinearity=lasagne.nonlinearities.rectify)\n",
    "    network = lasagne.layers.Conv2DLayer(\n",
    "            network, num_filters=128, filter_size=(5, 5),\n",
    "            nonlinearity=lasagne.nonlinearities.rectify)\n",
    "    network = lasagne.layers.MaxPool2DLayer(network, pool_size=(2, 2))\n",
    "\n",
    "    # A fully-connected layer of 256 units with 50% dropout on its inputs:\n",
    "    network = lasagne.layers.DenseLayer(lasagne.layers.dropout(network, p=.5),\n",
    "                                        num_units=256,\n",
    "                                    nonlinearity=lasagne.nonlinearities.rectify)\n",
    "    network = lasagne.layers.DenseLayer(lasagne.layers.dropout(network, p=.5),\n",
    "                                        num_units=256,\n",
    "                                    nonlinearity=lasagne.nonlinearities.rectify)\n",
    "\n",
    "    # And, finally, the 10-unit output layer with 50% dropout on its inputs:\n",
    "    network = lasagne.layers.DenseLayer(lasagne.layers.dropout(network, p=.5),\n",
    "                                        num_units=10,\n",
    "                                    nonlinearity=lasagne.nonlinearities.softmax)\n",
    "\n",
    "    return network"
   ]
  },
  {
   "cell_type": "code",
   "execution_count": 26,
   "metadata": {
    "collapsed": true
   },
   "outputs": [],
   "source": [
    "def iterate_minibatches(inputs, targets, batchsize, shuffle=False, augment=False):\n",
    "    assert len(inputs) == len(targets)\n",
    "    if shuffle:\n",
    "        indices = np.arange(len(inputs))\n",
    "        np.random.shuffle(indices)\n",
    "    for start_idx in range(0, len(inputs) - batchsize + 1, batchsize):\n",
    "        if shuffle:\n",
    "            excerpt = indices[start_idx:start_idx + batchsize]\n",
    "        else:\n",
    "            excerpt = slice(start_idx, start_idx + batchsize)\n",
    "        if augment:\n",
    "            # as in paper :\n",
    "            # pad feature arrays with 4 pixels on each side\n",
    "            # and do random cropping of 32x32\n",
    "            padded = np.pad(inputs[excerpt],((0,0),(0,0),(4,4),(4,4)),mode='constant')\n",
    "            random_cropped = np.zeros(inputs[excerpt].shape, dtype=np.float32)\n",
    "            crops = np.random.random_integers(0,high=8,size=(batchsize,2))\n",
    "            for r in range(batchsize):\n",
    "                random_cropped[r,:,:,:] = padded[r,:,crops[r,0]:(crops[r,0]+32),crops[r,1]:(crops[r,1]+32)]\n",
    "            inp_exc = random_cropped\n",
    "        else:\n",
    "            inp_exc = inputs[excerpt]\n",
    "\n",
    "        yield inp_exc, targets[excerpt]"
   ]
  },
  {
   "cell_type": "code",
   "execution_count": 27,
   "metadata": {
    "collapsed": false
   },
   "outputs": [],
   "source": [
    "script_dir=os.getcwd()\n",
    "rel_path_i=\"Input_data/\"\n",
    "abs_path_i=os.path.join(script_dir,rel_path_i)\n",
    "rel_path_m=\"Models/\"\n",
    "abs_path_m=os.path.join(script_dir,rel_path_m)\n",
    "rel_path_o=\"Output_data/\"\n",
    "abs_path_o=os.path.join(script_dir,rel_path_o)"
   ]
  },
  {
   "cell_type": "code",
   "execution_count": 28,
   "metadata": {
    "collapsed": false
   },
   "outputs": [
    {
     "name": "stdout",
     "output_type": "stream",
     "text": [
      "Loading data...\n"
     ]
    }
   ],
   "source": [
    "# Load the dataset\n",
    "print(\"Loading data...\")\n",
    "data = load_data()\n",
    "X_train = data['X_train']\n",
    "Y_train = data['Y_train']\n",
    "X_test = data['X_test']\n",
    "Y_test = data['Y_test']"
   ]
  },
  {
   "cell_type": "code",
   "execution_count": 29,
   "metadata": {
    "collapsed": false
   },
   "outputs": [
    {
     "data": {
      "text/plain": [
       "(50000, 3, 32, 32)"
      ]
     },
     "execution_count": 29,
     "metadata": {},
     "output_type": "execute_result"
    }
   ],
   "source": [
    "X_train.shape"
   ]
  },
  {
   "cell_type": "code",
   "execution_count": 30,
   "metadata": {
    "collapsed": false
   },
   "outputs": [
    {
     "data": {
      "text/plain": [
       "(3, 32, 32)"
      ]
     },
     "execution_count": 30,
     "metadata": {},
     "output_type": "execute_result"
    }
   ],
   "source": [
    "X_train[0].shape"
   ]
  },
  {
   "cell_type": "code",
   "execution_count": 31,
   "metadata": {
    "collapsed": true
   },
   "outputs": [],
   "source": [
    "from matplotlib import pyplot as plt"
   ]
  },
  {
   "cell_type": "code",
   "execution_count": 32,
   "metadata": {
    "collapsed": true
   },
   "outputs": [],
   "source": [
    "%matplotlib inline"
   ]
  },
  {
   "cell_type": "code",
   "execution_count": 42,
   "metadata": {
    "collapsed": false
   },
   "outputs": [
    {
     "data": {
      "text/plain": [
       "<matplotlib.image.AxesImage at 0x7f25683b9450>"
      ]
     },
     "execution_count": 42,
     "metadata": {},
     "output_type": "execute_result"
    },
    {
     "data": {
      "image/png": "[encoded data removed]",
      "text/plain": [
       "<matplotlib.figure.Figure at 0x7f256842d4d0>"
      ]
     },
     "metadata": {},
     "output_type": "display_data"
    }
   ],
   "source": [
    "plt.imshow(X_train[2].transpose(1,2,0)*255)"
   ]
  },
  {
   "cell_type": "code",
   "execution_count": 43,
   "metadata": {
    "collapsed": false
   },
   "outputs": [
    {
     "data": {
      "text/plain": [
       "9"
      ]
     },
     "execution_count": 43,
     "metadata": {},
     "output_type": "execute_result"
    }
   ],
   "source": [
    "Y_train[2]"
   ]
  },
  {
   "cell_type": "code",
   "execution_count": 49,
   "metadata": {
    "collapsed": false
   },
   "outputs": [
    {
     "data": {
      "text/plain": [
       "array([[[ 0.23137255,  0.16862746,  0.19607843, ...,  0.61960787,\n",
       "          0.59607846,  0.58039218],\n",
       "        [ 0.0627451 ,  0.        ,  0.07058824, ...,  0.48235294,\n",
       "          0.46666667,  0.47843137],\n",
       "        [ 0.09803922,  0.0627451 ,  0.19215687, ...,  0.4627451 ,\n",
       "          0.47058824,  0.42745098],\n",
       "        ..., \n",
       "        [ 0.81568629,  0.78823531,  0.7764706 , ...,  0.627451  ,\n",
       "          0.21960784,  0.20784314],\n",
       "        [ 0.70588237,  0.67843139,  0.72941178, ...,  0.72156864,\n",
       "          0.38039216,  0.32549021],\n",
       "        [ 0.69411767,  0.65882355,  0.7019608 , ...,  0.84705883,\n",
       "          0.59215689,  0.48235294]],\n",
       "\n",
       "       [[ 0.60392159,  0.49411765,  0.41176471, ...,  0.35686275,\n",
       "          0.34117648,  0.30980393],\n",
       "        [ 0.54901963,  0.56862748,  0.49019608, ...,  0.3764706 ,\n",
       "          0.3019608 ,  0.27843139],\n",
       "        [ 0.54901963,  0.54509807,  0.4509804 , ...,  0.30980393,\n",
       "          0.26666668,  0.26274511],\n",
       "        ..., \n",
       "        [ 0.68627453,  0.61176473,  0.60392159, ...,  0.16470589,\n",
       "          0.23921569,  0.36470589],\n",
       "        [ 0.64705884,  0.61176473,  0.62352943, ...,  0.40392157,\n",
       "          0.48235294,  0.51372552],\n",
       "        [ 0.63921571,  0.61960787,  0.63921571, ...,  0.56078434,\n",
       "          0.56078434,  0.56078434]]])"
      ]
     },
     "execution_count": 49,
     "metadata": {},
     "output_type": "execute_result"
    }
   ],
   "source": [
    "X_train[0:2,0,:,:]"
   ]
  },
  {
   "cell_type": "code",
   "execution_count": 48,
   "metadata": {
    "collapsed": false
   },
   "outputs": [
    {
     "data": {
      "text/plain": [
       "array([[ 0.23137255,  0.16862746,  0.19607843, ...,  0.84705883,\n",
       "         0.59215689,  0.48235294],\n",
       "       [ 0.60392159,  0.49411765,  0.41176471, ...,  0.56078434,\n",
       "         0.56078434,  0.56078434]])"
      ]
     },
     "execution_count": 48,
     "metadata": {},
     "output_type": "execute_result"
    }
   ],
   "source": [
    "X_train[0:2,0,:,:].reshape((2,1024))"
   ]
  },
  {
   "cell_type": "code",
   "execution_count": 50,
   "metadata": {
    "collapsed": true
   },
   "outputs": [],
   "source": [
    "X_train_c0=X_train[:,0,:,:].reshape((50000,1024))\n",
    "X_train_c1=X_train[:,1,:,:].reshape((50000,1024))\n",
    "X_train_c2=X_train[:,2,:,:].reshape((50000,1024))\n",
    "\n",
    "X_test_c0=X_test[:,0,:,:].reshape((10000,1024))\n",
    "X_test_c1=X_test[:,1,:,:].reshape((10000,1024))\n",
    "X_test_c2=X_test[:,2,:,:].reshape((10000,1024))"
   ]
  },
  {
   "cell_type": "code",
   "execution_count": 52,
   "metadata": {
    "collapsed": true
   },
   "outputs": [],
   "source": [
    "pca_c0=PCA(n_components=100)\n",
    "pca_c1=PCA(n_components=100)\n",
    "pca_c2=PCA(n_components=100)\n",
    "#Fitting the PCA model on training data\n",
    "pca_train_c0=pca_c0.fit(X_train_c0)\n",
    "pca_train_c1=pca_c1.fit(X_train_c1)\n",
    "pca_train_c2=pca_c2.fit(X_train_c2)"
   ]
  },
  {
   "cell_type": "code",
   "execution_count": 53,
   "metadata": {
    "collapsed": true
   },
   "outputs": [],
   "source": [
    "X_train_c0_dr=pca_c0.transform(X_train_c0)\n",
    "X_train_c1_dr=pca_c1.transform(X_train_c1)\n",
    "X_train_c2_dr=pca_c2.transform(X_train_c2)"
   ]
  },
  {
   "cell_type": "code",
   "execution_count": 54,
   "metadata": {
    "collapsed": false
   },
   "outputs": [
    {
     "data": {
      "text/plain": [
       "(50000, 100)"
      ]
     },
     "execution_count": 54,
     "metadata": {},
     "output_type": "execute_result"
    }
   ],
   "source": [
    "X_train_c0_dr.shape"
   ]
  },
  {
   "cell_type": "code",
   "execution_count": 60,
   "metadata": {
    "collapsed": true
   },
   "outputs": [],
   "source": [
    "mean_vec=np.mean(X_train_c0,axis=0)"
   ]
  },
  {
   "cell_type": "code",
   "execution_count": 61,
   "metadata": {
    "collapsed": false
   },
   "outputs": [
    {
     "data": {
      "text/plain": [
       "(1024,)"
      ]
     },
     "execution_count": 61,
     "metadata": {},
     "output_type": "execute_result"
    }
   ],
   "source": [
    "mean_vec.shape"
   ]
  },
  {
   "cell_type": "code",
   "execution_count": 64,
   "metadata": {
    "collapsed": false
   },
   "outputs": [],
   "source": [
    "a=np.array([mean_vec,]*50000)"
   ]
  },
  {
   "cell_type": "code",
   "execution_count": 63,
   "metadata": {
    "collapsed": false
   },
   "outputs": [
    {
     "data": {
      "text/plain": [
       "array([ 0.51259115,  0.51035436,  0.5139233 , ...,  0.49717005,\n",
       "        0.49633319,  0.49662385])"
      ]
     },
     "execution_count": 63,
     "metadata": {},
     "output_type": "execute_result"
    }
   ],
   "source": [
    "mean_vec"
   ]
  },
  {
   "cell_type": "code",
   "execution_count": 65,
   "metadata": {
    "collapsed": false
   },
   "outputs": [
    {
     "data": {
      "text/plain": [
       "array([[-0.2812186 , -0.34172691, -0.31784487, ...,  0.34988878,\n",
       "         0.0958237 , -0.01427091],\n",
       "       [ 0.09133045, -0.01623672, -0.10215859, ...,  0.06361429,\n",
       "         0.06445115,  0.06416049],\n",
       "       [ 0.48740885,  0.4818025 ,  0.47823356, ..., -0.19128769,\n",
       "        -0.18652925, -0.18289835],\n",
       "       ..., \n",
       "       [-0.37533624, -0.35349161, -0.34921742, ..., -0.3912877 ,\n",
       "        -0.41398024, -0.44956503],\n",
       "       [ 0.22858534,  0.21905742,  0.21156691, ...,  0.26753585,\n",
       "         0.27229428,  0.26808204],\n",
       "       [ 0.38544807,  0.41513584,  0.40372376, ...,  0.20479075,\n",
       "         0.14680409,  0.14259185]])"
      ]
     },
     "execution_count": 65,
     "metadata": {},
     "output_type": "execute_result"
    }
   ],
   "source": [
    "X_train_c0-a"
   ]
  },
  {
   "cell_type": "code",
   "execution_count": null,
   "metadata": {
    "collapsed": true
   },
   "outputs": [],
   "source": []
  }
 ],
 "metadata": {
  "kernelspec": {
   "display_name": "Python 2",
   "language": "python",
   "name": "python2"
  },
  "language_info": {
   "codemirror_mode": {
    "name": "ipython",
    "version": 2
   },
   "file_extension": ".py",
   "mimetype": "text/x-python",
   "name": "python",
   "nbconvert_exporter": "python",
   "pygments_lexer": "ipython2",
   "version": "2.7.6"
  }
 },
 "nbformat": 4,
 "nbformat_minor": 0
}

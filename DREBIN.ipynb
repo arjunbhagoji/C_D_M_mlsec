{
 "cells": [
  {
   "cell_type": "code",
   "execution_count": 1,
   "metadata": {
    "collapsed": true
   },
   "outputs": [],
   "source": [
    "import numpy as np\n",
    "import os\n",
    "from sklearn.decomposition import PCA\n",
    "import glob"
   ]
  },
  {
   "cell_type": "code",
   "execution_count": 2,
   "metadata": {
    "collapsed": true
   },
   "outputs": [],
   "source": [
    "script_dir=os.getcwd()\n",
    "rel_path_i='Input_data/DREBIN/feature_vectors/'\n",
    "abs_path_i=os.path.join(script_dir,rel_path_i)\n",
    "rel_path_d='Input_data/DREBIN/'\n",
    "abs_path_d=os.path.join(script_dir,rel_path_d)\n",
    "rel_path_m='Models/'\n",
    "abs_path_m=os.path.join(script_dir,rel_path_m)"
   ]
  },
  {
   "cell_type": "code",
   "execution_count": 3,
   "metadata": {
    "collapsed": false
   },
   "outputs": [],
   "source": [
    "malicious_files=np.genfromtxt(abs_path_d+'sha256_family.csv',dtype=str,delimiter=',',skip_header=1)"
   ]
  },
  {
   "cell_type": "code",
   "execution_count": 4,
   "metadata": {
    "collapsed": false
   },
   "outputs": [
    {
     "data": {
      "text/plain": [
       "(5560, 2)"
      ]
     },
     "execution_count": 4,
     "metadata": {},
     "output_type": "execute_result"
    }
   ],
   "source": [
    "np.shape(malicious_files)"
   ]
  },
  {
   "cell_type": "code",
   "execution_count": 5,
   "metadata": {
    "collapsed": true
   },
   "outputs": [],
   "source": [
    "no_of_mal=5560\n",
    "labels=np.zeros((129013))"
   ]
  },
  {
   "cell_type": "code",
   "execution_count": 6,
   "metadata": {
    "collapsed": false
   },
   "outputs": [],
   "source": [
    "file_list=glob.glob(abs_path_i+'/*')\n",
    "# file_list_2=np.genfromtxt(abs_path_d+'DREBIN_file_list.txt',dtype='S')"
   ]
  },
  {
   "cell_type": "code",
   "execution_count": null,
   "metadata": {
    "collapsed": true
   },
   "outputs": [],
   "source": [
    "labels_2=np.zeros((129013))"
   ]
  },
  {
   "cell_type": "code",
   "execution_count": 7,
   "metadata": {
    "collapsed": false,
    "scrolled": false
   },
   "outputs": [
    {
     "name": "stderr",
     "output_type": "stream",
     "text": [
      "/usr/local/lib/python2.7/dist-packages/numpy/lib/npyio.py:1487: UserWarning: genfromtxt: Empty input file: \"/home/arjun/Dropbox/Research/ResearchProjects/Princeton_Prateek/ML+Security/C_D_M_mlsec/Input_data/DREBIN/feature_vectors/f6239ba0487ffcf4d09255dba781440d2600d3c509e66018e6a5724912df34a9\"\n",
      "  warnings.warn('genfromtxt: Empty input file: \"%s\"' % fname)\n",
      "/usr/local/lib/python2.7/dist-packages/numpy/lib/npyio.py:1487: UserWarning: genfromtxt: Empty input file: \"/home/arjun/Dropbox/Research/ResearchProjects/Princeton_Prateek/ML+Security/C_D_M_mlsec/Input_data/DREBIN/feature_vectors/b8949d6f9e90c404a6ca747973e86a94d5cef97ed4dca8890ea538ffe8870daa\"\n",
      "  warnings.warn('genfromtxt: Empty input file: \"%s\"' % fname)\n",
      "/usr/local/lib/python2.7/dist-packages/numpy/lib/npyio.py:1487: UserWarning: genfromtxt: Empty input file: \"/home/arjun/Dropbox/Research/ResearchProjects/Princeton_Prateek/ML+Security/C_D_M_mlsec/Input_data/DREBIN/feature_vectors/3de513a148400b457dd8d8fa9238804db3ec031a0b526d4a04b77e5112aa2dcf\"\n",
      "  warnings.warn('genfromtxt: Empty input file: \"%s\"' % fname)\n",
      "/usr/local/lib/python2.7/dist-packages/numpy/lib/npyio.py:1487: UserWarning: genfromtxt: Empty input file: \"/home/arjun/Dropbox/Research/ResearchProjects/Princeton_Prateek/ML+Security/C_D_M_mlsec/Input_data/DREBIN/feature_vectors/d8b995bc3b6a73b78e3078fb6dbf1f830725556084ef614a6989c788d7e13cd1\"\n",
      "  warnings.warn('genfromtxt: Empty input file: \"%s\"' % fname)\n",
      "/usr/local/lib/python2.7/dist-packages/numpy/lib/npyio.py:1487: UserWarning: genfromtxt: Empty input file: \"/home/arjun/Dropbox/Research/ResearchProjects/Princeton_Prateek/ML+Security/C_D_M_mlsec/Input_data/DREBIN/feature_vectors/33e93264fbc91ba56a5e28b232d3dd4c083a5dfc432d6336c686b4e7e2451945\"\n",
      "  warnings.warn('genfromtxt: Empty input file: \"%s\"' % fname)\n",
      "/usr/local/lib/python2.7/dist-packages/numpy/lib/npyio.py:1487: UserWarning: genfromtxt: Empty input file: \"/home/arjun/Dropbox/Research/ResearchProjects/Princeton_Prateek/ML+Security/C_D_M_mlsec/Input_data/DREBIN/feature_vectors/d63db95a7b5025805b8c0862628b0faa0e02f5ade3e174d62067a05102ab5f3a\"\n",
      "  warnings.warn('genfromtxt: Empty input file: \"%s\"' % fname)\n",
      "/usr/local/lib/python2.7/dist-packages/numpy/lib/npyio.py:1487: UserWarning: genfromtxt: Empty input file: \"/home/arjun/Dropbox/Research/ResearchProjects/Princeton_Prateek/ML+Security/C_D_M_mlsec/Input_data/DREBIN/feature_vectors/24265d499dfed4e6f615f1c4ae4c0fd6b22bc187d895444391856896da81fdd9\"\n",
      "  warnings.warn('genfromtxt: Empty input file: \"%s\"' % fname)\n",
      "/usr/local/lib/python2.7/dist-packages/numpy/lib/npyio.py:1487: UserWarning: genfromtxt: Empty input file: \"/home/arjun/Dropbox/Research/ResearchProjects/Princeton_Prateek/ML+Security/C_D_M_mlsec/Input_data/DREBIN/feature_vectors/6245951bda8875bf9435d1c773eb71cc1ecca751e520bc1daf3f8f4a097e2da0\"\n",
      "  warnings.warn('genfromtxt: Empty input file: \"%s\"' % fname)\n",
      "/usr/local/lib/python2.7/dist-packages/numpy/lib/npyio.py:1487: UserWarning: genfromtxt: Empty input file: \"/home/arjun/Dropbox/Research/ResearchProjects/Princeton_Prateek/ML+Security/C_D_M_mlsec/Input_data/DREBIN/feature_vectors/e864c70d240b8c60ed8a784133a8d3954552fb5745d1081043518f4743574db2\"\n",
      "  warnings.warn('genfromtxt: Empty input file: \"%s\"' % fname)\n",
      "/usr/local/lib/python2.7/dist-packages/numpy/lib/npyio.py:1487: UserWarning: genfromtxt: Empty input file: \"/home/arjun/Dropbox/Research/ResearchProjects/Princeton_Prateek/ML+Security/C_D_M_mlsec/Input_data/DREBIN/feature_vectors/76e91e1f9cc3422c333e51b65bb98dd50d00f1f45a15d2008807b06c125e651a\"\n",
      "  warnings.warn('genfromtxt: Empty input file: \"%s\"' % fname)\n",
      "/usr/local/lib/python2.7/dist-packages/numpy/lib/npyio.py:1487: UserWarning: genfromtxt: Empty input file: \"/home/arjun/Dropbox/Research/ResearchProjects/Princeton_Prateek/ML+Security/C_D_M_mlsec/Input_data/DREBIN/feature_vectors/3b16d201ed8bf54964a25e02f6ba59940d44b62fc723c22e9e91408adc57fe87\"\n",
      "  warnings.warn('genfromtxt: Empty input file: \"%s\"' % fname)\n",
      "/usr/local/lib/python2.7/dist-packages/numpy/lib/npyio.py:1487: UserWarning: genfromtxt: Empty input file: \"/home/arjun/Dropbox/Research/ResearchProjects/Princeton_Prateek/ML+Security/C_D_M_mlsec/Input_data/DREBIN/feature_vectors/724bc1008e6f1cba2a9b07e637c06f316ee6753623f3833da269f47fe2df8a5a\"\n",
      "  warnings.warn('genfromtxt: Empty input file: \"%s\"' % fname)\n",
      "/usr/local/lib/python2.7/dist-packages/numpy/lib/npyio.py:1487: UserWarning: genfromtxt: Empty input file: \"/home/arjun/Dropbox/Research/ResearchProjects/Princeton_Prateek/ML+Security/C_D_M_mlsec/Input_data/DREBIN/feature_vectors/df2c357f513c270cd1d06418e4eaf64aeb6b2d947149e83ed4f42c88286b76a7\"\n",
      "  warnings.warn('genfromtxt: Empty input file: \"%s\"' % fname)\n",
      "/usr/local/lib/python2.7/dist-packages/numpy/lib/npyio.py:1487: UserWarning: genfromtxt: Empty input file: \"/home/arjun/Dropbox/Research/ResearchProjects/Princeton_Prateek/ML+Security/C_D_M_mlsec/Input_data/DREBIN/feature_vectors/6c6eeed1b91913db0d6232edb1979c67d6fb48ca3da4f83dc49fb565a4e5f4fe\"\n",
      "  warnings.warn('genfromtxt: Empty input file: \"%s\"' % fname)\n",
      "/usr/local/lib/python2.7/dist-packages/numpy/lib/npyio.py:1487: UserWarning: genfromtxt: Empty input file: \"/home/arjun/Dropbox/Research/ResearchProjects/Princeton_Prateek/ML+Security/C_D_M_mlsec/Input_data/DREBIN/feature_vectors/4abb557e98608b6e1c484c623cc23ca814707ecf6ded83fa89f53db988ae8622\"\n",
      "  warnings.warn('genfromtxt: Empty input file: \"%s\"' % fname)\n"
     ]
    }
   ],
   "source": [
    "mal_set=malicious_files[:,0]\n",
    "feature_set=set()\n",
    "eight_features=set()\n",
    "all_data=[]\n",
    "file_count=0\n",
    "for file_path in file_list:\n",
    "    words=file_path.split('/')\n",
    "    if words[-1] in mal_set:\n",
    "        labels[file_count]=1\n",
    "#         print words[-1], file_count\n",
    "    curr_array=np.genfromtxt(file_path,dtype=str,delimiter=\"   \",usecols=(0))\n",
    "    if np.ndim(curr_array)==0:\n",
    "        curr_array=curr_array.reshape(1)\n",
    "    for item in curr_array:\n",
    "        feature_set.add(item)\n",
    "        parts=item.split('::')\n",
    "        eight_features.add(parts[0])\n",
    "    all_data.append(curr_array)\n",
    "    file_count=file_count+1"
   ]
  },
  {
   "cell_type": "code",
   "execution_count": null,
   "metadata": {
    "collapsed": false
   },
   "outputs": [],
   "source": [
    "labels[1]"
   ]
  },
  {
   "cell_type": "code",
   "execution_count": null,
   "metadata": {
    "collapsed": false
   },
   "outputs": [],
   "source": [
    "eight_features"
   ]
  },
  {
   "cell_type": "markdown",
   "metadata": {
    "collapsed": true
   },
   "source": [
    "labels=np.genfromtxt('labels.txt')"
   ]
  },
  {
   "cell_type": "markdown",
   "metadata": {
    "collapsed": false
   },
   "source": [
    "file_list=np.genfromtxt('file_list.txt',dtype='S')"
   ]
  },
  {
   "cell_type": "code",
   "execution_count": null,
   "metadata": {
    "collapsed": false
   },
   "outputs": [],
   "source": [
    "labels[1]"
   ]
  },
  {
   "cell_type": "code",
   "execution_count": null,
   "metadata": {
    "collapsed": false
   },
   "outputs": [],
   "source": [
    "a=np.where(labels==1.0)"
   ]
  },
  {
   "cell_type": "code",
   "execution_count": null,
   "metadata": {
    "collapsed": false
   },
   "outputs": [],
   "source": [
    "a"
   ]
  },
  {
   "cell_type": "code",
   "execution_count": null,
   "metadata": {
    "collapsed": true
   },
   "outputs": [],
   "source": [
    "b=np.where(labels_2==1.0)"
   ]
  },
  {
   "cell_type": "code",
   "execution_count": null,
   "metadata": {
    "collapsed": false
   },
   "outputs": [],
   "source": [
    "b"
   ]
  },
  {
   "cell_type": "code",
   "execution_count": null,
   "metadata": {
    "collapsed": false
   },
   "outputs": [],
   "source": [
    "len(a[0])"
   ]
  },
  {
   "cell_type": "code",
   "execution_count": null,
   "metadata": {
    "collapsed": false
   },
   "outputs": [],
   "source": [
    "len(feature_set)"
   ]
  },
  {
   "cell_type": "code",
   "execution_count": 8,
   "metadata": {
    "collapsed": false
   },
   "outputs": [],
   "source": [
    "no_of_features=len(feature_set)"
   ]
  },
  {
   "cell_type": "code",
   "execution_count": 9,
   "metadata": {
    "collapsed": false
   },
   "outputs": [],
   "source": [
    "no_of_samples=len(all_data)"
   ]
  },
  {
   "cell_type": "code",
   "execution_count": 10,
   "metadata": {
    "collapsed": true
   },
   "outputs": [],
   "source": [
    "feature_list=list(feature_set)"
   ]
  },
  {
   "cell_type": "code",
   "execution_count": null,
   "metadata": {
    "collapsed": false
   },
   "outputs": [],
   "source": [
    "feature_list[0]"
   ]
  },
  {
   "cell_type": "code",
   "execution_count": 11,
   "metadata": {
    "collapsed": false
   },
   "outputs": [
    {
     "data": {
      "text/plain": [
       "545333"
      ]
     },
     "execution_count": 11,
     "metadata": {},
     "output_type": "execute_result"
    }
   ],
   "source": [
    "no_of_features"
   ]
  },
  {
   "cell_type": "code",
   "execution_count": 12,
   "metadata": {
    "collapsed": true
   },
   "outputs": [],
   "source": [
    "from scipy.sparse import coo_matrix"
   ]
  },
  {
   "cell_type": "markdown",
   "metadata": {
    "collapsed": false,
    "scrolled": true
   },
   "source": [
    "sample_row_list=[]\n",
    "feature_col_list=[]\n",
    "sample_count=0\n",
    "for sample in all_data:\n",
    "     print sample_count\n",
    "    dims=np.ndim(sample)\n",
    "    curr_features=set(sample)\n",
    "     elif dims<2:\n",
    "         sample=sample.reshape((1,2))\n",
    "         curr_features=set(sample[:,1])\n",
    "    curr_f_list=[i for i,item in enumerate(feature_list) if item in curr_features]\n",
    "    feature_col_list.extend(curr_f_list)\n",
    "    curr_s_list=[sample_count for item in curr_f_list]\n",
    "    sample_row_list.extend(curr_s_list)\n",
    "     for i in range(no_of_features):\n",
    "         if feature_list[i] in curr_features:\n",
    "             sample_row_list.append(sample_count)\n",
    "             feature_col_list.append(i)\n",
    "    sample_count=sample_count+1\n",
    "np.savetxt('col_list.txt',feature_col_list,fmt='%0u')\n",
    "np.savetxt('row_list.txt',sample_row_list,fmt='%0u')"
   ]
  },
  {
   "cell_type": "code",
   "execution_count": 13,
   "metadata": {
    "collapsed": false
   },
   "outputs": [],
   "source": [
    "row=np.genfromtxt(abs_path_d+'DREBIN_row_list.txt')\n",
    "col=np.genfromtxt(abs_path_d+'DREBIN_col_list.txt')"
   ]
  },
  {
   "cell_type": "code",
   "execution_count": 14,
   "metadata": {
    "collapsed": false
   },
   "outputs": [
    {
     "data": {
      "text/plain": [
       "6113087"
      ]
     },
     "execution_count": 14,
     "metadata": {},
     "output_type": "execute_result"
    }
   ],
   "source": [
    "len(row)"
   ]
  },
  {
   "cell_type": "code",
   "execution_count": 15,
   "metadata": {
    "collapsed": false
   },
   "outputs": [
    {
     "data": {
      "text/plain": [
       "6113087"
      ]
     },
     "execution_count": 15,
     "metadata": {},
     "output_type": "execute_result"
    }
   ],
   "source": [
    "len(col)"
   ]
  },
  {
   "cell_type": "code",
   "execution_count": 16,
   "metadata": {
    "collapsed": true
   },
   "outputs": [],
   "source": [
    "data=np.ones((len(col)))"
   ]
  },
  {
   "cell_type": "code",
   "execution_count": 17,
   "metadata": {
    "collapsed": false
   },
   "outputs": [
    {
     "name": "stderr",
     "output_type": "stream",
     "text": [
      "/usr/local/lib/python2.7/dist-packages/numpy/core/fromnumeric.py:2652: VisibleDeprecationWarning: `rank` is deprecated; use the `ndim` attribute or function instead. To find the rank of a matrix see `numpy.linalg.matrix_rank`.\n",
      "  VisibleDeprecationWarning)\n"
     ]
    }
   ],
   "source": [
    "data_matrix=coo_matrix((data,(row,col)),shape=(no_of_samples,no_of_features))"
   ]
  },
  {
   "cell_type": "code",
   "execution_count": 18,
   "metadata": {
    "collapsed": false
   },
   "outputs": [
    {
     "data": {
      "text/plain": [
       "(129013, 545333)"
      ]
     },
     "execution_count": 18,
     "metadata": {},
     "output_type": "execute_result"
    }
   ],
   "source": [
    "data_matrix.shape"
   ]
  },
  {
   "cell_type": "code",
   "execution_count": 19,
   "metadata": {
    "collapsed": true
   },
   "outputs": [],
   "source": [
    "data_matrix_csc=data_matrix.tocsc()"
   ]
  },
  {
   "cell_type": "code",
   "execution_count": 20,
   "metadata": {
    "collapsed": true
   },
   "outputs": [],
   "source": [
    "data_matrix_train=data_matrix_csc[0:40000,:]"
   ]
  },
  {
   "cell_type": "code",
   "execution_count": 21,
   "metadata": {
    "collapsed": true
   },
   "outputs": [],
   "source": [
    "data_matrix_test=data_matrix_csc[40000:,:]"
   ]
  },
  {
   "cell_type": "code",
   "execution_count": 22,
   "metadata": {
    "collapsed": true
   },
   "outputs": [],
   "source": [
    "labels_train=labels[0:40000]"
   ]
  },
  {
   "cell_type": "code",
   "execution_count": 23,
   "metadata": {
    "collapsed": true
   },
   "outputs": [],
   "source": [
    "labels_test=labels[40000:]"
   ]
  },
  {
   "cell_type": "code",
   "execution_count": 24,
   "metadata": {
    "collapsed": true
   },
   "outputs": [],
   "source": [
    "from sklearn import svm"
   ]
  },
  {
   "cell_type": "code",
   "execution_count": 25,
   "metadata": {
    "collapsed": false
   },
   "outputs": [
    {
     "data": {
      "text/plain": [
       "LinearSVC(C=1.0, class_weight=None, dual=True, fit_intercept=True,\n",
       "     intercept_scaling=1, loss='squared_hinge', max_iter=1000,\n",
       "     multi_class='ovr', penalty='l2', random_state=None, tol=0.0001,\n",
       "     verbose=0)"
      ]
     },
     "execution_count": 25,
     "metadata": {},
     "output_type": "execute_result"
    }
   ],
   "source": [
    "clf=svm.LinearSVC()\n",
    "clf.fit(data_matrix_train,labels_train)"
   ]
  },
  {
   "cell_type": "code",
   "execution_count": 26,
   "metadata": {
    "collapsed": false
   },
   "outputs": [
    {
     "data": {
      "text/plain": [
       "0.99195623111230946"
      ]
     },
     "execution_count": 26,
     "metadata": {},
     "output_type": "execute_result"
    }
   ],
   "source": [
    "clf.score(data_matrix_test,labels_test)"
   ]
  },
  {
   "cell_type": "code",
   "execution_count": 27,
   "metadata": {
    "collapsed": true
   },
   "outputs": [],
   "source": [
    "mal_indices_test=np.where(labels_test==1.0)[0]\n",
    "benign_indices_test=np.where(labels_test==0.0)[0]"
   ]
  },
  {
   "cell_type": "code",
   "execution_count": 30,
   "metadata": {
    "collapsed": false
   },
   "outputs": [
    {
     "data": {
      "text/plain": [
       "array([    6,    12,    36, ..., 88963, 88968, 89000])"
      ]
     },
     "execution_count": 30,
     "metadata": {},
     "output_type": "execute_result"
    }
   ],
   "source": [
    "mal_indices_test"
   ]
  },
  {
   "cell_type": "code",
   "execution_count": 31,
   "metadata": {
    "collapsed": false
   },
   "outputs": [
    {
     "data": {
      "text/plain": [
       "array([ 1.,  1.,  1., ...,  1.,  1.,  1.])"
      ]
     },
     "execution_count": 31,
     "metadata": {},
     "output_type": "execute_result"
    }
   ],
   "source": [
    "labels_test[mal_indices_test]"
   ]
  },
  {
   "cell_type": "code",
   "execution_count": 32,
   "metadata": {
    "collapsed": false
   },
   "outputs": [
    {
     "data": {
      "text/plain": [
       "0.88906455862977607"
      ]
     },
     "execution_count": 32,
     "metadata": {},
     "output_type": "execute_result"
    }
   ],
   "source": [
    "clf.score(data_matrix_test[mal_indices_test,:],labels_test[mal_indices_test])"
   ]
  },
  {
   "cell_type": "code",
   "execution_count": null,
   "metadata": {
    "collapsed": false,
    "scrolled": true
   },
   "outputs": [],
   "source": [
    "np.where(clf.predict(data_matrix_test[mal_indices_test[0],:])!=1.0)"
   ]
  },
  {
   "cell_type": "code",
   "execution_count": null,
   "metadata": {
    "collapsed": false
   },
   "outputs": [],
   "source": [
    "clf.predict(data_matrix_test[46,:])"
   ]
  },
  {
   "cell_type": "code",
   "execution_count": null,
   "metadata": {
    "collapsed": false,
    "scrolled": true
   },
   "outputs": [],
   "source": [
    "counter=0.0\n",
    "for item in mal_indices_test[0]:\n",
    "    if clf.predict(data_matrix_test[item,:])[0]!=1.0:\n",
    "        counter=counter+1\n",
    "print counter"
   ]
  },
  {
   "cell_type": "code",
   "execution_count": null,
   "metadata": {
    "collapsed": false
   },
   "outputs": [],
   "source": [
    "clf.score(data_matrix_test[benign_indices_test,:],labels_test[benign_indices_test])"
   ]
  },
  {
   "cell_type": "code",
   "execution_count": null,
   "metadata": {
    "collapsed": false
   },
   "outputs": [],
   "source": [
    "len(np.where(labels_test==1.0)[0])"
   ]
  },
  {
   "cell_type": "code",
   "execution_count": null,
   "metadata": {
    "collapsed": false
   },
   "outputs": [],
   "source": [
    "len(np.where(labels_train==1.0)[0])"
   ]
  },
  {
   "cell_type": "code",
   "execution_count": 33,
   "metadata": {
    "collapsed": false
   },
   "outputs": [
    {
     "name": "stdout",
     "output_type": "stream",
     "text": [
      "13.8579637701\n"
     ]
    }
   ],
   "source": [
    "for i in range(1):\n",
    "    print np.linalg.norm(clf.coef_[i,:])"
   ]
  },
  {
   "cell_type": "code",
   "execution_count": 34,
   "metadata": {
    "collapsed": true
   },
   "outputs": [],
   "source": [
    "top_malware_features=np.argsort(clf.coef_[0,:])[::-1][:100]"
   ]
  },
  {
   "cell_type": "code",
   "execution_count": 35,
   "metadata": {
    "collapsed": false
   },
   "outputs": [
    {
     "data": {
      "text/plain": [
       "array([473112, 229850, 234374, 282304, 195002, 513051,  99672, 388316,\n",
       "        28991,  25128, 102237, 139163, 105308, 544592, 297934, 358170,\n",
       "       209403, 283882, 372185, 182144, 248694, 313046, 318827, 312226,\n",
       "       438136, 221494, 498032, 327380, 149712, 382180, 119149, 127142,\n",
       "       255230, 412369, 125653, 121556, 152294,   2603, 164518, 386209,\n",
       "       291933, 290788, 363330, 464969, 215830, 490592, 329660, 438720,\n",
       "       323170, 140478, 525386,  27588,  70879, 235942,  45623, 199094,\n",
       "       111220, 347452, 432983, 355831,  38567, 341010, 287607,  62156,\n",
       "       128861, 359242, 343089, 494059, 450037, 456939, 169140, 512443,\n",
       "       412599, 316008, 143378, 335060, 160032, 401304, 534059, 329861,\n",
       "       325441, 251529, 462245, 456324, 430105, 504081, 316152, 531471,\n",
       "       105955,  22903, 399495, 327260, 194537, 100629, 103118, 171735,\n",
       "       133253,   7649, 211067, 397173])"
      ]
     },
     "execution_count": 35,
     "metadata": {},
     "output_type": "execute_result"
    }
   ],
   "source": [
    "top_malware_features"
   ]
  },
  {
   "cell_type": "code",
   "execution_count": 36,
   "metadata": {
    "collapsed": true
   },
   "outputs": [],
   "source": [
    "feature_array=np.array(feature_list)"
   ]
  },
  {
   "cell_type": "code",
   "execution_count": 37,
   "metadata": {
    "collapsed": true
   },
   "outputs": [],
   "source": [
    "w=clf.coef_[0]"
   ]
  },
  {
   "cell_type": "code",
   "execution_count": 38,
   "metadata": {
    "collapsed": true
   },
   "outputs": [
    {
     "data": {
      "text/plain": [
       "array(['service_receiver::.SoftKeyboardPRO', 'activity::.a_main',\n",
       "       'feature::android.softwate.live_wallpaper',\n",
       "       'activity::.FaceNiffGenActivity', 'activity::.MoviePlayer',\n",
       "       'url::smsreplier.net', 'activity::.GalleryActivity',\n",
       "       'activity::.SMSReplicatorSecret', 'activity::.ChristmasTimer',\n",
       "       'activity::.FirstActivity',\n",
       "       'service_receiver::com.android.md5.Settings', 'url::datatkr.info',\n",
       "       'url::depot.bulks.jp', 'activity::.Mine',\n",
       "       'activity::.MovieActivity', 'call::system/bin/su',\n",
       "       'url::http://www.d1xz.net/sm/zhiwen.aspx?ITxt%3D',\n",
       "       'service_receiver::.service.PlayerBindService',\n",
       "       'service_receiver::com.apperhand.device.android.AndroidSDKProvider',\n",
       "       'activity::.vEphGedQWhKRkQ', 'activity::.SMSBomber',\n",
       "       'activity::.OperaMiniActivity', 'activity::.jGwHcWMJOAop',\n",
       "       'url::http://datatkr.info/and53', 'url::http://datatkr.info/and88',\n",
       "       'activity::.DownloadActivity', 'call::Cipher(DES)',\n",
       "       'url::appserver3l.no-ip.biz', 'activity::.Ball',\n",
       "       'permission::android.permission.RECEIVE_WAP_PUSH',\n",
       "       'url::find-appli.com',\n",
       "       'url::http://find-appli.com/app/rv.php?id%3D',\n",
       "       'activity::.SafeSearchActivity', 'activity::adventure ques',\n",
       "       'service_receiver::com.wadventureques.Server.C2DMClientReceiver',\n",
       "       'permission::com.wadventureques.permission.C2D_MESSAGE',\n",
       "       'service_receiver::.DrocapService', 'activity::.vUpmInLcTApNQ',\n",
       "       'service_receiver::.ReceiverTest', 'activity::.JniTestActivity',\n",
       "       'service_receiver::balloffire.photo.iconosys.eng.LocationSender',\n",
       "       'url::inoxapps.com',\n",
       "       'url::http://inoxapps.com/files/test2.php?email%3D',\n",
       "       'activity::.SLYfoMdG',\n",
       "       'service_receiver::com.airpuh.ad.UpdateCheck',\n",
       "       'url::http://58.86.48.229//appli/addressBookRegist',\n",
       "       'url::http://58.86.48.229/', 'url::58.86.48.229',\n",
       "       'service_receiver::com.gamebox.service.GameUpdateService',\n",
       "       'url::http://cmoneysocialapp.appspot.com/',\n",
       "       'url::cmoneysocialapp.appspot.com',\n",
       "       'intent::android.intent.action.SIG_STR',\n",
       "       'permission::android.permission.READ_PHONE_STAT',\n",
       "       'activity::org.projectvoodoo.simplecarrieriqdetector.Main',\n",
       "       'intent::android.intent.action.USER_PRESENT',\n",
       "       'activity::com.unbievnb.bo.GameSceneActivity',\n",
       "       'activity::.BEWjbSRVu', 'url::http://bit.ly/KiNBPs',\n",
       "       'activity::.WFUabFkwCdhnINo', 'url::http://tinyurl.com/newyear-app',\n",
       "       'activity::com.rrwoin.wcsn.TenDropsActivity',\n",
       "       'url::http://app.wapx.cn/action/feedback/form',\n",
       "       'service_receiver::TService',\n",
       "       'service_receiver::.TServiceBroadcastReceiver',\n",
       "       'activity::.testService', 'activity::.Y6Cg03N', 'activity::.vew2',\n",
       "       'service_receiver::com.wCMCC.Server.C2DMClientReceiver',\n",
       "       'activity::CMCC%E5%E8%B4%B9%E8%B4%A6%E5%B7',\n",
       "       'permission::com.wCMCC.permission.C2D_MESSAGE',\n",
       "       'activity::.ProgressBarActivity',\n",
       "       'permission::android.permission.SEND_SMS',\n",
       "       'service_receiver::.KitchenTimerService',\n",
       "       'permission::android.permission.BLUETOOTH',\n",
       "       'service_receiver::com.mj.utils.MJReceiver',\n",
       "       'activity::.ScooterHero_Paid',\n",
       "       'service_receiver::.strategy.service.CelebrateService',\n",
       "       'service_receiver::.strategy.core.RebirthReceiver', 'call::sendSMS',\n",
       "       'activity::com.agewap.soft.ProgressBarActivity',\n",
       "       'activity::.IMatch', 'url::http://mygameranking0.appspot.com/clock',\n",
       "       'url::mygameranking0.appspot.com', 'activity::wap.syst.Main',\n",
       "       'url::http://www.facebook.com/actionfiguretherapy',\n",
       "       'url::http://www.youtube.com/actionfiguretherapy',\n",
       "       'url::http://aftshirts.com', 'url::aftshirts.com',\n",
       "       'service_receiver::com.android.root.Setting',\n",
       "       'service_receiver::com.android.root.AlarmReceiver',\n",
       "       'activity::.ihbAnQwRk',\n",
       "       'service_receiver::com.wVoiceUnlocker.Server.C2DMClientReceiver',\n",
       "       'activity::Voice Unlocker',\n",
       "       'permission::com.wVoiceUnlocker.permission.C2D_MESSAGE',\n",
       "       'permission::com.wAppzmob.permission.C2D_MESSAGE',\n",
       "       'service_receiver::com.wAppzmob.Server.C2DMClientReceiver',\n",
       "       'activity::Appzmob', 'url::lebar.gicp.net',\n",
       "       'service_receiver::.services.ArpspoofService',\n",
       "       'url::http://www.searchmobileonline.com/'], \n",
       "      dtype='|S111')"
      ]
     },
     "execution_count": 38,
     "metadata": {},
     "output_type": "execute_result"
    }
   ],
   "source": [
    "feature_array[top_malware_features]"
   ]
  },
  {
   "cell_type": "code",
   "execution_count": 39,
   "metadata": {
    "collapsed": false
   },
   "outputs": [],
   "source": [
    "actual_features=np.where(w!=0)[0]"
   ]
  },
  {
   "cell_type": "code",
   "execution_count": 40,
   "metadata": {
    "collapsed": false
   },
   "outputs": [
    {
     "data": {
      "text/plain": [
       "array([-1.54386189])"
      ]
     },
     "execution_count": 40,
     "metadata": {},
     "output_type": "execute_result"
    }
   ],
   "source": [
    "clf.decision_function(data_matrix_train[0,:])"
   ]
  },
  {
   "cell_type": "code",
   "execution_count": 41,
   "metadata": {
    "collapsed": false
   },
   "outputs": [
    {
     "data": {
      "text/plain": [
       "array([ 0.97619794])"
      ]
     },
     "execution_count": 41,
     "metadata": {},
     "output_type": "execute_result"
    }
   ],
   "source": [
    "clf.decision_function(data_matrix_train[1,:])"
   ]
  },
  {
   "cell_type": "code",
   "execution_count": 42,
   "metadata": {
    "collapsed": true
   },
   "outputs": [],
   "source": [
    "all_data_array=np.array(all_data)"
   ]
  },
  {
   "cell_type": "code",
   "execution_count": 43,
   "metadata": {
    "collapsed": true
   },
   "outputs": [],
   "source": [
    "mal_test=all_data_array[mal_indices_test]"
   ]
  },
  {
   "cell_type": "code",
   "execution_count": null,
   "metadata": {
    "collapsed": false
   },
   "outputs": [],
   "source": [
    "clf.decision_function(data_matrix_test[12,:])"
   ]
  },
  {
   "cell_type": "code",
   "execution_count": null,
   "metadata": {
    "collapsed": false
   },
   "outputs": [],
   "source": [
    "mal_indices_test"
   ]
  },
  {
   "cell_type": "code",
   "execution_count": 45,
   "metadata": {
    "collapsed": false
   },
   "outputs": [],
   "source": [
    "allowed_features=set()\n",
    "temp_list=['feature','intent','permission','provider','service_receiver','intent','activity']\n",
    "for item in temp_list:\n",
    "    allowed_features.add(item)"
   ]
  },
  {
   "cell_type": "code",
   "execution_count": 46,
   "metadata": {
    "collapsed": false
   },
   "outputs": [],
   "source": [
    "attack_features=[]\n",
    "for item in actual_features:\n",
    "    curr_feature=feature_list[item]\n",
    "    parts=curr_feature.split('::')\n",
    "    if parts[0] in allowed_features:\n",
    "        attack_features.append(item)    "
   ]
  },
  {
   "cell_type": "code",
   "execution_count": 47,
   "metadata": {
    "collapsed": false
   },
   "outputs": [
    {
     "data": {
      "text/plain": [
       "array(['service_receiver::.widget.AbstractWidgetProvider$AutoSyncToogleService',\n",
       "       'service_receiver::com.p1.chompsms.appwidget.WidgetEventReceiver',\n",
       "       'service_receiver::com.p1.chompsms.security.SecurityService', ...,\n",
       "       'activity::.SpareParts',\n",
       "       'activity::.activity.NetCounterPreferences',\n",
       "       'activity::.activities.HomeActivity'], \n",
       "      dtype='|S111')"
      ]
     },
     "execution_count": 47,
     "metadata": {},
     "output_type": "execute_result"
    }
   ],
   "source": [
    "feature_array[attack_features]"
   ]
  },
  {
   "cell_type": "code",
   "execution_count": 48,
   "metadata": {
    "collapsed": false
   },
   "outputs": [
    {
     "data": {
      "text/plain": [
       "-1.0093990812703413"
      ]
     },
     "execution_count": 48,
     "metadata": {},
     "output_type": "execute_result"
    }
   ],
   "source": [
    "min(w[attack_features])"
   ]
  },
  {
   "cell_type": "code",
   "execution_count": 49,
   "metadata": {
    "collapsed": true
   },
   "outputs": [
    {
     "data": {
      "text/plain": [
       "array([-1.00939908, -0.99606833, -0.93635254, -0.91920572, -0.8853095 ,\n",
       "       -0.85214412, -0.74161013, -0.63032952, -0.61575093, -0.61346177,\n",
       "       -0.58927446, -0.5839318 , -0.5839318 , -0.58230716, -0.5720107 ,\n",
       "       -0.5720107 , -0.55593857, -0.54148786, -0.53287173, -0.51884647,\n",
       "       -0.51865115, -0.50453323, -0.50453323, -0.49083106, -0.47670033,\n",
       "       -0.46718101, -0.46718101, -0.46083346, -0.45705879, -0.45494148,\n",
       "       -0.45494148, -0.45494148, -0.45494148, -0.41707788, -0.41352678,\n",
       "       -0.40947161, -0.40011266, -0.40011266, -0.40011266, -0.4000766 ,\n",
       "       -0.399393  , -0.39927213, -0.39781779, -0.3976834 , -0.39630407,\n",
       "       -0.3870832 , -0.38457152, -0.38457152, -0.38313195, -0.38024377,\n",
       "       -0.37711024, -0.37528755, -0.37273577, -0.37273577, -0.37273577,\n",
       "       -0.37273577, -0.37189271, -0.36072691, -0.36072691, -0.36072381,\n",
       "       -0.35890311, -0.35890311, -0.35890311, -0.35704786, -0.35704786,\n",
       "       -0.35287343, -0.34624358, -0.34617122, -0.33567713, -0.33552778,\n",
       "       -0.33248705, -0.33114695, -0.32913114, -0.32913114, -0.32798856,\n",
       "       -0.32714831, -0.32714831, -0.32714831, -0.32640013, -0.32245234,\n",
       "       -0.32209595, -0.32209595, -0.32131183, -0.30977364, -0.30968543,\n",
       "       -0.30571762, -0.30374795, -0.30090643, -0.29951853, -0.29951853,\n",
       "       -0.2985295 , -0.29679644, -0.29582134, -0.29556264, -0.29021508,\n",
       "       -0.28700867, -0.28700867, -0.28581115, -0.28383861, -0.28332672])"
      ]
     },
     "execution_count": 49,
     "metadata": {},
     "output_type": "execute_result"
    }
   ],
   "source": [
    "np.sort(w[attack_features])[:100]"
   ]
  },
  {
   "cell_type": "markdown",
   "metadata": {},
   "source": [
    "### Choosing most negative features (most benign) to flip"
   ]
  },
  {
   "cell_type": "code",
   "execution_count": 50,
   "metadata": {
    "collapsed": false
   },
   "outputs": [],
   "source": [
    "w_index=np.argsort(w[attack_features])[:100]"
   ]
  },
  {
   "cell_type": "code",
   "execution_count": 51,
   "metadata": {
    "collapsed": true
   },
   "outputs": [],
   "source": [
    "attack_features_array=np.array(attack_features)"
   ]
  },
  {
   "cell_type": "code",
   "execution_count": 52,
   "metadata": {
    "collapsed": false
   },
   "outputs": [],
   "source": [
    "top_attack_f=attack_features_array[w_index]"
   ]
  },
  {
   "cell_type": "code",
   "execution_count": 53,
   "metadata": {
    "collapsed": true
   },
   "outputs": [
    {
     "data": {
      "text/plain": [
       "array([257065, 457352, 381442,  76803, 115600, 524339, 544747, 408629,\n",
       "        89186, 374926, 172424, 187817, 236171, 103470, 333345, 333347,\n",
       "        12942, 521102,  48679, 505200,  83282,   9096, 170457, 286094,\n",
       "       327624, 344985, 526628, 235219,  81393, 539246, 436003, 331251,\n",
       "       511146, 457499, 167000, 164870, 115209, 233193, 314456, 516788,\n",
       "       537891, 392381, 415481, 135323, 439026,  56554, 126345,  98508,\n",
       "        41006, 154184, 147245, 230383, 339743, 335037, 100214, 466971,\n",
       "        47756, 434592, 251404, 134348,  90428, 368779, 520695, 490397,\n",
       "       105559, 139088, 191271, 449670,   5140, 198327, 257604,  42720,\n",
       "       295408,  38822, 410779, 368316, 134657,   9505, 110498,  50087,\n",
       "       250401, 151262, 204198,  37395, 292234, 442533, 448080, 361093,\n",
       "        55757, 358785, 161974, 245247,  50176, 210240, 149920, 420586,\n",
       "       176617, 223321, 450274,   1129])"
      ]
     },
     "execution_count": 53,
     "metadata": {},
     "output_type": "execute_result"
    }
   ],
   "source": [
    "top_attack_f"
   ]
  },
  {
   "cell_type": "code",
   "execution_count": 54,
   "metadata": {
    "collapsed": true
   },
   "outputs": [
    {
     "data": {
      "text/plain": [
       "array(['service_receiver::collegepics.iconosys.eng.LocationSender',\n",
       "       'service_receiver::realestatebuzzer.iconosys.eng.LocationSender',\n",
       "       'feature::android.hardware.touchscreen',\n",
       "       'service_receiver::com.apps.andromadhu.bmw1live.BootReceiver',\n",
       "       'service_receiver::com.YRHNew.BootReceiver',\n",
       "       'activity::.j2h3kj2h3jk2h3Activity', 'activity::.mainandroid1',\n",
       "       'service_receiver::com.iapps.carraceslideme.BootReceiver',\n",
       "       'activity::.HeroStarter', 'service_receiver::LocationSender'], \n",
       "      dtype='|S111')"
      ]
     },
     "execution_count": 54,
     "metadata": {},
     "output_type": "execute_result"
    }
   ],
   "source": [
    "feature_array[top_attack_f[0:10]]"
   ]
  },
  {
   "cell_type": "code",
   "execution_count": 55,
   "metadata": {
    "collapsed": false
   },
   "outputs": [],
   "source": [
    "mal_indices_test=np.array(mal_indices_test).reshape((1,-1))"
   ]
  },
  {
   "cell_type": "code",
   "execution_count": 56,
   "metadata": {
    "collapsed": false
   },
   "outputs": [
    {
     "data": {
      "text/plain": [
       "(1, 3795)"
      ]
     },
     "execution_count": 56,
     "metadata": {},
     "output_type": "execute_result"
    }
   ],
   "source": [
    "mal_indices_test.shape"
   ]
  },
  {
   "cell_type": "code",
   "execution_count": 57,
   "metadata": {
    "collapsed": false
   },
   "outputs": [
    {
     "data": {
      "text/plain": [
       "array([    6,    12,    36, ..., 88963, 88968, 89000])"
      ]
     },
     "execution_count": 57,
     "metadata": {},
     "output_type": "execute_result"
    }
   ],
   "source": [
    "mal_indices_test.reshape((3795))"
   ]
  },
  {
   "cell_type": "code",
   "execution_count": 59,
   "metadata": {
    "collapsed": false
   },
   "outputs": [
    {
     "data": {
      "text/plain": [
       "array([[    6,    12,    36, ..., 88963, 88968, 89000]])"
      ]
     },
     "execution_count": 59,
     "metadata": {},
     "output_type": "execute_result"
    }
   ],
   "source": [
    "mal_indices_test"
   ]
  },
  {
   "cell_type": "code",
   "execution_count": 58,
   "metadata": {
    "collapsed": false
   },
   "outputs": [
    {
     "name": "stderr",
     "output_type": "stream",
     "text": [
      "/usr/lib/python2.7/dist-packages/scipy/sparse/compressed.py:728: SparseEfficiencyWarning: Changing the sparsity structure of a csc_matrix is expensive. lil_matrix is more efficient.\n",
      "  SparseEfficiencyWarning)\n"
     ]
    },
    {
     "name": "stdout",
     "output_type": "stream",
     "text": [
      "100.0 100.0 0.0\n"
     ]
    }
   ],
   "source": [
    "count_wrong=0.0\n",
    "count_tot=0.0\n",
    "count_adv=0.0\n",
    "base_wrong=0.0\n",
    "for index in mal_indices_test[0]:\n",
    "    mal_test_sample=data_matrix_test[index,:]\n",
    "    mal_test_sample[:,top_attack_f[0]]=1.0\n",
    "    if clf.predict(data_matrix_test[index,:])[0]!=1.0:\n",
    "        base_wrong=base_wrong+1\n",
    "    if clf.predict(mal_test_sample)[0]!=1.0:\n",
    "        count_wrong=count_wrong+1\n",
    "    if clf.predict(mal_test_sample)[0]!=clf.predict(data_matrix_test[index,:])[0]:\n",
    "        count_adv=count_adv+1\n",
    "    count_tot=count_tot+1\n",
    "print count_wrong/count_tot*100, count_adv/count_tot*100, base_wrong/count_tot"
   ]
  },
  {
   "cell_type": "code",
   "execution_count": null,
   "metadata": {
    "collapsed": false
   },
   "outputs": [],
   "source": [
    "from sklearn.decomposition import PCA\n",
    "from sklearn.decomposition import TruncatedSVD\n",
    "svd=TruncatedSVD(n_components=5000)\n",
    "svd.fit(data_matrix_train)"
   ]
  },
  {
   "cell_type": "code",
   "execution_count": 69,
   "metadata": {
    "collapsed": false
   },
   "outputs": [
    {
     "data": {
      "text/plain": [
       "0.98773212901486296"
      ]
     },
     "execution_count": 69,
     "metadata": {},
     "output_type": "execute_result"
    }
   ],
   "source": [
    "X_train_rd=svd.transform(data_matrix_train)\n",
    "clf_svd=svm.LinearSVC()\n",
    "clf_svd.fit(X_train_rd,labels_train)\n",
    "X_test_rd=svd.transform(data_matrix_test)\n",
    "clf_svd.score(X_test_rd,labels_test)"
   ]
  },
  {
   "cell_type": "code",
   "execution_count": 70,
   "metadata": {
    "collapsed": false,
    "scrolled": true
   },
   "outputs": [
    {
     "name": "stdout",
     "output_type": "stream",
     "text": [
      "0 0.494861660079 0 0.797891963109\n",
      "1 0.125164690382 1 0.798682476943\n",
      "2 0.124637681159 2 0.798682476943\n",
      "3 0.0363636363636 3 0.799209486166\n",
      "4 0.0129117259552 4 0.798682476943\n",
      "5 0.00553359683794 5 0.799472990777\n",
      "6 0.00237154150198 6 0.799472990777\n",
      "7 0.0 7 0.799472990777\n",
      "8 0.0 8 0.799736495389\n",
      "9 0.0 9 0.823451910408\n"
     ]
    }
   ],
   "source": [
    "mal_test_sample=data_matrix_test[mal_indices_test[0],:]\n",
    "ini_score=clf.score(mal_test_sample,labels_test[mal_indices_test[0]])\n",
    "mal_test_sample_thousand=svd.transform(mal_test_sample)\n",
    "ini_score_thousand=clf_svd.score(mal_test_sample_thousand,labels_test[mal_indices_test[0]])\n",
    "for i in range(10):\n",
    "    mal_test_sample[:,top_attack_f[i]]=1.0\n",
    "    curr_score=clf.score(mal_test_sample,labels_test[mal_indices_test[0]])\n",
    "    mal_test_sample_thousand=svd.transform(mal_test_sample)\n",
    "    curr_score_thousand=clf_svd.score(mal_test_sample_thousand,labels_test[mal_indices_test[0]])\n",
    "    print i,curr_score,i,curr_score_thousand"
   ]
  },
  {
   "cell_type": "code",
   "execution_count": 71,
   "metadata": {
    "collapsed": false
   },
   "outputs": [
    {
     "data": {
      "text/plain": [
       "['DREBIN_svd_500.pkl',\n",
       " 'DREBIN_svd_500.pkl_01.npy',\n",
       " 'DREBIN_svd_500.pkl_02.npy',\n",
       " 'DREBIN_svd_500.pkl_03.npy']"
      ]
     },
     "execution_count": 71,
     "metadata": {},
     "output_type": "execute_result"
    }
   ],
   "source": [
    "from sklearn.externals import joblib\n",
    "joblib.dump(svd,\"DREBIN_svd_500.pkl\")"
   ]
  },
  {
   "cell_type": "code",
   "execution_count": null,
   "metadata": {
    "collapsed": false
   },
   "outputs": [],
   "source": [
    "mal_test_sample_thousand.shape"
   ]
  },
  {
   "cell_type": "code",
   "execution_count": 65,
   "metadata": {
    "collapsed": false
   },
   "outputs": [
    {
     "data": {
      "text/plain": [
       "0.88906455862977607"
      ]
     },
     "execution_count": 65,
     "metadata": {},
     "output_type": "execute_result"
    }
   ],
   "source": [
    "ini_score"
   ]
  },
  {
   "cell_type": "code",
   "execution_count": 66,
   "metadata": {
    "collapsed": false
   },
   "outputs": [
    {
     "data": {
      "text/plain": [
       "0.66613965744400527"
      ]
     },
     "execution_count": 66,
     "metadata": {},
     "output_type": "execute_result"
    }
   ],
   "source": [
    "ini_score_thousand"
   ]
  },
  {
   "cell_type": "code",
   "execution_count": null,
   "metadata": {
    "collapsed": false
   },
   "outputs": [],
   "source": [
    "mal_test_sample"
   ]
  },
  {
   "cell_type": "code",
   "execution_count": null,
   "metadata": {
    "collapsed": false
   },
   "outputs": [],
   "source": [
    "mal_test_sample[:,top_attack_f[0]]=1.0"
   ]
  },
  {
   "cell_type": "code",
   "execution_count": null,
   "metadata": {
    "collapsed": true
   },
   "outputs": [],
   "source": [
    "mal_test_sample[:,top_attack_f[1]]=1.0"
   ]
  },
  {
   "cell_type": "code",
   "execution_count": null,
   "metadata": {
    "collapsed": true
   },
   "outputs": [],
   "source": [
    "mal_test_sample[:,top_attack_f[2]]=1.0"
   ]
  },
  {
   "cell_type": "code",
   "execution_count": null,
   "metadata": {
    "collapsed": true
   },
   "outputs": [],
   "source": [
    "mal_test_sample[:,top_attack_f[3]]=1.0"
   ]
  },
  {
   "cell_type": "code",
   "execution_count": null,
   "metadata": {
    "collapsed": false
   },
   "outputs": [],
   "source": [
    "mal_test_sample"
   ]
  },
  {
   "cell_type": "code",
   "execution_count": null,
   "metadata": {
    "collapsed": false
   },
   "outputs": [],
   "source": [
    "clf.score(mal_test_sample,labels_test[mal_indices_test[0]])"
   ]
  },
  {
   "cell_type": "code",
   "execution_count": null,
   "metadata": {
    "collapsed": false
   },
   "outputs": [],
   "source": [
    "clf.predict(mal_test_sample[0,:])[0]"
   ]
  },
  {
   "cell_type": "code",
   "execution_count": null,
   "metadata": {
    "collapsed": false
   },
   "outputs": [],
   "source": [
    "clf.decision_function(mal_test_sample)"
   ]
  },
  {
   "cell_type": "code",
   "execution_count": null,
   "metadata": {
    "collapsed": false
   },
   "outputs": [],
   "source": [
    "clf.decision_function(data_matrix_test[,:])"
   ]
  },
  {
   "cell_type": "code",
   "execution_count": null,
   "metadata": {
    "collapsed": false
   },
   "outputs": [],
   "source": [
    "labels_test[0]"
   ]
  },
  {
   "cell_type": "code",
   "execution_count": null,
   "metadata": {
    "collapsed": true
   },
   "outputs": [],
   "source": [
    "X_train_rd=svd.transform(data_matrix_train)"
   ]
  },
  {
   "cell_type": "code",
   "execution_count": null,
   "metadata": {
    "collapsed": false
   },
   "outputs": [],
   "source": [
    "X_train_rd.shape"
   ]
  },
  {
   "cell_type": "code",
   "execution_count": null,
   "metadata": {
    "collapsed": false
   },
   "outputs": [],
   "source": [
    "clf_svd=svm.LinearSVC()\n",
    "clf_svd.fit(X_train_rd,labels_train)"
   ]
  },
  {
   "cell_type": "code",
   "execution_count": null,
   "metadata": {
    "collapsed": false
   },
   "outputs": [],
   "source": [
    "clf_svd.score(X_train_rd,labels_train)"
   ]
  },
  {
   "cell_type": "code",
   "execution_count": null,
   "metadata": {
    "collapsed": false
   },
   "outputs": [],
   "source": [
    "clf_svd.predict(X_train_rd[0,:])"
   ]
  },
  {
   "cell_type": "code",
   "execution_count": null,
   "metadata": {
    "collapsed": true
   },
   "outputs": [],
   "source": [
    "X_test_rd=svd.transform(data_matrix_test)"
   ]
  },
  {
   "cell_type": "code",
   "execution_count": null,
   "metadata": {
    "collapsed": false
   },
   "outputs": [],
   "source": [
    "clf_svd.score(X_test_rd,labels_test)"
   ]
  },
  {
   "cell_type": "code",
   "execution_count": null,
   "metadata": {
    "collapsed": true
   },
   "outputs": [],
   "source": [
    "mal_rd=svd.transform(mal_test_sample)"
   ]
  },
  {
   "cell_type": "code",
   "execution_count": null,
   "metadata": {
    "collapsed": false
   },
   "outputs": [],
   "source": [
    "clf_svd.predict(mal_rd)"
   ]
  },
  {
   "cell_type": "code",
   "execution_count": null,
   "metadata": {
    "collapsed": false
   },
   "outputs": [],
   "source": [
    "clf.predict(mal_test_sample)"
   ]
  },
  {
   "cell_type": "code",
   "execution_count": null,
   "metadata": {
    "collapsed": false
   },
   "outputs": [],
   "source": [
    "count_wrong=0.0\n",
    "count_tot=0.0\n",
    "count_adv=0.0\n",
    "base_wrong=0.0\n",
    "for index in test_mal_indices:\n",
    "    mal_test_sample=data_matrix_test[index,:]\n",
    "    mal_test_sample[:,top_attack_f[0]]=1.0\n",
    "    mal_rd=svd.transform(mal_test_sample)\n",
    "    if clf_svd.predict(X_test_rd[index,:])[0]!=1.0:\n",
    "        base_wrong=base_wrong+1\n",
    "    if clf_svd.predict(mal_rd)[0]!=1.0:\n",
    "        count_wrong=count_wrong+1\n",
    "    if clf_svd.predict(mal_rd)[0]!=clf_svd.predict(X_test_rd[index,:])[0]:\n",
    "        count_adv=count_adv+1\n",
    "    count_tot=count_tot+1\n",
    "print count_wrong/count_tot*100, count_adv/count_tot*100, base_wrong/count_tot"
   ]
  },
  {
   "cell_type": "code",
   "execution_count": null,
   "metadata": {
    "collapsed": true
   },
   "outputs": [],
   "source": [
    "from sklearn.externals import joblib"
   ]
  },
  {
   "cell_type": "code",
   "execution_count": null,
   "metadata": {
    "collapsed": false
   },
   "outputs": [],
   "source": [
    "joblib.dump(svd,\"DREBIN_svd.pkl\")\n",
    "joblib.dump(clf_svd,\"DREBIN_SVM_dr.pkl\")\n",
    "joblib.dump(clf_svd,\"DREBIN_SVM.pkl\")"
   ]
  },
  {
   "cell_type": "code",
   "execution_count": null,
   "metadata": {
    "collapsed": false
   },
   "outputs": [],
   "source": [
    "svd_2=joblib.load(abs_path_m+'DREBIN_svd.pkl')"
   ]
  },
  {
   "cell_type": "code",
   "execution_count": null,
   "metadata": {
    "collapsed": false
   },
   "outputs": [],
   "source": [
    "svd_2"
   ]
  },
  {
   "cell_type": "code",
   "execution_count": null,
   "metadata": {
    "collapsed": true
   },
   "outputs": [],
   "source": [
    "X_test_rd=svd_2.transform(data_matrix_test)"
   ]
  },
  {
   "cell_type": "code",
   "execution_count": null,
   "metadata": {
    "collapsed": true
   },
   "outputs": [],
   "source": [
    "X_train_rd=svd_2.transform(data_matrix_train)"
   ]
  },
  {
   "cell_type": "code",
   "execution_count": null,
   "metadata": {
    "collapsed": false
   },
   "outputs": [],
   "source": [
    "clf_svd=svm.LinearSVC()\n",
    "clf_svd.fit(X_train_rd,labels_train)"
   ]
  },
  {
   "cell_type": "code",
   "execution_count": null,
   "metadata": {
    "collapsed": false
   },
   "outputs": [],
   "source": [
    "clf_svd.score(X_test_rd,labels_test)"
   ]
  },
  {
   "cell_type": "code",
   "execution_count": null,
   "metadata": {
    "collapsed": false
   },
   "outputs": [],
   "source": [
    "mal_rd=svd_2.transform(mal_test_sample)"
   ]
  },
  {
   "cell_type": "code",
   "execution_count": null,
   "metadata": {
    "collapsed": false
   },
   "outputs": [],
   "source": [
    "clf_svd.score(mal_rd,labels_test[mal_indices_test[0]])"
   ]
  },
  {
   "cell_type": "code",
   "execution_count": null,
   "metadata": {
    "collapsed": true
   },
   "outputs": [],
   "source": []
  }
 ],
 "metadata": {
  "kernelspec": {
   "display_name": "Python 2",
   "language": "python",
   "name": "python2"
  },
  "language_info": {
   "codemirror_mode": {
    "name": "ipython",
    "version": 2
   },
   "file_extension": ".py",
   "mimetype": "text/x-python",
   "name": "python",
   "nbconvert_exporter": "python",
   "pygments_lexer": "ipython2",
   "version": "2.7.12"
  }
 },
 "nbformat": 4,
 "nbformat_minor": 0
}

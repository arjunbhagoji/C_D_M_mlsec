{
 "cells": [
  {
   "cell_type": "code",
   "execution_count": 1,
   "metadata": {
    "collapsed": true
   },
   "outputs": [],
   "source": [
    "import os\n",
    "import numpy as np\n",
    "import sys"
   ]
  },
  {
   "cell_type": "code",
   "execution_count": 2,
   "metadata": {
    "collapsed": true
   },
   "outputs": [],
   "source": [
    "import tsne"
   ]
  },
  {
   "cell_type": "code",
   "execution_count": null,
   "metadata": {
    "collapsed": false
   },
   "outputs": [
    {
     "name": "stdout",
     "output_type": "stream",
     "text": [
      "Run Y = tsne.tsne(X, no_dims, perplexity) to perform t-SNE on your dataset.\n",
      "Running example on 2,500 MNIST digits...\n",
      "Preprocessing the data using PCA...\n",
      "Computing pairwise distances...\n",
      "Computing P-values for point  0  of  2500 ...\n",
      "Computing P-values for point  500  of  2500 ...\n",
      "Computing P-values for point  1000  of  2500 ...\n",
      "Computing P-values for point  1500  of  2500 ...\n",
      "Computing P-values for point  2000  of  2500 ...\n",
      "Mean value of sigma:  2.38659662134\n",
      "Iteration  10 : error is  23.645638245\n",
      "Iteration  20 : error is  21.3020774707\n",
      "Iteration  30 : error is  18.1720391256\n",
      "Iteration  40 : error is  16.9314685226\n",
      "Iteration  50 : error is  16.4453548259\n",
      "Iteration  60 : error is  16.1672309718\n",
      "Iteration  70 : error is  16.0983175131\n",
      "Iteration  80 : error is  16.0066550864\n",
      "Iteration  90 : error is  15.9448211901\n"
     ]
    }
   ],
   "source": [
    "run tsne"
   ]
  },
  {
   "cell_type": "code",
   "execution_count": null,
   "metadata": {
    "collapsed": true
   },
   "outputs": [],
   "source": []
  }
 ],
 "metadata": {
  "kernelspec": {
   "display_name": "Python 2",
   "language": "python",
   "name": "python2"
  },
  "language_info": {
   "codemirror_mode": {
    "name": "ipython",
    "version": 2
   },
   "file_extension": ".py",
   "mimetype": "text/x-python",
   "name": "python",
   "nbconvert_exporter": "python",
   "pygments_lexer": "ipython2",
   "version": "2.7.11"
  }
 },
 "nbformat": 4,
 "nbformat_minor": 0
}

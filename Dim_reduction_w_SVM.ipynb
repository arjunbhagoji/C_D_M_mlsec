{
 "cells": [
  {
   "cell_type": "markdown",
   "metadata": {},
   "source": [
    "### Loading data"
   ]
  },
  {
   "cell_type": "code",
   "execution_count": 1,
   "metadata": {
    "collapsed": true
   },
   "outputs": [],
   "source": [
    "def load_dataset():\n",
    "    # We first define a download function, supporting both Python 2 and 3.\n",
    "    if sys.version_info[0] == 2:\n",
    "        from urllib import urlretrieve\n",
    "    else:\n",
    "        from urllib.request import urlretrieve\n",
    "\n",
    "    def download(filename, source='http://yann.lecun.com/exdb/mnist/'):\n",
    "        print(\"Downloading %s\" % filename)\n",
    "        urlretrieve(source + filename, filename)\n",
    "\n",
    "    # We then define functions for loading MNIST images and labels.\n",
    "    # For convenience, they also download the requested files if needed.\n",
    "    import gzip\n",
    "\n",
    "    def load_mnist_images(filename):\n",
    "        #if not os.path.exists(filename):\n",
    "        #    download(filename)\n",
    "        # Read the inputs in Yann LeCun's binary format.\n",
    "        with gzip.open(filename, 'rb') as f:\n",
    "            data = np.frombuffer(f.read(), np.uint8, offset=16)\n",
    "        # The inputs are vectors now, we reshape them to monochrome 2D images,\n",
    "        # following the shape convention: (examples, channels, rows, columns)\n",
    "        data = data.reshape(-1, 1, 784)\n",
    "        # The inputs come as bytes, we convert them to float32 in range [0,1].\n",
    "        # (Actually to range [0, 255/256], for compatibility to the version\n",
    "        # provided at http://deeplearning.net/data/mnist/mnist.pkl.gz.)\n",
    "        return data / np.float32(256)\n",
    "\n",
    "    def load_mnist_labels(filename):\n",
    "        #if not os.path.exists(filename):\n",
    "        #    download(filename)\n",
    "        # Read the labels in Yann LeCun's binary format.\n",
    "        with gzip.open(filename, 'rb') as f:\n",
    "            data = np.frombuffer(f.read(), np.uint8, offset=8)\n",
    "        # The labels are vectors of integers now, that's exactly what we want.\n",
    "        return data\n",
    "\n",
    "    # We can now download and read the training and test set images and labels.\n",
    "    script_dir=os.getcwd()\n",
    "    rel_path=\"Input_data/\"\n",
    "    abs_path=os.path.join(script_dir,rel_path)\n",
    "    X_train = load_mnist_images(abs_path+'train-images-idx3-ubyte.gz')\n",
    "    y_train = load_mnist_labels(abs_path+'train-labels-idx1-ubyte.gz')\n",
    "    X_test = load_mnist_images(abs_path+'t10k-images-idx3-ubyte.gz')\n",
    "    y_test = load_mnist_labels(abs_path+'t10k-labels-idx1-ubyte.gz')\n",
    "\n",
    "    # We reserve the last 10000 training examples for validation.\n",
    "    X_train, X_val = X_train[:-10000], X_train[-10000:]\n",
    "    y_train, y_val = y_train[:-10000], y_train[-10000:]\n",
    "\n",
    "    # We just return all the arrays in order, as expected in main().\n",
    "    # (It doesn't matter how we do this as long as we can read them again.)\n",
    "    return X_train, y_train, X_val, y_val, X_test, y_test"
   ]
  },
  {
   "cell_type": "markdown",
   "metadata": {},
   "source": [
    "### Success rate on MNIST dataset without PCA"
   ]
  },
  {
   "cell_type": "code",
   "execution_count": 2,
   "metadata": {
    "collapsed": false
   },
   "outputs": [
    {
     "name": "stderr",
     "output_type": "stream",
     "text": [
      "/usr/local/lib/python2.7/dist-packages/matplotlib/font_manager.py:273: UserWarning: Matplotlib is building the font cache using fc-list. This may take a moment.\n",
      "  warnings.warn('Matplotlib is building the font cache using fc-list. This may take a moment.')\n"
     ]
    },
    {
     "data": {
      "text/plain": [
       "0.92069999999999996"
      ]
     },
     "execution_count": 2,
     "metadata": {},
     "output_type": "execute_result"
    }
   ],
   "source": [
    "import numpy as np\n",
    "import sys\n",
    "import os\n",
    "\n",
    "from matplotlib import pyplot as plt\n",
    "\n",
    "%matplotlib inline\n",
    "\n",
    "X_train, y_train, X_val, y_val, X_test, y_test=load_dataset()\n",
    "\n",
    "X_train=X_train.reshape((50000,784))\n",
    "\n",
    "from sklearn import svm\n",
    "\n",
    "clf=svm.LinearSVC()\n",
    "\n",
    "clf.fit(X_train,y_train)\n",
    "\n",
    "X_val=X_val.reshape((10000,784))\n",
    "\n",
    "clf.score(X_val,y_val)"
   ]
  },
  {
   "cell_type": "code",
   "execution_count": null,
   "metadata": {
    "collapsed": false
   },
   "outputs": [],
   "source": [
    "clf.score(X_train,y_train)"
   ]
  },
  {
   "cell_type": "code",
   "execution_count": null,
   "metadata": {
    "collapsed": false
   },
   "outputs": [],
   "source": [
    "X_test=X_test.reshape((10000,784))\n",
    "clf.score(X_test,y_test)"
   ]
  },
  {
   "cell_type": "code",
   "execution_count": null,
   "metadata": {
    "collapsed": false
   },
   "outputs": [],
   "source": [
    "clf.coef_.shape"
   ]
  },
  {
   "cell_type": "code",
   "execution_count": null,
   "metadata": {
    "collapsed": false
   },
   "outputs": [],
   "source": [
    "for i in range(10):\n",
    "    print np.linalg.norm(clf.coef_[i])"
   ]
  },
  {
   "cell_type": "code",
   "execution_count": null,
   "metadata": {
    "collapsed": true
   },
   "outputs": [],
   "source": [
    "clf.decision_function(X_train)"
   ]
  },
  {
   "cell_type": "code",
   "execution_count": null,
   "metadata": {
    "collapsed": true
   },
   "outputs": [],
   "source": [
    "one_array=np.where(y_train==1)\n",
    "\n",
    "# one_array[0]\n",
    "\n",
    "one_y_train=y_train[one_array]\n",
    "\n",
    "# one_y_train.shape\n",
    "\n",
    "one_X_train=X_train[one_array[0],:]\n",
    "\n",
    "# one_X_train.shape\n",
    "\n",
    "one_decision_train=clf.decision_function(one_X_train)\n",
    "\n",
    "# one_decision_train[0,:]\n",
    "\n",
    "one_correct=np.where(one_decision_train<0)\n",
    "\n",
    "# one_correct\n",
    "\n",
    "\n",
    "\n",
    "# np.amax(one_decision_train[:,1])\n",
    "\n",
    "# np.amin(np.abs(one_decision_train[:,1]))\n",
    "\n",
    "positive_indices_one=np.where(one_decision_train[:,1]>0)[0]\n",
    "\n",
    "temp_gap=np.where(one_decision_train[:,1]>1.1)[0]\n",
    "\n",
    "# temp_gap.shape\n",
    "\n",
    "# np.amin(one_decision_train[positive_indices_one,1])"
   ]
  },
  {
   "cell_type": "code",
   "execution_count": null,
   "metadata": {
    "collapsed": true
   },
   "outputs": [],
   "source": [
    "clf_one=svm.LinearSVC()\n",
    "clf_.fit(X_train,y_train)"
   ]
  },
  {
   "cell_type": "code",
   "execution_count": null,
   "metadata": {
    "collapsed": false
   },
   "outputs": [],
   "source": [
    "clf.score(one_X_train,y_train[one_array])"
   ]
  },
  {
   "cell_type": "code",
   "execution_count": null,
   "metadata": {
    "collapsed": true
   },
   "outputs": [],
   "source": [
    "positive_indices_one=np.where(one_decision_train[:,1]>0)[0]"
   ]
  },
  {
   "cell_type": "code",
   "execution_count": null,
   "metadata": {
    "collapsed": false
   },
   "outputs": [],
   "source": [
    "np.amin(one_decision_train[positive_indices_one,1]/np.linalg.norm(clf.coef_[1,:]))"
   ]
  },
  {
   "cell_type": "code",
   "execution_count": null,
   "metadata": {
    "collapsed": false
   },
   "outputs": [],
   "source": [
    "np.amax(one_decision_train[positive_indices_one,1]/np.linalg.norm(clf.coef_[1,:]))"
   ]
  },
  {
   "cell_type": "code",
   "execution_count": null,
   "metadata": {
    "collapsed": false
   },
   "outputs": [],
   "source": [
    "np.mean(one_decision_train[positive_indices_one,1]/np.linalg.norm(clf.coef_[1,:]))"
   ]
  },
  {
   "cell_type": "markdown",
   "metadata": {},
   "source": [
    "### Finding adversarial example success rates"
   ]
  },
  {
   "cell_type": "code",
   "execution_count": 3,
   "metadata": {
    "collapsed": false
   },
   "outputs": [
    {
     "name": "stdout",
     "output_type": "stream",
     "text": [
      "0.95928 0.99976 0.9997408767\n"
     ]
    }
   ],
   "source": [
    "no_of_mags=10\n",
    "adv_examples_train=np.zeros((50000,784))\n",
    "\n",
    "mag_count=0\n",
    "for DEV_MAG in np.linspace(1.0,1.0,1):\n",
    "    count_pure_adv=0.0\n",
    "    count_adv=0.0\n",
    "    count_wrong=0.0\n",
    "    count_correct=0.0\n",
    "    print_flag=0\n",
    "    for i in range(50000):\n",
    "        x_ini=(X_train[i,:]).reshape((1,784))\n",
    "        ini_class=clf.predict(x_ini)\n",
    "        x_adv=(x_ini-DEV_MAG*(clf.coef_[ini_class[0],:]/(np.linalg.norm(clf.coef_[ini_class[0],:])))).reshape((1,784))\n",
    "        x_adv=x_adv\n",
    "        adv_examples_train[i,:]=x_adv\n",
    "        final_class=clf.predict(x_adv)\n",
    "        if ini_class[0]==y_train[i]:\n",
    "            count_correct=count_correct+1\n",
    "        if ini_class[0]!=final_class[0]:\n",
    "            count_adv=count_adv+1\n",
    "        if y_train[i]!=final_class[0]:\n",
    "            count_wrong=count_wrong+1\n",
    "        if y_train[i]!=final_class[0] and ini_class[0]==y_train[i]:\n",
    "            count_pure_adv=count_pure_adv+1\n",
    "#         if y_train[i]!=final_class[0] and ini_class[0]==y_train[i] and print_flag==0:\n",
    "#             #plt.imshow((x_ini.reshape((28,28)))*255, cmap='gray', interpolation='nearest', vmin=0, vmax=255)\n",
    "#             plt.imshow(((x_adv-x_ini).reshape((28,28)))*255, cmap='gray', interpolation='nearest', vmin=0, vmax=255)\n",
    "#             print_flag=print_flag+1\n",
    "    mag_count=mag_count+1\n",
    "print count_wrong/50000.0, count_adv/50000.0, count_pure_adv/count_correct"
   ]
  },
  {
   "cell_type": "code",
   "execution_count": 4,
   "metadata": {
    "collapsed": true
   },
   "outputs": [],
   "source": [
    "X_train_inc_adv=np.vstack((X_train,adv_examples_train))\n",
    "y_train_new=np.hstack((y_train,y_train))"
   ]
  },
  {
   "cell_type": "code",
   "execution_count": 5,
   "metadata": {
    "collapsed": false
   },
   "outputs": [
    {
     "data": {
      "text/plain": [
       "LinearSVC(C=1.0, class_weight=None, dual=True, fit_intercept=True,\n",
       "     intercept_scaling=1, loss='squared_hinge', max_iter=1000,\n",
       "     multi_class='ovr', penalty='l2', random_state=None, tol=0.0001,\n",
       "     verbose=0)"
      ]
     },
     "execution_count": 5,
     "metadata": {},
     "output_type": "execute_result"
    }
   ],
   "source": [
    "clf_new=svm.LinearSVC()\n",
    "clf_new.fit(X_train_inc_adv,y_train_new)"
   ]
  },
  {
   "cell_type": "code",
   "execution_count": 7,
   "metadata": {
    "collapsed": false
   },
   "outputs": [
    {
     "data": {
      "text/plain": [
       "0.91549999999999998"
      ]
     },
     "execution_count": 7,
     "metadata": {},
     "output_type": "execute_result"
    }
   ],
   "source": [
    "X_test=X_test.reshape((10000,784))\n",
    "clf_new.score(X_test,y_test)"
   ]
  },
  {
   "cell_type": "markdown",
   "metadata": {
    "collapsed": true
   },
   "source": [
    "a=3.0*(clf.coef_[ini_class[0],:]/(np.linalg.norm(clf.coef_[ini_class[0],:])))\n",
    "\n",
    "np.amax(a)\n",
    "\n",
    "a.shape\n",
    "\n",
    "np.linalg.norm(a,1)"
   ]
  },
  {
   "cell_type": "code",
   "execution_count": 9,
   "metadata": {
    "collapsed": false
   },
   "outputs": [
    {
     "name": "stdout",
     "output_type": "stream",
     "text": [
      "0.2114 0.2399 0.185253959585\n",
      "9155.0\n",
      "0.5352 0.5824 0.5453850355\n",
      "9155.0\n",
      "0.8089 0.8579 0.844893500819\n",
      "9155.0\n",
      "0.9099 0.9581 0.954341889678\n",
      "9155.0\n",
      "0.9428 0.9905 0.989623156745\n",
      "9155.0\n",
      "0.9513 0.9985 0.998361551065\n",
      "9155.0\n",
      "0.9541 1.0 1.0\n",
      "9155.0\n",
      "0.9552 1.0 1.0\n",
      "9155.0\n",
      "0.9558 1.0 1.0\n",
      "9155.0\n",
      "0.9573 1.0 1.0\n",
      "9155.0\n"
     ]
    }
   ],
   "source": [
    "no_of_mags=10\n",
    "adv_examples_test=np.zeros((10000,784,no_of_mags))\n",
    "\n",
    "mag_count=0\n",
    "for DEV_MAG in np.linspace(0.1,1.0,10):\n",
    "    count_pure_adv=0.0\n",
    "    count_adv=0.0\n",
    "    count_wrong=0.0\n",
    "    count_correct=0.0\n",
    "    print_flag=0\n",
    "    for i in range(10000):\n",
    "        x_ini=(X_test[i,:]).reshape((1,784))\n",
    "        ini_class=clf_new.predict(x_ini)\n",
    "        x_adv=(x_ini-DEV_MAG*(clf_new.coef_[ini_class[0],:]/(np.linalg.norm(clf_new.coef_[ini_class[0],:])))).reshape((1,784))\n",
    "        adv_examples_test[i,:,mag_count]=x_adv\n",
    "        final_class=clf_new.predict(x_adv)\n",
    "        if ini_class[0]==y_test[i]:\n",
    "            count_correct=count_correct+1\n",
    "        if ini_class[0]!=final_class[0]:\n",
    "            count_adv=count_adv+1\n",
    "        if y_test[i]!=final_class[0]:\n",
    "            count_wrong=count_wrong+1\n",
    "        if y_test[i]!=final_class[0] and ini_class[0]==y_test[i]:\n",
    "            count_pure_adv=count_pure_adv+1\n",
    "    #     if y_test[i]!=final_class[0] and ini_class[0]==y_test[i]:\n",
    "    #         fig=plt.imshow((x_adv.reshape((28,28)))*255, cmap='gray', interpolation='nearest', vmin=0, vmax=255)\n",
    "    #         plt.savefig('MNIST_SVM_'+str(2)+'_'+str(ini_class)+'_'+str(final_class)+'.png',bbox_inches='tight')\n",
    "    #         fig=plt.imshow((x_ini.reshape((28,28)))*255, cmap='gray', interpolation='nearest', vmin=0, vmax=255)\n",
    "    #         plt.savefig('MNIST_SVM_'+str(ini_class)+'.png',bbox_inches='tight')\n",
    "            #fig=plt.imshow(((x_adv-x_ini).reshape((28,28)))*255, cmap='gray', interpolation='nearest', vmin=0, vmax=255)\n",
    "    mag_count=mag_count+1\n",
    "    print count_wrong/10000.0, count_adv/10000.0, count_pure_adv/count_correct\n",
    "    print count_correct"
   ]
  },
  {
   "cell_type": "code",
   "execution_count": null,
   "metadata": {
    "collapsed": false
   },
   "outputs": [],
   "source": [
    "final_class[0]"
   ]
  },
  {
   "cell_type": "code",
   "execution_count": null,
   "metadata": {
    "collapsed": false
   },
   "outputs": [],
   "source": [
    "plt.imshow((X_test[13,:].reshape((28,28)))*255, cmap='gray', interpolation='nearest', vmin=0, vmax=255)"
   ]
  },
  {
   "cell_type": "code",
   "execution_count": null,
   "metadata": {
    "collapsed": false
   },
   "outputs": [],
   "source": [
    "ini_class"
   ]
  },
  {
   "cell_type": "code",
   "execution_count": null,
   "metadata": {
    "collapsed": false
   },
   "outputs": [],
   "source": [
    "final_class"
   ]
  },
  {
   "cell_type": "code",
   "execution_count": null,
   "metadata": {
    "collapsed": false
   },
   "outputs": [],
   "source": [
    "a=clf.decision_function(x_ini)[0][6]/np.linalg.norm(clf.coef_[ini_class[0],:])"
   ]
  },
  {
   "cell_type": "code",
   "execution_count": null,
   "metadata": {
    "collapsed": false
   },
   "outputs": [],
   "source": [
    "b=clf.decision_function(x_adv)[0][6]/np.linalg.norm(clf.coef_[ini_class[0],:])"
   ]
  },
  {
   "cell_type": "code",
   "execution_count": null,
   "metadata": {
    "collapsed": false
   },
   "outputs": [],
   "source": [
    "a-b"
   ]
  },
  {
   "cell_type": "code",
   "execution_count": null,
   "metadata": {
    "collapsed": true
   },
   "outputs": [],
   "source": [
    "one_decision_adv=clf.decision_function(adv_examples_train_one)"
   ]
  },
  {
   "cell_type": "code",
   "execution_count": null,
   "metadata": {
    "collapsed": false
   },
   "outputs": [],
   "source": [
    "np.amax(one_decision_adv[:,1])"
   ]
  },
  {
   "cell_type": "code",
   "execution_count": null,
   "metadata": {
    "collapsed": false
   },
   "outputs": [],
   "source": [
    "np.amin(one_decision_adv[:,1])"
   ]
  },
  {
   "cell_type": "code",
   "execution_count": null,
   "metadata": {
    "collapsed": true
   },
   "outputs": [],
   "source": [
    "temp_gap_adv=np.where(one_decision_adv[:,1]>0)[0]"
   ]
  },
  {
   "cell_type": "code",
   "execution_count": null,
   "metadata": {
    "collapsed": false
   },
   "outputs": [],
   "source": [
    "temp_gap_adv"
   ]
  },
  {
   "cell_type": "code",
   "execution_count": null,
   "metadata": {
    "collapsed": false
   },
   "outputs": [],
   "source": [
    "for i in range(10):\n",
    "    print 1/np.linalg.norm(clf.coef_[i,:])"
   ]
  },
  {
   "cell_type": "markdown",
   "metadata": {},
   "source": [
    "### Success rate on MNIST dataset with PCA"
   ]
  },
  {
   "cell_type": "code",
   "execution_count": null,
   "metadata": {
    "collapsed": false
   },
   "outputs": [],
   "source": [
    "from sklearn.decomposition import PCA\n",
    "\n",
    "rd=50\n",
    "\n",
    "PCA_in_train=X_train\n",
    "PCA_in_val=X_val\n",
    "PCA_in_test=X_test\n",
    "\n",
    "### Doing PCA over the training data\n",
    "#Fitting the PCA model on training data\n",
    "pca=PCA(n_components=rd)\n",
    "pca.fit(PCA_in_train)\n",
    "#Transforming the training, validation and test data\n",
    "X_train_dr=pca.transform(PCA_in_train).reshape((50000,rd))\n",
    "X_test_dr=pca.transform(PCA_in_test).reshape((10000,rd))\n",
    "X_val_dr=pca.transform(PCA_in_val).reshape((10000,rd))\n",
    "\n",
    "clf_pca=svm.LinearSVC(dual=False)\n",
    "\n",
    "clf_pca.fit(X_train_dr,y_train)\n",
    "\n",
    "# val_out_pca=clf_pca.predict(X_val_dr)\n",
    "# validation_success_pca=(10000-np.count_nonzero(val_out_pca-y_val))/10000.0"
   ]
  },
  {
   "cell_type": "code",
   "execution_count": null,
   "metadata": {
    "collapsed": true
   },
   "outputs": [],
   "source": [
    "X_test_rev=pca.inverse_transform(X_test_dr)\n",
    "X_train_rev=pca.inverse_transform(X_train_dr)"
   ]
  },
  {
   "cell_type": "code",
   "execution_count": null,
   "metadata": {
    "collapsed": false
   },
   "outputs": [],
   "source": [
    "clf_pca.score(X_train_dr,y_train)"
   ]
  },
  {
   "cell_type": "code",
   "execution_count": null,
   "metadata": {
    "collapsed": false
   },
   "outputs": [],
   "source": [
    "clf_pca.score(X_test_dr,y_test)"
   ]
  },
  {
   "cell_type": "code",
   "execution_count": null,
   "metadata": {
    "collapsed": false
   },
   "outputs": [],
   "source": [
    "one_X_train_dr=X_train_dr[one_array[0],:]\n",
    "\n",
    "clf_pca.score(one_X_train_dr,one_y_train)\n",
    "\n",
    "one_decision_train_dr=clf_pca.decision_function(one_X_train_dr)\n",
    "\n",
    "np.amax(one_decision_train_dr[:,1])\n",
    "\n",
    "np.amin(one_decision_train_dr[:,1])\n",
    "\n",
    "temp_gap_dr=np.where(one_decision_train_dr[:,1]>1.1)[0]\n",
    "\n",
    "temp_gap_dr.shape"
   ]
  },
  {
   "cell_type": "code",
   "execution_count": null,
   "metadata": {
    "collapsed": true
   },
   "outputs": [],
   "source": [
    "positive_indices_one_dr=np.where(one_decision_train_dr[:,1]>0)[0]"
   ]
  },
  {
   "cell_type": "code",
   "execution_count": null,
   "metadata": {
    "collapsed": false
   },
   "outputs": [],
   "source": [
    "np.amax(one_decision_train_dr[positive_indices_one_dr,1]/np.linalg.norm(clf_pca.coef_[1,:]))"
   ]
  },
  {
   "cell_type": "code",
   "execution_count": null,
   "metadata": {
    "collapsed": false
   },
   "outputs": [],
   "source": [
    "np.amin(one_decision_train_dr[positive_indices_one_dr,1]/np.linalg.norm(clf_pca.coef_[1,:]))"
   ]
  },
  {
   "cell_type": "code",
   "execution_count": null,
   "metadata": {
    "collapsed": false
   },
   "outputs": [],
   "source": [
    "np.mean(one_decision_train_dr[positive_indices_one_dr,1]/np.linalg.norm(clf_pca.coef_[1,:]))"
   ]
  },
  {
   "cell_type": "code",
   "execution_count": null,
   "metadata": {
    "collapsed": false
   },
   "outputs": [],
   "source": [
    "for i in range(10):\n",
    "    print np.linalg.norm(clf_pca.coef_[i,:])"
   ]
  },
  {
   "cell_type": "code",
   "execution_count": null,
   "metadata": {
    "collapsed": false
   },
   "outputs": [],
   "source": [
    "X_adv_test_dr=pca.transform(adv_examples_test).reshape((10000,rd))\n",
    "rev_adv_test=pca.inverse_transform(X_adv_test_dr)\n",
    "X_adv_train_dr=pca.transform(adv_examples_train).reshape((50000,rd))\n",
    "rev_adv_train=pca.inverse_transform(X_adv_train_dr)"
   ]
  },
  {
   "cell_type": "code",
   "execution_count": null,
   "metadata": {
    "collapsed": false
   },
   "outputs": [],
   "source": [
    "X_adv_test_dr[13,:].shape"
   ]
  },
  {
   "cell_type": "code",
   "execution_count": null,
   "metadata": {
    "collapsed": false
   },
   "outputs": [],
   "source": [
    "plt.imshow((X_adv_test_dr[13,:].reshape((1,rd)))*255, cmap='gray', interpolation='nearest', vmin=0, vmax=255)\n",
    "plt.axis('off')\n",
    "plt.savefig('rd_input.png',bbox_inches='tight')"
   ]
  },
  {
   "cell_type": "code",
   "execution_count": null,
   "metadata": {
    "collapsed": false
   },
   "outputs": [],
   "source": [
    "rev_train=pca.inverse_transform(X_train_dr)\n",
    "clf.score(rev_train,y_train)"
   ]
  },
  {
   "cell_type": "code",
   "execution_count": null,
   "metadata": {
    "collapsed": false
   },
   "outputs": [],
   "source": [
    "rev_test=pca.inverse_transform(X_test_dr)\n",
    "clf.score(rev_test,y_test)"
   ]
  },
  {
   "cell_type": "markdown",
   "metadata": {},
   "source": [
    "### Reconstruction based defense"
   ]
  },
  {
   "cell_type": "code",
   "execution_count": null,
   "metadata": {
    "collapsed": false,
    "scrolled": true
   },
   "outputs": [],
   "source": [
    "count_pure_adv_2=0.0\n",
    "count_adv_2=0.0\n",
    "count_wrong_2=0.0\n",
    "count_correct=0.0\n",
    "for i in range(10000):\n",
    "    x_ini_2=(X_test_rev[i,:]).reshape((1,784))\n",
    "    ini_class_2=clf.predict(x_ini_2)\n",
    "    #x_adv=(x_ini-1.0*(clf.coef_[ini_class[0],:]/(np.linalg.norm(clf.coef_[ini_class[0],:])))).reshape((1,784))\n",
    "    x_adv_2=rev_adv_test[i,:].reshape((1,784))\n",
    "    final_class_2=clf.predict(x_adv_2)\n",
    "    if ini_class_2[0]!=final_class_2[0]:\n",
    "        count_adv_2=count_adv_2+1\n",
    "    if y_test[i]!=final_class_2[0]:\n",
    "        count_wrong_2=count_wrong_2+1\n",
    "    if y_test[i]==ini_class_2[0]:\n",
    "        count_correct=count_correct+1\n",
    "    if y_test[i]!=final_class_2[0] and ini_class_2[0]==y_test[i]:\n",
    "        count_pure_adv_2=count_pure_adv_2+1\n",
    "#     plt.imshow((adv_examples_test[0].reshape((28,28)))*255, cmap='gray', interpolation='nearest', vmin=0, vmax=255)\n",
    "#     if ini_class_2[0]==y_test[i]:\n",
    "#         fig=plt.imshow((x_adv_2.reshape((28,28)))*255, cmap='gray', interpolation='nearest', vmin=0, vmax=255)\n",
    "#         plt.savefig('MNIST_SVM_recons'+str(rd)+'_'+str(2)+'_'+str(ini_class_2)+'_'+str(final_class_2)+'.png',bbox_inches='tight')\n",
    "#         fig=plt.imshow((x_ini_2.reshape((28,28)))*255, cmap='gray', interpolation='nearest', vmin=0, vmax=255)\n",
    "#         plt.savefig('MNIST_SVM_recons'+str(rd)+'_'+str(ini_class_2)+'.png',bbox_inches='tight')\n",
    "print count_wrong_2/10000.0, count_adv_2/10000.0, count_pure_adv_2/count_correct\n",
    "print count_correct"
   ]
  },
  {
   "cell_type": "markdown",
   "metadata": {
    "collapsed": false
   },
   "source": [
    "plt.imshow((rev_adv_test[0].reshape((28,28)))*255, cmap='gray', interpolation='nearest', vmin=0, vmax=255)"
   ]
  },
  {
   "cell_type": "code",
   "execution_count": null,
   "metadata": {
    "collapsed": false
   },
   "outputs": [],
   "source": [
    "count_pure_adv_2=0.0\n",
    "count_adv_2=0.0\n",
    "count_wrong_2=0.0\n",
    "count_correct=0.0\n",
    "for i in range(50000):\n",
    "    x_ini_2=(X_train_rev[i,:]).reshape((1,784))\n",
    "    ini_class_2=clf.predict(x_ini_2)\n",
    "    #x_adv=(x_ini-1.0*(clf.coef_[ini_class[0],:]/(np.linalg.norm(clf.coef_[ini_class[0],:])))).reshape((1,784))\n",
    "    x_adv_2=rev_adv_train[i,:].reshape((1,784))\n",
    "    final_class_2=clf.predict(x_adv_2)\n",
    "    if ini_class_2[0]!=final_class_2[0]:\n",
    "        count_adv_2=count_adv_2+1\n",
    "    if y_train[i]!=final_class_2[0]:\n",
    "        count_wrong_2=count_wrong_2+1\n",
    "    if y_train[i]==ini_class_2[0]:\n",
    "        count_correct=count_correct+1\n",
    "    if y_train[i]!=final_class_2[0] and ini_class_2[0]==y_train[i]:\n",
    "        count_pure_adv_2=count_pure_adv_2+1\n",
    "#     if y_train[i]!=final_class[0] and ini_class[0]==y_train[i] and print_flag==0:\n",
    "#         #plt.imshow((x_ini.reshape((28,28)))*255, cmap='gray', interpolation='nearest', vmin=0, vmax=255)\n",
    "#         plt.imshow(((x_adv-x_ini).reshape((28,28)))*255, cmap='gray', interpolation='nearest', vmin=0, vmax=255)\n",
    "#         print_flag=print_flag+1\n",
    "print count_wrong_2/50000.0, count_adv_2/50000.0, count_pure_adv_2/count_correct\n",
    "print count_correct"
   ]
  },
  {
   "cell_type": "code",
   "execution_count": null,
   "metadata": {
    "collapsed": false
   },
   "outputs": [],
   "source": [
    "count_pure_adv_pca=0.0\n",
    "count_adv_pca=0.0\n",
    "count_wrong_pca=0.0\n",
    "count_correct=0.0\n",
    "#print_flag_pca=0\n",
    "for i in range(50000):\n",
    "    x_ini=(X_train_dr[i,:]).reshape((1,rd))\n",
    "    ini_class=clf_pca.predict(x_ini)\n",
    "#     x_adv=(x_ini-DEV_MAG*(clf_pca.coef_[ini_class[0],:]/(np.linalg.norm(clf_pca.coef_[ini_class[0],:])))).reshape((1,rd))\n",
    "    x_adv=X_adv_train_dr[i,:].reshape((1,rd))\n",
    "    final_class=clf_pca.predict(x_adv)\n",
    "    if ini_class[0]!=final_class[0]:\n",
    "        count_adv_pca=count_adv_pca+1\n",
    "    if y_train[i]!=final_class[0]:\n",
    "        count_wrong_pca=count_wrong_pca+1\n",
    "    if y_train[i]==ini_class[0]:\n",
    "        count_correct=count_correct+1\n",
    "    if y_train[i]!=final_class[0] and ini_class[0]==y_train[i]:\n",
    "        count_pure_adv_pca=count_pure_adv_pca+1\n",
    "    #if y_train[i]!=final_class[0] and ini_class[0]==y_train[i] and print_flag==0:\n",
    "        #plt.imshow((x_ini.reshape((28,28)))*255, cmap='gray', interpolation='nearest', vmin=0, vmax=255)\n",
    "        #plt.imshow(((x_adv-x_ini).reshape((28,28)))*255, cmap='gray', interpolation='nearest', vmin=0, vmax=255)\n",
    "        #print_flag=print_flag+1\n",
    "print count_wrong_pca/50000.0, count_adv_pca/50000.0, count_pure_adv_pca/count_correct\n",
    "print count_correct"
   ]
  },
  {
   "cell_type": "code",
   "execution_count": null,
   "metadata": {
    "collapsed": false
   },
   "outputs": [],
   "source": [
    "count_pure_adv_pca=0.0\n",
    "count_adv_pca=0.0\n",
    "count_wrong_pca=0.0\n",
    "count_correct=0.0\n",
    "#print_flag_pca=0\n",
    "for i in range(10000):\n",
    "    x_ini=(X_test_dr[i,:]).reshape((1,rd))\n",
    "    ini_class=clf_pca.predict(x_ini)\n",
    "#     x_adv=(x_ini-DEV_MAG*(clf_pca.coef_[ini_class[0],:]/(np.linalg.norm(clf_pca.coef_[ini_class[0],:])))).reshape((1,rd))\n",
    "    x_adv=X_adv_test_dr[i,:].reshape((1,rd))\n",
    "    final_class=clf_pca.predict(x_adv)\n",
    "    if ini_class[0]!=final_class[0]:\n",
    "        count_adv_pca=count_adv_pca+1\n",
    "    if y_test[i]!=final_class[0]:\n",
    "        count_wrong_pca=count_wrong_pca+1\n",
    "    if y_test[i]==ini_class[0]:\n",
    "        count_correct=count_correct+1\n",
    "    if y_test[i]!=final_class[0] and ini_class[0]==y_test[i]:\n",
    "        count_pure_adv_pca=count_pure_adv_pca+1\n",
    "    #if y_train[i]!=final_class[0] and ini_class[0]==y_train[i] and print_flag==0:\n",
    "        #plt.imshow((x_ini.reshape((28,28)))*255, cmap='gray', interpolation='nearest', vmin=0, vmax=255)\n",
    "        #plt.imshow(((x_adv-x_ini).reshape((28,28)))*255, cmap='gray', interpolation='nearest', vmin=0, vmax=255)\n",
    "        #print_flag=print_flag+1\n",
    "print count_wrong_pca/10000.0, count_adv_pca/10000.0, count_pure_adv_pca/count_correct\n",
    "print count_correct"
   ]
  },
  {
   "cell_type": "markdown",
   "metadata": {},
   "source": [
    "### Retraining-based, keeping same average distortion per pixel"
   ]
  },
  {
   "cell_type": "code",
   "execution_count": null,
   "metadata": {
    "collapsed": false
   },
   "outputs": [],
   "source": [
    "DEV_MAG=1.0\n",
    "DEV_MAG_rd=DEV_MAG*np.sqrt(50.0/784.0)\n",
    "DEV_MAG_rd"
   ]
  },
  {
   "cell_type": "code",
   "execution_count": null,
   "metadata": {
    "collapsed": false
   },
   "outputs": [],
   "source": [
    "count_pure_adv_pca=0.0\n",
    "count_adv_pca=0.0\n",
    "count_wrong_pca=0.0\n",
    "count_correct=0.0\n",
    "#print_flag_pca=0\n",
    "for i in range(50000):\n",
    "    x_ini=(X_train_dr[i,:]).reshape((1,rd))\n",
    "    ini_class=clf_pca.predict(x_ini)\n",
    "    x_adv=(x_ini-DEV_MAG*(clf_pca.coef_[ini_class[0],:]/(np.linalg.norm(clf_pca.coef_[ini_class[0],:])))).reshape((1,rd))\n",
    "    #x_adv=X_adv_dr[i,:].reshape((1,rd))\n",
    "    final_class=clf_pca.predict(x_adv)\n",
    "    if ini_class[0]!=final_class[0]:\n",
    "        count_adv_pca=count_adv_pca+1\n",
    "    if y_train[i]!=final_class[0]:\n",
    "        count_wrong_pca=count_wrong_pca+1\n",
    "    if y_train[i]==ini_class[0]:\n",
    "        count_correct=count_correct+1\n",
    "    if y_train[i]!=final_class[0] and ini_class[0]==y_train[i]:\n",
    "        count_pure_adv_pca=count_pure_adv_pca+1\n",
    "    #if y_train[i]!=final_class[0] and ini_class[0]==y_train[i] and print_flag==0:\n",
    "        #plt.imshow((x_ini.reshape((28,28)))*255, cmap='gray', interpolation='nearest', vmin=0, vmax=255)\n",
    "        #plt.imshow(((x_adv-x_ini).reshape((28,28)))*255, cmap='gray', interpolation='nearest', vmin=0, vmax=255)\n",
    "        #print_flag=print_flag+1\n",
    "print count_wrong_pca/50000.0, count_adv_pca/50000.0, count_pure_adv_pca/count_correct\n",
    "print count_correct"
   ]
  },
  {
   "cell_type": "code",
   "execution_count": null,
   "metadata": {
    "collapsed": false
   },
   "outputs": [],
   "source": [
    "count_pure_adv_pca=0.0\n",
    "count_adv_pca=0.0\n",
    "count_wrong_pca=0.0\n",
    "count_correct=0.0\n",
    "#print_flag_pca=0\n",
    "for i in range(10000):\n",
    "    x_ini=(X_test_dr[i,:]).reshape((1,rd))\n",
    "    ini_class=clf_pca.predict(x_ini)\n",
    "    x_adv=(x_ini-DEV_MAG*(clf_pca.coef_[ini_class[0],:]/(np.linalg.norm(clf_pca.coef_[ini_class[0],:])))).reshape((1,rd))\n",
    "    #x_adv=X_adv_dr[i,:].reshape((1,rd))\n",
    "    final_class=clf_pca.predict(x_adv)\n",
    "    if ini_class[0]!=final_class[0]:\n",
    "        count_adv_pca=count_adv_pca+1\n",
    "    if y_test[i]!=final_class[0]:\n",
    "        count_wrong_pca=count_wrong_pca+1\n",
    "    if y_test[i]==ini_class[0]:\n",
    "        count_correct=count_correct+1\n",
    "    if y_test[i]!=final_class[0] and ini_class[0]==y_test[i]:\n",
    "        count_pure_adv_pca=count_pure_adv_pca+1\n",
    "    #if y_train[i]!=final_class[0] and ini_class[0]==y_train[i] and print_flag==0:\n",
    "        #plt.imshow((x_ini.reshape((28,28)))*255, cmap='gray', interpolation='nearest', vmin=0, vmax=255)\n",
    "        #plt.imshow(((x_adv-x_ini).reshape((28,28)))*255, cmap='gray', interpolation='nearest', vmin=0, vmax=255)\n",
    "        #print_flag=print_flag+1\n",
    "print count_wrong_pca/10000.0, count_adv_pca/10000.0, count_pure_adv_pca/count_correct\n",
    "print count_correct"
   ]
  },
  {
   "cell_type": "code",
   "execution_count": null,
   "metadata": {
    "collapsed": false
   },
   "outputs": [],
   "source": [
    "one_X_adv_dr=np.zeros((5678,rd))\n",
    "count_pure_adv_pca=0.0\n",
    "count_adv_pca=0.0\n",
    "count_wrong_pca=0.0\n",
    "#print_flag_pca=0\n",
    "for i in range(5678):\n",
    "    x_ini=(one_X_train_dr[i,:]).reshape((1,rd))\n",
    "    ini_class=clf_pca.predict(x_ini)\n",
    "    x_adv=(x_ini-1.0*(clf_pca.coef_[1,:]/(np.linalg.norm(clf_pca.coef_[1,:])))).reshape((1,rd))\n",
    "    one_X_adv_dr[i,:]=x_adv\n",
    "    #x_adv=X_adv_dr[i,:].reshape((1,rd))\n",
    "    final_class=clf_pca.predict(x_adv)\n",
    "    if ini_class[0]!=final_class[0]:\n",
    "        count_adv_pca=count_adv_pca+1\n",
    "    if one_y_train[i]!=final_class[0]:\n",
    "        count_wrong_pca=count_wrong_pca+1\n",
    "    if one_y_train[i]!=final_class[0] and ini_class[0]==one_y_train[i]:\n",
    "        count_pure_adv_pca=count_pure_adv_pca+1\n",
    "    #if y_train[i]!=final_class[0] and ini_class[0]==y_train[i] and print_flag==0:\n",
    "        #plt.imshow((x_ini.reshape((28,28)))*255, cmap='gray', interpolation='nearest', vmin=0, vmax=255)\n",
    "        #plt.imshow(((x_adv-x_ini).reshape((28,28)))*255, cmap='gray', interpolation='nearest', vmin=0, vmax=255)\n",
    "        #print_flag=print_flag+1\n",
    "print count_wrong_pca/5678.0, count_adv_pca/5678.0, count_pure_adv_pca/5678.0"
   ]
  },
  {
   "cell_type": "code",
   "execution_count": null,
   "metadata": {
    "collapsed": false
   },
   "outputs": [],
   "source": [
    "count_pure_adv_pca=0.0\n",
    "count_adv_pca=0.0\n",
    "count_wrong_pca=0.0\n",
    "count_correct=0.0\n",
    "#print_flag_pca=0\n",
    "for i in range(10000):\n",
    "    x_ini=(X_test_dr[i,:]).reshape((1,rd))\n",
    "    ini_class=clf_pca.predict(x_ini)\n",
    "    #x_adv=(x_ini-0.25*(clf_pca.coef_[ini_class[0],:]/(np.linalg.norm(clf_pca.coef_[ini_class[0],:])))).reshape((1,rd))\n",
    "    #x_adv=X_adv_dr[i,:].reshape((1,rd))\n",
    "    x_adv=X_adv_test_dr[i,:].reshape((1,rd))\n",
    "    final_class=clf_pca.predict(x_adv)\n",
    "    if ini_class[0]!=final_class[0]:\n",
    "        count_adv_pca=count_adv_pca+1\n",
    "    if y_test[i]!=final_class[0]:\n",
    "        count_wrong_pca=count_wrong_pca+1\n",
    "    if y_test[i]==ini_class[0]:\n",
    "        count_correct=count_correct+1\n",
    "    if y_test[i]!=final_class[0] and ini_class[0]==y_test[i]:\n",
    "        count_pure_adv_pca=count_pure_adv_pca+1\n",
    "    #if y_train[i]!=final_class[0] and ini_class[0]==y_train[i] and print_flag==0:\n",
    "        #plt.imshow((x_ini.reshape((28,28)))*255, cmap='gray', interpolation='nearest', vmin=0, vmax=255)\n",
    "        #plt.imshow(((x_adv-x_ini).reshape((28,28)))*255, cmap='gray', interpolation='nearest', vmin=0, vmax=255)\n",
    "        #print_flag=print_flag+1\n",
    "print count_wrong_pca/10000.0, count_adv_pca/10000.0, count_pure_adv_pca/count_correct\n",
    "print count_correct"
   ]
  },
  {
   "cell_type": "markdown",
   "metadata": {
    "collapsed": false
   },
   "source": [
    "one_decision_adv_dr=clf_pca.decision_function(one_X_adv_dr)\n",
    "\n",
    "np.amax(one_decision_adv_dr[:,1])\n",
    "\n",
    "np.amin(one_decision_adv_dr[:,1])\n",
    "\n",
    "temp_gap_adv_dr=np.where(one_decision_adv_dr[:,1]>0)[0]\n",
    "\n",
    "temp_gap_adv_dr\n",
    "\n",
    "for i in range(10):\n",
    "    print np.linalg.norm(clf_pca.coef_[i,:])\n",
    "\n",
    "reverse_transform=pca.inverse_transform(X_train_dr[49999,:].reshape((1,rd)))\n",
    "\n",
    "plt.imshow((reverse_transform.reshape((28,28)))*255, cmap='gray', interpolation='nearest', vmin=0, vmax=255)\n",
    "\n",
    "rev=pca.inverse_transform(x_ini)\n",
    "\n",
    "plt.imshow((rev.reshape((28,28)))*255, cmap='gray', interpolation='nearest', vmin=0, vmax=255)\n",
    "\n",
    "rev_ad=pca.inverse_transform(x_adv)\n",
    "\n",
    "plt.imshow((rev_ad.reshape((28,28)))*255, cmap='gray', interpolation='nearest', vmin=0, vmax=255)\n",
    "\n",
    "rev_ad_2=pca.inverse_transform(x_adv)\n",
    "\n",
    "plt.imshow((rev_ad_2.reshape((28,28)))*255, cmap='gray', interpolation='nearest', vmin=0, vmax=255)"
   ]
  },
  {
   "cell_type": "markdown",
   "metadata": {},
   "source": [
    "### Random projections"
   ]
  },
  {
   "cell_type": "code",
   "execution_count": null,
   "metadata": {
    "collapsed": true
   },
   "outputs": [],
   "source": [
    "from sklearn import random_projection"
   ]
  },
  {
   "cell_type": "code",
   "execution_count": null,
   "metadata": {
    "collapsed": true
   },
   "outputs": [],
   "source": [
    "rd_list=[10,20,30,40,50,100,331,784]"
   ]
  },
  {
   "cell_type": "code",
   "execution_count": null,
   "metadata": {
    "collapsed": false
   },
   "outputs": [],
   "source": [
    "for rd in rd_list:\n",
    "    rand_transform=random_projection.GaussianRandomProjection(n_components=rd,random_state=1)\n",
    "    X_train_rand_dr=rand_transform.fit_transform(X_train)\n",
    "    clf_rand_dr=svm.LinearSVC(dual=False)\n",
    "    clf_rand_dr.fit(X_train_rand_dr,y_train)\n",
    "    X_val_rand_dr=rand_transform.transform(X_val)\n",
    "    X_test_rand_dr=rand_transform.transform(X_test)\n",
    "#     X_adv_train_rand=rand_transform.transform(adv_examples_train)\n",
    "#     X_adv_test_rand=rand_transform.transform(adv_examples_test)\n",
    "    val_score=clf_rand_dr.score(X_val_rand_dr,y_val)\n",
    "    test_score=clf_rand_dr.score(X_test_rand_dr,y_test)\n",
    "    resultfile=open('SVM_rand_results.txt','a')\n",
    "    resultfile.write(str(rd)+', recons: '+str.format(\"{0:.3f}\",val_score)\n",
    "                        +','+str.format(\"{0:.3f}\",test_score)+'\\n')\n",
    "    counter=0\n",
    "    for DEV_MAG in np.linspace(0.1,1.0,10):\n",
    "        X_adv_test_rand=rand_transform.transform(adv_examples_test[:,:,counter])\n",
    "        count_pure_adv_rand_dr=0.0\n",
    "        count_adv_rand_dr=0.0\n",
    "        count_wrong_rand_dr=0.0\n",
    "        count_correct=0.0\n",
    "        #print_flag_pca=0\n",
    "        for i in range(10000):\n",
    "            x_ini=(X_test_rand_dr[i,:]).reshape((1,rd))\n",
    "            ini_class=clf_rand_dr.predict(x_ini)\n",
    "            #x_adv=(x_ini-1.0*(clf_pca.coef_[ini_class[0],:]/(np.linalg.norm(clf_pca.coef_[0,:])))).reshape((1,rd))\n",
    "            x_adv=X_adv_test_rand[i,:].reshape((1,rd))\n",
    "            final_class=clf_rand_dr.predict(x_adv)\n",
    "            if ini_class[0]!=final_class[0]:\n",
    "                count_adv_rand_dr=count_adv_rand_dr+1\n",
    "            if y_test[i]!=final_class[0]:\n",
    "                count_wrong_rand_dr=count_wrong_rand_dr+1\n",
    "            if y_test[i]==ini_class:\n",
    "                count_correct=count_correct+1\n",
    "            if y_test[i]!=final_class[0] and ini_class[0]==y_test[i]:\n",
    "                count_pure_adv_rand_dr=count_pure_adv_rand_dr+1\n",
    "        plotfile=open('Gradient_attack_SVM_rand_retrain'+str(rd)+'.txt','a')\n",
    "        # print(\"Deviation {} took {:.3f}s\".format(\n",
    "        #     DEV_MAG, time.time() - start_time))\n",
    "        plotfile.write(str(rd)+\",\"+str(DEV_MAG)+\",\"+\n",
    "                        str(count_wrong_rand_dr/10000.0*100.0)+\",\"+\n",
    "                        #str.format(\"{0:.3f}\",conf_wrong/count_tot)+\",\"+\n",
    "                        str(count_adv_rand_dr/10000.0*100.0)+\",\"+\n",
    "                        #str.format(\"{0:.3f}\",conf_adv/count_tot)+\",\"+\n",
    "                        str.format(\"{0:.3f}\",count_pure_adv_rand_dr/count_correct*100.0)+\",\"+\n",
    "                        #str.format(\"{0:.3f}\",conf_abs/count_tot)+\",\"+\n",
    "#                         str.format(\"{0:.3f}\",rd_perturb/50000.0)+\",\"+\n",
    "                        str(0)+\"\\n\")\n",
    "        plotfile.close()\n",
    "        counter=counter+1\n",
    "print count_wrong_rand_dr/10000.0, count_adv_rand_dr/10000.0, count_pure_adv_rand_dr/count_correct"
   ]
  },
  {
   "cell_type": "code",
   "execution_count": null,
   "metadata": {
    "collapsed": false
   },
   "outputs": [],
   "source": [
    "  count_pure_adv_rand_dr=0.0\n",
    "        count_adv_rand_dr=0.0\n",
    "        count_wrong_rand_dr=0.0\n",
    "        count_correct=0.0\n",
    "        #print_flag_pca=0\n",
    "        for i in range(50000):\n",
    "            x_ini=(X_train_rand_dr[i,:]).reshape((1,rd))\n",
    "            ini_class=clf_rand_dr.predict(x_ini)\n",
    "            #x_adv=(x_ini-1.0*(clf_pca.coef_[ini_class[0],:]/(np.linalg.norm(clf_pca.coef_[0,:])))).reshape((1,rd))\n",
    "            x_adv=X_adv_train_rand[i,:].reshape((1,rd))\n",
    "            final_class=clf_rand_dr.predict(x_adv)\n",
    "            if ini_class[0]!=final_class[0]:\n",
    "                count_adv_rand_dr=count_adv_rand_dr+1\n",
    "            if y_train[i]!=final_class[0]:\n",
    "                count_wrong_rand_dr=count_wrong_rand_dr+1\n",
    "            if y_train[i]==ini_class:\n",
    "                count_correct=count_correct+1\n",
    "            if y_train[i]!=final_class[0] and ini_class[0]==y_train[i]:\n",
    "                count_pure_adv_rand_dr=count_pure_adv_rand_dr+1\n",
    "            #if y_train[i]!=final_class[0] and ini_class[0]==y_train[i] and print_flag==0:\n",
    "                #plt.imshow((x_ini.reshape((28,28)))*255, cmap='gray', interpolation='nearest', vmin=0, vmax=255)\n",
    "                #plt.imshow(((x_adv-x_ini).reshape((28,28)))*255, cmap='gray', interpolation='nearest', vmin=0, vmax=255)\n",
    "                #print_flag=print_flag+1\n",
    "print count_wrong_rand_dr/50000.0, count_adv_rand_dr/50000.0, count_pure_adv_rand_dr/count_correct\n",
    "print count_correct"
   ]
  },
  {
   "cell_type": "code",
   "execution_count": null,
   "metadata": {
    "collapsed": true
   },
   "outputs": [],
   "source": [
    "DEV_MAG_rd=1.0"
   ]
  },
  {
   "cell_type": "code",
   "execution_count": null,
   "metadata": {
    "collapsed": false
   },
   "outputs": [],
   "source": [
    "count_pure_adv_rand_dr=0.0\n",
    "count_adv_rand_dr=0.0\n",
    "count_wrong_rand_dr=0.0\n",
    "count_correct=0.0\n",
    "#print_flag_pca=0\n",
    "for i in range(50000):\n",
    "    x_ini=(X_train_rand_dr[i,:]).reshape((1,rd))\n",
    "    ini_class=clf_rand_dr.predict(x_ini)\n",
    "    x_adv=(x_ini-DEV_MAG_rd*(clf_rand_dr.coef_[ini_class[0],:]/(np.linalg.norm(clf_rand_dr.coef_[0,:])))).reshape((1,rd))\n",
    "    #x_adv=X_adv_train_rand[i,:].reshape((1,rd))\n",
    "    final_class=clf_rand_dr.predict(x_adv)\n",
    "    if ini_class[0]!=final_class[0]:\n",
    "        count_adv_rand_dr=count_adv_rand_dr+1\n",
    "    if y_train[i]!=final_class[0]:\n",
    "        count_wrong_rand_dr=count_wrong_rand_dr+1\n",
    "    if y_train[i]==ini_class:\n",
    "        count_correct=count_correct+1\n",
    "    if y_train[i]!=final_class[0] and ini_class[0]==y_train[i]:\n",
    "        count_pure_adv_rand_dr=count_pure_adv_rand_dr+1\n",
    "    #if y_train[i]!=final_class[0] and ini_class[0]==y_train[i] and print_flag==0:\n",
    "        #plt.imshow((x_ini.reshape((28,28)))*255, cmap='gray', interpolation='nearest', vmin=0, vmax=255)\n",
    "        #plt.imshow(((x_adv-x_ini).reshape((28,28)))*255, cmap='gray', interpolation='nearest', vmin=0, vmax=255)\n",
    "        #print_flag=print_flag+1\n",
    "print count_wrong_rand_dr/50000.0, count_adv_rand_dr/50000.0, count_pure_adv_rand_dr/count_correct\n",
    "print count_correct"
   ]
  },
  {
   "cell_type": "code",
   "execution_count": null,
   "metadata": {
    "collapsed": false
   },
   "outputs": [],
   "source": [
    "count_pure_adv_rand_dr=0.0\n",
    "count_adv_rand_dr=0.0\n",
    "count_wrong_rand_dr=0.0\n",
    "count_correct=0.0\n",
    "#print_flag_pca=0\n",
    "for i in range(10000):\n",
    "    x_ini=(X_test_rand_dr[i,:]).reshape((1,rd))\n",
    "    ini_class=clf_rand_dr.predict(x_ini)\n",
    "    x_adv=(x_ini-DEV_MAG_rd*(clf_rand_dr.coef_[ini_class[0],:]/(np.linalg.norm(clf_rand_dr.coef_[0,:])))).reshape((1,rd))\n",
    "    #x_adv=X_adv_test_rand[i,:].reshape((1,rd))\n",
    "    #x_adv=(x_ini-0.25*(clf_pca.coef_[ini_class[0],:]/(np.linalg.norm(clf_pca.coef_[ini_class[0],:])))).reshape((1,rd))\n",
    "    final_class=clf_rand_dr.predict(x_adv)\n",
    "    if ini_class[0]!=final_class[0]:\n",
    "        count_adv_rand_dr=count_adv_rand_dr+1\n",
    "    if y_test[i]!=final_class[0]:\n",
    "        count_wrong_rand_dr=count_wrong_rand_dr+1\n",
    "    if y_test[i]==ini_class:\n",
    "        count_correct=count_correct+1\n",
    "    if y_test[i]!=final_class[0] and ini_class[0]==y_test[i]:\n",
    "        count_pure_adv_rand_dr=count_pure_adv_rand_dr+1\n",
    "    #if y_train[i]!=final_class[0] and ini_class[0]==y_train[i] and print_flag==0:\n",
    "        #plt.imshow((x_ini.reshape((28,28)))*255, cmap='gray', interpolation='nearest', vmin=0, vmax=255)\n",
    "        #plt.imshow(((x_adv-x_ini).reshape((28,28)))*255, cmap='gray', interpolation='nearest', vmin=0, vmax=255)\n",
    "        #print_flag=print_flag+1\n",
    "print count_wrong_rand_dr/10000.0, count_adv_rand_dr/10000.0, count_pure_adv_rand_dr/count_correct\n",
    "print count_correct"
   ]
  },
  {
   "cell_type": "code",
   "execution_count": null,
   "metadata": {
    "collapsed": false
   },
   "outputs": [],
   "source": [
    "for i in range(10):\n",
    "    print np.linalg.norm(clf_rand_dr.coef_[i,:])"
   ]
  },
  {
   "cell_type": "code",
   "execution_count": null,
   "metadata": {
    "collapsed": false
   },
   "outputs": [],
   "source": [
    "rand_matrix=rand_transform.components_"
   ]
  },
  {
   "cell_type": "code",
   "execution_count": null,
   "metadata": {
    "collapsed": false
   },
   "outputs": [],
   "source": [
    "rand_matrix"
   ]
  },
  {
   "cell_type": "code",
   "execution_count": null,
   "metadata": {
    "collapsed": true
   },
   "outputs": [],
   "source": [
    "rand_matrix_T=np.transpose(rand_matrix)"
   ]
  },
  {
   "cell_type": "code",
   "execution_count": null,
   "metadata": {
    "collapsed": false
   },
   "outputs": [],
   "source": [
    "rand_matrix_T.shape"
   ]
  },
  {
   "cell_type": "code",
   "execution_count": null,
   "metadata": {
    "collapsed": false
   },
   "outputs": [],
   "source": [
    "rev_test_0=np.dot(rand_matrix_T,X_test_rand_dr[0,:])"
   ]
  },
  {
   "cell_type": "code",
   "execution_count": null,
   "metadata": {
    "collapsed": false
   },
   "outputs": [],
   "source": [
    "rev_test_0.shape"
   ]
  },
  {
   "cell_type": "code",
   "execution_count": null,
   "metadata": {
    "collapsed": false
   },
   "outputs": [],
   "source": [
    "plt.imshow((rev_test_0.reshape((28,28)))*255, cmap='gray', interpolation='nearest', vmin=0, vmax=255)"
   ]
  },
  {
   "cell_type": "code",
   "execution_count": null,
   "metadata": {
    "collapsed": true
   },
   "outputs": [],
   "source": [
    "rand_rand_T=np.dot(rand_matrix,rand_matrix_T)"
   ]
  },
  {
   "cell_type": "code",
   "execution_count": null,
   "metadata": {
    "collapsed": false
   },
   "outputs": [],
   "source": [
    "rand_rand_T.shape"
   ]
  },
  {
   "cell_type": "code",
   "execution_count": null,
   "metadata": {
    "collapsed": true
   },
   "outputs": [],
   "source": [
    "a=np.dot(rand_matrix,X_test[0,:])"
   ]
  },
  {
   "cell_type": "code",
   "execution_count": null,
   "metadata": {
    "collapsed": false
   },
   "outputs": [],
   "source": [
    "X_test_rand_dr[0,:]-a"
   ]
  },
  {
   "cell_type": "code",
   "execution_count": null,
   "metadata": {
    "collapsed": false
   },
   "outputs": [],
   "source": [
    "rev_test_rand=np.dot(rand_matrix_T,X_test_rand_dr.T)"
   ]
  },
  {
   "cell_type": "code",
   "execution_count": null,
   "metadata": {
    "collapsed": false
   },
   "outputs": [],
   "source": [
    "rev_test_rand.shape"
   ]
  },
  {
   "cell_type": "code",
   "execution_count": null,
   "metadata": {
    "collapsed": false,
    "scrolled": true
   },
   "outputs": [],
   "source": [
    "clf.score(rev_test_rand.T,y_test)"
   ]
  },
  {
   "cell_type": "markdown",
   "metadata": {},
   "source": [
    "### Kernel PCA"
   ]
  },
  {
   "cell_type": "code",
   "execution_count": null,
   "metadata": {
    "collapsed": true
   },
   "outputs": [],
   "source": [
    "from sklearn.decomposition import KernelPCA"
   ]
  },
  {
   "cell_type": "code",
   "execution_count": null,
   "metadata": {
    "collapsed": true
   },
   "outputs": [],
   "source": [
    "kpca_poly=KernelPCA(n_components=50,kernel='poly')"
   ]
  },
  {
   "cell_type": "code",
   "execution_count": null,
   "metadata": {
    "collapsed": false
   },
   "outputs": [],
   "source": [
    "X_train_poly_dr=kpca_poly.fit_transform(X_train)"
   ]
  },
  {
   "cell_type": "code",
   "execution_count": null,
   "metadata": {
    "collapsed": true
   },
   "outputs": [],
   "source": []
  }
 ],
 "metadata": {
  "kernelspec": {
   "display_name": "Python 2",
   "language": "python",
   "name": "python2"
  },
  "language_info": {
   "codemirror_mode": {
    "name": "ipython",
    "version": 2
   },
   "file_extension": ".py",
   "mimetype": "text/x-python",
   "name": "python",
   "nbconvert_exporter": "python",
   "pygments_lexer": "ipython2",
   "version": "2.7.6"
  }
 },
 "nbformat": 4,
 "nbformat_minor": 0
}

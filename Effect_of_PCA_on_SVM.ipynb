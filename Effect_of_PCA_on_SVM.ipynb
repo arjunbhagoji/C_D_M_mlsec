{
 "cells": [
  {
   "cell_type": "markdown",
   "metadata": {},
   "source": [
    "### Loading data"
   ]
  },
  {
   "cell_type": "code",
   "execution_count": 1,
   "metadata": {
    "collapsed": true
   },
   "outputs": [],
   "source": [
    "def load_dataset():\n",
    "    # We first define a download function, supporting both Python 2 and 3.\n",
    "    if sys.version_info[0] == 2:\n",
    "        from urllib import urlretrieve\n",
    "    else:\n",
    "        from urllib.request import urlretrieve\n",
    "\n",
    "    def download(filename, source='http://yann.lecun.com/exdb/mnist/'):\n",
    "        print(\"Downloading %s\" % filename)\n",
    "        urlretrieve(source + filename, filename)\n",
    "\n",
    "    # We then define functions for loading MNIST images and labels.\n",
    "    # For convenience, they also download the requested files if needed.\n",
    "    import gzip\n",
    "\n",
    "    def load_mnist_images(filename):\n",
    "        #if not os.path.exists(filename):\n",
    "        #    download(filename)\n",
    "        # Read the inputs in Yann LeCun's binary format.\n",
    "        with gzip.open(filename, 'rb') as f:\n",
    "            data = np.frombuffer(f.read(), np.uint8, offset=16)\n",
    "        # The inputs are vectors now, we reshape them to monochrome 2D images,\n",
    "        # following the shape convention: (examples, channels, rows, columns)\n",
    "        data = data.reshape(-1, 1, 784)\n",
    "        # The inputs come as bytes, we convert them to float32 in range [0,1].\n",
    "        # (Actually to range [0, 255/256], for compatibility to the version\n",
    "        # provided at http://deeplearning.net/data/mnist/mnist.pkl.gz.)\n",
    "        return data / np.float32(256)\n",
    "\n",
    "    def load_mnist_labels(filename):\n",
    "        #if not os.path.exists(filename):\n",
    "        #    download(filename)\n",
    "        # Read the labels in Yann LeCun's binary format.\n",
    "        with gzip.open(filename, 'rb') as f:\n",
    "            data = np.frombuffer(f.read(), np.uint8, offset=8)\n",
    "        # The labels are vectors of integers now, that's exactly what we want.\n",
    "        return data\n",
    "\n",
    "    # We can now download and read the training and test set images and labels.\n",
    "    script_dir=os.getcwd()\n",
    "    rel_path=\"Input_data/\"\n",
    "    abs_path=os.path.join(script_dir,rel_path)\n",
    "    X_train = load_mnist_images(abs_path+'train-images-idx3-ubyte.gz')\n",
    "    y_train = load_mnist_labels(abs_path+'train-labels-idx1-ubyte.gz')\n",
    "    X_test = load_mnist_images(abs_path+'t10k-images-idx3-ubyte.gz')\n",
    "    y_test = load_mnist_labels(abs_path+'t10k-labels-idx1-ubyte.gz')\n",
    "\n",
    "    # We reserve the last 10000 training examples for validation.\n",
    "    X_train, X_val = X_train[:-10000], X_train[-10000:]\n",
    "    y_train, y_val = y_train[:-10000], y_train[-10000:]\n",
    "\n",
    "    # We just return all the arrays in order, as expected in main().\n",
    "    # (It doesn't matter how we do this as long as we can read them again.)\n",
    "    return X_train, y_train, X_val, y_val, X_test, y_test"
   ]
  },
  {
   "cell_type": "markdown",
   "metadata": {},
   "source": [
    "### Training Linear SVM"
   ]
  },
  {
   "cell_type": "code",
   "execution_count": 2,
   "metadata": {
    "collapsed": false
   },
   "outputs": [],
   "source": [
    "import numpy as np\n",
    "import sys\n",
    "import os\n",
    "from sklearn import svm\n",
    "from matplotlib import pyplot as plt\n",
    "%matplotlib inline\n",
    "\n",
    "X_train, y_train, X_val, y_val, X_test, y_test=load_dataset()\n",
    "X_train=X_train.reshape((50000,784))\n",
    "clf=svm.LinearSVC(dual=False)\n",
    "clf.fit(X_train,y_train)\n",
    "X_val=X_val.reshape((10000,784))"
   ]
  },
  {
   "cell_type": "code",
   "execution_count": 3,
   "metadata": {
    "collapsed": false
   },
   "outputs": [
    {
     "data": {
      "text/plain": [
       "0.9153"
      ]
     },
     "execution_count": 3,
     "metadata": {},
     "output_type": "execute_result"
    }
   ],
   "source": [
    "X_test=X_test.reshape((10000,784))\n",
    "clf.score(X_test,y_test)"
   ]
  },
  {
   "cell_type": "markdown",
   "metadata": {},
   "source": [
    "### Isolating a single class, finding non-normalized distances from class hyperplane"
   ]
  },
  {
   "cell_type": "code",
   "execution_count": 4,
   "metadata": {
    "collapsed": true
   },
   "outputs": [],
   "source": [
    "one_array=np.where(y_train==1)\n",
    "one_y_train=y_train[one_array]\n",
    "one_X_train=X_train[one_array[0],:]\n",
    "one_decision_train=clf.decision_function(one_X_train)"
   ]
  },
  {
   "cell_type": "code",
   "execution_count": 5,
   "metadata": {
    "collapsed": false
   },
   "outputs": [
    {
     "data": {
      "text/plain": [
       "0.97904191616766467"
      ]
     },
     "execution_count": 5,
     "metadata": {},
     "output_type": "execute_result"
    }
   ],
   "source": [
    "clf.score(one_X_train,one_y_train)"
   ]
  },
  {
   "cell_type": "markdown",
   "metadata": {},
   "source": [
    "### Creating adversarial examples for test, train and single class data"
   ]
  },
  {
   "cell_type": "code",
   "execution_count": 7,
   "metadata": {
    "collapsed": false
   },
   "outputs": [
    {
     "name": "stdout",
     "output_type": "stream",
     "text": [
      "0.9595 0.99976 0.92602\n"
     ]
    }
   ],
   "source": [
    "adv_examples_train=np.zeros((50000,784))\n",
    "\n",
    "count_pure_adv=0.0\n",
    "count_adv=0.0\n",
    "count_wrong=0.0\n",
    "print_flag=1\n",
    "for i in range(50000):\n",
    "    x_ini=(X_train[i,:]).reshape((1,784))\n",
    "    ini_class=clf.predict(x_ini)\n",
    "    x_adv=(x_ini-1.0*(clf.coef_[ini_class[0],:]/(np.linalg.norm(clf.coef_[ini_class[0],:])))).reshape((1,784))\n",
    "    adv_examples_train[i,:]=x_adv\n",
    "    final_class=clf.predict(x_adv)\n",
    "    if ini_class[0]!=final_class[0]:\n",
    "        count_adv=count_adv+1\n",
    "    if y_train[i]!=final_class[0]:\n",
    "        count_wrong=count_wrong+1\n",
    "    if y_train[i]!=final_class[0] and ini_class[0]==y_train[i]:\n",
    "        count_pure_adv=count_pure_adv+1\n",
    "    if y_train[i]!=final_class[0] and ini_class[0]==y_train[i] and print_flag==0:\n",
    "        #plt.imshow((x_ini.reshape((28,28)))*255, cmap='gray', interpolation='nearest', vmin=0, vmax=255)\n",
    "        plt.imshow(((x_adv-x_ini).reshape((28,28)))*255, cmap='gray', interpolation='nearest', vmin=0, vmax=255)\n",
    "        print_flag=print_flag+1\n",
    "print count_wrong/50000.0, count_adv/50000.0, count_pure_adv/50000.0"
   ]
  },
  {
   "cell_type": "code",
   "execution_count": 8,
   "metadata": {
    "collapsed": false
   },
   "outputs": [
    {
     "name": "stdout",
     "output_type": "stream",
     "text": [
      "0.9538 0.9997 0.915\n"
     ]
    }
   ],
   "source": [
    "adv_examples_test=np.zeros((10000,784))\n",
    "\n",
    "count_pure_adv=0.0\n",
    "count_adv=0.0\n",
    "count_wrong=0.0\n",
    "print_flag=1\n",
    "for i in range(10000):\n",
    "    x_ini=(X_test[i,:]).reshape((1,784))\n",
    "    ini_class=clf.predict(x_ini)\n",
    "    x_adv=(x_ini-1.0*(clf.coef_[ini_class[0],:]/(np.linalg.norm(clf.coef_[ini_class[0],:])))).reshape((1,784))\n",
    "    adv_examples_test[i,:]=x_adv\n",
    "    final_class=clf.predict(x_adv)\n",
    "    if ini_class[0]!=final_class[0]:\n",
    "        count_adv=count_adv+1\n",
    "    if y_test[i]!=final_class[0]:\n",
    "        count_wrong=count_wrong+1\n",
    "    if y_test[i]!=final_class[0] and ini_class[0]==y_test[i]:\n",
    "        count_pure_adv=count_pure_adv+1\n",
    "    if y_test[i]!=final_class[0] and ini_class[0]==y_test[i] and print_flag==0:\n",
    "        #plt.imshow((x_ini.reshape((28,28)))*255, cmap='gray', interpolation='nearest', vmin=0, vmax=255)\n",
    "        plt.imshow(((x_adv-x_ini).reshape((28,28)))*255, cmap='gray', interpolation='nearest', vmin=0, vmax=255)\n",
    "        print_flag=print_flag+1\n",
    "print count_wrong/10000.0, count_adv/10000.0, count_pure_adv/10000.0"
   ]
  },
  {
   "cell_type": "code",
   "execution_count": 9,
   "metadata": {
    "collapsed": false
   },
   "outputs": [
    {
     "name": "stdout",
     "output_type": "stream",
     "text": [
      "0.991722437478 1.0 0.979041916168\n"
     ]
    }
   ],
   "source": [
    "adv_examples_train_one=np.zeros((5678,784))\n",
    "\n",
    "count_pure_adv=0.0\n",
    "count_adv=0.0\n",
    "count_wrong=0.0\n",
    "print_flag=1\n",
    "for i in range(5678):\n",
    "    x_ini=(one_X_train[i,:]).reshape((1,784))\n",
    "    ini_class=clf.predict(x_ini)\n",
    "    x_adv=(x_ini-0.5*(clf.coef_[ini_class[0],:]/np.linalg.norm(clf.coef_[ini_class[0],:]))).reshape((1,784))\n",
    "    adv_examples_train_one[i,:]=x_adv\n",
    "    final_class=clf.predict(x_adv)\n",
    "    if ini_class[0]!=final_class[0]:\n",
    "        count_adv=count_adv+1\n",
    "    if one_y_train[i]!=final_class[0]:\n",
    "        count_wrong=count_wrong+1\n",
    "    if one_y_train[i]!=final_class[0] and ini_class[0]==one_y_train[i]:\n",
    "        count_pure_adv=count_pure_adv+1\n",
    "    if one_y_train[i]!=final_class[0] and ini_class[0]==one_y_train[i] and print_flag==0:\n",
    "        #plt.imshow((x_ini.reshape((28,28)))*255, cmap='gray', interpolation='nearest', vmin=0, vmax=255)\n",
    "        plt.imshow(((x_adv-x_ini).reshape((28,28)))*255, cmap='gray', interpolation='nearest', vmin=0, vmax=255)\n",
    "        print_flag=print_flag+1\n",
    "print count_wrong/5678.0, count_adv/5678.0, count_pure_adv/5678.0"
   ]
  },
  {
   "cell_type": "markdown",
   "metadata": {},
   "source": [
    "### Finding non-normalized distance from hyperplane"
   ]
  },
  {
   "cell_type": "code",
   "execution_count": 10,
   "metadata": {
    "collapsed": true
   },
   "outputs": [],
   "source": [
    "one_decision_adv=clf.decision_function(adv_examples_train_one)"
   ]
  },
  {
   "cell_type": "markdown",
   "metadata": {},
   "source": [
    "### Training SVM in reduced dimensions"
   ]
  },
  {
   "cell_type": "code",
   "execution_count": 11,
   "metadata": {
    "collapsed": false
   },
   "outputs": [
    {
     "data": {
      "text/plain": [
       "LinearSVC(C=1.0, class_weight=None, dual=False, fit_intercept=True,\n",
       "     intercept_scaling=1, loss='squared_hinge', max_iter=1000,\n",
       "     multi_class='ovr', penalty='l2', random_state=None, tol=0.0001,\n",
       "     verbose=0)"
      ]
     },
     "execution_count": 11,
     "metadata": {},
     "output_type": "execute_result"
    }
   ],
   "source": [
    "from sklearn.decomposition import PCA\n",
    "\n",
    "rd=50\n",
    "\n",
    "PCA_in_train=X_train\n",
    "PCA_in_val=X_val\n",
    "PCA_in_test=X_test\n",
    "\n",
    "### Doing PCA over the training data\n",
    "#Fitting the PCA model on training data\n",
    "pca=PCA(n_components=rd)\n",
    "pca.fit(PCA_in_train)\n",
    "#Transforming the training, validation and test data\n",
    "X_train_dr=pca.transform(PCA_in_train).reshape((50000,rd))\n",
    "X_test_dr=pca.transform(PCA_in_test).reshape((10000,rd))\n",
    "X_val_dr=pca.transform(PCA_in_val).reshape((10000,rd))\n",
    "X_adv_dr=pca.transform(adv_examples_train).reshape((50000,rd))\n",
    "X_adv_one_dr=pca.transform(adv_examples_train_one).reshape((5678,rd))\n",
    "\n",
    "clf_pca=svm.LinearSVC(dual=False)\n",
    "clf_pca.fit(X_train_dr,y_train)"
   ]
  },
  {
   "cell_type": "markdown",
   "metadata": {},
   "source": [
    "### Classfication success, non-normalized distances to hyperplane in reduced dim."
   ]
  },
  {
   "cell_type": "code",
   "execution_count": 12,
   "metadata": {
    "collapsed": false
   },
   "outputs": [
    {
     "data": {
      "text/plain": [
       "0.89336000000000004"
      ]
     },
     "execution_count": 12,
     "metadata": {},
     "output_type": "execute_result"
    }
   ],
   "source": [
    "one_X_train_dr=X_train_dr[one_array[0],:]\n",
    "one_decision_train_dr=clf_pca.decision_function(one_X_train_dr)\n",
    "clf_pca.score(X_train_dr,y_train)"
   ]
  },
  {
   "cell_type": "code",
   "execution_count": 13,
   "metadata": {
    "collapsed": false
   },
   "outputs": [
    {
     "data": {
      "text/plain": [
       "0.97005988023952094"
      ]
     },
     "execution_count": 13,
     "metadata": {},
     "output_type": "execute_result"
    }
   ],
   "source": [
    "clf_pca.score(one_X_train_dr,one_y_train)"
   ]
  },
  {
   "cell_type": "code",
   "execution_count": 14,
   "metadata": {
    "collapsed": false
   },
   "outputs": [
    {
     "data": {
      "text/plain": [
       "0.90169999999999995"
      ]
     },
     "execution_count": 14,
     "metadata": {},
     "output_type": "execute_result"
    }
   ],
   "source": [
    "clf_pca.score(X_test_dr,y_test)"
   ]
  },
  {
   "cell_type": "markdown",
   "metadata": {},
   "source": [
    "### Adversarial examples for training data, single class data"
   ]
  },
  {
   "cell_type": "code",
   "execution_count": 15,
   "metadata": {
    "collapsed": false
   },
   "outputs": [
    {
     "name": "stdout",
     "output_type": "stream",
     "text": [
      "0.84056 0.88888 0.78244\n"
     ]
    }
   ],
   "source": [
    "count_pure_adv_pca=0.0\n",
    "count_adv_pca=0.0\n",
    "count_wrong_pca=0.0\n",
    "#print_flag_pca=0\n",
    "for i in range(50000):\n",
    "    x_ini=(X_train_dr[i,:]).reshape((1,rd))\n",
    "    ini_class=clf_pca.predict(x_ini)\n",
    "    x_adv=(x_ini-2.26*(clf_pca.coef_[ini_class[0],:]/(np.linalg.norm(clf_pca.coef_[ini_class[0],:])))).reshape((1,rd))\n",
    "    #x_adv=X_adv_dr[i,:].reshape((1,rd))\n",
    "    final_class=clf_pca.predict(x_adv)\n",
    "    if ini_class[0]!=final_class[0]:\n",
    "        count_adv_pca=count_adv_pca+1\n",
    "    if y_train[i]!=final_class[0]:\n",
    "        count_wrong_pca=count_wrong_pca+1\n",
    "    if y_train[i]!=final_class[0] and ini_class[0]==y_train[i]:\n",
    "        count_pure_adv_pca=count_pure_adv_pca+1\n",
    "    #if y_train[i]!=final_class[0] and ini_class[0]==y_train[i] and print_flag==0:\n",
    "        #plt.imshow((x_ini.reshape((28,28)))*255, cmap='gray', interpolation='nearest', vmin=0, vmax=255)\n",
    "        #plt.imshow(((x_adv-x_ini).reshape((28,28)))*255, cmap='gray', interpolation='nearest', vmin=0, vmax=255)\n",
    "        #print_flag=print_flag+1\n",
    "print count_wrong_pca/50000.0, count_adv_pca/50000.0, count_pure_adv_pca/50000.0"
   ]
  },
  {
   "cell_type": "code",
   "execution_count": 16,
   "metadata": {
    "collapsed": false
   },
   "outputs": [
    {
     "name": "stdout",
     "output_type": "stream",
     "text": [
      "0.246389573794 0.218034519197 0.216449454033\n"
     ]
    }
   ],
   "source": [
    "one_X_adv_dr=np.zeros((5678,rd))\n",
    "count_pure_adv_pca=0.0\n",
    "count_adv_pca=0.0\n",
    "count_wrong_pca=0.0\n",
    "#print_flag_pca=0\n",
    "for i in range(5678):\n",
    "    x_ini=(one_X_train_dr[i,:]).reshape((1,rd))\n",
    "    ini_class=clf_pca.predict(x_ini)\n",
    "    x_adv=(x_ini-1.0*(clf_pca.coef_[1,:]/(np.linalg.norm(clf_pca.coef_[1,:])))).reshape((1,rd))\n",
    "    one_X_adv_dr[i,:]=x_adv\n",
    "    #x_adv=X_adv_dr[i,:].reshape((1,rd))\n",
    "    final_class=clf_pca.predict(x_adv)\n",
    "    if ini_class[0]!=final_class[0]:\n",
    "        count_adv_pca=count_adv_pca+1\n",
    "    if one_y_train[i]!=final_class[0]:\n",
    "        count_wrong_pca=count_wrong_pca+1\n",
    "    if one_y_train[i]!=final_class[0] and ini_class[0]==one_y_train[i]:\n",
    "        count_pure_adv_pca=count_pure_adv_pca+1\n",
    "    #if y_train[i]!=final_class[0] and ini_class[0]==y_train[i] and print_flag==0:\n",
    "        #plt.imshow((x_ini.reshape((28,28)))*255, cmap='gray', interpolation='nearest', vmin=0, vmax=255)\n",
    "        #plt.imshow(((x_adv-x_ini).reshape((28,28)))*255, cmap='gray', interpolation='nearest', vmin=0, vmax=255)\n",
    "        #print_flag=print_flag+1\n",
    "print count_wrong_pca/5678.0, count_adv_pca/5678.0, count_pure_adv_pca/5678.0"
   ]
  },
  {
   "cell_type": "markdown",
   "metadata": {},
   "source": [
    "### Non-normalized distance to hyperplane for single class"
   ]
  },
  {
   "cell_type": "code",
   "execution_count": 17,
   "metadata": {
    "collapsed": true
   },
   "outputs": [],
   "source": [
    "one_decision_adv_dr=clf_pca.decision_function(one_X_adv_dr)"
   ]
  },
  {
   "cell_type": "code",
   "execution_count": 18,
   "metadata": {
    "collapsed": true
   },
   "outputs": [],
   "source": [
    "w_one_norm=np.linalg.norm(clf.coef_[1,:])"
   ]
  },
  {
   "cell_type": "code",
   "execution_count": 19,
   "metadata": {
    "collapsed": true
   },
   "outputs": [],
   "source": [
    "w_one_norm_pca=np.linalg.norm(clf_pca.coef_[1,:])"
   ]
  },
  {
   "cell_type": "code",
   "execution_count": 20,
   "metadata": {
    "collapsed": false
   },
   "outputs": [
    {
     "data": {
      "text/plain": [
       "10.837926065287185"
      ]
     },
     "execution_count": 20,
     "metadata": {},
     "output_type": "execute_result"
    }
   ],
   "source": [
    "w_one_norm"
   ]
  },
  {
   "cell_type": "code",
   "execution_count": 21,
   "metadata": {
    "collapsed": false
   },
   "outputs": [
    {
     "data": {
      "text/plain": [
       "1.5093393028612399"
      ]
     },
     "execution_count": 21,
     "metadata": {},
     "output_type": "execute_result"
    }
   ],
   "source": [
    "w_one_norm_pca"
   ]
  },
  {
   "cell_type": "code",
   "execution_count": 28,
   "metadata": {
    "collapsed": false
   },
   "outputs": [
    {
     "data": {
      "text/plain": [
       "0.24774809370118669"
      ]
     },
     "execution_count": 28,
     "metadata": {},
     "output_type": "execute_result"
    }
   ],
   "source": [
    "np.amax(one_decision_train[:,1])/w_one_norm"
   ]
  },
  {
   "cell_type": "code",
   "execution_count": 22,
   "metadata": {
    "collapsed": false
   },
   "outputs": [
    {
     "data": {
      "text/plain": [
       "1.4291282376351411"
      ]
     },
     "execution_count": 22,
     "metadata": {},
     "output_type": "execute_result"
    }
   ],
   "source": [
    "np.amax(one_decision_train_dr[:,1])/w_one_norm_pca"
   ]
  },
  {
   "cell_type": "code",
   "execution_count": 23,
   "metadata": {
    "collapsed": true
   },
   "outputs": [],
   "source": [
    "one_plane_distance=one_decision_train[:,1]/w_one_norm"
   ]
  },
  {
   "cell_type": "code",
   "execution_count": 24,
   "metadata": {
    "collapsed": true
   },
   "outputs": [],
   "source": [
    "one_plane_distance_dr=one_decision_train_dr[:,1]/w_one_norm_pca"
   ]
  },
  {
   "cell_type": "code",
   "execution_count": 32,
   "metadata": {
    "collapsed": true
   },
   "outputs": [],
   "source": [
    "one_margin_indices=np.where(one_plane_distance>1)[0]"
   ]
  },
  {
   "cell_type": "code",
   "execution_count": 33,
   "metadata": {
    "collapsed": true
   },
   "outputs": [],
   "source": [
    "one_margin_indices_dr=np.where(one_plane_distance_dr>1)[0]"
   ]
  },
  {
   "cell_type": "code",
   "execution_count": 34,
   "metadata": {
    "collapsed": false
   },
   "outputs": [
    {
     "data": {
      "text/plain": [
       "(0,)"
      ]
     },
     "execution_count": 34,
     "metadata": {},
     "output_type": "execute_result"
    }
   ],
   "source": [
    "one_margin_indices.shape"
   ]
  },
  {
   "cell_type": "code",
   "execution_count": 35,
   "metadata": {
    "collapsed": false
   },
   "outputs": [
    {
     "data": {
      "text/plain": [
       "(415,)"
      ]
     },
     "execution_count": 35,
     "metadata": {},
     "output_type": "execute_result"
    }
   ],
   "source": [
    "one_margin_indices_dr.shape"
   ]
  },
  {
   "cell_type": "code",
   "execution_count": 25,
   "metadata": {
    "collapsed": true
   },
   "outputs": [],
   "source": [
    "from matplotlib import pyplot as plt"
   ]
  },
  {
   "cell_type": "code",
   "execution_count": 36,
   "metadata": {
    "collapsed": true
   },
   "outputs": [],
   "source": [
    "y_1=np.ones_like(one_plane_distance)\n",
    "y_2=np.zeros_like(one_plane_distance_dr)"
   ]
  },
  {
   "cell_type": "code",
   "execution_count": 38,
   "metadata": {
    "collapsed": false
   },
   "outputs": [
    {
     "data": {
      "image/png": "[encoded data removed]",
      "text/plain": [
       "<matplotlib.figure.Figure at 0x11779ed90>"
      ]
     },
     "metadata": {},
     "output_type": "display_data"
    }
   ],
   "source": [
    "plt.hist2d(one_plane_distance,y_1,(10,10),cmap=plt.cm.jet)\n",
    "plt.hist2d(one_plane_distance_dr,y_2,(10,10),cmap=plt.cm.jet)\n",
    "plt.show()"
   ]
  },
  {
   "cell_type": "code",
   "execution_count": null,
   "metadata": {
    "collapsed": true
   },
   "outputs": [],
   "source": []
  }
 ],
 "metadata": {
  "kernelspec": {
   "display_name": "Python 2",
   "language": "python",
   "name": "python2"
  },
  "language_info": {
   "codemirror_mode": {
    "name": "ipython",
    "version": 2
   },
   "file_extension": ".py",
   "mimetype": "text/x-python",
   "name": "python",
   "nbconvert_exporter": "python",
   "pygments_lexer": "ipython2",
   "version": "2.7.6"
  }
 },
 "nbformat": 4,
 "nbformat_minor": 0
}

{
 "cells": [
  {
   "cell_type": "code",
   "execution_count": 1,
   "metadata": {
    "collapsed": true
   },
   "outputs": [],
   "source": [
    "import os\n",
    "import numpy as np\n",
    "import sys\n",
    "from sklearn import svm"
   ]
  },
  {
   "cell_type": "code",
   "execution_count": 2,
   "metadata": {
    "collapsed": false
   },
   "outputs": [],
   "source": [
    "script_dir=os.getcwd()\n",
    "rel_path=\"Input_data/UCI_HAR/\"\n",
    "abs_path=os.path.join(script_dir,rel_path)"
   ]
  },
  {
   "cell_type": "code",
   "execution_count": 3,
   "metadata": {
    "collapsed": false
   },
   "outputs": [],
   "source": [
    "X_train=np.loadtxt(abs_path+'train/X_train.txt')"
   ]
  },
  {
   "cell_type": "code",
   "execution_count": 4,
   "metadata": {
    "collapsed": false
   },
   "outputs": [
    {
     "data": {
      "text/plain": [
       "(7352, 561)"
      ]
     },
     "execution_count": 4,
     "metadata": {},
     "output_type": "execute_result"
    }
   ],
   "source": [
    "X_train.shape"
   ]
  },
  {
   "cell_type": "code",
   "execution_count": 5,
   "metadata": {
    "collapsed": true
   },
   "outputs": [],
   "source": [
    "y_train=np.loadtxt(abs_path+'train/y_train.txt')"
   ]
  },
  {
   "cell_type": "code",
   "execution_count": 6,
   "metadata": {
    "collapsed": false
   },
   "outputs": [
    {
     "data": {
      "text/plain": [
       "(7352,)"
      ]
     },
     "execution_count": 6,
     "metadata": {},
     "output_type": "execute_result"
    }
   ],
   "source": [
    "y_train.shape"
   ]
  },
  {
   "cell_type": "code",
   "execution_count": 7,
   "metadata": {
    "collapsed": false
   },
   "outputs": [
    {
     "data": {
      "text/plain": [
       "LinearSVC(C=1.0, class_weight=None, dual=False, fit_intercept=True,\n",
       "     intercept_scaling=1, loss='squared_hinge', max_iter=1000,\n",
       "     multi_class='ovr', penalty='l2', random_state=None, tol=0.0001,\n",
       "     verbose=0)"
      ]
     },
     "execution_count": 7,
     "metadata": {},
     "output_type": "execute_result"
    }
   ],
   "source": [
    "clf=svm.LinearSVC(dual=False)\n",
    "clf.fit(X_train,y_train)"
   ]
  },
  {
   "cell_type": "code",
   "execution_count": 8,
   "metadata": {
    "collapsed": true
   },
   "outputs": [],
   "source": [
    "X_test=np.loadtxt(abs_path+'test/X_test.txt')"
   ]
  },
  {
   "cell_type": "code",
   "execution_count": 9,
   "metadata": {
    "collapsed": true
   },
   "outputs": [],
   "source": [
    "y_test=np.loadtxt(abs_path+'test/y_test.txt')"
   ]
  },
  {
   "cell_type": "code",
   "execution_count": 10,
   "metadata": {
    "collapsed": false
   },
   "outputs": [
    {
     "data": {
      "text/plain": [
       "(2947,)"
      ]
     },
     "execution_count": 10,
     "metadata": {},
     "output_type": "execute_result"
    }
   ],
   "source": [
    "y_test.shape"
   ]
  },
  {
   "cell_type": "code",
   "execution_count": 11,
   "metadata": {
    "collapsed": true
   },
   "outputs": [],
   "source": [
    "test_out=clf.predict(X_test)\n",
    "test_success=(2947.0-np.count_nonzero(test_out-y_test))/2947.0"
   ]
  },
  {
   "cell_type": "code",
   "execution_count": 12,
   "metadata": {
    "collapsed": false
   },
   "outputs": [
    {
     "data": {
      "text/plain": [
       "0.9664065151001018"
      ]
     },
     "execution_count": 12,
     "metadata": {},
     "output_type": "execute_result"
    }
   ],
   "source": [
    "test_success"
   ]
  },
  {
   "cell_type": "markdown",
   "metadata": {},
   "source": [
    "### Trying to predict subject, not accurate at all!"
   ]
  },
  {
   "cell_type": "markdown",
   "metadata": {
    "collapsed": true
   },
   "source": [
    "subject_train=np.loadtxt(abs_path+'train/subject_train.txt')\n",
    "\n",
    "subject_test=np.loadtxt(abs_path+'test/subject_test.txt')\n",
    "\n",
    "subject_test.shape\n",
    "\n",
    "clf_subject=svm.LinearSVC(dual=False)\n",
    "clf_subject.fit(X_train,subject_train)\n",
    "\n",
    "test_subject_out=clf_subject.predict(X_test)\n",
    "\n",
    "test_subject_success=(2947.0-np.count_nonzero(test_subject_out-subject_test))/2947.0\n",
    "\n",
    "test_success\n",
    "\n",
    "test_subject_out\n",
    "\n",
    "subject_test"
   ]
  },
  {
   "cell_type": "code",
   "execution_count": 48,
   "metadata": {
    "collapsed": false
   },
   "outputs": [
    {
     "name": "stderr",
     "output_type": "stream",
     "text": [
      "/Users/arjunbhagoji/anaconda/lib/python2.7/site-packages/ipykernel/__main__.py:11: VisibleDeprecationWarning: using a non-integer number instead of an integer will result in an error in the future\n"
     ]
    },
    {
     "name": "stdout",
     "output_type": "stream",
     "text": [
      "0.964031218188 0.996267390567 0.996137640449\n"
     ]
    }
   ],
   "source": [
    "adv_examples_test=np.zeros((2947,561))\n",
    "\n",
    "count_pure_adv=0.0\n",
    "count_adv=0.0\n",
    "count_wrong=0.0\n",
    "print_flag=0\n",
    "count_correct_2=0.0\n",
    "for i in range(2947):\n",
    "    x_ini=(X_test[i,:]).reshape((1,561))\n",
    "    ini_class=clf.predict(x_ini)\n",
    "    x_adv=(x_ini-2.5*(clf.coef_[ini_class[0]-1,:]/(np.linalg.norm(clf.coef_[ini_class[0]-1,:])))).reshape((1,561))\n",
    "    adv_examples_test[i,:]=x_adv\n",
    "    final_class=clf.predict(x_adv)\n",
    "    if y_test[i]==ini_class[0]:\n",
    "        count_correct_2=count_correct_2+1\n",
    "    if ini_class[0]!=final_class[0]:\n",
    "        count_adv=count_adv+1\n",
    "    if y_test[i]!=final_class[0]:\n",
    "        count_wrong=count_wrong+1\n",
    "    if y_test[i]!=final_class[0] and ini_class[0]==y_test[i]:\n",
    "        count_pure_adv=count_pure_adv+1\n",
    "#     if y_train[i]!=final_class[0] and ini_class[0]==y_train[i] and print_flag==0:\n",
    "#         #plt.imshow((x_ini.reshape((28,28)))*255, cmap='gray', interpolation='nearest', vmin=0, vmax=255)\n",
    "#         plt.imshow(((x_adv-x_ini).reshape((28,28)))*255, cmap='gray', interpolation='nearest', vmin=0, vmax=255)\n",
    "#         print_flag=print_flag+1\n",
    "print count_wrong/2947.0, count_adv/2947.0, count_pure_adv/count_correct_2"
   ]
  },
  {
   "cell_type": "code",
   "execution_count": 14,
   "metadata": {
    "collapsed": false
   },
   "outputs": [
    {
     "name": "stderr",
     "output_type": "stream",
     "text": [
      "/Users/arjunbhagoji/anaconda/lib/python2.7/site-packages/ipykernel/__main__.py:10: VisibleDeprecationWarning: using a non-integer number instead of an integer will result in an error in the future\n"
     ]
    },
    {
     "name": "stdout",
     "output_type": "stream",
     "text": [
      "0.787948857454 0.792709466812 0.787948857454\n"
     ]
    }
   ],
   "source": [
    "adv_examples_train=np.zeros((7352,561))\n",
    "\n",
    "count_pure_adv=0.0\n",
    "count_adv=0.0\n",
    "count_wrong=0.0\n",
    "print_flag=0\n",
    "for i in range(7352):\n",
    "    x_ini=(X_train[i,:]).reshape((1,561))\n",
    "    ini_class=clf.predict(x_ini)\n",
    "    x_adv=(x_ini-1.0*(clf.coef_[ini_class[0]-1,:]/(np.linalg.norm(clf.coef_[ini_class[0]-1,:])))).reshape((1,561))\n",
    "    adv_examples_train[i,:]=x_adv\n",
    "    final_class=clf.predict(x_adv)\n",
    "    if ini_class[0]!=final_class[0]:\n",
    "        count_adv=count_adv+1\n",
    "    if y_train[i]!=final_class[0]:\n",
    "        count_wrong=count_wrong+1\n",
    "    if y_train[i]!=final_class[0] and ini_class[0]==y_train[i]:\n",
    "        count_pure_adv=count_pure_adv+1\n",
    "#     if y_train[i]!=final_class[0] and ini_class[0]==y_train[i] and print_flag==0:\n",
    "#         #plt.imshow((x_ini.reshape((28,28)))*255, cmap='gray', interpolation='nearest', vmin=0, vmax=255)\n",
    "#         plt.imshow(((x_adv-x_ini).reshape((28,28)))*255, cmap='gray', interpolation='nearest', vmin=0, vmax=255)\n",
    "#         print_flag=print_flag+1\n",
    "print count_wrong/7352.0, count_adv/7352.0, count_pure_adv/7352.0"
   ]
  },
  {
   "cell_type": "code",
   "execution_count": 15,
   "metadata": {
    "collapsed": false
   },
   "outputs": [
    {
     "data": {
      "text/plain": [
       "array([ 2.])"
      ]
     },
     "execution_count": 15,
     "metadata": {},
     "output_type": "execute_result"
    }
   ],
   "source": [
    "ini_class"
   ]
  },
  {
   "cell_type": "code",
   "execution_count": 16,
   "metadata": {
    "collapsed": false
   },
   "outputs": [
    {
     "data": {
      "text/plain": [
       "array([ 3.])"
      ]
     },
     "execution_count": 16,
     "metadata": {},
     "output_type": "execute_result"
    }
   ],
   "source": [
    "final_class"
   ]
  },
  {
   "cell_type": "code",
   "execution_count": 17,
   "metadata": {
    "collapsed": false
   },
   "outputs": [
    {
     "name": "stdout",
     "output_type": "stream",
     "text": [
      "4.17714260686\n",
      "6.08051615939\n",
      "4.03492342873\n",
      "10.588368732\n",
      "10.1657873574\n",
      "1.71910641807\n"
     ]
    }
   ],
   "source": [
    "for i in range(6):\n",
    "    print np.linalg.norm(clf.coef_[i,:])"
   ]
  },
  {
   "cell_type": "code",
   "execution_count": 18,
   "metadata": {
    "collapsed": false
   },
   "outputs": [
    {
     "data": {
      "text/plain": [
       "0.99999999999999989"
      ]
     },
     "execution_count": 18,
     "metadata": {},
     "output_type": "execute_result"
    }
   ],
   "source": [
    "np.linalg.norm((x_adv-x_ini))"
   ]
  },
  {
   "cell_type": "code",
   "execution_count": 19,
   "metadata": {
    "collapsed": false
   },
   "outputs": [
    {
     "data": {
      "text/plain": [
       "0.0422200330920749"
      ]
     },
     "execution_count": 19,
     "metadata": {},
     "output_type": "execute_result"
    }
   ],
   "source": [
    "np.sqrt(np.sum((x_adv-x_ini)**2)/561.0)"
   ]
  },
  {
   "cell_type": "code",
   "execution_count": 20,
   "metadata": {
    "collapsed": false
   },
   "outputs": [
    {
     "data": {
      "text/plain": [
       "(array([0, 0, 0, 0, 0, 0, 0, 0, 0]),\n",
       " array([ 41,  50,  89,  92, 117, 156, 197, 198, 381]))"
      ]
     },
     "execution_count": 20,
     "metadata": {},
     "output_type": "execute_result"
    }
   ],
   "source": [
    "np.where(x_adv-x_ini>0.1)"
   ]
  },
  {
   "cell_type": "code",
   "execution_count": 21,
   "metadata": {
    "collapsed": false
   },
   "outputs": [
    {
     "data": {
      "text/plain": [
       "-0.40533133098413543"
      ]
     },
     "execution_count": 21,
     "metadata": {},
     "output_type": "execute_result"
    }
   ],
   "source": [
    "np.mean(x_ini)"
   ]
  },
  {
   "cell_type": "code",
   "execution_count": 22,
   "metadata": {
    "collapsed": false
   },
   "outputs": [
    {
     "data": {
      "text/plain": [
       "-0.40519730319940994"
      ]
     },
     "execution_count": 22,
     "metadata": {},
     "output_type": "execute_result"
    }
   ],
   "source": [
    "np.mean(x_adv)"
   ]
  },
  {
   "cell_type": "code",
   "execution_count": 23,
   "metadata": {
    "collapsed": false
   },
   "outputs": [
    {
     "data": {
      "text/plain": [
       "0.48007378511187287"
      ]
     },
     "execution_count": 23,
     "metadata": {},
     "output_type": "execute_result"
    }
   ],
   "source": [
    "np.std(x_ini)"
   ]
  },
  {
   "cell_type": "code",
   "execution_count": 24,
   "metadata": {
    "collapsed": false
   },
   "outputs": [
    {
     "data": {
      "text/plain": [
       "0.62830273517549762"
      ]
     },
     "execution_count": 24,
     "metadata": {},
     "output_type": "execute_result"
    }
   ],
   "source": [
    "np.linalg.norm(x_ini)/np.sqrt(561)"
   ]
  },
  {
   "cell_type": "markdown",
   "metadata": {},
   "source": [
    "### Success with PCA"
   ]
  },
  {
   "cell_type": "code",
   "execution_count": 34,
   "metadata": {
    "collapsed": true
   },
   "outputs": [],
   "source": [
    "from sklearn.decomposition import PCA\n",
    "\n",
    "rd=30\n",
    "\n",
    "PCA_in_train=X_train\n",
    "PCA_in_test=X_test\n",
    "\n",
    "### Doing PCA over the training data\n",
    "#Fitting the PCA model on training data\n",
    "pca=PCA(n_components=30)\n",
    "pca.fit(PCA_in_train)\n",
    "#Transforming the training, validation and test data\n",
    "X_train_dr=pca.transform(PCA_in_train)\n",
    "X_test_dr=pca.transform(PCA_in_test)\n",
    "X_adv_dr=pca.transform(adv_examples_test)\n",
    "\n",
    "clf_pca=svm.LinearSVC(dual=False)\n",
    "\n",
    "clf_pca.fit(X_train_dr,y_train)\n",
    "\n",
    "test_out_pca=clf_pca.predict(X_test_dr)\n",
    "test_success_pca=(2947.0-np.count_nonzero(test_out_pca-y_test))/2947.0"
   ]
  },
  {
   "cell_type": "code",
   "execution_count": 35,
   "metadata": {
    "collapsed": false
   },
   "outputs": [
    {
     "data": {
      "text/plain": [
       "0.9124533423820834"
      ]
     },
     "execution_count": 35,
     "metadata": {},
     "output_type": "execute_result"
    }
   ],
   "source": [
    "test_success_pca"
   ]
  },
  {
   "cell_type": "code",
   "execution_count": 36,
   "metadata": {
    "collapsed": false
   },
   "outputs": [
    {
     "data": {
      "text/plain": [
       "(7352, 30)"
      ]
     },
     "execution_count": 36,
     "metadata": {},
     "output_type": "execute_result"
    }
   ],
   "source": [
    "X_train_dr.shape"
   ]
  },
  {
   "cell_type": "code",
   "execution_count": 37,
   "metadata": {
    "collapsed": true
   },
   "outputs": [],
   "source": [
    "X_test_recons=pca.inverse_transform(X_test_dr)"
   ]
  },
  {
   "cell_type": "code",
   "execution_count": 38,
   "metadata": {
    "collapsed": false
   },
   "outputs": [],
   "source": [
    "test_out_recons=clf.predict(X_test_recons)\n",
    "test_success_recons=(2947.0-np.count_nonzero(test_out_recons-y_test))/2947.0"
   ]
  },
  {
   "cell_type": "code",
   "execution_count": 39,
   "metadata": {
    "collapsed": false
   },
   "outputs": [
    {
     "data": {
      "text/plain": [
       "0.8978622327790974"
      ]
     },
     "execution_count": 39,
     "metadata": {},
     "output_type": "execute_result"
    }
   ],
   "source": [
    "test_success_recons"
   ]
  },
  {
   "cell_type": "markdown",
   "metadata": {},
   "source": [
    "### Testing reconstruction based defense"
   ]
  },
  {
   "cell_type": "code",
   "execution_count": 40,
   "metadata": {
    "collapsed": true
   },
   "outputs": [],
   "source": [
    "rev_adv=pca.inverse_transform(X_adv_dr)"
   ]
  },
  {
   "cell_type": "code",
   "execution_count": 50,
   "metadata": {
    "collapsed": false
   },
   "outputs": [
    {
     "name": "stdout",
     "output_type": "stream",
     "text": [
      "0.232100441127 0.24737020699 0.227528089888\n"
     ]
    }
   ],
   "source": [
    "count_pure_adv_2=0.0\n",
    "count_adv_2=0.0\n",
    "count_wrong_2=0.0\n",
    "count_mis=0.0\n",
    "count_correct_2=0.0\n",
    "for i in range(2947):\n",
    "    x_ini_2=(X_test[i,:]).reshape((1,561))\n",
    "    ini_class_2=clf.predict(x_ini_2)\n",
    "    #x_adv=(x_ini-1.0*(clf.coef_[ini_class[0],:]/(np.linalg.norm(clf.coef_[ini_class[0],:])))).reshape((1,784))\n",
    "    x_adv_2=rev_adv[i,:].reshape((1,561))\n",
    "    final_class_2=clf.predict(x_adv_2)\n",
    "    if y_test[i]==ini_class_2[0]:\n",
    "        count_correct_2=count_correct_2+1\n",
    "    if ini_class_2[0]!=final_class_2[0]:\n",
    "        count_adv_2=count_adv_2+1\n",
    "    if y_test[i]!=final_class_2[0]:\n",
    "        count_wrong_2=count_wrong_2+1\n",
    "    if y_test[i]!=final_class_2[0] and ini_class_2[0]==y_test[i]:\n",
    "        count_pure_adv_2=count_pure_adv_2+1\n",
    "#     if y_train[i]!=final_class[0] and ini_class[0]==y_train[i] and print_flag==0:\n",
    "#         #plt.imshow((x_ini.reshape((28,28)))*255, cmap='gray', interpolation='nearest', vmin=0, vmax=255)\n",
    "#         plt.imshow(((x_adv-x_ini).reshape((28,28)))*255, cmap='gray', interpolation='nearest', vmin=0, vmax=255)\n",
    "#         print_flag=print_flag+1\n",
    "print count_wrong_2/2947.0, count_adv_2/2947.0, count_pure_adv_2/count_correct_2"
   ]
  },
  {
   "cell_type": "code",
   "execution_count": 52,
   "metadata": {
    "collapsed": false
   },
   "outputs": [
    {
     "name": "stderr",
     "output_type": "stream",
     "text": [
      "/Users/arjunbhagoji/anaconda/lib/python2.7/site-packages/ipykernel/__main__.py:9: VisibleDeprecationWarning: using a non-integer number instead of an integer will result in an error in the future\n"
     ]
    },
    {
     "name": "stdout",
     "output_type": "stream",
     "text": [
      "0.163556158806 0.128605361384 0.108962439569\n"
     ]
    }
   ],
   "source": [
    "count_pure_adv_2=0.0\n",
    "count_adv_2=0.0\n",
    "count_wrong_2=0.0\n",
    "count_mis=0.0\n",
    "count_correct_2=0.0\n",
    "for i in range(2947):\n",
    "    x_ini_2=(X_test_dr[i,:]).reshape((1,rd))\n",
    "    ini_class_2=clf_pca.predict(x_ini_2)\n",
    "    x_adv_2=(x_ini_2-1.0*(clf_pca.coef_[ini_class[0]-1,:]/(np.linalg.norm(clf_pca.coef_[ini_class[0]-1,:])))).reshape((1,rd))\n",
    "    #x_adv_2=rev_adv[i,:].reshape((1,561))\n",
    "    final_class_2=clf_pca.predict(x_adv_2)\n",
    "    if y_test[i]==ini_class_2[0]:\n",
    "        count_correct_2=count_correct_2+1\n",
    "    if ini_class_2[0]!=final_class_2[0]:\n",
    "        count_adv_2=count_adv_2+1\n",
    "    if y_test[i]!=final_class_2[0]:\n",
    "        count_wrong_2=count_wrong_2+1\n",
    "    if y_test[i]!=final_class_2[0] and ini_class_2[0]==y_test[i]:\n",
    "        count_pure_adv_2=count_pure_adv_2+1\n",
    "#     if y_train[i]!=final_class[0] and ini_class[0]==y_train[i] and print_flag==0:\n",
    "#         #plt.imshow((x_ini.reshape((28,28)))*255, cmap='gray', interpolation='nearest', vmin=0, vmax=255)\n",
    "#         plt.imshow(((x_adv-x_ini).reshape((28,28)))*255, cmap='gray', interpolation='nearest', vmin=0, vmax=255)\n",
    "#         print_flag=print_flag+1\n",
    "print count_wrong_2/2947.0, count_adv_2/2947.0, count_pure_adv_2/count_correct_2"
   ]
  },
  {
   "cell_type": "code",
   "execution_count": null,
   "metadata": {
    "collapsed": false
   },
   "outputs": [],
   "source": [
    "count_pure_adv_2=0.0\n",
    "count_adv_2=0.0\n",
    "count_wrong_2=0.0\n",
    "count_mis=0.0\n",
    "for i in range(2947):\n",
    "    x_ini_2=(X_test_dr[i,:]).reshape((1,rd))\n",
    "    ini_class_2=clf_pca.predict(x_ini_2)\n",
    "    #x_adv_2=(x_ini_2-1.0*(clf_pca.coef_[ini_class[0]-1,:]/(np.linalg.norm(clf_pca.coef_[ini_class[0]-1,:])))).reshape((1,rd))\n",
    "    x_adv_2=X_adv_dr[i,:].reshape((1,rd))\n",
    "    final_class_2=clf_pca.predict(x_adv_2)\n",
    "    if ini_class_2[0]!=final_class_2[0]:\n",
    "        count_adv_2=count_adv_2+1\n",
    "    if y_test[i]!=final_class_2[0]:\n",
    "        count_wrong_2=count_wrong_2+1\n",
    "    if y_test[i]!=final_class_2[0] and ini_class_2[0]==y_test[i]:\n",
    "        count_pure_adv_2=count_pure_adv_2+1\n",
    "#     if y_train[i]!=final_class[0] and ini_class[0]==y_train[i] and print_flag==0:\n",
    "#         #plt.imshow((x_ini.reshape((28,28)))*255, cmap='gray', interpolation='nearest', vmin=0, vmax=255)\n",
    "#         plt.imshow(((x_adv-x_ini).reshape((28,28)))*255, cmap='gray', interpolation='nearest', vmin=0, vmax=255)\n",
    "#         print_flag=print_flag+1\n",
    "print count_wrong_2/2947.0, count_adv_2/2947.0, count_pure_adv_2/2947.0"
   ]
  }
 ],
 "metadata": {
  "kernelspec": {
   "display_name": "Python 2",
   "language": "python",
   "name": "python2"
  },
  "language_info": {
   "codemirror_mode": {
    "name": "ipython",
    "version": 2
   },
   "file_extension": ".py",
   "mimetype": "text/x-python",
   "name": "python",
   "nbconvert_exporter": "python",
   "pygments_lexer": "ipython2",
   "version": "2.7.11"
  }
 },
 "nbformat": 4,
 "nbformat_minor": 0
}

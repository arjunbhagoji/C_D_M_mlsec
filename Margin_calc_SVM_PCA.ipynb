{
 "cells": [
  {
   "cell_type": "code",
   "execution_count": 1,
   "metadata": {
    "collapsed": true
   },
   "outputs": [],
   "source": [
    "def load_dataset():\n",
    "    # We first define a download function, supporting both Python 2 and 3.\n",
    "    if sys.version_info[0] == 2:\n",
    "        from urllib import urlretrieve\n",
    "    else:\n",
    "        from urllib.request import urlretrieve\n",
    "\n",
    "    def download(filename, source='http://yann.lecun.com/exdb/mnist/'):\n",
    "        print(\"Downloading %s\" % filename)\n",
    "        urlretrieve(source + filename, filename)\n",
    "\n",
    "    # We then define functions for loading MNIST images and labels.\n",
    "    # For convenience, they also download the requested files if needed.\n",
    "    import gzip\n",
    "\n",
    "    def load_mnist_images(filename):\n",
    "        #if not os.path.exists(filename):\n",
    "        #    download(filename)\n",
    "        # Read the inputs in Yann LeCun's binary format.\n",
    "        with gzip.open(filename, 'rb') as f:\n",
    "            data = np.frombuffer(f.read(), np.uint8, offset=16)\n",
    "        # The inputs are vectors now, we reshape them to monochrome 2D images,\n",
    "        # following the shape convention: (examples, channels, rows, columns)\n",
    "        data = data.reshape(-1, 1, 784)\n",
    "        # The inputs come as bytes, we convert them to float32 in range [0,1].\n",
    "        # (Actually to range [0, 255/256], for compatibility to the version\n",
    "        # provided at http://deeplearning.net/data/mnist/mnist.pkl.gz.)\n",
    "        return data / np.float32(256)\n",
    "\n",
    "    def load_mnist_labels(filename):\n",
    "        #if not os.path.exists(filename):\n",
    "        #    download(filename)\n",
    "        # Read the labels in Yann LeCun's binary format.\n",
    "        with gzip.open(filename, 'rb') as f:\n",
    "            data = np.frombuffer(f.read(), np.uint8, offset=8)\n",
    "        # The labels are vectors of integers now, that's exactly what we want.\n",
    "        return data\n",
    "\n",
    "    # We can now download and read the training and test set images and labels.\n",
    "    script_dir=os.getcwd()\n",
    "    rel_path=\"Input_data/\"\n",
    "    abs_path=os.path.join(script_dir,rel_path)\n",
    "    X_train = load_mnist_images(abs_path+'train-images-idx3-ubyte.gz')\n",
    "    y_train = load_mnist_labels(abs_path+'train-labels-idx1-ubyte.gz')\n",
    "    X_test = load_mnist_images(abs_path+'t10k-images-idx3-ubyte.gz')\n",
    "    y_test = load_mnist_labels(abs_path+'t10k-labels-idx1-ubyte.gz')\n",
    "\n",
    "    # We reserve the last 10000 training examples for validation.\n",
    "    X_train, X_val = X_train[:-10000], X_train[-10000:]\n",
    "    y_train, y_val = y_train[:-10000], y_train[-10000:]\n",
    "\n",
    "    # We just return all the arrays in order, as expected in main().\n",
    "    # (It doesn't matter how we do this as long as we can read them again.)\n",
    "    return X_train, y_train, X_val, y_val, X_test, y_test"
   ]
  },
  {
   "cell_type": "code",
   "execution_count": 2,
   "metadata": {
    "collapsed": false
   },
   "outputs": [
    {
     "name": "stderr",
     "output_type": "stream",
     "text": [
      "/usr/local/lib/python2.7/dist-packages/matplotlib/font_manager.py:273: UserWarning: Matplotlib is building the font cache using fc-list. This may take a moment.\n",
      "  warnings.warn('Matplotlib is building the font cache using fc-list. This may take a moment.')\n"
     ]
    },
    {
     "data": {
      "text/plain": [
       "0.92049999999999998"
      ]
     },
     "execution_count": 2,
     "metadata": {},
     "output_type": "execute_result"
    }
   ],
   "source": [
    "import numpy as np\n",
    "import sys\n",
    "import os\n",
    "\n",
    "from matplotlib import pyplot as plt\n",
    "\n",
    "# %matplotlib inline\n",
    "\n",
    "X_train, y_train, X_val, y_val, X_test, y_test=load_dataset()\n",
    "\n",
    "X_train=X_train.reshape((50000,784))\n",
    "X_test=X_test.reshape((10000,784))\n",
    "\n",
    "from sklearn import svm\n",
    "\n",
    "clf=svm.LinearSVC()\n",
    "\n",
    "clf.fit(X_train,y_train)\n",
    "\n",
    "X_val=X_val.reshape((10000,784))\n",
    "\n",
    "clf.score(X_val,y_val)"
   ]
  },
  {
   "cell_type": "code",
   "execution_count": 3,
   "metadata": {
    "collapsed": false
   },
   "outputs": [
    {
     "name": "stdout",
     "output_type": "stream",
     "text": [
      "7.70178974635\n",
      "10.8619767748\n",
      "6.92264991913\n",
      "7.15441351077\n",
      "9.57456959824\n",
      "8.8407548438\n",
      "7.69397085851\n",
      "8.66512890385\n",
      "6.50479214014\n",
      "8.50606755871\n"
     ]
    }
   ],
   "source": [
    "for i in range(10):\n",
    "    print np.linalg.norm(clf.coef_[i])"
   ]
  },
  {
   "cell_type": "code",
   "execution_count": 4,
   "metadata": {
    "collapsed": false
   },
   "outputs": [],
   "source": [
    "one_array=np.where(y_test==1)\n",
    "one_y_test=y_test[one_array]\n",
    "one_X_test=X_test[one_array[0],:]\n",
    "one_decision_test=clf.decision_function(one_X_test)\n",
    "positive_indices_one=np.where(one_decision_test[:,1]>0)[0]\n",
    "# temp_gap=np.where(one_decision_train[:,1]>1.1)[0]"
   ]
  },
  {
   "cell_type": "code",
   "execution_count": 5,
   "metadata": {
    "collapsed": false
   },
   "outputs": [],
   "source": [
    "positive_indices_one=np.where(one_decision_test[:,1]>0)[0]"
   ]
  },
  {
   "cell_type": "code",
   "execution_count": 6,
   "metadata": {
    "collapsed": true
   },
   "outputs": [],
   "source": [
    "no_pca_margins=one_decision_test[positive_indices_one,1]/np.linalg.norm(clf.coef_[1,:])"
   ]
  },
  {
   "cell_type": "code",
   "execution_count": 7,
   "metadata": {
    "collapsed": false
   },
   "outputs": [
    {
     "data": {
      "text/plain": [
       "{'boxes': [<matplotlib.lines.Line2D at 0x7f24088c0e50>],\n",
       " 'caps': [<matplotlib.lines.Line2D at 0x7f24088cdd10>,\n",
       "  <matplotlib.lines.Line2D at 0x7f240885f390>],\n",
       " 'fliers': [<matplotlib.lines.Line2D at 0x7f240886a050>],\n",
       " 'means': [],\n",
       " 'medians': [<matplotlib.lines.Line2D at 0x7f240885f9d0>],\n",
       " 'whiskers': [<matplotlib.lines.Line2D at 0x7f24088cd050>,\n",
       "  <matplotlib.lines.Line2D at 0x7f24088cd6d0>]}"
      ]
     },
     "execution_count": 7,
     "metadata": {},
     "output_type": "execute_result"
    }
   ],
   "source": [
    "plt.boxplot(no_pca_margins)"
   ]
  },
  {
   "cell_type": "code",
   "execution_count": 13,
   "metadata": {
    "collapsed": false
   },
   "outputs": [
    {
     "data": {
      "text/plain": [
       "0.0030111123529526925"
      ]
     },
     "execution_count": 13,
     "metadata": {},
     "output_type": "execute_result"
    }
   ],
   "source": [
    "np.amin(one_decision_test[positive_indices_one,1]/np.linalg.norm(clf.coef_[1,:]))"
   ]
  },
  {
   "cell_type": "code",
   "execution_count": 14,
   "metadata": {
    "collapsed": false
   },
   "outputs": [
    {
     "data": {
      "text/plain": [
       "0.22829010372278727"
      ]
     },
     "execution_count": 14,
     "metadata": {},
     "output_type": "execute_result"
    }
   ],
   "source": [
    "np.amax(one_decision_test[positive_indices_one,1]/np.linalg.norm(clf.coef_[1,:]))"
   ]
  },
  {
   "cell_type": "code",
   "execution_count": 15,
   "metadata": {
    "collapsed": false
   },
   "outputs": [
    {
     "data": {
      "text/plain": [
       "0.11955209264037404"
      ]
     },
     "execution_count": 15,
     "metadata": {},
     "output_type": "execute_result"
    }
   ],
   "source": [
    "np.mean(one_decision_test[positive_indices_one,1]/np.linalg.norm(clf.coef_[1,:]))"
   ]
  },
  {
   "cell_type": "code",
   "execution_count": 8,
   "metadata": {
    "collapsed": false
   },
   "outputs": [],
   "source": [
    "from sklearn.decomposition import PCA\n",
    "\n",
    "rd_list=[10,20,30,40,50,100,331]\n",
    "\n",
    "max_margins=np.zeros((len(rd_list)))\n",
    "min_margins=np.zeros((len(rd_list)))\n",
    "mean_margins=np.zeros((len(rd_list)))\n",
    "margins=[]\n",
    "\n",
    "i=0\n",
    "for rd in rd_list:\n",
    "    PCA_in_train=X_train\n",
    "    PCA_in_val=X_val\n",
    "    PCA_in_test=X_test\n",
    "\n",
    "    ### Doing PCA over the training data\n",
    "    #Fitting the PCA model on training data\n",
    "    pca=PCA(n_components=rd)\n",
    "    pca.fit(PCA_in_train)\n",
    "    #Transforming the training, validation and test data\n",
    "    X_train_dr=pca.transform(PCA_in_train).reshape((50000,rd))\n",
    "    X_test_dr=pca.transform(PCA_in_test).reshape((10000,rd))\n",
    "    X_val_dr=pca.transform(PCA_in_val).reshape((10000,rd))\n",
    "\n",
    "    clf_pca=svm.LinearSVC(dual=False)\n",
    "\n",
    "    clf_pca.fit(X_train_dr,y_train)\n",
    "\n",
    "    # val_out_pca=clf_pca.predict(X_val_dr)\n",
    "    # validation_success_pca=(10000-np.count_nonzero(val_out_pca-y_val))/10000.0\n",
    "    one_X_test_dr=X_test_dr[one_array[0],:]\n",
    "\n",
    "    one_decision_test_dr=clf_pca.decision_function(one_X_test_dr)\n",
    "    positive_indices_one_dr=np.where(one_decision_test_dr[:,1]>0)[0]\n",
    "    margin_curr=one_decision_test_dr[positive_indices_one_dr,1]/np.linalg.norm(clf_pca.coef_[1,:])\n",
    "    max_margins[i]=np.amax(one_decision_test_dr[positive_indices_one_dr,1]/np.linalg.norm(clf_pca.coef_[1,:]))\n",
    "    min_margins[i]=np.amin(one_decision_test_dr[positive_indices_one_dr,1]/np.linalg.norm(clf_pca.coef_[1,:]))\n",
    "    mean_margins[i]=np.mean(one_decision_test_dr[positive_indices_one_dr,1]/np.linalg.norm(clf_pca.coef_[1,:]))\n",
    "    margins.append(margin_curr)\n",
    "    i=i+1\n",
    "margins.append(no_pca_margins)"
   ]
  },
  {
   "cell_type": "code",
   "execution_count": 16,
   "metadata": {
    "collapsed": false
   },
   "outputs": [],
   "source": [
    "fig, ax = plt.subplots(1, 1,figsize=(12,9))\n",
    "plt.boxplot(margins,0,'',showmeans=True,labels=['10','20','30','40','50','100','331','No PCA'])\n",
    "plt.title('Box plot of distances to separating hyperplane for Linear SVMs',fontsize=17)\n",
    "plt.xlabel('Reduced dimensions',fontsize=17)\n",
    "plt.ylabel('Distance to separating hyperplane',fontsize=17)\n",
    "plt.savefig('margin_boxplot.eps',format='eps',bbox_inches='tight')"
   ]
  },
  {
   "cell_type": "code",
   "execution_count": 19,
   "metadata": {
    "collapsed": false
   },
   "outputs": [
    {
     "data": {
      "text/plain": [
       "array([ 1.27712689,  1.47735755,  1.40172651,  1.37392521,  1.26810879,\n",
       "        0.85793445,  0.39940548,  0.23059286])"
      ]
     },
     "execution_count": 19,
     "metadata": {},
     "output_type": "execute_result"
    }
   ],
   "source": [
    "max_margins"
   ]
  },
  {
   "cell_type": "code",
   "execution_count": 20,
   "metadata": {
    "collapsed": false
   },
   "outputs": [
    {
     "data": {
      "text/plain": [
       "array([ 0.00984224,  0.0017355 ,  0.00115389,  0.00361119,  0.01131528,\n",
       "        0.02969216,  0.00481223,  0.00330256])"
      ]
     },
     "execution_count": 20,
     "metadata": {},
     "output_type": "execute_result"
    }
   ],
   "source": [
    "min_margins"
   ]
  },
  {
   "cell_type": "code",
   "execution_count": 21,
   "metadata": {
    "collapsed": false
   },
   "outputs": [
    {
     "data": {
      "text/plain": [
       "array([ 0.81371016,  0.7933079 ,  0.76620759,  0.71970405,  0.716789  ,\n",
       "        0.47311263,  0.19145593,  0.12096445])"
      ]
     },
     "execution_count": 21,
     "metadata": {},
     "output_type": "execute_result"
    }
   ],
   "source": [
    "mean_margins"
   ]
  },
  {
   "cell_type": "code",
   "execution_count": 26,
   "metadata": {
    "collapsed": false
   },
   "outputs": [],
   "source": [
    "mean_margins=np.append(mean_margins,0.11955209264037404)\n",
    "min_margins=np.append(min_margins,0.0030111123529526925)\n",
    "max_margins=np.append(max_margins,0.22829010372278727)"
   ]
  },
  {
   "cell_type": "code",
   "execution_count": 27,
   "metadata": {
    "collapsed": false
   },
   "outputs": [
    {
     "data": {
      "text/plain": [
       "array([ 0.81371016,  0.7933079 ,  0.76620759,  0.71970405,  0.716789  ,\n",
       "        0.47311263,  0.19145593,  0.12096445,  0.11955209])"
      ]
     },
     "execution_count": 27,
     "metadata": {},
     "output_type": "execute_result"
    }
   ],
   "source": [
    "mean_margins"
   ]
  },
  {
   "cell_type": "code",
   "execution_count": 30,
   "metadata": {
    "collapsed": false
   },
   "outputs": [
    {
     "data": {
      "image/png": "[encoded data removed]",
      "text/plain": [
       "<matplotlib.figure.Figure at 0x7fef0bb75050>"
      ]
     },
     "metadata": {},
     "output_type": "display_data"
    }
   ],
   "source": [
    "import numpy as np\n",
    "import matplotlib\n",
    "matplotlib.use('Agg') # Must be before importing matplotlib.pyplot or pylab!\n",
    "import matplotlib.pyplot as plt\n",
    "import os\n",
    "\n",
    "\n",
    "font ={'size': 17}\n",
    "\n",
    "matplotlib.rc('font', **font)\n",
    "#Plot second figure\n",
    "\n",
    "fig, ax = plt.subplots(1,1,figsize=(12,9))\n",
    "\n",
    "ax.get_xaxis().tick_bottom()\n",
    "ax.get_yaxis().tick_left()\n",
    "\n",
    "x=np.arange(9)\n",
    "#labels=['10','20','30','40','50','100','155','561','no_PCA']\n",
    "labels=['10','20','30','40','50','100','331','784','original']\n",
    "\n",
    "# script_dir=os.path.dirname(__file__)\n",
    "# rel_path_o=\"Output_data/\"\n",
    "# abs_path_o=os.path.join(script_dir,rel_path_o)\n",
    "\n",
    "# curr_array=np.loadtxt(abs_path_o+'MNIST_test_perform_recons.txt',delimiter=',')\n",
    "minimum,=plt.plot(x,min_margins,label='Minimum distance',marker='o',markersize=10)\n",
    "\n",
    "# curr_array=np.genfromtxt(abs_path_o+'MNIST_test_perform_PCA.txt',skip_header=0,delimiter=',')\n",
    "maximum,=plt.plot(x,max_margins,label='Maximum distance',marker='x',markersize=10)\n",
    "\n",
    "mean,=plt.plot(x,mean_margins,label='Mean distance',marker='|',markersize=10)\n",
    "\n",
    "# theo_limit=np.array(97.71)\n",
    "# y=np.tile(theo_limit,len(labels))\n",
    "# orig,=plt.plot(x,y,color='black',label='No defense')\n",
    "\n",
    "\n",
    "xticks, xticklabels=plt.xticks()\n",
    "plt.xlabel('Reduced dimension after PCA')\n",
    "plt.ylabel('Distances from classification boundary')\n",
    "plt.title('Distances from classification boundary vs. PCA dimensions \\n Model: Linear SVM')\n",
    "\n",
    "plt.legend(handles=[minimum,maximum,mean],loc=1)\n",
    "\n",
    "# xmin = (3*xticks[0] - xticks[1])/2.\n",
    "# # shaft half a step to the right\n",
    "# xmax = (3*xticks[-1] - xticks[-2])/2.\n",
    "# plt.xlim(xmin, xmax)\n",
    "# plt.ylim(0,100)\n",
    "plt.xticks(xticks,labels)\n",
    "\n",
    "script_dir=os.getcwd()\n",
    "rel_path_p=\"Plots/\"\n",
    "abs_path_p=os.path.join(script_dir,rel_path_p)\n",
    "\n",
    "plt.savefig(abs_path_p+'margin_plot.png', bbox_inches='tight')"
   ]
  },
  {
   "cell_type": "code",
   "execution_count": null,
   "metadata": {
    "collapsed": true
   },
   "outputs": [],
   "source": []
  }
 ],
 "metadata": {
  "kernelspec": {
   "display_name": "Python 2",
   "language": "python",
   "name": "python2"
  },
  "language_info": {
   "codemirror_mode": {
    "name": "ipython",
    "version": 2
   },
   "file_extension": ".py",
   "mimetype": "text/x-python",
   "name": "python",
   "nbconvert_exporter": "python",
   "pygments_lexer": "ipython2",
   "version": "2.7.6"
  }
 },
 "nbformat": 4,
 "nbformat_minor": 0
}

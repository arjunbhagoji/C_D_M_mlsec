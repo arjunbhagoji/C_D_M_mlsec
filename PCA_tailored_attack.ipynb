{
 "cells": [
  {
   "cell_type": "code",
   "execution_count": 1,
   "metadata": {
    "collapsed": true
   },
   "outputs": [],
   "source": [
    "def load_dataset():\n",
    "    # We first define a download function, supporting both Python 2 and 3.\n",
    "    if sys.version_info[0] == 2:\n",
    "        from urllib import urlretrieve\n",
    "    else:\n",
    "        from urllib.request import urlretrieve\n",
    "\n",
    "    def download(filename, source='http://yann.lecun.com/exdb/mnist/'):\n",
    "        print(\"Downloading %s\" % filename)\n",
    "        urlretrieve(source + filename, filename)\n",
    "\n",
    "    # We then define functions for loading MNIST images and labels.\n",
    "    # For convenience, they also download the requested files if needed.\n",
    "    import gzip\n",
    "\n",
    "    def load_mnist_images(filename):\n",
    "        #if not os.path.exists(filename):\n",
    "        #    download(filename)\n",
    "        # Read the inputs in Yann LeCun's binary format.\n",
    "        with gzip.open(filename, 'rb') as f:\n",
    "            data = np.frombuffer(f.read(), np.uint8, offset=16)\n",
    "        # The inputs are vectors now, we reshape them to monochrome 2D images,\n",
    "        # following the shape convention: (examples, channels, rows, columns)\n",
    "        data = data.reshape(-1, 1, 784)\n",
    "        # The inputs come as bytes, we convert them to float32 in range [0,1].\n",
    "        # (Actually to range [0, 255/256], for compatibility to the version\n",
    "        # provided at http://deeplearning.net/data/mnist/mnist.pkl.gz.)\n",
    "        return data / np.float32(256)\n",
    "\n",
    "    def load_mnist_labels(filename):\n",
    "        #if not os.path.exists(filename):\n",
    "        #    download(filename)\n",
    "        # Read the labels in Yann LeCun's binary format.\n",
    "        with gzip.open(filename, 'rb') as f:\n",
    "            data = np.frombuffer(f.read(), np.uint8, offset=8)\n",
    "        # The labels are vectors of integers now, that's exactly what we want.\n",
    "        return data\n",
    "\n",
    "    # We can now download and read the training and test set images and labels.\n",
    "    script_dir=os.getcwd()\n",
    "    rel_path=\"Input_data/\"\n",
    "    abs_path=os.path.join(script_dir,rel_path)\n",
    "    X_train = load_mnist_images(abs_path+'train-images-idx3-ubyte.gz')\n",
    "    y_train = load_mnist_labels(abs_path+'train-labels-idx1-ubyte.gz')\n",
    "    X_test = load_mnist_images(abs_path+'t10k-images-idx3-ubyte.gz')\n",
    "    y_test = load_mnist_labels(abs_path+'t10k-labels-idx1-ubyte.gz')\n",
    "\n",
    "    # We reserve the last 10000 training examples for validation.\n",
    "    X_train, X_val = X_train[:-10000], X_train[-10000:]\n",
    "    y_train, y_val = y_train[:-10000], y_train[-10000:]\n",
    "\n",
    "    # We just return all the arrays in order, as expected in main().\n",
    "    # (It doesn't matter how we do this as long as we can read them again.)\n",
    "    return X_train, y_train, X_val, y_val, X_test, y_test"
   ]
  },
  {
   "cell_type": "code",
   "execution_count": 2,
   "metadata": {
    "collapsed": false
   },
   "outputs": [
    {
     "name": "stderr",
     "output_type": "stream",
     "text": [
      "/usr/local/lib/python2.7/dist-packages/matplotlib/font_manager.py:273: UserWarning: Matplotlib is building the font cache using fc-list. This may take a moment.\n",
      "  warnings.warn('Matplotlib is building the font cache using fc-list. This may take a moment.')\n"
     ]
    }
   ],
   "source": [
    "import numpy as np\n",
    "import sys\n",
    "import os\n",
    "from matplotlib import pyplot as plt\n",
    "%matplotlib inline\n",
    "\n",
    "X_train, y_train, X_val, y_val, X_test, y_test=load_dataset()"
   ]
  },
  {
   "cell_type": "code",
   "execution_count": 3,
   "metadata": {
    "collapsed": true
   },
   "outputs": [],
   "source": [
    "X_train=X_train.reshape((50000,784))"
   ]
  },
  {
   "cell_type": "code",
   "execution_count": 5,
   "metadata": {
    "collapsed": true
   },
   "outputs": [],
   "source": [
    "rd_1=784\n",
    "rd_2=50"
   ]
  },
  {
   "cell_type": "code",
   "execution_count": 4,
   "metadata": {
    "collapsed": true
   },
   "outputs": [],
   "source": [
    "from sklearn.decomposition import PCA\n",
    "PCA_in_train=X_train.reshape(50000,784)\n",
    "PCA_in_val=X_val.reshape(10000,784)\n",
    "PCA_in_test=X_test.reshape(10000,784)"
   ]
  },
  {
   "cell_type": "code",
   "execution_count": 5,
   "metadata": {
    "collapsed": true
   },
   "outputs": [],
   "source": [
    "pca=PCA(n_components=784)\n",
    "pca_train=pca.fit(PCA_in_train)"
   ]
  },
  {
   "cell_type": "code",
   "execution_count": 6,
   "metadata": {
    "collapsed": true
   },
   "outputs": [],
   "source": [
    "PCA_vectors=pca.components_"
   ]
  },
  {
   "cell_type": "code",
   "execution_count": 7,
   "metadata": {
    "collapsed": false
   },
   "outputs": [
    {
     "data": {
      "text/plain": [
       "(784, 784)"
      ]
     },
     "execution_count": 7,
     "metadata": {},
     "output_type": "execute_result"
    }
   ],
   "source": [
    "PCA_vectors.shape"
   ]
  },
  {
   "cell_type": "code",
   "execution_count": 8,
   "metadata": {
    "collapsed": false
   },
   "outputs": [],
   "source": [
    "PCA_vectors=np.transpose(np.array(PCA_vectors))"
   ]
  },
  {
   "cell_type": "markdown",
   "metadata": {
    "collapsed": true
   },
   "source": [
    "A=np.dot(X_train,PCA_vectors)"
   ]
  },
  {
   "cell_type": "markdown",
   "metadata": {},
   "source": [
    "### The in-built PCA automatically subtracts the per-dimension mean for all axes"
   ]
  },
  {
   "cell_type": "markdown",
   "metadata": {
    "collapsed": false
   },
   "source": [
    "A-X_train_dr"
   ]
  },
  {
   "cell_type": "markdown",
   "metadata": {
    "collapsed": true
   },
   "source": [
    "pca_proj_sum=np.sum(np.absolute(X_train_dr),axis=1)"
   ]
  },
  {
   "cell_type": "markdown",
   "metadata": {
    "collapsed": false
   },
   "source": [
    "np.where(X_train<0)"
   ]
  },
  {
   "cell_type": "markdown",
   "metadata": {
    "collapsed": false
   },
   "source": [
    "np.where(PCA_vectors<0)"
   ]
  },
  {
   "cell_type": "code",
   "execution_count": 12,
   "metadata": {
    "collapsed": true
   },
   "outputs": [],
   "source": [
    "PCA_abs=np.absolute(PCA_vectors)"
   ]
  },
  {
   "cell_type": "markdown",
   "metadata": {
    "collapsed": false
   },
   "source": [
    "scores=np.zeros(784)\n",
    "for i in range(784):\n",
    "    for j in range(rd_1):\n",
    "        scores[i]=scores[i]+np.sum(X_train[:,i]*PCA_vectors[i,j])"
   ]
  },
  {
   "cell_type": "code",
   "execution_count": null,
   "metadata": {
    "collapsed": false
   },
   "outputs": [],
   "source": [
    "scores_abs=np.zeros(784)\n",
    "for i in range(784):\n",
    "    for j in range(rd_1):\n",
    "        scores_abs[i]=scores_abs[i]+np.sum(X_train[:,i]*PCA_abs[i,j])"
   ]
  },
  {
   "cell_type": "code",
   "execution_count": 13,
   "metadata": {
    "collapsed": false
   },
   "outputs": [
    {
     "ename": "NameError",
     "evalue": "name 'rd_2' is not defined",
     "output_type": "error",
     "traceback": [
      "\u001b[1;31m---------------------------------------------------------------------------\u001b[0m",
      "\u001b[1;31mNameError\u001b[0m                                 Traceback (most recent call last)",
      "\u001b[1;32m<ipython-input-13-638be1543aed>\u001b[0m in \u001b[0;36m<module>\u001b[1;34m()\u001b[0m\n\u001b[0;32m      1\u001b[0m \u001b[0mscores_diff\u001b[0m\u001b[1;33m=\u001b[0m\u001b[0mnp\u001b[0m\u001b[1;33m.\u001b[0m\u001b[0mzeros\u001b[0m\u001b[1;33m(\u001b[0m\u001b[1;36m784\u001b[0m\u001b[1;33m)\u001b[0m\u001b[1;33m\u001b[0m\u001b[0m\n\u001b[1;32m----> 2\u001b[1;33m \u001b[0mPCA_vectors_rd\u001b[0m\u001b[1;33m=\u001b[0m\u001b[0mPCA_vectors\u001b[0m\u001b[1;33m[\u001b[0m\u001b[1;33m:\u001b[0m\u001b[1;33m,\u001b[0m\u001b[1;36m0\u001b[0m\u001b[1;33m:\u001b[0m\u001b[0mrd_2\u001b[0m\u001b[1;33m]\u001b[0m\u001b[1;33m\u001b[0m\u001b[0m\n\u001b[0m\u001b[0;32m      3\u001b[0m \u001b[1;32mfor\u001b[0m \u001b[0mi\u001b[0m \u001b[1;32min\u001b[0m \u001b[0mrange\u001b[0m\u001b[1;33m(\u001b[0m\u001b[1;36m784\u001b[0m\u001b[1;33m)\u001b[0m\u001b[1;33m:\u001b[0m\u001b[1;33m\u001b[0m\u001b[0m\n\u001b[0;32m      4\u001b[0m     \u001b[0mscores_diff\u001b[0m\u001b[1;33m[\u001b[0m\u001b[0mi\u001b[0m\u001b[1;33m]\u001b[0m\u001b[1;33m=\u001b[0m\u001b[0mnp\u001b[0m\u001b[1;33m.\u001b[0m\u001b[0mlinalg\u001b[0m\u001b[1;33m.\u001b[0m\u001b[0mnorm\u001b[0m\u001b[1;33m(\u001b[0m\u001b[0mPCA_vectors_rd\u001b[0m\u001b[1;33m[\u001b[0m\u001b[0mi\u001b[0m\u001b[1;33m,\u001b[0m\u001b[1;33m:\u001b[0m\u001b[1;33m]\u001b[0m\u001b[1;33m)\u001b[0m\u001b[1;33m**\u001b[0m\u001b[1;36m2\u001b[0m\u001b[1;33m\u001b[0m\u001b[0m\n",
      "\u001b[1;31mNameError\u001b[0m: name 'rd_2' is not defined"
     ]
    }
   ],
   "source": [
    "scores_diff=np.zeros(784)\n",
    "PCA_vectors_rd=PCA_vectors[:,0:rd_2]\n",
    "for i in range(784):\n",
    "    scores_diff[i]=np.linalg.norm(PCA_vectors_rd[i,:])**2"
   ]
  },
  {
   "cell_type": "code",
   "execution_count": 12,
   "metadata": {
    "collapsed": false
   },
   "outputs": [],
   "source": [
    "scores_trial=np.zeros(784)\n",
    "for i in range(784):\n",
    "    scores_trial[i]=np.linalg.norm(PCA_vectors[i,0:rd_2])**2"
   ]
  },
  {
   "cell_type": "code",
   "execution_count": 11,
   "metadata": {
    "collapsed": false
   },
   "outputs": [
    {
     "ename": "NameError",
     "evalue": "name 'scores_trial' is not defined",
     "output_type": "error",
     "traceback": [
      "\u001b[1;31m---------------------------------------------------------------------------\u001b[0m",
      "\u001b[1;31mNameError\u001b[0m                                 Traceback (most recent call last)",
      "\u001b[1;32m<ipython-input-11-07d5faa5e0cd>\u001b[0m in \u001b[0;36m<module>\u001b[1;34m()\u001b[0m\n\u001b[0;32m      2\u001b[0m \u001b[1;31m#top_features=np.argsort(scores)[::-1][:40]\u001b[0m\u001b[1;33m\u001b[0m\u001b[1;33m\u001b[0m\u001b[0m\n\u001b[0;32m      3\u001b[0m \u001b[0mtop_features_diff\u001b[0m\u001b[1;33m=\u001b[0m\u001b[0mnp\u001b[0m\u001b[1;33m.\u001b[0m\u001b[0margsort\u001b[0m\u001b[1;33m(\u001b[0m\u001b[0mscores_diff\u001b[0m\u001b[1;33m)\u001b[0m\u001b[1;33m[\u001b[0m\u001b[1;33m:\u001b[0m\u001b[1;33m:\u001b[0m\u001b[1;33m-\u001b[0m\u001b[1;36m1\u001b[0m\u001b[1;33m]\u001b[0m\u001b[1;33m[\u001b[0m\u001b[1;33m:\u001b[0m\u001b[1;36m50\u001b[0m\u001b[1;33m]\u001b[0m\u001b[1;33m\u001b[0m\u001b[0m\n\u001b[1;32m----> 4\u001b[1;33m \u001b[0mtop_features_trial\u001b[0m\u001b[1;33m=\u001b[0m\u001b[0mnp\u001b[0m\u001b[1;33m.\u001b[0m\u001b[0margsort\u001b[0m\u001b[1;33m(\u001b[0m\u001b[0mscores_trial\u001b[0m\u001b[1;33m)\u001b[0m\u001b[1;33m[\u001b[0m\u001b[1;33m:\u001b[0m\u001b[1;33m:\u001b[0m\u001b[1;33m-\u001b[0m\u001b[1;36m1\u001b[0m\u001b[1;33m]\u001b[0m\u001b[1;33m[\u001b[0m\u001b[1;33m:\u001b[0m\u001b[1;36m50\u001b[0m\u001b[1;33m]\u001b[0m\u001b[1;33m\u001b[0m\u001b[0m\n\u001b[0m",
      "\u001b[1;31mNameError\u001b[0m: name 'scores_trial' is not defined"
     ]
    }
   ],
   "source": [
    "#top_features_abs=np.argsort(scores_abs)[::-1][:40]\n",
    "#top_features=np.argsort(scores)[::-1][:40]\n",
    "top_features_diff=np.argsort(scores_diff)[::-1][:50]\n",
    "top_features_trial=np.argsort(scores_trial)[::-1][:50]"
   ]
  },
  {
   "cell_type": "code",
   "execution_count": 32,
   "metadata": {
    "collapsed": false
   },
   "outputs": [
    {
     "data": {
      "text/plain": [
       "array([214, 213, 183, 184, 215, 463, 382, 242, 185, 408, 410, 270, 465,\n",
       "       435, 212, 403, 243, 268, 407, 464, 182, 240, 436, 211, 296, 381,\n",
       "       409, 210, 239, 437, 406, 404, 324, 458, 354, 629, 298, 438, 432,\n",
       "       376, 241, 628, 599, 460, 353, 209, 352, 491, 431, 459])"
      ]
     },
     "execution_count": 32,
     "metadata": {},
     "output_type": "execute_result"
    }
   ],
   "source": [
    "top_features_trial"
   ]
  },
  {
   "cell_type": "code",
   "execution_count": null,
   "metadata": {
    "collapsed": false
   },
   "outputs": [],
   "source": [
    "top_features"
   ]
  },
  {
   "cell_type": "code",
   "execution_count": null,
   "metadata": {
    "collapsed": false
   },
   "outputs": [],
   "source": [
    "np.argsort(abs(w_curr))[::-1][:40]"
   ]
  },
  {
   "cell_type": "code",
   "execution_count": 33,
   "metadata": {
    "collapsed": false
   },
   "outputs": [
    {
     "data": {
      "text/plain": [
       "array([214, 213, 183, 184, 215, 463, 382, 242, 185, 408, 410, 270, 465,\n",
       "       435, 212, 403, 243, 268, 407, 464, 182, 240, 436, 211, 296, 381,\n",
       "       409, 210, 239, 437, 406, 404, 324, 458, 354, 629, 298, 438, 432,\n",
       "       376, 241, 628, 599, 460, 353, 209, 352, 491, 431, 459])"
      ]
     },
     "execution_count": 33,
     "metadata": {},
     "output_type": "execute_result"
    }
   ],
   "source": [
    "top_features_diff"
   ]
  },
  {
   "cell_type": "markdown",
   "metadata": {
    "collapsed": false
   },
   "source": [
    "top_features_abs"
   ]
  },
  {
   "cell_type": "markdown",
   "metadata": {
    "collapsed": false
   },
   "source": [
    "for i in range(50000):\n",
    "    np.put(zero_array[i,:],top_features_diff,1)"
   ]
  },
  {
   "cell_type": "markdown",
   "metadata": {
    "collapsed": true
   },
   "source": [
    "adv_x=X_train+1.0*zero_array"
   ]
  },
  {
   "cell_type": "markdown",
   "metadata": {
    "collapsed": false
   },
   "source": [
    "X_train_inc_adv=np.vstack((X_train,adv_x))"
   ]
  },
  {
   "cell_type": "markdown",
   "metadata": {
    "collapsed": false
   },
   "source": [
    "X_train_inc_adv.shape"
   ]
  },
  {
   "cell_type": "markdown",
   "metadata": {
    "collapsed": false
   },
   "source": [
    "y_train_new=np.hstack((y_train,y_train))"
   ]
  },
  {
   "cell_type": "markdown",
   "metadata": {
    "collapsed": false
   },
   "source": [
    "y_train_new.shape"
   ]
  },
  {
   "cell_type": "code",
   "execution_count": 14,
   "metadata": {
    "collapsed": true
   },
   "outputs": [],
   "source": [
    "from sklearn import svm\n",
    "\n",
    "clf=svm.LinearSVC(dual=False)\n",
    "\n",
    "clf.fit(X_train,y_train)\n",
    "\n",
    "X_val=X_val.reshape((10000,784))\n",
    "\n",
    "val_out=out=clf.predict(X_val)\n",
    "\n",
    "validation_success=(10000-np.count_nonzero(val_out-y_val))/10000.0"
   ]
  },
  {
   "cell_type": "code",
   "execution_count": 15,
   "metadata": {
    "collapsed": false
   },
   "outputs": [
    {
     "data": {
      "text/plain": [
       "0.9206"
      ]
     },
     "execution_count": 15,
     "metadata": {},
     "output_type": "execute_result"
    }
   ],
   "source": [
    "validation_success"
   ]
  },
  {
   "cell_type": "code",
   "execution_count": 16,
   "metadata": {
    "collapsed": true
   },
   "outputs": [],
   "source": [
    "X_test=X_test.reshape((10000,784))\n",
    "\n",
    "test_out=clf.predict(X_test)\n",
    "\n",
    "test_success=(10000-np.count_nonzero(test_out-y_test))/10000.0"
   ]
  },
  {
   "cell_type": "code",
   "execution_count": 17,
   "metadata": {
    "collapsed": false
   },
   "outputs": [
    {
     "data": {
      "text/plain": [
       "0.9153"
      ]
     },
     "execution_count": 17,
     "metadata": {},
     "output_type": "execute_result"
    }
   ],
   "source": [
    "test_success"
   ]
  },
  {
   "cell_type": "code",
   "execution_count": 19,
   "metadata": {
    "collapsed": false
   },
   "outputs": [
    {
     "name": "stdout",
     "output_type": "stream",
     "text": [
      "0.16865172113\n",
      "0.134652483028\n",
      "0.232637233301\n",
      "0.209641109803\n",
      "0.149310414993\n",
      "0.31920212099\n",
      "0.14701382781\n",
      "0.197690301536\n",
      "0.140349875147\n",
      "0.154325002074\n"
     ]
    }
   ],
   "source": [
    "for i in range(10):\n",
    "    print np.max(clf.coef_[i]/np.linalg.norm(clf.coef_[i]))"
   ]
  },
  {
   "cell_type": "code",
   "execution_count": 38,
   "metadata": {
    "collapsed": true
   },
   "outputs": [],
   "source": [
    "svm_coef_matrix=np.zeros((784))\n",
    "for i in range(784):\n",
    "    svm_coef_matrix[i]=np.linalg.norm(clf.coef_[:,i])**2"
   ]
  },
  {
   "cell_type": "code",
   "execution_count": 39,
   "metadata": {
    "collapsed": true
   },
   "outputs": [],
   "source": [
    "top_features_svm=np.argsort(svm_coef_matrix)[::-1][:50]"
   ]
  },
  {
   "cell_type": "code",
   "execution_count": 40,
   "metadata": {
    "collapsed": false
   },
   "outputs": [
    {
     "data": {
      "text/plain": [
       "array([362, 360, 417, 418, 332, 473, 557, 361, 283, 388, 119, 446, 718,\n",
       "       503, 173, 333, 311, 647, 391, 277, 306,  93,  96, 501, 248, 193,\n",
       "        44, 279, 359, 705, 529, 200, 695, 564, 334,  97, 122, 276, 612,\n",
       "        66,  70, 145, 304,  95, 648, 500, 613, 619, 144, 108])"
      ]
     },
     "execution_count": 40,
     "metadata": {},
     "output_type": "execute_result"
    }
   ],
   "source": [
    "top_features_svm"
   ]
  },
  {
   "cell_type": "code",
   "execution_count": 41,
   "metadata": {
    "collapsed": false
   },
   "outputs": [
    {
     "data": {
      "text/plain": [
       "array([], dtype=int64)"
      ]
     },
     "execution_count": 41,
     "metadata": {},
     "output_type": "execute_result"
    }
   ],
   "source": [
    "np.intersect1d(top_features_svm,top_features_diff)"
   ]
  },
  {
   "cell_type": "markdown",
   "metadata": {
    "collapsed": false
   },
   "source": [
    "count_pure_adv=0.0\n",
    "count_adv=0.0\n",
    "count_wrong=0.0\n",
    "print_flag=0\n",
    "for i in range(50000):\n",
    "    x_ini=(X_train[i,:]).reshape((1,784))\n",
    "    ini_class=clf.predict(x_ini)\n",
    "    #x_adv=(x_ini-1.0*(clf.coef_[ini_class[0],:]/(np.linalg.norm(clf.coef_[ini_class[0],:])))).reshape((1,784))\n",
    "    x_adv=adv_x[i,:].reshape((1,784))\n",
    "    final_class=clf.predict(x_adv)\n",
    "    if ini_class[0]!=final_class[0]:\n",
    "        count_adv=count_adv+1\n",
    "    if y_train[i]!=final_class[0]:\n",
    "        count_wrong=count_wrong+1\n",
    "    if y_train[i]!=final_class[0] and ini_class[0]==y_train[i]:\n",
    "        count_pure_adv=count_pure_adv+1\n",
    "    if y_train[i]!=final_class[0] and ini_class[0]==y_train[i] and print_flag==0:\n",
    "        #plt.imshow((x_ini.reshape((28,28)))*255, cmap='gray', interpolation='nearest', vmin=0, vmax=255)\n",
    "        #plt.imshow(((x_adv).reshape((28,28)))*255, cmap='gray', interpolation='nearest', vmin=0, vmax=255)\n",
    "        print_flag=print_flag+1\n",
    "print count_wrong/50000.0, count_adv/50000.0, count_pure_adv/50000.0"
   ]
  },
  {
   "cell_type": "code",
   "execution_count": 42,
   "metadata": {
    "collapsed": true
   },
   "outputs": [],
   "source": [
    "X_adv=np.zeros((50000,784))\n",
    "X_adv_new=np.zeros((50000,784))"
   ]
  },
  {
   "cell_type": "code",
   "execution_count": 55,
   "metadata": {
    "collapsed": true
   },
   "outputs": [],
   "source": [
    "X_adv_test=np.zeros((10000,784))\n",
    "X_adv_new_test=np.zeros((10000,784,5))"
   ]
  },
  {
   "cell_type": "code",
   "execution_count": null,
   "metadata": {
    "collapsed": true
   },
   "outputs": [],
   "source": [
    "list_1=[1.0,2.0,3.0,4.0,5.0]\n",
    "list_2=[1.0,1.0,1.0,1.0,0.5]\n",
    "for j in range(5):\n",
    "    count_pure_adv=0.0\n",
    "    count_adv=0.0\n",
    "    count_wrong=0.0\n",
    "    count_correct=0.0\n",
    "    print_flag=0\n",
    "    avg_norm=0.0\n",
    "    for i in range(10000):\n",
    "        x_ini=(X_test[i,:]).reshape((1,784))\n",
    "        ini_class=clf.predict(x_ini)\n",
    "        delta_x=np.zeros((784))\n",
    "        w_curr=clf.coef_[ini_class[0],:]\n",
    "        w_curr_mod=np.linalg.norm(w_curr)\n",
    "        delta_x[top_features_diff]=list_1[j]*(w_curr[top_features_diff]/w_curr_mod)\n",
    "        #delta_x[top_features_diff]=-1\n",
    "        mask = np.ones(784, dtype=bool)\n",
    "        mask[top_features_diff] = False\n",
    "        curr_mag=np.sqrt((1.0-np.linalg.norm(delta_x[top_features_diff])**2)/np.linalg.norm(w_curr[mask]/w_curr_mod))\n",
    "        delta_x[mask]=curr_mag*(w_curr[mask]/w_curr_mod)\n",
    "        x_adv_new=np.clip(x_ini-delta_x,0,1)\n",
    "        #x_adv=(x_ini-1.0*(clf.coef_[ini_class[0],:]/(np.linalg.norm(clf.coef_[ini_class[0],:])))).reshape((1,784))\n",
    "        X_adv_new_test[i,:,j]=x_adv_new\n",
    "        avg_norm=avg_norm+np.linalg.norm(delta_x)\n",
    "        #x_adv=adv_x[i,:].reshape((1,784))\n",
    "        final_class=clf.predict(x_adv_new)\n",
    "        if ini_class[0]!=final_class[0]:\n",
    "            count_adv=count_adv+1\n",
    "        if y_test[i]!=final_class[0]:\n",
    "            count_wrong=count_wrong+1\n",
    "        if y_test[i]!=final_class[0] and ini_class[0]==y_test[i]:\n",
    "            count_pure_adv=count_pure_adv+1\n",
    "        if ini_class[0]==y_test[i]:\n",
    "            count_correct=count_correct+1\n",
    "    #     if y_train[i]!=final_class[0] and ini_class[0]==y_train[i] and print_flag==0:\n",
    "    #         #plt.imshow((x_ini.reshape((28,28)))*255, cmap='gray', interpolation='nearest', vmin=0, vmax=255)\n",
    "    #         #plt.imshow(((x_adv).reshape((28,28)))*255, cmap='gray', interpolation='nearest', vmin=0, vmax=255)\n",
    "    #         print_flag=print_flag+1\n",
    "    print count_wrong/10000.0, count_adv/10000.0, count_pure_adv/count_correct, avg_norm/10000.0"
   ]
  },
  {
   "cell_type": "code",
   "execution_count": 44,
   "metadata": {
    "collapsed": false
   },
   "outputs": [
    {
     "name": "stdout",
     "output_type": "stream",
     "text": [
      "0.66984 0.70642 0.683803683631\n"
     ]
    }
   ],
   "source": [
    "count_pure_adv=0.0\n",
    "count_adv=0.0\n",
    "count_wrong=0.0\n",
    "count_correct=0.0\n",
    "print_flag=0\n",
    "for i in range(50000):\n",
    "    x_ini=(X_train[i,:]).reshape((1,784))\n",
    "    ini_class=clf.predict(x_ini)\n",
    "    delta_x=np.zeros((784))\n",
    "    w_curr=clf.coef_[ini_class[0],:]\n",
    "    w_curr_mod=np.linalg.norm(w_curr)\n",
    "    delta_x[top_features_svm]=1.0*(w_curr[top_features_svm]/w_curr_mod)\n",
    "    x_adv=(x_ini-delta_x).reshape((1,784))\n",
    "#     X_adv[i,:]=x_adv\n",
    "    #x_adv=adv_x[i,:].reshape((1,784))\n",
    "    final_class=clf.predict(x_adv)\n",
    "    if ini_class[0]!=final_class[0]:\n",
    "        count_adv=count_adv+1\n",
    "    if y_train[i]!=final_class[0]:\n",
    "        count_wrong=count_wrong+1\n",
    "    if y_train[i]!=final_class[0] and ini_class[0]==y_train[i]:\n",
    "        count_pure_adv=count_pure_adv+1\n",
    "    if ini_class[0]==y_train[i]:\n",
    "        count_correct=count_correct+1\n",
    "    #if y_train[i]!=final_class[0] and ini_class[0]==y_train[i] and print_flag==0:\n",
    "        #plt.imshow((x_ini.reshape((28,28)))*255, cmap='gray', interpolation='nearest', vmin=0, vmax=255)\n",
    "        #plt.imshow(((x_adv).reshape((28,28)))*255, cmap='gray', interpolation='nearest', vmin=0, vmax=255)\n",
    "        print_flag=print_flag+1\n",
    "print count_wrong/50000.0, count_adv/50000.0, count_pure_adv/count_correct"
   ]
  },
  {
   "cell_type": "code",
   "execution_count": 45,
   "metadata": {
    "collapsed": false
   },
   "outputs": [
    {
     "name": "stdout",
     "output_type": "stream",
     "text": [
      "0.9595 0.99976 0.999740893486\n"
     ]
    }
   ],
   "source": [
    "count_pure_adv=0.0\n",
    "count_adv=0.0\n",
    "count_wrong=0.0\n",
    "count_correct=0.0\n",
    "print_flag=0\n",
    "for i in range(50000):\n",
    "    x_ini=(X_train[i,:]).reshape((1,784))\n",
    "    ini_class=clf.predict(x_ini)\n",
    "    x_adv=(x_ini-1.0*(clf.coef_[ini_class[0],:]/(np.linalg.norm(clf.coef_[ini_class[0],:])))).reshape((1,784))\n",
    "    X_adv[i,:]=x_adv\n",
    "    #x_adv=adv_x[i,:].reshape((1,784))\n",
    "    final_class=clf.predict(x_adv)\n",
    "    if ini_class[0]!=final_class[0]:\n",
    "        count_adv=count_adv+1\n",
    "    if y_train[i]!=final_class[0]:\n",
    "        count_wrong=count_wrong+1\n",
    "    if y_train[i]!=final_class[0] and ini_class[0]==y_train[i]:\n",
    "        count_pure_adv=count_pure_adv+1\n",
    "    if ini_class[0]==y_train[i]:\n",
    "        count_correct=count_correct+1\n",
    "    #if y_train[i]!=final_class[0] and ini_class[0]==y_train[i] and print_flag==0:\n",
    "        #plt.imshow((x_ini.reshape((28,28)))*255, cmap='gray', interpolation='nearest', vmin=0, vmax=255)\n",
    "        #plt.imshow(((x_adv).reshape((28,28)))*255, cmap='gray', interpolation='nearest', vmin=0, vmax=255)\n",
    "        print_flag=print_flag+1\n",
    "print count_wrong/50000.0, count_adv/50000.0, count_pure_adv/count_correct"
   ]
  },
  {
   "cell_type": "code",
   "execution_count": 46,
   "metadata": {
    "collapsed": false
   },
   "outputs": [
    {
     "name": "stdout",
     "output_type": "stream",
     "text": [
      "0.92022 0.96442 0.961587459245\n"
     ]
    }
   ],
   "source": [
    "count_pure_adv=0.0\n",
    "count_adv=0.0\n",
    "count_wrong=0.0\n",
    "count_correct=0.0\n",
    "print_flag=0\n",
    "for i in range(50000):\n",
    "    x_ini=(X_train[i,:]).reshape((1,784))\n",
    "    ini_class=clf.predict(x_ini)\n",
    "    delta_x=np.zeros((784))\n",
    "    w_curr=clf.coef_[ini_class[0],:]\n",
    "    w_curr_mod=np.linalg.norm(w_curr)\n",
    "    delta_x[top_features_diff]=5.0*(w_curr[top_features_diff]/w_curr_mod)\n",
    "    #delta_x[top_features_diff]=-1\n",
    "    mask = np.ones(784, dtype=bool)\n",
    "    mask[top_features_diff] = False\n",
    "    delta_x[mask]=0.5*(w_curr[mask]/w_curr_mod)\n",
    "    x_adv_new=x_ini-delta_x\n",
    "    #x_adv=(x_ini-1.0*(clf.coef_[ini_class[0],:]/(np.linalg.norm(clf.coef_[ini_class[0],:])))).reshape((1,784))\n",
    "    X_adv_new[i,:]=x_adv_new\n",
    "    #x_adv=adv_x[i,:].reshape((1,784))\n",
    "    final_class=clf.predict(x_adv_new)\n",
    "    if ini_class[0]!=final_class[0]:\n",
    "        count_adv=count_adv+1\n",
    "    if y_train[i]!=final_class[0]:\n",
    "        count_wrong=count_wrong+1\n",
    "    if y_train[i]!=final_class[0] and ini_class[0]==y_train[i]:\n",
    "        count_pure_adv=count_pure_adv+1\n",
    "    if ini_class[0]==y_train[i]:\n",
    "        count_correct=count_correct+1\n",
    "#     if y_train[i]!=final_class[0] and ini_class[0]==y_train[i] and print_flag==0:\n",
    "#         #plt.imshow((x_ini.reshape((28,28)))*255, cmap='gray', interpolation='nearest', vmin=0, vmax=255)\n",
    "#         #plt.imshow(((x_adv).reshape((28,28)))*255, cmap='gray', interpolation='nearest', vmin=0, vmax=255)\n",
    "#         print_flag=print_flag+1\n",
    "print count_wrong/50000.0, count_adv/50000.0, count_pure_adv/count_correct"
   ]
  },
  {
   "cell_type": "code",
   "execution_count": 47,
   "metadata": {
    "collapsed": false
   },
   "outputs": [
    {
     "name": "stdout",
     "output_type": "stream",
     "text": [
      "0.9538 0.9997 0.99967223861\n"
     ]
    }
   ],
   "source": [
    "count_pure_adv=0.0\n",
    "count_adv=0.0\n",
    "count_wrong=0.0\n",
    "count_correct=0.0\n",
    "print_flag=0\n",
    "for i in range(10000):\n",
    "    x_ini=(X_test[i,:]).reshape((1,784))\n",
    "    ini_class=clf.predict(x_ini)\n",
    "    x_adv=(x_ini-1.0*(clf.coef_[ini_class[0],:]/(np.linalg.norm(clf.coef_[ini_class[0],:])))).reshape((1,784))\n",
    "    X_adv_test[i,:]=x_adv\n",
    "    #x_adv=adv_x[i,:].reshape((1,784))\n",
    "    final_class=clf.predict(x_adv)\n",
    "    if ini_class[0]!=final_class[0]:\n",
    "        count_adv=count_adv+1\n",
    "    if y_test[i]!=final_class[0]:\n",
    "        count_wrong=count_wrong+1\n",
    "    if y_test[i]!=final_class[0] and ini_class[0]==y_test[i]:\n",
    "        count_pure_adv=count_pure_adv+1\n",
    "    if ini_class[0]==y_test[i]:\n",
    "        count_correct=count_correct+1\n",
    "    #if y_test[i]!=final_class[0] and ini_class[0]==y_train[i] and print_flag==0:\n",
    "        #plt.imshow((x_ini.reshape((28,28)))*255, cmap='gray', interpolation='nearest', vmin=0, vmax=255)\n",
    "        #plt.imshow(((x_adv).reshape((28,28)))*255, cmap='gray', interpolation='nearest', vmin=0, vmax=255)\n",
    "        print_flag=print_flag+1\n",
    "print count_wrong/10000.0, count_adv/10000.0, count_pure_adv/count_correct"
   ]
  },
  {
   "cell_type": "code",
   "execution_count": 47,
   "metadata": {
    "collapsed": false,
    "scrolled": true
   },
   "outputs": [
    {
     "name": "stdout",
     "output_type": "stream",
     "text": [
      "331\n",
      "0.9316 0.9747 0.972358789468 0.997370807253\n",
      "0.9311 0.9746 0.972249535671 0.997496851563\n",
      "0.9278 0.9714 0.968753414181 0.997706792867\n",
      "0.9207 0.9646 0.961324156014 0.998000433317\n",
      "0.8972 0.9413 0.935868021414 0.998377497855\n",
      "0.3599 0.3685 0.335914494492\n",
      "0.3707 0.3799 0.347911440724\n",
      "0.3747 0.3846 0.352819282364\n",
      "0.376 0.3862 0.354455229578\n",
      "0.3653 0.375 0.342785472789\n",
      "100\n",
      "0.9316 0.9747 0.972358789468 0.996816035021\n",
      "0.9312 0.9748 0.972468043265 0.996994301723\n",
      "0.9274 0.9716 0.968971921774 0.997291195107\n",
      "0.9191 0.9639 0.960559379438 0.997706390376\n",
      "0.8855 0.931 0.924614880367 0.998239436539\n",
      "0.0998 0.0419 0.0256466462078\n",
      "0.1012 0.0466 0.0284962735642\n",
      "0.1023 0.0514 0.031565103025\n",
      "0.1037 0.0545 0.0338667251206\n",
      "0.106 0.0574 0.0364971503726\n",
      "50\n",
      "0.9317 0.9748 0.972468043265 0.997131911745\n",
      "0.9314 0.9746 0.972249535671 0.997270795043\n",
      "0.9277 0.9718 0.969190429367 0.997502149587\n",
      "0.921 0.9653 0.96208893259 0.997825799661\n",
      "0.9002 0.9452 0.94012891948 0.998241500678\n",
      "0.1057 0.0232 0.0147499168238\n",
      "0.1056 0.0258 0.0157480314961\n",
      "0.1083 0.0305 0.019629588555\n",
      "0.1099 0.034 0.022291227681\n",
      "0.1121 0.0371 0.0249528668071\n",
      "40\n",
      "0.9316 0.9747 0.972358789468 0.996961827047\n",
      "0.9312 0.9745 0.972140281875 0.997151803431\n",
      "0.9272 0.971 0.968316398995 0.99746808958\n",
      "0.916 0.9603 0.956626242762 0.9979101778\n",
      "0.8559 0.9006 0.89140172621 0.998477365277\n",
      "0.1143 0.0232 0.01651048639\n",
      "0.116 0.0262 0.0191878625614\n",
      "0.1185 0.0314 0.0232039268184\n",
      "0.1206 0.0346 0.0258813029897\n",
      "0.1223 0.0373 0.0280008924587\n",
      "30\n",
      "0.9316 0.9747 0.972358789468 0.996890804429\n",
      "0.9308 0.9743 0.971921774282 0.997084194446\n",
      "0.9266 0.9708 0.968097891402 0.997406187439\n",
      "0.9149 0.9598 0.956079973779 0.99785630151\n",
      "0.8609 0.9065 0.897847700208 0.998433869215\n",
      "0.1261 0.0216 0.015506508206\n",
      "0.1287 0.0263 0.019468024901\n",
      "0.1303 0.03 0.0220713073005\n",
      "0.1324 0.0339 0.0252405206565\n",
      "0.1355 0.0379 0.0290888511602\n",
      "20\n",
      "0.9316 0.9747 0.972358789468 0.996745952422\n",
      "0.931 0.9743 0.971921774282 0.996948977193\n",
      "0.9265 0.9702 0.967442368622 0.997287016668\n",
      "0.915 0.9593 0.955533704796 0.997759571899\n",
      "0.8574 0.9027 0.893696055938 0.998365951791\n",
      "0.1465 0.0216 0.0179930795848\n",
      "0.1492 0.0263 0.0219146482122\n",
      "0.1516 0.0303 0.0256055363322\n",
      "0.1533 0.0339 0.0284890426759\n",
      "0.1552 0.0372 0.0311418685121\n",
      "10\n",
      "0.9317 0.9748 0.972468043265 0.996786024155\n",
      "0.9315 0.9747 0.972358789468 0.996954683894\n",
      "0.928 0.9715 0.968862667978 0.997235643689\n",
      "0.921 0.9651 0.961870424997 0.997628694601\n",
      "0.9018 0.9466 0.941658472632 0.998133545546\n",
      "0.2294 0.0188 0.0157672093321\n",
      "0.2317 0.0218 0.0188437379823\n",
      "0.2331 0.0239 0.0210229457762\n",
      "0.2345 0.0262 0.0230739648763\n",
      "0.2362 0.0283 0.0249967952827\n"
     ]
    }
   ],
   "source": [
    "rd_list=[331,100,50,40,30,20,10]\n",
    "X_adv_new_test=np.zeros((10000,784,10))\n",
    "for rd_2 in rd_list:\n",
    "    counter=0\n",
    "    print rd_2\n",
    "    list_1=np.linspace(1.0,10.0,10)\n",
    "    scores_diff=np.zeros(784)\n",
    "    PCA_vectors_rd=PCA_vectors[:,0:rd_2]\n",
    "    for i in range(784):\n",
    "        scores_diff[i]=np.linalg.norm(PCA_vectors_rd[i,:])**2\n",
    "    top_features_diff=np.argsort(scores_diff)[::-1][:50]\n",
    "    for j in range(5):\n",
    "        DEV_MAG=list_1[j]\n",
    "        count_pure_adv=0.0\n",
    "        count_adv=0.0\n",
    "        count_wrong=0.0\n",
    "        count_correct=0.0\n",
    "        print_flag=0\n",
    "        avg_norm=0.0\n",
    "        break_flag=0\n",
    "        for i in range(10000):\n",
    "            x_ini=(X_test[i,:]).reshape((1,784))\n",
    "            ini_class=clf.predict(x_ini)\n",
    "            delta_x=np.zeros((784))\n",
    "            w_curr=clf.coef_[ini_class[0],:]\n",
    "            w_curr_mod=np.linalg.norm(w_curr)\n",
    "            delta_x[top_features_diff]=list_1[j]*(w_curr[top_features_diff]/w_curr_mod)\n",
    "            #delta_x[top_features_diff]=-1\n",
    "            mask = np.ones(784, dtype=bool)\n",
    "            mask[top_features_diff] = False\n",
    "            if np.linalg.norm(delta_x[top_features_diff])**2>1:\n",
    "                break_flag=1\n",
    "                break\n",
    "            curr_mag=np.sqrt((1.0-np.linalg.norm(delta_x[top_features_diff])**2)/np.linalg.norm(w_curr[mask]/w_curr_mod))\n",
    "            delta_x[mask]=curr_mag*(w_curr[mask]/w_curr_mod)\n",
    "            x_adv_new=np.clip(x_ini-delta_x,0,1)\n",
    "            #x_adv=(x_ini-1.0*(clf.coef_[ini_class[0],:]/(np.linalg.norm(clf.coef_[ini_class[0],:])))).reshape((1,784))\n",
    "            X_adv_new_test[i,:,j]=x_adv_new\n",
    "            avg_norm=avg_norm+np.linalg.norm(delta_x)\n",
    "            #x_adv=adv_x[i,:].reshape((1,784))\n",
    "            final_class=clf.predict(x_adv_new)\n",
    "            if ini_class[0]!=final_class[0]:\n",
    "                count_adv=count_adv+1\n",
    "            if y_test[i]!=final_class[0]:\n",
    "                count_wrong=count_wrong+1\n",
    "            if y_test[i]!=final_class[0] and ini_class[0]==y_test[i]:\n",
    "                count_pure_adv=count_pure_adv+1\n",
    "            if ini_class[0]==y_test[i]:\n",
    "                count_correct=count_correct+1\n",
    "        #     if y_train[i]!=final_class[0] and ini_class[0]==y_train[i] and print_flag==0:\n",
    "        #         #plt.imshow((x_ini.reshape((28,28)))*255, cmap='gray', interpolation='nearest', vmin=0, vmax=255)\n",
    "        #         #plt.imshow(((x_adv).reshape((28,28)))*255, cmap='gray', interpolation='nearest', vmin=0, vmax=255)\n",
    "        #         print_flag=print_flag+1\n",
    "        if break_flag==0:\n",
    "            print count_wrong/10000.0, count_adv/10000.0, count_pure_adv/count_correct, avg_norm/10000.0\n",
    "            plotfile=open('Strategic_attack_SVM_PCA_retrain'+str(rd_2)+'.txt','a')\n",
    "            # print(\"Deviation {} took {:.3f}s\".format(\n",
    "            #     DEV_MAG, time.time() - start_time))\n",
    "            plotfile.write(str(rd_2)+\",\"+str(DEV_MAG)+\",\"+\n",
    "                            str(count_wrong/10000.0*100.0)+\",\"+\n",
    "                            #str.format(\"{0:.3f}\",conf_wrong/count_tot)+\",\"+\n",
    "                            str(count_adv/10000.0*100.0)+\",\"+\n",
    "                            #str.format(\"{0:.3f}\",conf_adv/count_tot)+\",\"+\n",
    "                            str.format(\"{0:.3f}\",count_pure_adv/count_correct*100.0)+\",\"+\n",
    "                            #str.format(\"{0:.3f}\",conf_abs/count_tot)+\",\"+\n",
    "                            str.format(\"{0:.3f}\",avg_norm/10000.0)+\",\"+\n",
    "                            str(0)+\"\\n\")\n",
    "            plotfile.close()\n",
    "            counter=counter+1\n",
    "    pca_2=PCA(n_components=rd_2)\n",
    "    pca_train=pca_2.fit(PCA_in_train)\n",
    "    X_train_dr=pca_2.transform(PCA_in_train).reshape((50000,rd_2))\n",
    "    X_test_dr=pca_2.transform(PCA_in_test).reshape((10000,rd_2))\n",
    "    clf_pca=svm.LinearSVC(dual=False)\n",
    "    clf_pca.fit(X_train_dr,y_train)\n",
    "    for j in range(counter):\n",
    "        X_adv_new_test_dr=pca_2.transform(X_adv_new_test[:,:,j])\n",
    "        count_pure_adv_pca=0.0\n",
    "        count_adv_pca=0.0\n",
    "        count_wrong_pca=0.0\n",
    "        count_correct_pca=0.0\n",
    "        avg_norm_pca=0.0\n",
    "        #print_flag_pca=0\n",
    "        for i in range(10000):\n",
    "            x_ini=(X_test_dr[i,:]).reshape((1,rd_2))\n",
    "            ini_class=clf_pca.predict(x_ini)\n",
    "            #x_adv=(x_ini-1.0*(clf_pca.coef_[ini_class[0],:]/(np.linalg.norm(clf_pca.coef_[ini_class[0],:])))).reshape((1,rd_2))\n",
    "            x_adv_dr=X_adv_new_test_dr[i,:].reshape((1,rd_2))\n",
    "            final_class=clf_pca.predict(x_adv_dr)\n",
    "            avg_norm_pca=avg_norm_pca+np.linalg.norm(x_adv_dr-x_ini)\n",
    "            if ini_class[0]!=final_class[0]:\n",
    "                count_adv_pca=count_adv_pca+1\n",
    "            if y_test[i]!=final_class[0]:\n",
    "                count_wrong_pca=count_wrong_pca+1\n",
    "            if y_test[i]!=final_class[0] and ini_class[0]==y_test[i]:\n",
    "                count_pure_adv_pca=count_pure_adv_pca+1\n",
    "            if ini_class[0]==y_test[i]:\n",
    "                count_correct_pca=count_correct_pca+1\n",
    "            #if y_train[i]!=final_class[0] and ini_class[0]==y_train[i] and print_flag==0:\n",
    "                #plt.imshow((x_ini.reshape((28,28)))*255, cmap='gray', interpolation='nearest', vmin=0, vmax=255)\n",
    "                #plt.imshow(((x_adv-x_ini).reshape((28,28)))*255, cmap='gray', interpolation='nearest', vmin=0, vmax=255)\n",
    "                #print_flag=print_flag+1\n",
    "        print count_wrong_pca/10000.0, count_adv_pca/10000.0, count_pure_adv_pca/count_correct_pca\n",
    "        plotfile=open('Strategic_attack_SVM_PCA_retrain'+str(rd_2)+'.txt','a')\n",
    "        # print(\"Deviation {} took {:.3f}s\".format(\n",
    "        #     DEV_MAG, time.time() - start_time))\n",
    "        plotfile.write(str(rd_2)+\",\"+str(DEV_MAG)+\",\"+\n",
    "                        str(count_wrong_pca/10000.0*100.0)+\",\"+\n",
    "                        #str.format(\"{0:.3f}\",conf_wrong/count_tot)+\",\"+\n",
    "                        str(count_adv_pca/10000.0*100.0)+\",\"+\n",
    "                        #str.format(\"{0:.3f}\",conf_adv/count_tot)+\",\"+\n",
    "                        str.format(\"{0:.3f}\",count_pure_adv_pca/count_correct_pca*100.0)+\",\"+\n",
    "                        #str.format(\"{0:.3f}\",conf_abs/count_tot)+\",\"+\n",
    "                        str.format(\"{0:.3f}\",avg_norm_pca/10000.0)+\",\"+\n",
    "                        str(0)+\"\\n\")\n",
    "        plotfile.close()"
   ]
  },
  {
   "cell_type": "code",
   "execution_count": 46,
   "metadata": {
    "collapsed": false
   },
   "outputs": [
    {
     "data": {
      "text/plain": [
       "15"
      ]
     },
     "execution_count": 46,
     "metadata": {},
     "output_type": "execute_result"
    }
   ],
   "source": [
    "counter"
   ]
  },
  {
   "cell_type": "code",
   "execution_count": 31,
   "metadata": {
    "collapsed": true
   },
   "outputs": [],
   "source": [
    "delta_x_old=1.0*(clf.coef_[ini_class[0],:]/(np.linalg.norm(clf.coef_[ini_class[0],:])))"
   ]
  },
  {
   "cell_type": "code",
   "execution_count": 32,
   "metadata": {
    "collapsed": false
   },
   "outputs": [
    {
     "data": {
      "text/plain": [
       "1.0000000000000002"
      ]
     },
     "execution_count": 32,
     "metadata": {},
     "output_type": "execute_result"
    }
   ],
   "source": [
    "np.linalg.norm(delta_x_old)"
   ]
  },
  {
   "cell_type": "code",
   "execution_count": 33,
   "metadata": {
    "collapsed": false
   },
   "outputs": [
    {
     "data": {
      "text/plain": [
       "0.035714285714285719"
      ]
     },
     "execution_count": 33,
     "metadata": {},
     "output_type": "execute_result"
    }
   ],
   "source": [
    "np.sqrt((np.linalg.norm(delta_x_old)**2))"
   ]
  },
  {
   "cell_type": "code",
   "execution_count": 34,
   "metadata": {
    "collapsed": false,
    "scrolled": true
   },
   "outputs": [
    {
     "data": {
      "text/plain": [
       "0.038244105151709146"
      ]
     },
     "execution_count": 34,
     "metadata": {},
     "output_type": "execute_result"
    }
   ],
   "source": [
    "np.sqrt((np.linalg.norm(delta_x)**2))"
   ]
  },
  {
   "cell_type": "code",
   "execution_count": 97,
   "metadata": {
    "collapsed": false
   },
   "outputs": [
    {
     "data": {
      "text/plain": [
       "<matplotlib.image.AxesImage at 0x123a89350>"
      ]
     },
     "execution_count": 97,
     "metadata": {},
     "output_type": "execute_result"
    },
    {
     "data": {
      "image/png": "[encoded data removed]",
      "text/plain": [
       "<matplotlib.figure.Figure at 0x1233ce690>"
      ]
     },
     "metadata": {},
     "output_type": "display_data"
    }
   ],
   "source": [
    "plt.imshow((x_ini.reshape((28,28)))*255, cmap='gray', interpolation='nearest', vmin=0, vmax=255)"
   ]
  },
  {
   "cell_type": "code",
   "execution_count": 98,
   "metadata": {
    "collapsed": false
   },
   "outputs": [
    {
     "data": {
      "text/plain": [
       "<matplotlib.image.AxesImage at 0x126a32090>"
      ]
     },
     "execution_count": 98,
     "metadata": {},
     "output_type": "execute_result"
    },
    {
     "data": {
      "image/png": "[encoded data removed]",
      "text/plain": [
       "<matplotlib.figure.Figure at 0x10930fbd0>"
      ]
     },
     "metadata": {},
     "output_type": "display_data"
    }
   ],
   "source": [
    "plt.imshow(((x_adv).reshape((28,28)))*255, cmap='gray', interpolation='nearest', vmin=0, vmax=255)"
   ]
  },
  {
   "cell_type": "code",
   "execution_count": 99,
   "metadata": {
    "collapsed": false
   },
   "outputs": [
    {
     "data": {
      "text/plain": [
       "<matplotlib.image.AxesImage at 0x126b98450>"
      ]
     },
     "execution_count": 99,
     "metadata": {},
     "output_type": "execute_result"
    },
    {
     "data": {
      "image/png": "[encoded data removed]",
      "text/plain": [
       "<matplotlib.figure.Figure at 0x126a3f750>"
      ]
     },
     "metadata": {},
     "output_type": "display_data"
    }
   ],
   "source": [
    "plt.imshow(((x_adv_new).reshape((28,28)))*255, cmap='gray', interpolation='nearest', vmin=0, vmax=255)"
   ]
  },
  {
   "cell_type": "code",
   "execution_count": 35,
   "metadata": {
    "collapsed": false
   },
   "outputs": [],
   "source": [
    "#X_train_new_dr=pca.transform(X_train_inc_adv).reshape((100000,rd))\n",
    "#Transforming the training, validation and test data\n",
    "pca_2=PCA(n_components=rd_2)\n",
    "pca_2.fit(PCA_in_train)\n",
    "X_train_dr=pca_2.transform(PCA_in_train).reshape((50000,rd_2))\n",
    "X_test_dr=pca_2.transform(PCA_in_test).reshape((10000,rd_2))\n",
    "X_val_dr=pca_2.transform(PCA_in_val).reshape((10000,rd_2))\n",
    "#X_adv_dr_test=pca_2.transform(adv_x_test).reshape((10000,rd_2))\n",
    "clf_pca=svm.LinearSVC(dual=False)\n",
    "\n",
    "clf_pca.fit(X_train_dr,y_train)\n",
    "\n",
    "val_out_pca=clf_pca.predict(X_val_dr)\n",
    "validation_success_pca=(10000-np.count_nonzero(val_out_pca-y_val))/10000.0"
   ]
  },
  {
   "cell_type": "code",
   "execution_count": 36,
   "metadata": {
    "collapsed": true
   },
   "outputs": [],
   "source": [
    "X_train_rev=pca_2.inverse_transform(X_train_dr)\n",
    "X_test_rev=pca_2.inverse_transform(X_test_dr)"
   ]
  },
  {
   "cell_type": "code",
   "execution_count": 37,
   "metadata": {
    "collapsed": false
   },
   "outputs": [
    {
     "data": {
      "text/plain": [
       "0.9003"
      ]
     },
     "execution_count": 37,
     "metadata": {},
     "output_type": "execute_result"
    }
   ],
   "source": [
    "validation_success_pca"
   ]
  },
  {
   "cell_type": "code",
   "execution_count": 38,
   "metadata": {
    "collapsed": true
   },
   "outputs": [],
   "source": [
    "test_out_pca=clf_pca.predict(X_test_dr)\n",
    "\n",
    "test_success_pca=(10000-np.count_nonzero(test_out_pca-y_test))/10000.0"
   ]
  },
  {
   "cell_type": "code",
   "execution_count": 39,
   "metadata": {
    "collapsed": false
   },
   "outputs": [
    {
     "data": {
      "text/plain": [
       "0.8964"
      ]
     },
     "execution_count": 39,
     "metadata": {},
     "output_type": "execute_result"
    }
   ],
   "source": [
    "test_success_pca"
   ]
  },
  {
   "cell_type": "code",
   "execution_count": 40,
   "metadata": {
    "collapsed": false
   },
   "outputs": [],
   "source": [
    "X_adv_dr=pca_2.transform(X_adv).reshape((50000,rd_2))\n",
    "X_adv_new_dr=pca_2.transform(X_adv_new).reshape((50000,rd_2))\n",
    "X_adv_rev=pca_2.inverse_transform(X_adv_dr)\n",
    "X_adv_new_rev=pca_2.inverse_transform(X_adv_new_dr)"
   ]
  },
  {
   "cell_type": "code",
   "execution_count": 41,
   "metadata": {
    "collapsed": false
   },
   "outputs": [],
   "source": [
    "X_adv_test_dr=pca_2.transform(X_adv_test).reshape((10000,rd_2))\n",
    "X_adv_new_test_dr=pca_2.transform(X_adv_new_test).reshape((10000,rd_2))\n",
    "X_adv_rev_test=pca_2.inverse_transform(X_adv_test_dr)\n",
    "X_adv_new_rev_test=pca_2.inverse_transform(X_adv_new_test_dr)"
   ]
  },
  {
   "cell_type": "markdown",
   "metadata": {
    "collapsed": false
   },
   "source": [
    "count_pure_adv_pca=0.0\n",
    "count_adv_pca=0.0\n",
    "count_wrong_pca=0.0\n",
    "#print_flag_pca=0\n",
    "for i in range(50000):\n",
    "    x_ini=(X_train_dr[i,:]).reshape((1,rd_2))\n",
    "    ini_class=clf_pca.predict(x_ini)\n",
    "    x_adv=(x_ini-1.0*(clf_pca.coef_[ini_class[0],:]/(np.linalg.norm(clf_pca.coef_[ini_class[0],:])))).reshape((1,rd_2))\n",
    "    #x_adv=X_adv_dr[i,:].reshape((1,rd_2))\n",
    "    final_class=clf_pca.predict(x_adv)\n",
    "    if ini_class[0]!=final_class[0]:\n",
    "        count_adv_pca=count_adv_pca+1\n",
    "    if y_train[i]!=final_class[0]:\n",
    "        count_wrong_pca=count_wrong_pca+1\n",
    "    if y_train[i]!=final_class[0] and ini_class[0]==y_train[i]:\n",
    "        count_pure_adv_pca=count_pure_adv_pca+1\n",
    "    #if y_train[i]!=final_class[0] and ini_class[0]==y_train[i] and print_flag==0:\n",
    "        #plt.imshow((x_ini.reshape((28,28)))*255, cmap='gray', interpolation='nearest', vmin=0, vmax=255)\n",
    "        #plt.imshow(((x_adv-x_ini).reshape((28,28)))*255, cmap='gray', interpolation='nearest', vmin=0, vmax=255)\n",
    "        #print_flag=print_flag+1\n",
    "print count_wrong_pca/50000.0, count_adv_pca/50000.0, count_pure_adv_pca/50000.0"
   ]
  },
  {
   "cell_type": "markdown",
   "metadata": {},
   "source": [
    "### Reconstruction based"
   ]
  },
  {
   "cell_type": "code",
   "execution_count": 42,
   "metadata": {
    "collapsed": false
   },
   "outputs": [
    {
     "name": "stdout",
     "output_type": "stream",
     "text": [
      "0.1429 0.0368 0.0304290519044\n"
     ]
    }
   ],
   "source": [
    "count_pure_adv_pca=0.0\n",
    "count_adv_pca=0.0\n",
    "count_wrong_pca=0.0\n",
    "count_correct_pca=0.0\n",
    "#print_flag_pca=0\n",
    "for i in range(50000):\n",
    "    x_ini=(X_train_rev[i,:]).reshape((1,784))\n",
    "    ini_class=clf.predict(x_ini)\n",
    "#     x_adv_dr=(x_ini-0.3*(clf_pca.coef_[ini_class[0],:]/(np.linalg.norm(clf_pca.coef_[ini_class[0],:])))).reshape((1,rd_2))\n",
    "    x_adv=X_adv_rev[i,:].reshape((1,784))\n",
    "    final_class=clf.predict(x_adv)\n",
    "    if ini_class[0]!=final_class[0]:\n",
    "        count_adv_pca=count_adv_pca+1\n",
    "    if y_train[i]!=final_class[0]:\n",
    "        count_wrong_pca=count_wrong_pca+1\n",
    "    if y_train[i]!=final_class[0] and ini_class[0]==y_train[i]:\n",
    "        count_pure_adv_pca=count_pure_adv_pca+1\n",
    "    if ini_class[0]==y_train[i]:\n",
    "        count_correct_pca=count_correct_pca+1\n",
    "    #if y_train[i]!=final_class[0] and ini_class[0]==y_train[i] and print_flag==0:\n",
    "        #plt.imshow((x_ini.reshape((28,28)))*255, cmap='gray', interpolation='nearest', vmin=0, vmax=255)\n",
    "        #plt.imshow(((x_adv-x_ini).reshape((28,28)))*255, cmap='gray', interpolation='nearest', vmin=0, vmax=255)\n",
    "        #print_flag=print_flag+1\n",
    "print count_wrong_pca/50000.0, count_adv_pca/50000.0, count_pure_adv_pca/count_correct_pca"
   ]
  },
  {
   "cell_type": "code",
   "execution_count": 43,
   "metadata": {
    "collapsed": false
   },
   "outputs": [
    {
     "name": "stdout",
     "output_type": "stream",
     "text": [
      "0.1678 0.07164 0.0621988910099\n"
     ]
    }
   ],
   "source": [
    "count_pure_adv_pca=0.0\n",
    "count_adv_pca=0.0\n",
    "count_wrong_pca=0.0\n",
    "count_correct_pca=0.0\n",
    "#print_flag_pca=0\n",
    "for i in range(50000):\n",
    "    x_ini=(X_train_rev[i,:]).reshape((1,784))\n",
    "    ini_class=clf.predict(x_ini)\n",
    "#     x_adv_dr=(x_ini-0.3*(clf_pca.coef_[ini_class[0],:]/(np.linalg.norm(clf_pca.coef_[ini_class[0],:])))).reshape((1,rd_2))\n",
    "    x_adv=X_adv_new_rev[i,:].reshape((1,784))\n",
    "    final_class=clf.predict(x_adv)\n",
    "    if ini_class[0]!=final_class[0]:\n",
    "        count_adv_pca=count_adv_pca+1\n",
    "    if y_train[i]!=final_class[0]:\n",
    "        count_wrong_pca=count_wrong_pca+1\n",
    "    if y_train[i]!=final_class[0] and ini_class[0]==y_train[i]:\n",
    "        count_pure_adv_pca=count_pure_adv_pca+1\n",
    "    if ini_class[0]==y_train[i]:\n",
    "        count_correct_pca=count_correct_pca+1\n",
    "    #if y_train[i]!=final_class[0] and ini_class[0]==y_train[i] and print_flag==0:\n",
    "        #plt.imshow((x_ini.reshape((28,28)))*255, cmap='gray', interpolation='nearest', vmin=0, vmax=255)\n",
    "        #plt.imshow(((x_adv-x_ini).reshape((28,28)))*255, cmap='gray', interpolation='nearest', vmin=0, vmax=255)\n",
    "        #print_flag=print_flag+1\n",
    "print count_wrong_pca/50000.0, count_adv_pca/50000.0, count_pure_adv_pca/count_correct_pca"
   ]
  },
  {
   "cell_type": "code",
   "execution_count": 44,
   "metadata": {
    "collapsed": false
   },
   "outputs": [
    {
     "name": "stdout",
     "output_type": "stream",
     "text": [
      "0.128 0.0356 0.0259930235175\n"
     ]
    }
   ],
   "source": [
    "count_pure_adv_pca=0.0\n",
    "count_adv_pca=0.0\n",
    "count_wrong_pca=0.0\n",
    "count_correct_pca=0.0\n",
    "#print_flag_pca=0\n",
    "for i in range(10000):\n",
    "    x_ini=(X_test_rev[i,:]).reshape((1,784))\n",
    "    ini_class=clf.predict(x_ini)\n",
    "#     x_adv_dr=(x_ini-0.3*(clf_pca.coef_[ini_class[0],:]/(np.linalg.norm(clf_pca.coef_[ini_class[0],:])))).reshape((1,rd_2))\n",
    "    x_adv=X_adv_rev_test[i,:].reshape((1,784))\n",
    "    final_class=clf.predict(x_adv)\n",
    "    if ini_class[0]!=final_class[0]:\n",
    "        count_adv_pca=count_adv_pca+1\n",
    "    if y_test[i]!=final_class[0]:\n",
    "        count_wrong_pca=count_wrong_pca+1\n",
    "    if y_test[i]!=final_class[0] and ini_class[0]==y_test[i]:\n",
    "        count_pure_adv_pca=count_pure_adv_pca+1\n",
    "    if ini_class[0]==y_test[i]:\n",
    "        count_correct_pca=count_correct_pca+1\n",
    "    #if y_train[i]!=final_class[0] and ini_class[0]==y_train[i] and print_flag==0:\n",
    "        #plt.imshow((x_ini.reshape((28,28)))*255, cmap='gray', interpolation='nearest', vmin=0, vmax=255)\n",
    "        #plt.imshow(((x_adv-x_ini).reshape((28,28)))*255, cmap='gray', interpolation='nearest', vmin=0, vmax=255)\n",
    "        #print_flag=print_flag+1\n",
    "print count_wrong_pca/10000.0, count_adv_pca/10000.0, count_pure_adv_pca/count_correct_pca"
   ]
  },
  {
   "cell_type": "code",
   "execution_count": 45,
   "metadata": {
    "collapsed": false
   },
   "outputs": [
    {
     "name": "stdout",
     "output_type": "stream",
     "text": [
      "0.1494 0.0685 0.054011477439\n"
     ]
    }
   ],
   "source": [
    "count_pure_adv_pca=0.0\n",
    "count_adv_pca=0.0\n",
    "count_wrong_pca=0.0\n",
    "count_correct_pca=0.0\n",
    "#print_flag_pca=0\n",
    "for i in range(10000):\n",
    "    x_ini=(X_test_rev[i,:]).reshape((1,784))\n",
    "    ini_class=clf.predict(x_ini)\n",
    "#   x_adv_dr=(x_ini-0.3*(clf_pca.coef_[ini_class[0],:]/(np.linalg.norm(clf_pca.coef_[ini_class[0],:])))).reshape((1,rd_2))\n",
    "    x_adv=X_adv_new_rev_test[i,:].reshape((1,784))\n",
    "    final_class=clf.predict(x_adv)\n",
    "    if ini_class[0]!=final_class[0]:\n",
    "        count_adv_pca=count_adv_pca+1\n",
    "    if y_test[i]!=final_class[0]:\n",
    "        count_wrong_pca=count_wrong_pca+1\n",
    "    if y_test[i]!=final_class[0] and ini_class[0]==y_test[i]:\n",
    "        count_pure_adv_pca=count_pure_adv_pca+1\n",
    "    if ini_class[0]==y_test[i]:\n",
    "        count_correct_pca=count_correct_pca+1\n",
    "    #if y_train[i]!=final_class[0] and ini_class[0]==y_train[i] and print_flag==0:\n",
    "        #plt.imshow((x_ini.reshape((28,28)))*255, cmap='gray', interpolation='nearest', vmin=0, vmax=255)\n",
    "        #plt.imshow(((x_adv-x_ini).reshape((28,28)))*255, cmap='gray', interpolation='nearest', vmin=0, vmax=255)\n",
    "        #print_flag=print_flag+1\n",
    "print count_wrong_pca/10000.0, count_adv_pca/10000.0, count_pure_adv_pca/count_correct_pca"
   ]
  },
  {
   "cell_type": "markdown",
   "metadata": {},
   "source": [
    "### Re-training unaware defense"
   ]
  },
  {
   "cell_type": "code",
   "execution_count": 46,
   "metadata": {
    "collapsed": false
   },
   "outputs": [
    {
     "name": "stdout",
     "output_type": "stream",
     "text": [
      "0.13124 0.02988 0.0237170220455\n"
     ]
    }
   ],
   "source": [
    "count_pure_adv_pca=0.0\n",
    "count_adv_pca=0.0\n",
    "count_wrong_pca=0.0\n",
    "count_correct_pca=0.0\n",
    "#print_flag_pca=0\n",
    "for i in range(50000):\n",
    "    x_ini=(X_train_dr[i,:]).reshape((1,rd_2))\n",
    "    ini_class=clf_pca.predict(x_ini)\n",
    "    #x_adv=(x_ini-1.0*(clf_pca.coef_[ini_class[0],:]/(np.linalg.norm(clf_pca.coef_[ini_class[0],:])))).reshape((1,rd_2))\n",
    "    x_adv_dr=X_adv_dr[i,:].reshape((1,rd_2))\n",
    "    final_class=clf_pca.predict(x_adv_dr)\n",
    "    if ini_class[0]!=final_class[0]:\n",
    "        count_adv_pca=count_adv_pca+1\n",
    "    if y_train[i]!=final_class[0]:\n",
    "        count_wrong_pca=count_wrong_pca+1\n",
    "    if y_train[i]!=final_class[0] and ini_class[0]==y_train[i]:\n",
    "        count_pure_adv_pca=count_pure_adv_pca+1\n",
    "    if ini_class[0]==y_train[i]:\n",
    "        count_correct_pca=count_correct_pca+1\n",
    "    #if y_train[i]!=final_class[0] and ini_class[0]==y_train[i] and print_flag==0:\n",
    "        #plt.imshow((x_ini.reshape((28,28)))*255, cmap='gray', interpolation='nearest', vmin=0, vmax=255)\n",
    "        #plt.imshow(((x_adv-x_ini).reshape((28,28)))*255, cmap='gray', interpolation='nearest', vmin=0, vmax=255)\n",
    "        #print_flag=print_flag+1\n",
    "print count_wrong_pca/50000.0, count_adv_pca/50000.0, count_pure_adv_pca/count_correct_pca"
   ]
  },
  {
   "cell_type": "code",
   "execution_count": 47,
   "metadata": {
    "collapsed": false
   },
   "outputs": [
    {
     "name": "stdout",
     "output_type": "stream",
     "text": [
      "0.15464 0.06468 0.0542103361041\n"
     ]
    }
   ],
   "source": [
    "count_pure_adv_pca=0.0\n",
    "count_adv_pca=0.0\n",
    "count_wrong_pca=0.0\n",
    "count_correct_pca=0.0\n",
    "#print_flag_pca=0\n",
    "for i in range(50000):\n",
    "    x_ini=(X_train_dr[i,:]).reshape((1,rd_2))\n",
    "    ini_class=clf_pca.predict(x_ini)\n",
    "    #x_adv=(x_ini-1.0*(clf_pca.coef_[ini_class[0],:]/(np.linalg.norm(clf_pca.coef_[ini_class[0],:])))).reshape((1,rd_2))\n",
    "    x_adv_dr=X_adv_new_dr[i,:].reshape((1,rd_2))\n",
    "    final_class=clf_pca.predict(x_adv_dr)\n",
    "    if ini_class[0]!=final_class[0]:\n",
    "        count_adv_pca=count_adv_pca+1\n",
    "    if y_train[i]!=final_class[0]:\n",
    "        count_wrong_pca=count_wrong_pca+1\n",
    "    if y_train[i]!=final_class[0] and ini_class[0]==y_train[i]:\n",
    "        count_pure_adv_pca=count_pure_adv_pca+1\n",
    "    if ini_class[0]==y_train[i]:\n",
    "        count_correct_pca=count_correct_pca+1\n",
    "    #if y_train[i]!=final_class[0] and ini_class[0]==y_train[i] and print_flag==0:\n",
    "        #plt.imshow((x_ini.reshape((28,28)))*255, cmap='gray', interpolation='nearest', vmin=0, vmax=255)\n",
    "        #plt.imshow(((x_adv-x_ini).reshape((28,28)))*255, cmap='gray', interpolation='nearest', vmin=0, vmax=255)\n",
    "        #print_flag=print_flag+1\n",
    "print count_wrong_pca/50000.0, count_adv_pca/50000.0, count_pure_adv_pca/count_correct_pca"
   ]
  },
  {
   "cell_type": "code",
   "execution_count": 48,
   "metadata": {
    "collapsed": false
   },
   "outputs": [
    {
     "name": "stdout",
     "output_type": "stream",
     "text": [
      "0.1173 0.0288 0.0210843373494\n"
     ]
    }
   ],
   "source": [
    "count_pure_adv_pca=0.0\n",
    "count_adv_pca=0.0\n",
    "count_wrong_pca=0.0\n",
    "count_correct_pca=0.0\n",
    "#print_flag_pca=0\n",
    "for i in range(10000):\n",
    "    x_ini=(X_test_dr[i,:]).reshape((1,rd_2))\n",
    "    ini_class=clf_pca.predict(x_ini)\n",
    "    #x_adv=(x_ini-1.0*(clf_pca.coef_[ini_class[0],:]/(np.linalg.norm(clf_pca.coef_[ini_class[0],:])))).reshape((1,rd_2))\n",
    "    x_adv_dr=X_adv_test_dr[i,:].reshape((1,rd_2))\n",
    "    final_class=clf_pca.predict(x_adv_dr)\n",
    "    if ini_class[0]!=final_class[0]:\n",
    "        count_adv_pca=count_adv_pca+1\n",
    "    if y_test[i]!=final_class[0]:\n",
    "        count_wrong_pca=count_wrong_pca+1\n",
    "    if y_test[i]!=final_class[0] and ini_class[0]==y_test[i]:\n",
    "        count_pure_adv_pca=count_pure_adv_pca+1\n",
    "    if ini_class[0]==y_test[i]:\n",
    "        count_correct_pca=count_correct_pca+1\n",
    "    #if y_train[i]!=final_class[0] and ini_class[0]==y_train[i] and print_flag==0:\n",
    "        #plt.imshow((x_ini.reshape((28,28)))*255, cmap='gray', interpolation='nearest', vmin=0, vmax=255)\n",
    "        #plt.imshow(((x_adv-x_ini).reshape((28,28)))*255, cmap='gray', interpolation='nearest', vmin=0, vmax=255)\n",
    "        #print_flag=print_flag+1\n",
    "print count_wrong_pca/10000.0, count_adv_pca/10000.0, count_pure_adv_pca/count_correct_pca"
   ]
  },
  {
   "cell_type": "code",
   "execution_count": 61,
   "metadata": {
    "collapsed": false
   },
   "outputs": [
    {
     "name": "stdout",
     "output_type": "stream",
     "text": [
      "331\n",
      "0.4384 0.4548 0.425455338641\n",
      "0.4531 0.4704 0.441923873923\n",
      "0.4618 0.4803 0.452066746646\n",
      "0.4636 0.4834 0.45501145163\n",
      "0.458 0.4783 0.44923110481\n",
      "100\n",
      "0.1055 0.0529 0.0339763261727\n",
      "0.1075 0.0591 0.0381411661552\n",
      "0.1109 0.0642 0.042525208242\n",
      "0.1135 0.0691 0.0465804471723\n",
      "0.1164 0.0736 0.0507452871548\n",
      "50\n",
      "0.1079 0.0287 0.0184096706222\n",
      "0.1111 0.0343 0.0229566374626\n",
      "0.1147 0.04 0.0278363091937\n",
      "0.1178 0.0457 0.0324941776644\n",
      "0.1206 0.0501 0.0361539314628\n",
      "40\n",
      "0.1172 0.0286 0.0209727800089\n",
      "0.1198 0.0329 0.024765729585\n",
      "0.1224 0.0372 0.0284471218206\n",
      "0.1258 0.0425 0.0329094154395\n",
      "0.1276 0.0465 0.0358099062918\n",
      "30\n",
      "0.1292 0.0258 0.0196943972835\n",
      "0.132 0.0316 0.0242218449349\n",
      "0.1362 0.0371 0.0292020373514\n",
      "0.1399 0.0424 0.034182229768\n",
      "0.1428 0.0469 0.0381437464629\n",
      "20\n",
      "0.1497 0.0259 0.0223760092272\n",
      "0.154 0.0315 0.0276816608997\n",
      "0.1572 0.036 0.0320645905421\n",
      "0.1599 0.0402 0.0358708189158\n",
      "0.1623 0.0442 0.0392156862745\n",
      "10\n",
      "0.2322 0.0182 0.0176900397385\n",
      "0.2345 0.0212 0.0207665683887\n",
      "0.2373 0.0253 0.0248686065889\n",
      "0.2415 0.0313 0.0305089091142\n",
      "0.2454 0.0369 0.035892834252\n"
     ]
    }
   ],
   "source": [
    "rd_list=[331,100,50,40,30,20,10]\n",
    "for rd_2 in rd_list:\n",
    "    print rd_2\n",
    "    pca_2=PCA(n_components=rd_2)\n",
    "    pca_train=pca_2.fit(PCA_in_train)\n",
    "    X_train_dr=pca_2.transform(PCA_in_train).reshape((50000,rd_2))\n",
    "    X_test_dr=pca_2.transform(PCA_in_test).reshape((10000,rd_2))\n",
    "    clf_pca=svm.LinearSVC(dual=False)\n",
    "    clf_pca.fit(X_train_dr,y_train)\n",
    "    for j in range(5):\n",
    "        X_adv_new_test_dr=pca_2.transform(X_adv_new_test[:,:,j])\n",
    "        count_pure_adv_pca=0.0\n",
    "        count_adv_pca=0.0\n",
    "        count_wrong_pca=0.0\n",
    "        count_correct_pca=0.0\n",
    "        #print_flag_pca=0\n",
    "        for i in range(10000):\n",
    "            x_ini=(X_test_dr[i,:]).reshape((1,rd_2))\n",
    "            ini_class=clf_pca.predict(x_ini)\n",
    "            #x_adv=(x_ini-1.0*(clf_pca.coef_[ini_class[0],:]/(np.linalg.norm(clf_pca.coef_[ini_class[0],:])))).reshape((1,rd_2))\n",
    "            x_adv_dr=X_adv_new_test_dr[i,:].reshape((1,rd_2))\n",
    "            final_class=clf_pca.predict(x_adv_dr)\n",
    "            if ini_class[0]!=final_class[0]:\n",
    "                count_adv_pca=count_adv_pca+1\n",
    "            if y_test[i]!=final_class[0]:\n",
    "                count_wrong_pca=count_wrong_pca+1\n",
    "            if y_test[i]!=final_class[0] and ini_class[0]==y_test[i]:\n",
    "                count_pure_adv_pca=count_pure_adv_pca+1\n",
    "            if ini_class[0]==y_test[i]:\n",
    "                count_correct_pca=count_correct_pca+1\n",
    "            #if y_train[i]!=final_class[0] and ini_class[0]==y_train[i] and print_flag==0:\n",
    "                #plt.imshow((x_ini.reshape((28,28)))*255, cmap='gray', interpolation='nearest', vmin=0, vmax=255)\n",
    "                #plt.imshow(((x_adv-x_ini).reshape((28,28)))*255, cmap='gray', interpolation='nearest', vmin=0, vmax=255)\n",
    "                #print_flag=print_flag+1\n",
    "        print count_wrong_pca/10000.0, count_adv_pca/10000.0, count_pure_adv_pca/count_correct_pca"
   ]
  },
  {
   "cell_type": "markdown",
   "metadata": {},
   "source": [
    "### Average distortion per feature"
   ]
  },
  {
   "cell_type": "code",
   "execution_count": 50,
   "metadata": {
    "collapsed": false
   },
   "outputs": [
    {
     "data": {
      "text/plain": [
       "0.096714298177354899"
      ]
     },
     "execution_count": 50,
     "metadata": {},
     "output_type": "execute_result"
    }
   ],
   "source": [
    "np.sqrt((np.linalg.norm(x_ini-x_adv_dr)**2)/rd_2)"
   ]
  },
  {
   "cell_type": "code",
   "execution_count": 51,
   "metadata": {
    "collapsed": false
   },
   "outputs": [
    {
     "ename": "NameError",
     "evalue": "name 'x_adv_new_dr' is not defined",
     "output_type": "error",
     "traceback": [
      "\u001b[1;31m---------------------------------------------------------------------------\u001b[0m",
      "\u001b[1;31mNameError\u001b[0m                                 Traceback (most recent call last)",
      "\u001b[1;32m<ipython-input-51-e21b2cf5a88b>\u001b[0m in \u001b[0;36m<module>\u001b[1;34m()\u001b[0m\n\u001b[1;32m----> 1\u001b[1;33m \u001b[0mnp\u001b[0m\u001b[1;33m.\u001b[0m\u001b[0msqrt\u001b[0m\u001b[1;33m(\u001b[0m\u001b[1;33m(\u001b[0m\u001b[0mnp\u001b[0m\u001b[1;33m.\u001b[0m\u001b[0mlinalg\u001b[0m\u001b[1;33m.\u001b[0m\u001b[0mnorm\u001b[0m\u001b[1;33m(\u001b[0m\u001b[0mx_ini\u001b[0m\u001b[1;33m-\u001b[0m\u001b[0mx_adv_new_dr\u001b[0m\u001b[1;33m)\u001b[0m\u001b[1;33m**\u001b[0m\u001b[1;36m2\u001b[0m\u001b[1;33m)\u001b[0m\u001b[1;33m/\u001b[0m\u001b[0mrd_2\u001b[0m\u001b[1;33m)\u001b[0m\u001b[1;33m\u001b[0m\u001b[0m\n\u001b[0m",
      "\u001b[1;31mNameError\u001b[0m: name 'x_adv_new_dr' is not defined"
     ]
    }
   ],
   "source": [
    "np.sqrt((np.linalg.norm(x_ini-x_adv_new_dr)**2)/rd_2)"
   ]
  }
 ],
 "metadata": {
  "kernelspec": {
   "display_name": "Python 2",
   "language": "python",
   "name": "python2"
  },
  "language_info": {
   "codemirror_mode": {
    "name": "ipython",
    "version": 2
   },
   "file_extension": ".py",
   "mimetype": "text/x-python",
   "name": "python",
   "nbconvert_exporter": "python",
   "pygments_lexer": "ipython2",
   "version": "2.7.6"
  }
 },
 "nbformat": 4,
 "nbformat_minor": 0
}

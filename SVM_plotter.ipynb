{
 "cells": [
  {
   "cell_type": "code",
   "execution_count": 1,
   "metadata": {
    "collapsed": true
   },
   "outputs": [],
   "source": [
    "import os\n",
    "import numpy as np\n",
    "import sys\n",
    "from sklearn import svm"
   ]
  },
  {
   "cell_type": "code",
   "execution_count": 2,
   "metadata": {
    "collapsed": true
   },
   "outputs": [],
   "source": [
    "script_dir=os.getcwd()\n",
    "rel_path=\"Input_data/UCI_HAR/\"\n",
    "abs_path=os.path.join(script_dir,rel_path)"
   ]
  },
  {
   "cell_type": "code",
   "execution_count": 3,
   "metadata": {
    "collapsed": true
   },
   "outputs": [],
   "source": [
    "X_train=np.loadtxt(abs_path+'train/X_train.txt')\n",
    "y_train=np.loadtxt(abs_path+'train/y_train.txt')"
   ]
  },
  {
   "cell_type": "code",
   "execution_count": 4,
   "metadata": {
    "collapsed": false
   },
   "outputs": [
    {
     "data": {
      "text/plain": [
       "(7352, 561)"
      ]
     },
     "execution_count": 4,
     "metadata": {},
     "output_type": "execute_result"
    }
   ],
   "source": [
    "X_train.shape"
   ]
  },
  {
   "cell_type": "code",
   "execution_count": 5,
   "metadata": {
    "collapsed": true
   },
   "outputs": [],
   "source": [
    "X_train_2=X_train[:,559:561]"
   ]
  },
  {
   "cell_type": "code",
   "execution_count": 6,
   "metadata": {
    "collapsed": false
   },
   "outputs": [
    {
     "data": {
      "text/plain": [
       "LinearSVC(C=1.0, class_weight=None, dual=False, fit_intercept=True,\n",
       "     intercept_scaling=1, loss='squared_hinge', max_iter=1000,\n",
       "     multi_class='ovr', penalty='l2', random_state=None, tol=0.0001,\n",
       "     verbose=0)"
      ]
     },
     "execution_count": 6,
     "metadata": {},
     "output_type": "execute_result"
    }
   ],
   "source": [
    "clf_2=svm.LinearSVC(dual=False)\n",
    "clf_2.fit(X_train_2,y_train)"
   ]
  },
  {
   "cell_type": "code",
   "execution_count": 7,
   "metadata": {
    "collapsed": true
   },
   "outputs": [],
   "source": [
    "X_test=np.loadtxt(abs_path+'test/X_test.txt')\n",
    "y_test=np.loadtxt(abs_path+'test/y_test.txt')"
   ]
  },
  {
   "cell_type": "code",
   "execution_count": 8,
   "metadata": {
    "collapsed": true
   },
   "outputs": [],
   "source": [
    "X_test_2=X_test[:,559:561]"
   ]
  },
  {
   "cell_type": "code",
   "execution_count": 9,
   "metadata": {
    "collapsed": false
   },
   "outputs": [
    {
     "data": {
      "text/plain": [
       "0.45525027203482044"
      ]
     },
     "execution_count": 9,
     "metadata": {},
     "output_type": "execute_result"
    }
   ],
   "source": [
    "clf_2.score(X_train_2,y_train)"
   ]
  },
  {
   "cell_type": "code",
   "execution_count": 10,
   "metadata": {
    "collapsed": false
   },
   "outputs": [
    {
     "data": {
      "text/plain": [
       "(2947, 2)"
      ]
     },
     "execution_count": 10,
     "metadata": {},
     "output_type": "execute_result"
    }
   ],
   "source": [
    "X_test_2.shape"
   ]
  },
  {
   "cell_type": "code",
   "execution_count": 11,
   "metadata": {
    "collapsed": false
   },
   "outputs": [
    {
     "data": {
      "text/plain": [
       "0.41635561588055647"
      ]
     },
     "execution_count": 11,
     "metadata": {},
     "output_type": "execute_result"
    }
   ],
   "source": [
    "clf_2.score(X_test_2,y_test)"
   ]
  },
  {
   "cell_type": "code",
   "execution_count": 12,
   "metadata": {
    "collapsed": false
   },
   "outputs": [
    {
     "data": {
      "text/plain": [
       "LinearSVC(C=1.0, class_weight=None, dual=False, fit_intercept=True,\n",
       "     intercept_scaling=1, loss='squared_hinge', max_iter=1000,\n",
       "     multi_class='ovr', penalty='l2', random_state=None, tol=0.0001,\n",
       "     verbose=0)"
      ]
     },
     "execution_count": 12,
     "metadata": {},
     "output_type": "execute_result"
    }
   ],
   "source": [
    "clf=svm.LinearSVC(dual=False)\n",
    "clf.fit(X_train,y_train)"
   ]
  },
  {
   "cell_type": "code",
   "execution_count": 13,
   "metadata": {
    "collapsed": false
   },
   "outputs": [
    {
     "data": {
      "text/plain": [
       "(6, 561)"
      ]
     },
     "execution_count": 13,
     "metadata": {},
     "output_type": "execute_result"
    }
   ],
   "source": [
    "clf.coef_.shape"
   ]
  },
  {
   "cell_type": "code",
   "execution_count": 14,
   "metadata": {
    "collapsed": false
   },
   "outputs": [
    {
     "name": "stdout",
     "output_type": "stream",
     "text": [
      "[ 0.12771648  0.00909127] [559 560]\n",
      "[ 0.52275231  0.23612362] [559 560]\n",
      "[ 0.16917576  0.05389096] [559 560]\n",
      "[ 0.77657699  0.02151168] [559 560]\n",
      "[ 1.06771027  0.161526  ] [559 560]\n",
      "[ 0.08440422  0.04454948] [559 560]\n"
     ]
    }
   ],
   "source": [
    "for i in range(6):\n",
    "    curr_w=np.abs(clf.coef_[i,:])\n",
    "    curr_ind=np.argpartition(curr_w,2)[-2:]\n",
    "    print curr_w[curr_ind], curr_ind"
   ]
  },
  {
   "cell_type": "code",
   "execution_count": 15,
   "metadata": {
    "collapsed": false
   },
   "outputs": [],
   "source": [
    "h = .02  # step size in the mesh\n",
    "# create a mesh to plot in\n",
    "x_min, x_max = X_train_2[:, 0].min() - 1, X_train_2[:, 0].max() + 1\n",
    "y_min, y_max = X_train_2[:, 1].min() - 1, X_train_2[:, 1].max() + 1\n",
    "xx, yy = np.meshgrid(np.arange(x_min, x_max, h),np.arange(y_min, y_max, h))"
   ]
  },
  {
   "cell_type": "code",
   "execution_count": 16,
   "metadata": {
    "collapsed": false
   },
   "outputs": [],
   "source": [
    "from matplotlib import pyplot as plt\n",
    "#%matplotlib inline"
   ]
  },
  {
   "cell_type": "code",
   "execution_count": 17,
   "metadata": {
    "collapsed": false
   },
   "outputs": [],
   "source": [
    "plt.subplot(111)\n",
    "Z = clf_2.predict(np.c_[xx.ravel(), yy.ravel()])"
   ]
  },
  {
   "cell_type": "code",
   "execution_count": null,
   "metadata": {
    "collapsed": true
   },
   "outputs": [],
   "source": [
    "colors=plt.cm.Paired(np.linspace(0,1,6))"
   ]
  },
  {
   "cell_type": "code",
   "execution_count": null,
   "metadata": {
    "collapsed": false
   },
   "outputs": [],
   "source": [
    "# Put the result into a color plot\n",
    "Z = Z.reshape(xx.shape)\n",
    "plt.contourf(xx, yy, Z, cmap=plt.cm.Paired, alpha=0.8)\n",
    "\n",
    "indices=np.random.randint(0,7352,1)\n",
    "\n",
    "# Plot also the training points\n",
    "plt.scatter(X_train_2[0:1000, 0], X_train_2[0:1000, 1], c=y_train[0:1000],cmap= plt.cm.Paired)\n",
    "plt.xlim(xx.min(), xx.max())\n",
    "plt.ylim(yy.min(), yy.max())\n",
    "plt.xticks(())\n",
    "plt.yticks(())\n",
    "plt.show()"
   ]
  },
  {
   "cell_type": "code",
   "execution_count": null,
   "metadata": {
    "collapsed": false
   },
   "outputs": [],
   "source": [
    "np.linspace(0,1,6)"
   ]
  },
  {
   "cell_type": "code",
   "execution_count": null,
   "metadata": {
    "collapsed": false
   },
   "outputs": [],
   "source": [
    "colors"
   ]
  },
  {
   "cell_type": "code",
   "execution_count": null,
   "metadata": {
    "collapsed": false
   },
   "outputs": [],
   "source": [
    "plt.scatter( range(6), [0]*6, color=colors )\n",
    "plt.axis(\"off\")\n",
    "plt.show()"
   ]
  },
  {
   "cell_type": "code",
   "execution_count": null,
   "metadata": {
    "collapsed": false
   },
   "outputs": [],
   "source": [
    "y_train[0:10]"
   ]
  },
  {
   "cell_type": "code",
   "execution_count": null,
   "metadata": {
    "collapsed": false
   },
   "outputs": [],
   "source": [
    "y_train"
   ]
  },
  {
   "cell_type": "code",
   "execution_count": null,
   "metadata": {
    "collapsed": false
   },
   "outputs": [],
   "source": [
    "print X_train_2[0:10,0], X_train_2[0:10,1]"
   ]
  },
  {
   "cell_type": "code",
   "execution_count": null,
   "metadata": {
    "collapsed": false
   },
   "outputs": [],
   "source": [
    "clf_2.predict(X_train_2[0:100,:])"
   ]
  },
  {
   "cell_type": "code",
   "execution_count": null,
   "metadata": {
    "collapsed": false
   },
   "outputs": [],
   "source": [
    "Z"
   ]
  },
  {
   "cell_type": "code",
   "execution_count": null,
   "metadata": {
    "collapsed": false
   },
   "outputs": [],
   "source": [
    "indices_1_4=np.where((y_train==1) | (y_train==4))\n",
    "X_train_1_4=X_train[indices_1_4,:]\n",
    "y_train_1_4=y_train[indices_1_4]"
   ]
  },
  {
   "cell_type": "code",
   "execution_count": null,
   "metadata": {
    "collapsed": false
   },
   "outputs": [],
   "source": [
    "X_train_1_4=X_train_1_4.reshape((2512,561))"
   ]
  },
  {
   "cell_type": "code",
   "execution_count": null,
   "metadata": {
    "collapsed": false
   },
   "outputs": [],
   "source": [
    "clf_1_4=svm.LinearSVC(dual=False)\n",
    "clf_1_4.fit(X_train_1_4,y_train_1_4)"
   ]
  },
  {
   "cell_type": "code",
   "execution_count": null,
   "metadata": {
    "collapsed": false
   },
   "outputs": [],
   "source": [
    "indices_1_4_t=np.where((y_test==1) | (y_test==4))\n",
    "X_test_1_4=X_test[indices_1_4_t,:].reshape((987,561))\n",
    "y_test_1_4=y_test[indices_1_4_t]"
   ]
  },
  {
   "cell_type": "code",
   "execution_count": null,
   "metadata": {
    "collapsed": false
   },
   "outputs": [],
   "source": [
    "clf_1_4.score(X_test_1_4,y_test_1_4)"
   ]
  },
  {
   "cell_type": "code",
   "execution_count": null,
   "metadata": {
    "collapsed": true
   },
   "outputs": [],
   "source": [
    "X_train_1_4_m=X_train_1_4[:,559:561]\n",
    "X_test_1_4_m=X_test_1_4[:,559:561]"
   ]
  },
  {
   "cell_type": "code",
   "execution_count": null,
   "metadata": {
    "collapsed": false
   },
   "outputs": [],
   "source": [
    "clf_1_4_m=svm.LinearSVC(dual=False)\n",
    "clf_1_4_m.fit(X_train_1_4_m,y_train_1_4)\n",
    "clf_1_4_m.score(X_test_1_4_m,y_test_1_4)"
   ]
  },
  {
   "cell_type": "code",
   "execution_count": null,
   "metadata": {
    "collapsed": true
   },
   "outputs": [],
   "source": [
    "h = .002  # step size in the mesh\n",
    "# create a mesh to plot in\n",
    "x_min, x_max = X_train_1_4_m[:, 0].min() - 1, X_train_1_4_m[:, 0].max() + 1\n",
    "y_min, y_max = X_train_1_4_m[:, 1].min() - 1, X_train_1_4_m[:, 1].max() + 1\n",
    "xx, yy = np.meshgrid(np.arange(x_min, x_max, h),np.arange(y_min, y_max, h))"
   ]
  },
  {
   "cell_type": "code",
   "execution_count": null,
   "metadata": {
    "collapsed": false
   },
   "outputs": [],
   "source": [
    "plt.subplot(111)\n",
    "Z = clf_1_4_m.predict(np.c_[xx.ravel(), yy.ravel()])\n",
    "# Put the result into a color plot\n",
    "Z = Z.reshape(xx.shape)\n",
    "plt.contourf(xx, yy, Z,cmap=plt.cm.Paired, alpha=0.8)\n",
    "# Plot also the training points\n",
    "plt.scatter(X_train_1_4_m[:, 0], X_train_1_4_m[:, 1],cmap=plt.cm.Paired, c=y_train_1_4)\n",
    "plt.xlim(xx.min(), xx.max())\n",
    "plt.ylim(yy.min(), yy.max())\n",
    "plt.xticks(())\n",
    "plt.yticks(())\n",
    "plt.show()"
   ]
  },
  {
   "cell_type": "code",
   "execution_count": 39,
   "metadata": {
    "collapsed": true
   },
   "outputs": [],
   "source": [
    "np.savetxt('HAR_1_4_test.txt',X_test_1_4)\n",
    "np.savetxt('HAR_1_4_labels.txt',y_test_1_4)"
   ]
  },
  {
   "cell_type": "code",
   "execution_count": 41,
   "metadata": {
    "collapsed": false
   },
   "outputs": [
    {
     "data": {
      "text/plain": [
       "(987, 561)"
      ]
     },
     "execution_count": 41,
     "metadata": {},
     "output_type": "execute_result"
    }
   ],
   "source": [
    "X_test_1_4.shape"
   ]
  },
  {
   "cell_type": "code",
   "execution_count": 40,
   "metadata": {
    "collapsed": true
   },
   "outputs": [],
   "source": [
    "import tsne"
   ]
  },
  {
   "cell_type": "code",
   "execution_count": 54,
   "metadata": {
    "collapsed": false
   },
   "outputs": [
    {
     "name": "stdout",
     "output_type": "stream",
     "text": [
      "Preprocessing the data using PCA...\n",
      "Computing pairwise distances...\n",
      "Computing P-values for point  0  of  987 ...\n",
      "Computing P-values for point  500  of  987 ...\n",
      "Mean value of sigma:  1.54540546554\n",
      "Iteration  10 : error is  16.9304238551\n",
      "Iteration  20 : error is  14.7464026361\n",
      "Iteration  30 : error is  13.698062356\n",
      "Iteration  40 : error is  13.2825444996\n",
      "Iteration  50 : error is  13.2270517283\n",
      "Iteration  60 : error is  13.2217150727\n",
      "Iteration  70 : error is  13.1775310564\n",
      "Iteration  80 : error is  13.1626455546\n",
      "Iteration  90 : error is  13.1511855982\n",
      "Iteration  100 : error is  13.1345495014\n",
      "Iteration  110 : error is  1.30722844689\n",
      "Iteration  120 : error is  1.06641108881\n",
      "Iteration  130 : error is  0.951889833711\n",
      "Iteration  140 : error is  0.877005787946\n",
      "Iteration  150 : error is  0.823009146739\n",
      "Iteration  160 : error is  0.782502052261\n",
      "Iteration  170 : error is  0.752790518888\n",
      "Iteration  180 : error is  0.730139159257\n",
      "Iteration  190 : error is  0.712404600989\n",
      "Iteration  200 : error is  0.69803166471\n",
      "Iteration  210 : error is  0.686260856251\n",
      "Iteration  220 : error is  0.676501005874\n",
      "Iteration  230 : error is  0.668257425464\n",
      "Iteration  240 : error is  0.66123097123\n",
      "Iteration  250 : error is  0.655144086287\n",
      "Iteration  260 : error is  0.64975457781\n",
      "Iteration  270 : error is  0.644974008363\n",
      "Iteration  280 : error is  0.640832467161\n",
      "Iteration  290 : error is  0.637170885827\n",
      "Iteration  300 : error is  0.633890299277\n",
      "Iteration  310 : error is  0.630892833471\n",
      "Iteration  320 : error is  0.628179479176\n",
      "Iteration  330 : error is  0.625718810114\n",
      "Iteration  340 : error is  0.623478666674\n",
      "Iteration  350 : error is  0.621439584581\n",
      "Iteration  360 : error is  0.619570189538\n",
      "Iteration  370 : error is  0.617845670441\n",
      "Iteration  380 : error is  0.616245993752\n",
      "Iteration  390 : error is  0.614768492944\n",
      "Iteration  400 : error is  0.613405420361\n",
      "Iteration  410 : error is  0.612133381037\n",
      "Iteration  420 : error is  0.610947312846\n",
      "Iteration  430 : error is  0.609839897447\n",
      "Iteration  440 : error is  0.608788940548\n",
      "Iteration  450 : error is  0.607798724192\n",
      "Iteration  460 : error is  0.606869900561\n",
      "Iteration  470 : error is  0.605990915703\n",
      "Iteration  480 : error is  0.605163290609\n",
      "Iteration  490 : error is  0.604379390438\n",
      "Iteration  500 : error is  0.603635654251\n",
      "Iteration  510 : error is  0.602910903671\n",
      "Iteration  520 : error is  0.602232414442\n",
      "Iteration  530 : error is  0.601591967376\n",
      "Iteration  540 : error is  0.600973975609\n",
      "Iteration  550 : error is  0.600317519582\n",
      "Iteration  560 : error is  0.59975177014\n",
      "Iteration  570 : error is  0.599235212534\n",
      "Iteration  580 : error is  0.598742560781\n",
      "Iteration  590 : error is  0.598268260908\n",
      "Iteration  600 : error is  0.597812141095\n",
      "Iteration  610 : error is  0.597368792617\n",
      "Iteration  620 : error is  0.59693408711\n",
      "Iteration  630 : error is  0.59650955532\n",
      "Iteration  640 : error is  0.596100360413\n",
      "Iteration  650 : error is  0.595706353579\n",
      "Iteration  660 : error is  0.595322460772\n",
      "Iteration  670 : error is  0.594947826329\n",
      "Iteration  680 : error is  0.594586484892\n",
      "Iteration  690 : error is  0.594236387311\n",
      "Iteration  700 : error is  0.593896725259\n",
      "Iteration  710 : error is  0.593569204264\n",
      "Iteration  720 : error is  0.593253323501\n",
      "Iteration  730 : error is  0.592945740614\n",
      "Iteration  740 : error is  0.592643504373\n",
      "Iteration  750 : error is  0.592353438303\n",
      "Iteration  760 : error is  0.592069579045\n",
      "Iteration  770 : error is  0.59179291471\n",
      "Iteration  780 : error is  0.591523974518\n",
      "Iteration  790 : error is  0.591262333454\n",
      "Iteration  800 : error is  0.591007938326\n",
      "Iteration  810 : error is  0.590762291242\n",
      "Iteration  820 : error is  0.590522387616\n",
      "Iteration  830 : error is  0.590286875765\n",
      "Iteration  840 : error is  0.59005911284\n",
      "Iteration  850 : error is  0.589836590538\n",
      "Iteration  860 : error is  0.589619486127\n",
      "Iteration  870 : error is  0.589407509578\n",
      "Iteration  880 : error is  0.589200158845\n",
      "Iteration  890 : error is  0.588995820554\n",
      "Iteration  900 : error is  0.588797391772\n",
      "Iteration  910 : error is  0.588606508551\n",
      "Iteration  920 : error is  0.588419403587\n",
      "Iteration  930 : error is  0.588234291934\n",
      "Iteration  940 : error is  0.588053063045\n",
      "Iteration  950 : error is  0.587877204682\n",
      "Iteration  960 : error is  0.587704223839\n",
      "Iteration  970 : error is  0.587534107197\n",
      "Iteration  980 : error is  0.587368240657\n",
      "Iteration  990 : error is  0.587206400484\n",
      "Iteration  1000 : error is  0.587047687867\n"
     ]
    }
   ],
   "source": [
    "Y=tsne.tsne(X_test_1_4,2,561,30.0)"
   ]
  },
  {
   "cell_type": "code",
   "execution_count": 43,
   "metadata": {
    "collapsed": true
   },
   "outputs": [],
   "source": [
    "labels=y_test_1_4"
   ]
  },
  {
   "cell_type": "code",
   "execution_count": 47,
   "metadata": {
    "collapsed": false
   },
   "outputs": [
    {
     "data": {
      "text/plain": [
       "<matplotlib.collections.PathCollection at 0x11b0e9c50>"
      ]
     },
     "execution_count": 47,
     "metadata": {},
     "output_type": "execute_result"
    },
    {
     "data": {
      "image/png": "[encoded data removed]",
      "text/plain": [
       "<matplotlib.figure.Figure at 0x11b27f410>"
      ]
     },
     "metadata": {},
     "output_type": "display_data"
    }
   ],
   "source": [
    "plt.legend\n",
    "plt.scatter(Y[:,0], Y[:,1], 20, labels)"
   ]
  },
  {
   "cell_type": "code",
   "execution_count": 48,
   "metadata": {
    "collapsed": true
   },
   "outputs": [],
   "source": [
    "from sklearn.decomposition import PCA"
   ]
  },
  {
   "cell_type": "code",
   "execution_count": 49,
   "metadata": {
    "collapsed": true
   },
   "outputs": [],
   "source": [
    "pca=PCA(n_components=100)"
   ]
  },
  {
   "cell_type": "code",
   "execution_count": 50,
   "metadata": {
    "collapsed": true
   },
   "outputs": [],
   "source": [
    "X_train_1_4_dr=pca.fit_transform(X_train_1_4)"
   ]
  },
  {
   "cell_type": "code",
   "execution_count": 51,
   "metadata": {
    "collapsed": true
   },
   "outputs": [],
   "source": [
    "X_test_1_4_dr=pca.transform(X_test_1_4)"
   ]
  },
  {
   "cell_type": "code",
   "execution_count": 52,
   "metadata": {
    "collapsed": false
   },
   "outputs": [
    {
     "name": "stdout",
     "output_type": "stream",
     "text": [
      "Preprocessing the data using PCA...\n",
      "Computing pairwise distances...\n",
      "Computing P-values for point  0  of  987 ...\n",
      "Computing P-values for point  500  of  987 ...\n",
      "Mean value of sigma:  1.62642346658\n",
      "Iteration  10 : error is  15.4519336325\n",
      "Iteration  20 : error is  13.1966201679\n",
      "Iteration  30 : error is  12.62852058\n",
      "Iteration  40 : error is  12.5576922998\n",
      "Iteration  50 : error is  12.4683796098\n",
      "Iteration  60 : error is  12.447188421\n",
      "Iteration  70 : error is  12.4033481323\n",
      "Iteration  80 : error is  12.3874248763\n",
      "Iteration  90 : error is  12.3778967864\n",
      "Iteration  100 : error is  12.3622426078\n",
      "Iteration  110 : error is  1.05284867111\n",
      "Iteration  120 : error is  0.864279645571\n",
      "Iteration  130 : error is  0.783316722749\n",
      "Iteration  140 : error is  0.732459933002\n",
      "Iteration  150 : error is  0.695167686334\n",
      "Iteration  160 : error is  0.668573154191\n",
      "Iteration  170 : error is  0.648605739087\n",
      "Iteration  180 : error is  0.633689152171\n",
      "Iteration  190 : error is  0.622005912623\n",
      "Iteration  200 : error is  0.612649501035\n",
      "Iteration  210 : error is  0.605003370843\n",
      "Iteration  220 : error is  0.59872689616\n",
      "Iteration  230 : error is  0.593501505144\n",
      "Iteration  240 : error is  0.589091801469\n",
      "Iteration  250 : error is  0.585328752358\n",
      "Iteration  260 : error is  0.582104198526\n",
      "Iteration  270 : error is  0.579323129545\n",
      "Iteration  280 : error is  0.576887821387\n",
      "Iteration  290 : error is  0.574721844717\n",
      "Iteration  300 : error is  0.572807374109\n",
      "Iteration  310 : error is  0.571100066284\n",
      "Iteration  320 : error is  0.569559789921\n",
      "Iteration  330 : error is  0.568166796602\n",
      "Iteration  340 : error is  0.566907228456\n",
      "Iteration  350 : error is  0.565769397674\n",
      "Iteration  360 : error is  0.564721520507\n",
      "Iteration  370 : error is  0.563747889882\n",
      "Iteration  380 : error is  0.562857075797\n",
      "Iteration  390 : error is  0.562036515488\n",
      "Iteration  400 : error is  0.561271140142\n",
      "Iteration  410 : error is  0.560558056664\n",
      "Iteration  420 : error is  0.559891362239\n",
      "Iteration  430 : error is  0.559264474824\n",
      "Iteration  440 : error is  0.558680433033\n",
      "Iteration  450 : error is  0.558129649218\n",
      "Iteration  460 : error is  0.557605890412\n",
      "Iteration  470 : error is  0.557107186719\n",
      "Iteration  480 : error is  0.556640854203\n",
      "Iteration  490 : error is  0.556202730332\n",
      "Iteration  500 : error is  0.555785882036\n",
      "Iteration  510 : error is  0.555386075458\n",
      "Iteration  520 : error is  0.555003947098\n",
      "Iteration  530 : error is  0.554637609856\n",
      "Iteration  540 : error is  0.55429163793\n",
      "Iteration  550 : error is  0.553960125122\n",
      "Iteration  560 : error is  0.553642840347\n",
      "Iteration  570 : error is  0.553338510729\n",
      "Iteration  580 : error is  0.553046244527\n",
      "Iteration  590 : error is  0.552765739269\n",
      "Iteration  600 : error is  0.552496601994\n",
      "Iteration  610 : error is  0.552237555014\n",
      "Iteration  620 : error is  0.551988914421\n",
      "Iteration  630 : error is  0.551749295929\n",
      "Iteration  640 : error is  0.551518244403\n",
      "Iteration  650 : error is  0.551295872921\n",
      "Iteration  660 : error is  0.551080832678\n",
      "Iteration  670 : error is  0.55087233411\n",
      "Iteration  680 : error is  0.550671344649\n",
      "Iteration  690 : error is  0.550476436994\n",
      "Iteration  700 : error is  0.550287275056\n",
      "Iteration  710 : error is  0.550104282233\n",
      "Iteration  720 : error is  0.549927415964\n",
      "Iteration  730 : error is  0.549755839253\n",
      "Iteration  740 : error is  0.549588539643\n",
      "Iteration  750 : error is  0.549427444579\n",
      "Iteration  760 : error is  0.549270579791\n",
      "Iteration  770 : error is  0.549117801404\n",
      "Iteration  780 : error is  0.548968931084\n",
      "Iteration  790 : error is  0.548823118477\n",
      "Iteration  800 : error is  0.548681756629\n",
      "Iteration  810 : error is  0.548543849569\n",
      "Iteration  820 : error is  0.548409011992\n",
      "Iteration  830 : error is  0.548277757308\n",
      "Iteration  840 : error is  0.548149881277\n",
      "Iteration  850 : error is  0.548025903244\n",
      "Iteration  860 : error is  0.54790449665\n",
      "Iteration  870 : error is  0.547786630756\n",
      "Iteration  880 : error is  0.547671314538\n",
      "Iteration  890 : error is  0.5475577571\n",
      "Iteration  900 : error is  0.547447294024\n",
      "Iteration  910 : error is  0.547339495682\n",
      "Iteration  920 : error is  0.547233701382\n",
      "Iteration  930 : error is  0.547130034038\n",
      "Iteration  940 : error is  0.54702894648\n",
      "Iteration  950 : error is  0.546931033689\n",
      "Iteration  960 : error is  0.546834984677\n",
      "Iteration  970 : error is  0.546740448591\n",
      "Iteration  980 : error is  0.546648114272\n",
      "Iteration  990 : error is  0.546557048242\n",
      "Iteration  1000 : error is  0.546467580874\n"
     ]
    }
   ],
   "source": [
    "Y_rd=tsne.tsne(X_test_1_4_dr,2,100,50.0)"
   ]
  },
  {
   "cell_type": "code",
   "execution_count": 53,
   "metadata": {
    "collapsed": false
   },
   "outputs": [
    {
     "data": {
      "text/plain": [
       "<matplotlib.collections.PathCollection at 0x124c0e590>"
      ]
     },
     "execution_count": 53,
     "metadata": {},
     "output_type": "execute_result"
    },
    {
     "data": {
      "image/png": "[encoded data removed]",
      "text/plain": [
       "<matplotlib.figure.Figure at 0x11b201dd0>"
      ]
     },
     "metadata": {},
     "output_type": "display_data"
    }
   ],
   "source": [
    "plt.scatter(Y_rd[:,0], Y_rd[:,1], 20, labels)"
   ]
  },
  {
   "cell_type": "code",
   "execution_count": null,
   "metadata": {
    "collapsed": true
   },
   "outputs": [],
   "source": []
  }
 ],
 "metadata": {
  "kernelspec": {
   "display_name": "Python 2",
   "language": "python",
   "name": "python2"
  },
  "language_info": {
   "codemirror_mode": {
    "name": "ipython",
    "version": 2
   },
   "file_extension": ".py",
   "mimetype": "text/x-python",
   "name": "python",
   "nbconvert_exporter": "python",
   "pygments_lexer": "ipython2",
   "version": "2.7.11"
  }
 },
 "nbformat": 4,
 "nbformat_minor": 0
}
